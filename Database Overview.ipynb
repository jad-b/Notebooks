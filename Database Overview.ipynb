{
 "cells": [
  {
   "cell_type": "markdown",
   "metadata": {},
   "source": [
    "# Databases"
   ]
  },
  {
   "cell_type": "markdown",
   "metadata": {},
   "source": [
    "## Problem Space\n",
    "A database is locked in a struggle against the hard drive\n",
    "\n",
    "__Obligatory write-speed comparison of various I/O devices:__\n",
    "SATA bus == 750MB/second\n",
    "PCI 3.0 bus == 40GB/second (53.3x faster)\n",
    "Memory bus == 14.9GB/second/channel (75x faster)\n",
    "\n",
    "A 7200RPM disk can only perform 1 seek/4ms, or 250 seeks/second. An application relying on seeking once per operation is thus bounded at 250 ops/second. This ignores long read times and other application work.\n",
    "\n",
    "SSDs can seek 60x faster than a hard disk\n",
    "$seek/4ms * 60seeks = 60 seeks/4ms = 15 seeks/ms$\n",
    "\n",
    "However, their storage cells have a fixed number of writes in their lifetime. \n",
    "\n",
    "Many optimizations go into spreading these write operations across all cells; garbage collection, bookkeeping(?), and presumably some kind of write scheduler.\n",
    "\n",
    "Since writing to a disk is so slow, and memory is fast, maintaing a mirror image of recently-accessed data in memory; this is a __page cache__ (or __buffer cache__). Use a scheduler to find slow points in writes, and persist the in-memory data to disk.\n",
    "\n",
    "__Watch out!__ Your data's durability in event of power, disk, or kernel failure is _very sensitive_ to the DB's page cache persistence algorithm!\n",
    "\n",
    "## Evaluation Framework\n",
    "1. Data Model\n",
    "1. API\n",
    "1. Transactions\n",
    "1. Persistence\n",
    "1. Indexing\n",
    "\n",
    "### Data Model\n",
    "\n",
    "Basically three kinds of data\n",
    "1. Relational\n",
    "1. Key-Value\n",
    "1. Hierarchical\n",
    "\n",
    "#### Relational Data\n",
    "Create arbitrary, tables with columns representing types of data. Link these tables together. \n",
    "\n",
    "This set of tables and their relations is commonly referred to as a _schema_. Schema allows you to provide consistency checks. I don't know what that means, but I imagine something like this: This data should only persist if this data does; this data must look like this, or be within this range.)\n",
    "\n",
    "Relational Database Management Systems (RDBMS) are really good at minimizing data duplication in a database through _normalization_\n",
    "\n",
    "__normalization__ Removing data redundancy through the use of links (foreign keys in most cases). _Is not necessarily a good thing_.\n",
    "\n",
    "Fundamental trade-off: Save disk space in exchange for greater CPU & disk load (disk I/O).\n",
    "\n",
    "\n",
    "#### Key-Value Data\n",
    "Associate a key (some # of bytes) with a value (another # of bytes).\n",
    "\n",
    "Key-value data is often _homogeneous_ and _highly replicated_, so we can heavily compress it before storing to disk.\n",
    "\n",
    "A sub-set of relational features can be provided, but does so by leveraging even more key-value lookups.\n",
    "\n",
    "\n",
    "#### Hierarchical Data\n",
    "A.k.a _document data_\n",
    "\n",
    "Verbatim:\n",
    "> The hierarchical model tends to store all relevant data in a single record, which as delineations for multiple keys and values, where the values could be additional associations of keys and values.\n",
    "\n",
    "This means:\n",
    "* All data for a record is stored together. This can mean redundant data is stored.\n",
    "* Queries are simpler: All the data is stored together!\n",
    "\n",
    "This makes it _highly_ flexible. It also most closely mirrors data structures in your application.\n"
   ]
  },
  {
   "cell_type": "markdown",
   "metadata": {},
   "source": [
    "### API\n",
    "\n",
    "Is it _in process_ or _out of process_?\n",
    "\n",
    "__In process__ DB is running in the same process space as the client application. SQLite might fall in this category?\n",
    "\n",
    "__Out-of-process__ Using a protocol to communicate with the database. Typical client/server interactions. Did you have to open a connection across TCP/IP? It's out of process.\n",
    "\n",
    "Does it use SQL?"
   ]
  }
 ],
 "metadata": {
  "kernelspec": {
   "display_name": "Python 3",
   "language": "python",
   "name": "python3"
  },
  "language_info": {
   "codemirror_mode": {
    "name": "ipython",
    "version": 3
   },
   "file_extension": ".py",
   "mimetype": "text/x-python",
   "name": "python",
   "nbconvert_exporter": "python",
   "pygments_lexer": "ipython3",
   "version": "3.4.0"
  }
 },
 "nbformat": 4,
 "nbformat_minor": 0
}
