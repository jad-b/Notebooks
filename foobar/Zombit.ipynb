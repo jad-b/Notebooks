{
 "metadata": {
  "name": "",
  "signature": "sha256:e7bd8402c0e70fe8fa8954a93b4365508607c5014bce865560b32b28562788f7"
 },
 "nbformat": 3,
 "nbformat_minor": 0,
 "worksheets": [
  {
   "cells": [
    {
     "cell_type": "code",
     "collapsed": false,
     "input": [
      "from operator import itemgetter"
     ],
     "language": "python",
     "metadata": {},
     "outputs": [],
     "prompt_number": 1
    },
    {
     "cell_type": "code",
     "collapsed": false,
     "input": [
      "def answer(meetings):\n",
      "    # Sort by finish times\n",
      "    by_finish = sorted(meetings, key=itemgetter(1))\n",
      "    # Unzip list into start & finish times\n",
      "    optimal = iter_greed(by_finish)\n",
      "    return len(optimal)\n",
      "    \n",
      "    \n",
      "def iter_greed(mtgs):\n",
      "    n = len(mtgs)\n",
      "    # Start with the activity with the earliest finish time\n",
      "    opt = [mtgs[0]]\n",
      "    index = 0   # Start at the beginning\n",
      "    for m in range(1, n):\n",
      "        # If start time is equal/after finish time\n",
      "        if mtgs[m][0] >= mtgs[index][1]:\n",
      "            opt.append(mtgs[m])\n",
      "            index = m\n",
      "    return opt"
     ],
     "language": "python",
     "metadata": {},
     "outputs": [],
     "prompt_number": 34
    },
    {
     "cell_type": "code",
     "collapsed": false,
     "input": [
      "meetings = [[0, 1], [1, 2], [2, 3], [3, 5], [4, 5]]\n",
      "print(answer(meetings))"
     ],
     "language": "python",
     "metadata": {},
     "outputs": [
      {
       "output_type": "stream",
       "stream": "stdout",
       "text": [
        "Sorted by finish time: [[0, 1], [1, 2], [2, 3], [3, 5], [4, 5]]\n",
        "optimal: [[0, 1]]\n",
        "1 after 1; adding\n",
        "optimal: [[0, 1], [1, 2]]\n",
        "2 after 2; adding\n",
        "optimal: [[0, 1], [1, 2], [2, 3]]\n",
        "3 after 3; adding\n",
        "optimal: [[0, 1], [1, 2], [2, 3], [3, 5]]\n",
        "optimal: [[0, 1], [1, 2], [2, 3], [3, 5]]\n",
        "4\n"
       ]
      }
     ],
     "prompt_number": 31
    },
    {
     "cell_type": "code",
     "collapsed": false,
     "input": [
      "meetings = [[0, 1000000], [42, 43], [0, 1000000], [42, 43]]\n",
      "print(answer(meetings))"
     ],
     "language": "python",
     "metadata": {},
     "outputs": [
      {
       "output_type": "stream",
       "stream": "stdout",
       "text": [
        "Sorted by finish time: [[42, 43], [42, 43], [0, 1000000], [0, 1000000]]\n",
        "optimal: [[42, 43]]\n",
        "optimal: [[42, 43]]\n",
        "1\n"
       ]
      }
     ],
     "prompt_number": 32
    }
   ],
   "metadata": {}
  }
 ]
}