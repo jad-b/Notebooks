{
 "metadata": {
  "name": "",
  "signature": "sha256:02fee406d5860e266f0dfe12bacfd65bb2c662efc2ae6c603016139901224e5d"
 },
 "nbformat": 3,
 "nbformat_minor": 0,
 "worksheets": [
  {
   "cells": [
    {
     "cell_type": "markdown",
     "metadata": {},
     "source": [
      "When it rains it pours\n",
      "======================\n",
      "\n",
      "It's raining, it's pouring. You and your agents are nearing the building where the captive rabbits are being held, but a sudden storm puts your escape plans at risk. The structural integrity of the rabbit hutches you've built to house the fugitive rabbits is at risk because they can buckle when wet. Before the rabbits can be rescued from Professor Boolean's lab, you must compute how much standing water has accumulated on the rabbit hutches.\n",
      "\n",
      "Specifically, suppose there is a line of hutches, stacked to various heights and water is poured from the top (and allowed to run off the sides). We'll assume all the hutches are square, have side length 1, and for the purposes of this problem we'll pretend that the hutch arrangement is two-dimensional.\n",
      "\n",
      "For example, suppose the heights of the stacked hutches are [1,4,2,5,1,2,3] (the hutches are shown below):\n",
      "\n",
      "X\n",
      "\n",
      "X X\n",
      "\n",
      "X X X\n",
      "\n",
      "XXX XX\n",
      "\n",
      "XXXXXXX\n",
      "\n",
      "1425123\n",
      "\n",
      "When water is poured over the top at all places and allowed to runoff, it will remain trapped at the 'O' locations:\n",
      "\n",
      "\n",
      "X\n",
      "\n",
      "XOX\n",
      "\n",
      "XOXOOX\n",
      "\n",
      "XXXOXX\n",
      "\n",
      "XXXXXXX\n",
      "\n",
      "1425123\n",
      "\n",
      "The amount of water that has accumulated is the number of Os, which, in this instance, is 5.\n",
      "\n",
      "Write a function called answer(heights) which, given the heights of the stacked hutches from left-to-right as a list, computes the total area of standing water accumulated when water is poured from the top and allowed to run off the sides.\n",
      "\n",
      "The heights array will have at least 1 element and at most 9000 elements. Each element will have a value of at least 1, and at most 100000.\n",
      "\n",
      "Test cases\n",
      "==========\n",
      "\n",
      "Inputs:\n",
      "    (int list) heights = [1, 4, 2, 5, 1, 2, 3]\n",
      "Output:\n",
      "    (int) 5\n",
      "\n",
      "Inputs:\n",
      "    (int list) heights = [1, 2, 3, 2, 1]\n",
      "Output:\n",
      "    (int) 0\n"
     ]
    },
    {
     "cell_type": "code",
     "collapsed": false,
     "input": [
      "heights = [1, 4, 2, 5, 1, 2, 3]\n",
      "rain =    [0, 2, 0, 2, 1, 0, 0]"
     ],
     "language": "python",
     "metadata": {},
     "outputs": [],
     "prompt_number": 3
    },
    {
     "cell_type": "code",
     "collapsed": false,
     "input": [
      "def verbal(l):\n",
      "    n = len(l)\n",
      "    print('Searching {} hutches'.format(n))\n",
      "    if n < 3:\n",
      "        print('Not enough hutches to hold water')\n",
      "        return 0\n",
      "    \n",
      "    w = 0\n",
      "    i, j = 0, 1\n",
      "    while j < n:\n",
      "        print('Starting range: i = {}, j = {}'.format(i, j))\n",
      "        \n",
      "        while j < n and l[j] < l[i]:\n",
      "            print('\\t{}(@{}) < {}(@{}); advancing'.format(l[j], j, l[i], i))\n",
      "            j += 1\n",
      "            \n",
      "        if j < n:\n",
      "            print('{} >= {}'.format(l[j], l[i]))\n",
      "            water, sum_ = 0, 0\n",
      "            for x in range(i+1, j):\n",
      "                water = l[i] - l[x]\n",
      "                print('{} - {}'.format(l[i], l[x]))\n",
      "                sum_ += water\n",
      "            w += sum_\n",
      "            print(\"Total water: {}\".format(w))\n",
      "            \n",
      "        i, j = j, j+1\n",
      "        print('Advancing i, j to: ', i, j)\n",
      "    return w"
     ],
     "language": "python",
     "metadata": {},
     "outputs": [],
     "prompt_number": 29
    },
    {
     "cell_type": "code",
     "collapsed": false,
     "input": [
      "def trawl(l, fork=False):\n",
      "    # n = length of list to traverse\n",
      "    n = len(l)\n",
      "    # Anything less than 3 elements can't hold water\n",
      "    if n < 3:\n",
      "        return 0\n",
      "    \n",
      "    # w = water collected\n",
      "    w = 0\n",
      "    # i, j = start and end of current range\n",
      "    i, j = 0, 1\n",
      "    # while there is still more of the list to inspect\n",
      "    while j < n:\n",
      "        # Search up to the end of the list or to the\n",
      "        # first stack greater than or equal our start\n",
      "        while j < n and l[j] < l[i]:\n",
      "            j += 1\n",
      "        if j < n:\n",
      "            w += sum((l[i] - l[x] for x in range(i+1, j)))\n",
      "        # retry this section in reverse\n",
      "        elif fork:\n",
      "            w += trawl(l[j:i-1:-1])\n",
      "        # Advance to our next step\n",
      "        i, j = j, j + 1\n",
      "    return w"
     ],
     "language": "python",
     "metadata": {},
     "outputs": [],
     "prompt_number": 59
    },
    {
     "cell_type": "code",
     "collapsed": false,
     "input": [
      "def answer(heights):\n",
      "    \"\"\"Calculate depth of wells between 'peaks' inside numeric array.\n",
      "    \n",
      "    Operations, in words:\n",
      "      - From a starting point, look for the next indice of greater or \n",
      "      equal value; this becomes our interval\n",
      "      - Sum the difference between members of the interval and our lower \n",
      "      bound, excluding the upper bound\n",
      "      - Do it again on the reverse of the list, to account for intervals where\n",
      "      the upper bound is less than the lower (ex. [5,1,2,3] => [3,2,1,5])\n",
      "    \"\"\"\n",
      "    return trawl(heights, fork=True)"
     ],
     "language": "python",
     "metadata": {},
     "outputs": [],
     "prompt_number": 60
    },
    {
     "cell_type": "code",
     "collapsed": false,
     "input": [
      "print('Water retained: ', answer(heights))"
     ],
     "language": "python",
     "metadata": {},
     "outputs": [
      {
       "output_type": "stream",
       "stream": "stdout",
       "text": [
        "Water retained:  5\n"
       ]
      }
     ],
     "prompt_number": 61
    },
    {
     "cell_type": "code",
     "collapsed": false,
     "input": [
      "test0 = [100000]\n",
      "assert answer(test0) == 0\n",
      "test1 = [1, 2, 3, 2, 1]\n",
      "assert answer(test1) == 0\n",
      "test2 = [1, 4, 2, 5, 1, 2, 3]\n",
      "assert answer(test2) == 5\n",
      "test3 = [100-x for x in range(100)] + [5000] + [x for x in range(100)]\n",
      "print(answer(test3))\n",
      "test4 = [1, 9000]\n",
      "assert answer(test4) == 0\n",
      "test5 = [1,1,9000]\n",
      "assert answer(test5) == 0\n",
      "test6 = [9000,1,9000]\n",
      "assert answer(test6) == 8999, answer(test6)"
     ],
     "language": "python",
     "metadata": {},
     "outputs": [
      {
       "output_type": "stream",
       "stream": "stdout",
       "text": [
        "9900\n"
       ]
      }
     ],
     "prompt_number": 62
    },
    {
     "cell_type": "code",
     "collapsed": false,
     "input": [
      "test"
     ],
     "language": "python",
     "metadata": {},
     "outputs": []
    }
   ],
   "metadata": {}
  }
 ]
}