{
 "cells": [
  {
   "cell_type": "markdown",
   "metadata": {},
   "source": [
    "# D3.js"
   ]
  },
  {
   "cell_type": "markdown",
   "metadata": {},
   "source": [
    "## Components\n",
    "* HTML, CSS, JS, DOM, SVG\n",
    "\n",
    "* After binding data, each element is \"aware\" of its own data\n",
    "```javascript\n",
    "d3.selectAll(\"circle\")\n",
    "    .attr(\"r\", function(d) {\n",
    "        return d;  //<---- The \"data\" of the DOM element\n",
    "    });\n",
    "```\n",
    "\n",
    "> You're like, \"Hey, put that thing there.\" And it does so instantly. And you're like, \"No, put it there _gracefully_\", and it says \"I don't know what that word means\".\n",
    "\n",
    "\n",
    "## Transitions\n",
    "\n",
    "`d3.selectAll(\"circle\").transition().duration(2000).attr(\"cy\", 10)`\n",
    "* Everything after `transition`, D3 attempts to interpolate _over time_. \n",
    "* You can set that timeframe with `duration(n)`, otherwise it defaults to 250ms\n",
    "\n",
    "__Question__ Using CSS3 Animations in place of D3 transitions?\n",
    "\n",
    "## Common Idioms\n",
    "\n",
    "* Setting default values before attempting to operate on the data itself. If an error is encountered, such as the field is missing, you'll still have the default.\n",
    "\n",
    "```javascript\n",
    "\t\t\tsvg.selectAll(\"circle\")\n",
    "\t\t\t   .data(dataset)\n",
    "\t\t\t   .enter()\n",
    "\t\t\t   .append(\"circle\")\n",
    "\t\t\t   .attr(\"cx\", w / 2)\n",
    "\t\t\t   .attr(\"cy\", h / 2)\n",
    "\t\t\t   .attr(\"r\", 1)\n",
    "\t\t\t   .transition()\n",
    "\t\t\t   .duration(2000)\n",
    "\t\t\t   .attr(\"cx\", function(d) {\n",
    "\t\t\t\t\treturn xScale(d.x);\n",
    "\t\t\t   })\n",
    "\t\t\t   .attr(\"r\", function(d) {\n",
    "\t\t\t\t   return d.r;\n",
    "\t\t\t   })\n",
    "\t\t\t   .attr(\"cy\", function(d) {\n",
    "\t\t\t\t   return yScale(d.y);\n",
    "\t\t\t   });\n",
    "```\n",
    "\n",
    "__Question__ D3.js utilizing SVG, P5.js using Canvas."
   ]
  }
 ],
 "metadata": {
  "kernelspec": {
   "display_name": "Python 3",
   "language": "python",
   "name": "python3"
  },
  "language_info": {
   "codemirror_mode": {
    "name": "ipython",
    "version": 3
   },
   "file_extension": ".py",
   "mimetype": "text/x-python",
   "name": "python",
   "nbconvert_exporter": "python",
   "pygments_lexer": "ipython3",
   "version": "3.4.0"
  }
 },
 "nbformat": 4,
 "nbformat_minor": 0
}
