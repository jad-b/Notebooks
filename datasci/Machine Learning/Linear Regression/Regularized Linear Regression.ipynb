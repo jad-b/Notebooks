{
 "cells": [
  {
   "cell_type": "code",
   "execution_count": 20,
   "metadata": {
    "collapsed": true
   },
   "outputs": [],
   "source": [
    "import numpy as np\n",
    "import matplotlib.pyplot as plt\n",
    "%matplotlib inline\n",
    "import pandas as pd\n",
    "from scipy.io import loadmat\n",
    "from scipy.optimize import minimize"
   ]
  },
  {
   "cell_type": "code",
   "execution_count": 21,
   "metadata": {
    "collapsed": false
   },
   "outputs": [
    {
     "name": "stdout",
     "output_type": "stream",
     "text": [
      "dict_keys(['__header__', 'X', '__version__', 'Xval', 'ytest', '__globals__', 'y', 'Xtest', 'yval'])\n"
     ]
    }
   ],
   "source": [
    "# Load octave data\n",
    "ex5data1 = loadmat('ex5/ex5data1.mat')\n",
    "print(ex5data1.keys())\n",
    "for key in ('X', 'y', 'Xval', 'yval', 'Xtest', 'ytest'):\n",
    "    locals().setdefault(key, ex5data1[key])"
   ]
  },
  {
   "cell_type": "code",
   "execution_count": 22,
   "metadata": {
    "collapsed": false
   },
   "outputs": [
    {
     "data": {
      "text/plain": [
       "[<matplotlib.lines.Line2D at 0x7fccbd637ef0>]"
      ]
     },
     "execution_count": 22,
     "metadata": {},
     "output_type": "execute_result"
    },
    {
     "data": {
      "image/png": "[encoded data removed]",
      "text/plain": [
       "<matplotlib.figure.Figure at 0x7fccbd66fbe0>"
      ]
     },
     "metadata": {},
     "output_type": "display_data"
    }
   ],
   "source": [
    "plt.plot(ex5data1['X'], ex5data1['y'], 'g.')"
   ]
  },
  {
   "cell_type": "code",
   "execution_count": 23,
   "metadata": {
    "collapsed": false
   },
   "outputs": [
    {
     "data": {
      "text/plain": [
       "<matplotlib.axes._subplots.AxesSubplot at 0x7fccbd5c27f0>"
      ]
     },
     "execution_count": 23,
     "metadata": {},
     "output_type": "execute_result"
    },
    {
     "name": "stderr",
     "output_type": "stream",
     "text": [
      "/opt/conda/lib/python3.4/site-packages/matplotlib/collections.py:590: FutureWarning: elementwise comparison failed; returning scalar instead, but in the future will perform elementwise comparison\n",
      "  if self._edgecolors == str('face'):\n"
     ]
    },
    {
     "data": {
      "image/png": "[encoded data removed]",
      "text/plain": [
       "<matplotlib.figure.Figure at 0x7fccbd5cc550>"
      ]
     },
     "metadata": {},
     "output_type": "display_data"
    }
   ],
   "source": [
    "df = pd.DataFrame(Xval, columns=['ChangeInWaterLevel'])\n",
    "df['WaterLeaving'] = yval\n",
    "df.plot(kind='scatter', x='ChangeInWaterLevel', y='WaterLeaving',\n",
    "       color='DarkGreen')"
   ]
  },
  {
   "cell_type": "code",
   "execution_count": 24,
   "metadata": {
    "collapsed": true
   },
   "outputs": [],
   "source": [
    "def predict(theta, X):\n",
    "    if theta.ndim == 1:\n",
    "        theta = np.array([theta]).T\n",
    "#     X = np.c_[np.ones(len(X)), X]\n",
    "    return X.dot(theta)"
   ]
  },
  {
   "cell_type": "code",
   "execution_count": 25,
   "metadata": {
    "collapsed": false
   },
   "outputs": [],
   "source": [
    "def linear_reg_cost_function(theta, X, y, _lambda=0.01, verbose=False):\n",
    "    \"\"\"Regularized linear regression cost function.\"\"\"\n",
    "    if theta.ndim == 1:\n",
    "        theta = np.array([theta]).T\n",
    "    if verbose:\n",
    "        print(\"\"\"Called with:\n",
    "        theta [{theta.ndim}]: {theta}\n",
    "        X: {X}\n",
    "        y: {y}\n",
    "        lambda: {lamb}\n",
    "        \"\"\".format(X=X, y=y, theta=theta, lamb=_lambda))\n",
    "    X = np.c_[np.ones(len(X)), X]\n",
    "    m, n = X.shape\n",
    "    \n",
    "    # Cost Function\n",
    "    h = predict(theta, X)\n",
    "    err = (h - y)\n",
    "    assert err.shape == (m, 1), err.shape\n",
    "    sq_err = err**2\n",
    "    assert sq_err.shape == err.shape, sq_err.shape\n",
    "    J = (1/(2*m)) * np.sum(sq_err)\n",
    "    assert J.shape == (), J\n",
    "    J_reg = J + (_lambda/(2*m)) * (theta[1:].T.dot(theta[1:]))[0, 0]\n",
    "    assert J_reg.shape == (), J_reg\n",
    "    \n",
    "    # Gradient\n",
    "    grad = (1/m) * X.T.dot(err)\n",
    "    assert grad.shape == (n, 1), grad.shape\n",
    "    # Zero out bias weight before regularizing\n",
    "    theta[:, 0] = 0 \n",
    "    grad_reg = grad + (_lambda/m) * theta\n",
    "    if verbose:\n",
    "        print(\"\"\"\n",
    "            J: {}\n",
    "            Gradient: {}\n",
    "            \"\"\".format(J_reg, grad_reg.flatten()))\n",
    "    return J_reg, grad_reg.flatten()"
   ]
  },
  {
   "cell_type": "code",
   "execution_count": 26,
   "metadata": {
    "collapsed": false
   },
   "outputs": [
    {
     "name": "stdout",
     "output_type": "stream",
     "text": [
      "Cost: 303.95194222\n",
      "Gradient: [ -15.30301567  598.16741084]\n"
     ]
    }
   ],
   "source": [
    "theta = np.ones((X.shape[1] + 1, 1))\n",
    "assert theta.shape == (2, 1)\n",
    "# Optimize theta\n",
    "J, grad = linear_reg_cost_function(theta, X, y)\n",
    "print(\"Cost:\", J)\n",
    "print(\"Gradient:\", grad)"
   ]
  },
  {
   "cell_type": "code",
   "execution_count": 27,
   "metadata": {
    "collapsed": false
   },
   "outputs": [
    {
     "data": {
      "text/plain": [
       "[<matplotlib.lines.Line2D at 0x7fccbd510630>,\n",
       " <matplotlib.lines.Line2D at 0x7fccbd5109b0>]"
      ]
     },
     "execution_count": 27,
     "metadata": {},
     "output_type": "execute_result"
    },
    {
     "data": {
      "image/png": "[encoded data removed]",
      "text/plain": [
       "<matplotlib.figure.Figure at 0x7fccbd6927b8>"
      ]
     },
     "metadata": {},
     "output_type": "display_data"
    }
   ],
   "source": [
    "def train_linear_reg(X, y, _lambda, verbose=False):\n",
    "    result = minimize(\n",
    "                fun=linear_reg_cost_function,  # use our cost function to evaluate\n",
    "                x0=np.zeros((X.shape[1] + 1, 1)),  # Initial guess for model parameters\n",
    "                args=(X, y, _lambda),  # Passed into fun\n",
    "                method='CG', # Conjugate Gradient\n",
    "                jac=True,  # Our cost function also returns the gradient\n",
    "                options={'maxiter': 200, 'disp': verbose}  # Same limit as Octave assignment\n",
    "            )\n",
    "    return result.x\n",
    "\n",
    "biasX = np.c_[np.ones(len(X)), X]\n",
    "theta = train_linear_reg(X, y, 1)\n",
    "plt.plot(X, predict(theta, biasX), 'g--', X, y, 'b.')"
   ]
  },
  {
   "cell_type": "code",
   "execution_count": 28,
   "metadata": {
    "collapsed": true
   },
   "outputs": [],
   "source": [
    "def learning_curve(X, y, X_cv, y_cv, _lambda, step=1):\n",
    "    \"\"\"Generates a learning curve.\n",
    "    \n",
    "    A learning curve shows how error in the training and cross validation\n",
    "    sets changes with respect to sample size. A \"learned\" function should \n",
    "    show low error in both sets, suggesting it will do well on unseen\n",
    "    data, such as our test set. \n",
    "    \n",
    "    High bias will manifest itself as an increase in training error \n",
    "    alongside an increase in sample size. This says our function is under-\n",
    "    fitting the data. High variance will be seen by a very low training \n",
    "    error but high cross-validation error, as we have perfectly fit our\n",
    "    training set but poorly predict the cross-validation data.\n",
    "    \n",
    "        for increasing sample sizes of training data, X_i, y_i\n",
    "            determine optimal theta for X_i, y_i\n",
    "            determine error(cost) for theta on X_i, y_i\n",
    "            determine error for theta on hjkcross-validation data \n",
    "    \"\"\"\n",
    "    m = len(X)\n",
    "    err_train, err_cv = np.zeros(m), np.zeros(m)\n",
    "    for i in range(1, m, step):\n",
    "        # Train our thetas\n",
    "        X_i, y_i = X[:i], y[:i] \n",
    "        theta = train_linear_reg(X_i, y_i, _lambda, verbose=False)\n",
    "        err_train[i], _ = linear_reg_cost_function(theta, X_i, y_i, _lambda=0.)\n",
    "        err_cv[i], _ = linear_reg_cost_function(theta, X_cv, y_cv, _lambda=0.)\n",
    "    return err_train, err_cv"
   ]
  },
  {
   "cell_type": "code",
   "execution_count": 29,
   "metadata": {
    "collapsed": false
   },
   "outputs": [
    {
     "data": {
      "text/plain": [
       "<matplotlib.axes._subplots.AxesSubplot at 0x7fccbd55ee10>"
      ]
     },
     "execution_count": 29,
     "metadata": {},
     "output_type": "execute_result"
    },
    {
     "data": {
      "image/png": "[encoded data removed]",
      "text/plain": [
       "<matplotlib.figure.Figure at 0x7fccbd567dd8>"
      ]
     },
     "metadata": {},
     "output_type": "display_data"
    }
   ],
   "source": [
    "_lambda = 0\n",
    "err_train, err_cv = learning_curve(X, y, Xval, yval, _lambda)\n",
    "# print(len(err_train), len(X))\n",
    "df_lamb0 = pd.DataFrame({\n",
    "        'm': list(range(1,len(err_train)+1)), \n",
    "        'Train_err': err_train, \n",
    "        'CV_err': err_cv})\n",
    "ax_train = df_lamb0.plot(x='m', y='Train_err', \n",
    "                         color='DarkBlue', label='Training Error', \n",
    "                         title='Lambda = {}'.format(_lambda))\n",
    "df_lamb0.plot(x='m', y='CV_err', \n",
    "              color='DarkGreen', label='C-V error', ax=ax_train)"
   ]
  },
  {
   "cell_type": "code",
   "execution_count": 81,
   "metadata": {
    "collapsed": false
   },
   "outputs": [],
   "source": [
    "def poly_features(X, p):\n",
    "    \"\"\"Maps data into polynomial feature space.\n",
    "    \n",
    "    Adds additional features to the data set by raising the original \n",
    "    feature to powers of itself. This produces an (m, p) matrix, where\n",
    "    m is the number of training samples and p is the final feature count.\n",
    "    \n",
    "    This falls under \"feature engineering\". \n",
    "    \"\"\"\n",
    "    m = len(X)\n",
    "    if p == 0:\n",
    "        return np.ones((m, 1))\n",
    "if p == 1:jkkkkkkkkk\n",
    "        return X\n",
    "    return X * np.arange(1, p+1)\n",
    "\n",
    "def test_poly_features():\n",
    "    pass"
   ]
  },
  {
   "cell_type": "code",
   "execution_count": 65,
   "metadata": {
    "collapsed": false
   },
   "outputs": [],
   "source": [
    "def feature_normalize(X):\n",
    "    \"\"\"Normalize features around their mean.\"\"\"\n",
    "    mu = X.mean(axis=0)\n",
    "    sigma = X.std(axis=0)\n",
    "    # Subtract mean of each feature\n",
    "    normX = X - mu\n",
    "    # Divide by std. dev of each feature\n",
    "    normX = normX / sigma\n",
    "    return normX, mu, sigma"
   ]
  },
  {
   "cell_type": "code",
   "execution_count": 68,
   "metadata": {
    "collapsed": false
   },
   "outputs": [],
   "source": [
    "def add_bias(X):\n",
    "    return np.c_[np.ones(len(X)), X]\n",
    "\n",
    "p = 8\n",
    "X_poly = poly_features(X, p)\n",
    "X_poly, mu, sigma = feature_normalize(X_poly)\n",
    "X_poly = add_bias(X_poly)\n",
    "X_poly_val = poly_features(Xval, p)\n",
    "X_poly_val = (X_poly_val - X_poly_val.mean(axis=0))/X_poly_val.std(axis=0)\n",
    "X_poly_val = add_bias(X_poly_val)"
   ]
  },
  {
   "cell_type": "code",
   "execution_count": 79,
   "metadata": {
    "collapsed": false
   },
   "outputs": [],
   "source": [
    "def validation_curve(X, y, Xval, yval, lambdas=None):\n",
    "    \"\"\"Generates a cross-validation curve.\n",
    "    \n",
    "    Calculates cross-validation error with respect to different values \n",
    "    for lambda. This allows for lambda to be automatically selected \n",
    "    by selecting for the minimum error.\n",
    "    \"\"\"\n",
    "    if lambdas:\n",
    "        lambda_vec = lambdas\n",
    "    else:\n",
    "        lambda_vec = np.linspace(0, 10)\n",
    "    err_train, err_val = np.zeros((len(lambda_vec), 1)), \\\n",
    "        np.zeros((len(lambda_vec), 1))\n",
    "    for i, l in enumerate(lambda_vec):\n",
    "        # Optimize theta using lambda\n",
    "        theta = train_linear_reg(X, y, l)\n",
    "        # Find error with training set\n",
    "        err_train[i], _ = linear_reg_cost_function(theta, X, y, .0\n",
    "                                                  )\n",
    "        # Find error with validation set\n",
    "        err_val[i], _ = linear_reg_cost_function(theta, Xval, yval, .0)\n",
    "    return lambda_vec, err_train, err_val"
   ]
  },
  {
   "cell_type": "code",
   "execution_count": 80,
   "metadata": {
    "collapsed": false
   },
   "outputs": [
    {
     "data": {
      "text/plain": [
       "<matplotlib.axes._subplots.AxesSubplot at 0x7fccbd04ccc0>"
      ]
     },
     "execution_count": 80,
     "metadata": {},
     "output_type": "execute_result"
    },
    {
     "data": {
      "image/png": "[encoded data removed]",
      "text/plain": [
       "<matplotlib.figure.Figure at 0x7fccbd050c50>"
      ]
     },
     "metadata": {},
     "output_type": "display_data"
    }
   ],
   "source": [
    "lambda_vec = [.0, .001, .003, .01, .03, .1, .3, 1, 3, 10]\n",
    "lvec, err_train, err_val = validation_curve(X_poly, y, X_poly_val, yval,\n",
    "                                           lambda_vec) \n",
    "lambda_df = pd.DataFrame({\n",
    "        'Error_train': err_train.flatten(),\n",
    "        'Error_val': err_val.flatten(),\n",
    "        'Lambdas': lvec\n",
    "    })\n",
    "ax = lambda_df.plot(x='Lambdas', y='Error_train', \n",
    "                    color='DarkGreen', label='Training Error',\n",
    "                   title='Auto-lambda (n={})'.format(len(lvec)))\n",
    "lambda_df.plot(x='Lambdas', y='Error_val',\n",
    "              color='LightBlue', label='Validation Error', ax=ax)\n",
    "print(\"Minimum lambda: \")"
   ]
  }
 ],
 "metadata": {
  "kernelspec": {
   "display_name": "Python 3",
   "language": "python",
   "name": "python3"
  },
  "language_info": {
   "codemirror_mode": {
    "name": "ipython",
    "version": 3
   },
   "file_extension": ".py",
   "mimetype": "text/x-python",
   "name": "python",
   "nbconvert_exporter": "python",
   "pygments_lexer": "ipython3",
   "version": "3.4.4"
  }
 },
 "nbformat": 4,
 "nbformat_minor": 0
}
