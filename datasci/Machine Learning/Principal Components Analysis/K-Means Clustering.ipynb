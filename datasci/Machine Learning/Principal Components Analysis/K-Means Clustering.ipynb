{
 "cells": [
  {
   "cell_type": "code",
   "execution_count": 2,
   "metadata": {
    "collapsed": true
   },
   "outputs": [],
   "source": [
    "import numpy as np\n",
    "from scipy import ndimage"
   ]
  },
  {
   "cell_type": "code",
   "execution_count": 12,
   "metadata": {
    "collapsed": true
   },
   "outputs": [],
   "source": [
    "def find_closest_centroids(X, centroids):\n",
    "    \"\"\"Compute the location of the closest centroid.\n",
    "    \n",
    "    :return: Vector of closest centroids, indexed by training example.\n",
    "    \"\"\"\n",
    "    return np.zeros(len(X))"
   ]
  },
  {
   "cell_type": "code",
   "execution_count": 13,
   "metadata": {
    "collapsed": true
   },
   "outputs": [],
   "source": [
    "def compute_means(X, indices, K):\n",
    "    \"\"\"Update centroid mean based on its assigned points.\n",
    "    \n",
    "    :arg matrix X: Training data.\n",
    "    :arg vector indices: Nearest centroid index per training sample.\n",
    "    :arg int K: Number of centroids.\n",
    "    \"\"\"\n",
    "    return np.zeros(len(indices))"
   ]
  },
  {
   "cell_type": "code",
   "execution_count": 14,
   "metadata": {
    "collapsed": false
   },
   "outputs": [],
   "source": [
    "def read_image(image_filename):\n",
    "    \"\"\"Load an RGB image as a (M*N) x (R,G,B) vector.\"\"\"\n",
    "    return ndimage.imread(image_filename)"
   ]
  },
  {
   "cell_type": "code",
   "execution_count": 15,
   "metadata": {
    "collapsed": true
   },
   "outputs": [],
   "source": [
    "def k_means(X, K, iters):\n",
    "    \"\"\"Perform K-means clustering.\n",
    "    \n",
    "    :arg matrix X: Training data.\n",
    "    :arg int K: Number of centroids.\n",
    "    \"\"\"\n",
    "    # Initialize centroids from random sample of permuted training data\n",
    "    centroids = np.zeros(K)\n",
    "    indices = np.zeros(len(X))\n",
    "    for i in range(iters):\n",
    "        # Assign samples to nearest centroid\n",
    "        indices = find_closest_centroids(X, centroids)\n",
    "        # Update centroid means\n",
    "        centroids = compute_means(X, indices, K)\n",
    "    return indices"
   ]
  }
 ],
 "metadata": {
  "kernelspec": {
   "display_name": "Python 3",
   "language": "python",
   "name": "python3"
  },
  "language_info": {
   "codemirror_mode": {
    "name": "ipython",
    "version": 3
   },
   "file_extension": ".py",
   "mimetype": "text/x-python",
   "name": "python",
   "nbconvert_exporter": "python",
   "pygments_lexer": "ipython3",
   "version": "3.4.4"
  }
 },
 "nbformat": 4,
 "nbformat_minor": 0
}
