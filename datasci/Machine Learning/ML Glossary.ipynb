{
 "cells": [
  {
   "cell_type": "markdown",
   "metadata": {},
   "source": [
    "# ML Glossary\n",
    "\n",
    "|Word|Definition|\n",
    "|----|----------|\n",
    "|out-of-core|Doesn't fit in memory\n",
    "|Bernoulli|Binary-valued; boolean\n",
    "|Gaussian|Normal distribution; I guess \"Gaussian\" is shorter and sounds cooler.\n",
    "|Multivariate|More than one feature, a.k.a $x_{i}$\n",
    "|gradient|Vector of partial derivatives, one per feature\n",
    "|partial derivative|$\\frac{\\delta f(x)}{\\delta x}$ Rate-of-change for _y_ given _x_ with all other parameters held constant. \n",
    "|derivative|Instantaneous _rate of change_.\n",
    "|Instantaneous| Of only one instant, i.e., single value of dependent variable, i.e. the value of _x_\n",
    "|Rate of change| How quickly is the function, i.e. the value of y, changing when given _x_? "
   ]
  }
 ],
 "metadata": {
  "kernelspec": {
   "display_name": "Python 3",
   "language": "python",
   "name": "python3"
  },
  "language_info": {
   "codemirror_mode": {
    "name": "ipython",
    "version": 3
   },
   "file_extension": ".py",
   "mimetype": "text/x-python",
   "name": "python",
   "nbconvert_exporter": "python",
   "pygments_lexer": "ipython3",
   "version": "3.4.4"
  }
 },
 "nbformat": 4,
 "nbformat_minor": 0
}
