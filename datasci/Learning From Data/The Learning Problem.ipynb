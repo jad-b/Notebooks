{
 "cells": [
  {
   "cell_type": "code",
   "execution_count": 61,
   "metadata": {
    "collapsed": false
   },
   "outputs": [],
   "source": [
    "import logging\n",
    "import numpy as np\n",
    "\n",
    "log_level = logging.INFO\n",
    "LOGGER = logging.getLogger()\n",
    "LOGGER.setLevel(log_level)\n",
    "# sh = logging.StreamHandler()\n",
    "# sh.setLevel(log_level)\n",
    "# LOGGER.addHandler(sh)"
   ]
  },
  {
   "cell_type": "code",
   "execution_count": 141,
   "metadata": {
    "collapsed": false
   },
   "outputs": [
    {
     "name": "stdout",
     "output_type": "stream",
     "text": [
      "\n",
      "    v_1: 0.6000\n",
      "    v_min: 0.1000\n",
      "    v_rand: 0.8000\n",
      "    \n"
     ]
    }
   ],
   "source": [
    "# Exercise 1.10\n",
    "def fair_coins(coins=1000, flips=10):\n",
    "    \"\"\"Run a computer simulation flipping 1,000 fair coins.\n",
    "\n",
    "    Flip each coin independently 10 times. Let's focus on 3 coins as follows:\n",
    "    c_1 is the first coin flipped. c_rand is a coin you choose at random.\n",
    "    c_min is the coin that had the minimum frequency of heads (pick the eariler \n",
    "    one in case of a tie). Let v_1, v_rand, and v_min be the fraction of heads\n",
    "    you obtain for the respective three coins.\n",
    "    \"\"\"\n",
    "    coin_arr = np.random.binomial(1, 0.5, size=(coins, flips))\n",
    "    c_1 = 0\n",
    "    c_min = np.argmin(coin_arr.sum(axis=1))\n",
    "    c_rand = 0\n",
    "    while c_rand in {c_1, c_min}:\n",
    "        c_rand = np.random.randint(len(coin_arr), high=None)\n",
    "#     LOGGER.debug(\"c_1: %s\", coin_arr[c_1])\n",
    "    v_1 = coin_arr[c_1].sum() / flips\n",
    "#     LOGGER.debug(\"c_min: %s\", coin_arr[c_min])\n",
    "    v_min = coin_arr[c_min].sum() / flips\n",
    "#     LOGGER.debug(\"c_rand: %s\", coin_arr[c_rand])\n",
    "    v_rand = coin_arr[c_rand].sum() / flips\n",
    "    return v_1, v_min, v_rand\n",
    "\n",
    "def print_vs(*vs):\n",
    "    print(\"\"\"\n",
    "    v_1: {:.4f}\n",
    "    v_min: {:.4f}\n",
    "    v_rand: {:.4f}\n",
    "    \"\"\".format(*vs))\n",
    "    \n",
    "# What is mu for the 3 coins? It's always 50%, assuming a perfectly fair\n",
    "# coin\n",
    "print_vs(*fair_coins())"
   ]
  },
  {
   "cell_type": "code",
   "execution_count": 104,
   "metadata": {
    "collapsed": false
   },
   "outputs": [],
   "source": [
    "def large_trial(trials):\n",
    "    results = np.empty((trials, 3))\n",
    "    assert results.shape == (trials, 3)\n",
    "    for i in range(trials):\n",
    "        results[i] = fair_coins()\n",
    "    return results\n",
    "    \n",
    "trials = 10**5\n",
    "results = large_trial(trials)"
   ]
  },
  {
   "cell_type": "code",
   "execution_count": 105,
   "metadata": {
    "collapsed": false
   },
   "outputs": [
    {
     "data": {
      "image/png": "[encoded data removed]",
      "text/plain": [
       "<matplotlib.figure.Figure at 0x7f51bf0c6128>"
      ]
     },
     "metadata": {},
     "output_type": "display_data"
    },
    {
     "name": "stdout",
     "output_type": "stream",
     "text": [
      "\n",
      "You may have a hard time seeing v_1 and v_rand; they tend to both show \n",
      "a normal distribution, and thus overlap.\n",
      "\n"
     ]
    }
   ],
   "source": [
    "import matplotlib.pyplot as plt\n",
    "%matplotlib inline\n",
    "bins = np.linspace(0.0, 1.0, 100)\n",
    "plt.hist(results[:, 0], bins, alpha=0.3, label='v_1')\n",
    "plt.hist(results[:, 1], bins, alpha=0.3, label='v_min')\n",
    "plt.hist(results[:, 2], bins, alpha=0.3, label='v_rand')\n",
    "plt.legend(loc='upper right')\n",
    "plt.title('1.10b) {:d} coin flipping trials'.format(trials))\n",
    "plt.show()\n",
    "print(\"\"\"\n",
    "You may have a hard time seeing v_1 and v_rand; they tend to both show \n",
    "a normal distribution, and thus overlap.\n",
    "\"\"\")"
   ]
  },
  {
   "cell_type": "code",
   "execution_count": 106,
   "metadata": {
    "collapsed": false
   },
   "outputs": [
    {
     "name": "stdout",
     "output_type": "stream",
     "text": [
      "\n",
      "    Averages\n",
      "    ========\n",
      "    v_1: 0.5002\n",
      "    v_min: 0.0377\n",
      "    v_rand: 0.5007\n",
      "    \n",
      "\n",
      "    Medians\n",
      "    =======\n",
      "    v_1: 0.5000\n",
      "    v_min: 0.0000\n",
      "    v_rand: 0.5000\n",
      "    \n"
     ]
    }
   ],
   "source": [
    "def print_stats(title, vals):\n",
    "    assert vals.shape == (3,), vals.shape\n",
    "    print(\"\"\"\n",
    "    {title}\n",
    "    {bar}\n",
    "    v_1: {v1:.4f}\n",
    "    v_min: {vmin:.4f}\n",
    "    v_rand: {vrand:.4f}\n",
    "    \"\"\".format(\n",
    "        title=title,\n",
    "        bar='='*len(title),\n",
    "        v1=vals[0],\n",
    "        vmin=vals[1],\n",
    "        vrand=vals[2]))\n",
    "\n",
    "averages = np.mean(results, axis=0)\n",
    "assert averages.shape == (3,), averages.shape\n",
    "print_stats('Averages', averages)\n",
    "medians = np.median(results, axis=0)\n",
    "print_stats('Medians', medians)"
   ]
  },
  {
   "cell_type": "code",
   "execution_count": 149,
   "metadata": {
    "collapsed": false
   },
   "outputs": [
    {
     "data": {
      "text/plain": [
       "<matplotlib.legend.Legend at 0x7f51be9f4da0>"
      ]
     },
     "execution_count": 149,
     "metadata": {},
     "output_type": "execute_result"
    },
    {
     "data": {
      "image/png": "[encoded data removed]",
      "text/plain": [
       "<matplotlib.figure.Figure at 0x7f51bea25240>"
      ]
     },
     "metadata": {},
     "output_type": "display_data"
    }
   ],
   "source": [
    "def hoeffding_inequality(eps, N):\n",
    "    z = -2 * (eps**2) * N\n",
    "    return 2 * np.exp(z)\n",
    "\n",
    "# Hoeffding inequality plot\n",
    "n_eps = 100\n",
    "epsilons = np.linspace(.0, .8, n_eps)\n",
    "h_ineq = hoeffding_inequality(epsilons, 10)\n",
    "# print(y.min(), y.max())\n",
    "\n",
    "mu = 0.5\n",
    "# Calculate absolute difference between P_sample(heads) and P_true(heads)\n",
    "diff = np.absolute(results-mu)\n",
    "# Figure which coins had a difference from the true probability of heads\n",
    "# greater than epsilon\n",
    "P_gt_eps = np.empty((n_eps, 3))\n",
    "# Compare the P(heads) of our K trials of N samples against epsilon\n",
    "for i in range(n_eps):\n",
    "    diff_eps = diff > epsilons[i]\n",
    "    P_gt_eps[i] = np.mean(diff_eps, axis=0)\n",
    "    \n",
    "plt.title(\"1.10c) \")\n",
    "plt.xlabel('Epsilon')\n",
    "plt.ylabel('% of trials w/ P(|v-u|) > epsilon')\n",
    "plt.plot(epsilons, h_ineq, label='Hoeffding Inequality bound')\n",
    "plt.plot(epsilons, P_gt_eps[:, 0], label='P(|v_1-u| > eps)')\n",
    "plt.plot(epsilons, P_gt_eps[:, 1], 'r--', label='P(|v_min-u| > eps)')\n",
    "plt.plot(epsilons, P_gt_eps[:, 2], 'b^', label='P(|v_rand-u| > eps)')\n",
    "plt.legend(loc='upper right')"
   ]
  },
  {
   "cell_type": "markdown",
   "metadata": {},
   "source": [
    "1.10d) Which coins obey the Hoeffding Inequality, and which do not?\n",
    "\n",
    "Both $v_{1}$ and $v_{rand}$ obey the bound given by the Hoeffding Inequality. As all coins will end up with similar flips over enough trials, they end up showing an identical plot. \n",
    "\n",
    "$v_{min}$ does _not_ obey the bound. It is the result of _maximizing_ in-sample error by selecting (one of) the worst-performing hypotheses in every round. We would see an identical plot if we'd selected the best-performing coin's performance, $v_{max}$, from each trial. The absolute difference from the out-of-sample error, $E_{out}$, for $v_{min}$ and $v_{max}$ would be equal.\n",
    "\n",
    "1.10e) Relate 1.10d to sampling red and green marbles from multiple bins."
   ]
  }
 ],
 "metadata": {
  "kernelspec": {
   "display_name": "Python 3",
   "language": "python",
   "name": "python3"
  },
  "language_info": {
   "codemirror_mode": {
    "name": "ipython",
    "version": 3
   },
   "file_extension": ".py",
   "mimetype": "text/x-python",
   "name": "python",
   "nbconvert_exporter": "python",
   "pygments_lexer": "ipython3",
   "version": "3.4.4"
  }
 },
 "nbformat": 4,
 "nbformat_minor": 0
}
