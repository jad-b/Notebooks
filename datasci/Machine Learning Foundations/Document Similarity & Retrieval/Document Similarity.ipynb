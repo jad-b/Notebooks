{
 "cells": [
  {
   "cell_type": "code",
   "execution_count": 1,
   "metadata": {
    "collapsed": true
   },
   "outputs": [],
   "source": [
    "import numpy as np"
   ]
  },
  {
   "cell_type": "code",
   "execution_count": 4,
   "metadata": {
    "collapsed": true
   },
   "outputs": [],
   "source": [
    "def idf(n_docs, n_appearances):\n",
    "    \"\"\"Inverse document frequency.\n",
    "    \n",
    "    Measures the rarity of a word across a corpus of documents.\n",
    "    \n",
    "    :arg int n_docs: Number of documents.\n",
    "    :arg int n_appearances: Number of documents containing word.\n",
    "    \"\"\"\n",
    "    # The '+ 1' in the denominator protects us against dividing by\n",
    "    # zero on words that don't appear\n",
    "    return np.log(n_docs / (1 + n_appearances))"
   ]
  },
  {
   "cell_type": "code",
   "execution_count": 5,
   "metadata": {
    "collapsed": true
   },
   "outputs": [],
   "source": [
    "def term_frequency(documents, words):\n",
    "    \"\"\"Calculate the frequency of words across documents.\n",
    "    \n",
    "    Honestly, just use Map-Reduce.\n",
    "    Map: document -> (word, 1)\n",
    "    Reduce: (word, 1) -> (word, count(word))\n",
    "    \n",
    "    :return: Vector of term frequencies.\n",
    "    \"\"\"\n",
    "    print(\"Use Map-Reduce\")"
   ]
  },
  {
   "cell_type": "code",
   "execution_count": 1,
   "metadata": {
    "collapsed": true
   },
   "outputs": [],
   "source": [
    "def tf_idf(term_freqs, inv_doc_freq):\n",
    "    \"\"\"Term frequency-Inverse document frequency.\n",
    "    \n",
    "    Weights words by their rarity across documents.\n",
    "    Very frequent words, or words with high term frequencies,\n",
    "    will be heavily penalized by their inverse document frequency, \n",
    "    or rarity across documents. Conversely, very rare words will be\n",
    "    scaled up according to their rarity.\n",
    "    \n",
    "    :arg vector term_freqs: Word counts.\n",
    "    :arg vector inv_doc_freq: Measure of word rarity\n",
    "    \"\"\"\n",
    "    return term_freqs * inv_doc_freq;"
   ]
  },
  {
   "cell_type": "code",
   "execution_count": null,
   "metadata": {
    "collapsed": true
   },
   "outputs": [],
   "source": []
  }
 ],
 "metadata": {
  "kernelspec": {
   "display_name": "Python 3",
   "language": "python",
   "name": "python3"
  },
  "language_info": {
   "codemirror_mode": {
    "name": "ipython",
    "version": 3
   },
   "file_extension": ".py",
   "mimetype": "text/x-python",
   "name": "python",
   "nbconvert_exporter": "python",
   "pygments_lexer": "ipython3",
   "version": "3.4.4"
  }
 },
 "nbformat": 4,
 "nbformat_minor": 0
}
