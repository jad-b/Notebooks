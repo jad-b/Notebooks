{
 "cells": [
  {
   "cell_type": "markdown",
   "metadata": {
    "collapsed": true
   },
   "source": [
    "# CloudFormation\n",
    "\n",
    "## VPC\n",
    "Class A: 10....\n",
    "Class B: 172....\n",
    "Class C: 192....\n",
    "\n",
    "Suggested to default to Class A, if only for least surprise and standardization.\n",
    "\n",
    "10.<# of VPC>.x.y\n",
    "\n",
    "* Create a NAT Gateway in each AZ. Prevents private subnets from becoming disconnected if something happens to one AZ."
   ]
  }
 ],
 "metadata": {
  "kernelspec": {
   "display_name": "Python 3",
   "language": "python",
   "name": "python3"
  },
  "language_info": {
   "codemirror_mode": {
    "name": "ipython",
    "version": 3
   },
   "file_extension": ".py",
   "mimetype": "text/x-python",
   "name": "python",
   "nbconvert_exporter": "python",
   "pygments_lexer": "ipython3",
   "version": "3.5.2"
  }
 },
 "nbformat": 4,
 "nbformat_minor": 0
}
