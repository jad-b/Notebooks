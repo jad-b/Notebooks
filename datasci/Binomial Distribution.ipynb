{
 "cells": [
  {
   "cell_type": "markdown",
   "metadata": {},
   "source": [
    "The binomial distribution measures how many successes will occur within _n_ trials, given binary outcomes (succeed/fail). We can also model the _n_ trials not as a sequence, but of sampling once from _n_ identical processes in parallel. \n",
    "\n",
    "This provides a model of _n_ scheduled events across _n_ nodes firing with a likelihood of _p_. For instance, the if an end-to-end monitoring test fires up once a minute, but we wish to limit   "
   ]
  },
  {
   "cell_type": "code",
   "execution_count": 5,
   "metadata": {
    "collapsed": true
   },
   "outputs": [],
   "source": [
    "from scipy.stats import binom\n",
    "import matplotlib.pyplot as plt\n",
    "import numpy as np"
   ]
  },
  {
   "cell_type": "code",
   "execution_count": 94,
   "metadata": {
    "collapsed": false
   },
   "outputs": [],
   "source": [
    "n = 8  # Number of nodes/\"trials\"\n",
    "p = 0.4  # Probability of a node firing"
   ]
  },
  {
   "cell_type": "code",
   "execution_count": 95,
   "metadata": {
    "collapsed": false
   },
   "outputs": [
    {
     "name": "stdout",
     "output_type": "stream",
     "text": [
      " p=0.05 q=0\n",
      " p=0.10 q=0\n",
      " p=0.15 q=0\n",
      " p=0.20 q=0\n",
      " p=0.25 q=0\n",
      " p=0.30 q=0\n",
      " p=0.35 q=0\n",
      " p=0.40 q=0\n",
      " p=0.45 q=1\n",
      " p=0.50 q=1\n",
      " p=0.55 q=1\n",
      " p=0.60 q=1\n",
      " p=0.65 q=1\n",
      " p=0.70 q=1\n",
      " p=0.75 q=1\n",
      " p=0.80 q=1\n",
      " p=0.85 q=2\n",
      " p=0.90 q=2\n",
      " p=0.95 q=2\n"
     ]
    }
   ],
   "source": [
    "for i in range(1, 20):\n",
    "    pval = .05 * i\n",
    "    # p% probability the q value is less than or equal; the quantile percentage\n",
    "    # q is the maximum value within the quantile\n",
    "    print(\" p={:.02f} q={:.0f}\".format(pval, binom.ppf(pval, n, 0.1)))"
   ]
  },
  {
   "cell_type": "code",
   "execution_count": 96,
   "metadata": {
    "collapsed": true
   },
   "outputs": [],
   "source": [
    "import seaborn as sns\n",
    "sns.set_style(\"darkgrid\")"
   ]
  },
  {
   "cell_type": "code",
   "execution_count": 130,
   "metadata": {
    "collapsed": false,
    "scrolled": false
   },
   "outputs": [
    {
     "data": {
      "image/png": "[encoded data removed]",
      "text/plain": [
       "<matplotlib.figure.Figure at 0x7ff409e16828>"
      ]
     },
     "metadata": {},
     "output_type": "display_data"
    }
   ],
   "source": [
    "# We can create a graph showing the likely maximum number of nodes to fire within a given threshold\n",
    "# Dependent: Probability p of individual event firing (success)\n",
    "# Independent: max # of nodes to fire w/ probability of \"threshold\"\n",
    "lo, hi = 0.05, 0.95\n",
    "x = np.arange(n)\n",
    "step = 2\n",
    "probs = [2/100. * p for p in range(1, int(100/step))]\n",
    "data = []\n",
    "for p in probs:\n",
    "    data.append((\n",
    "        p,                                    # Probability of event occurring\n",
    "        np.argmax(binom.pmf(range(n), n, p)), # Mode of the distribution\n",
    "        binom.ppf(.05, n, p),                 # 5th percentile value\n",
    "        binom.ppf(.95, n, p)                  # 95th percentile \n",
    "    ))\n",
    "plt.plot(probs, [x[1] for x in data], 'g', label='mode')\n",
    "plt.plot(probs, [x[2] for x in data], 'rs', label='5th quantile')\n",
    "plt.plot(probs, [x[3] for x in data], 'bo', label='95th quantile')\n",
    "plt.legend(loc='upper left')\n",
    "plt.xlabel('Probability of Event Occurring')\n",
    "plt.ylabel('# of nodes')\n",
    "plt.ylim(ymax=9)\n",
    "plt.title('Probability of Event Firing by Number of Nodes Expected')\n",
    "plt.savefig('probnode.png')\n",
    "plt.show()"
   ]
  },
  {
   "cell_type": "code",
   "execution_count": 128,
   "metadata": {
    "collapsed": false
   },
   "outputs": [],
   "source": [
    "# TODO Add the quantiles as a vertical bar. \n",
    "import pandas as pd\n",
    "df = pd.DataFrame(data=data, columns=['probability', 'mode', '5th Percentile', '95th Percentile'])\n",
    "g = sns.factorplot(x='probability', y='mode', hue='kind')"
   ]
  },
  {
   "cell_type": "code",
   "execution_count": 89,
   "metadata": {
    "collapsed": false
   },
   "outputs": [
    {
     "name": "stdout",
     "output_type": "stream",
     "text": [
      "0.05=[0, 2]; range=2\n",
      "0.10=[0, 2]; range=2\n",
      "0.15=[0, 3]; range=3\n",
      "0.20=[0, 4]; range=4\n",
      "0.25=[0, 4]; range=4\n",
      "0.30=[0, 5]; range=5\n",
      "0.35=[1, 5]; range=4\n",
      "0.40=[1, 5]; range=4\n",
      "0.45=[1, 6]; range=5\n",
      "0.50=[2, 6]; range=4\n",
      "0.55=[2, 7]; range=5\n",
      "0.60=[3, 7]; range=4\n",
      "0.65=[3, 7]; range=4\n",
      "0.70=[3, 8]; range=5\n",
      "0.75=[4, 8]; range=4\n",
      "0.80=[4, 8]; range=4\n",
      "0.85=[5, 8]; range=3\n",
      "0.90=[6, 8]; range=2\n",
      "0.95=[6, 8]; range=2\n"
     ]
    }
   ],
   "source": [
    "for p, l, h in zip(probs, lo, hi):\n",
    "    print(\"{:.02f}=[{:.0f}, {:.0f}]; range={:.0f}\".format(p, l, h, h - l))"
   ]
  }
 ],
 "metadata": {
  "kernelspec": {
   "display_name": "Python 3",
   "language": "python",
   "name": "python3"
  },
  "language_info": {
   "codemirror_mode": {
    "name": "ipython",
    "version": 3
   },
   "file_extension": ".py",
   "mimetype": "text/x-python",
   "name": "python",
   "nbconvert_exporter": "python",
   "pygments_lexer": "ipython3",
   "version": "3.5.2"
  }
 },
 "nbformat": 4,
 "nbformat_minor": 0
}
