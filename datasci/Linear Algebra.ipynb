{
 "cells": [
  {
   "cell_type": "code",
   "execution_count": 5,
   "metadata": {
    "collapsed": false
   },
   "outputs": [],
   "source": [
    "import  numpy as np\n",
    "from scipy import linalg"
   ]
  },
  {
   "cell_type": "code",
   "execution_count": 31,
   "metadata": {
    "collapsed": false
   },
   "outputs": [
    {
     "name": "stdout",
     "output_type": "stream",
     "text": [
      "A(3x2) x B(2x2)\n",
      " [[ 7  9]\n",
      " [10 12]\n",
      " [10 15]]\n",
      "B x A.T\n",
      " [[ 1  2  0]\n",
      " [11 16 15]]\n",
      "B x B^-1\n",
      " [[ 1.  0.]\n",
      " [ 0.  1.]]\n",
      "A[2][1]= 5 == 5 = A^T[1][2]\n"
     ]
    }
   ],
   "source": [
    "A = np.array([\n",
    "    [1, 3],\n",
    "    [2, 4],\n",
    "    [0, 5]\n",
    "], dtype=np.int16)\n",
    "B = np.array([\n",
    "    [1, 0],\n",
    "    [2, 3]\n",
    "], dtype=np.int16)\n",
    "print(\"A({A.shape[0]}x{A.shape[1]}) x B({B.shape[0]}x{B.shape[1]})\\n\"\n",
    "      .format(A=A, B=B), A.dot(B))\n",
    "print(\"B x A.T\\n\", B.dot(A.T))\n",
    "print(\"B x B^-1\\n\", B.dot(linalg.inv(B)))\n",
    "print(\"A[2][1]= {0} == {1} = A^T[1][2]\".format(A[2][1], A.T[1][2]))"
   ]
  },
  {
   "cell_type": "code",
   "execution_count": 32,
   "metadata": {
    "collapsed": false
   },
   "outputs": [
    {
     "data": {
      "text/plain": [
       "array([[ 486. ,  410.4,  691.6],\n",
       "       [ 314. ,  341.6,  416.4],\n",
       "       [ 343.5,  353.4,  463.6],\n",
       "       [ 173. ,  285.2,  190.8]])"
      ]
     },
     "execution_count": 32,
     "metadata": {},
     "output_type": "execute_result"
    }
   ],
   "source": [
    "# Data\n",
    "D = np.array([\n",
    "        [1, 2104], # The '1' placeholds for a constant in the h(x)\n",
    "        [1, 1416],\n",
    "        [1, 1534],\n",
    "        [1, 852]\n",
    "    ])\n",
    "# Hypotheses\n",
    "H = np.array([\n",
    "        [-40, 0.25], # h(x) = -40 + 0.25x\n",
    "        [200, 0.1],\n",
    "        [-150, 0.4]\n",
    "    ])\n",
    "# Calculate the predictions of all our hypotheses on the training data\n",
    "# at once!\n",
    "D.dot(H.T)"
   ]
  },
  {
   "cell_type": "code",
   "execution_count": 42,
   "metadata": {
    "collapsed": false
   },
   "outputs": [
    {
     "name": "stdout",
     "output_type": "stream",
     "text": [
      "[[ 6 -6]\n",
      " [11  7]]\n",
      "[[ 1. ]\n",
      " [ 3.5]\n",
      " [ 2. ]\n",
      " [ 0.5]]\n",
      "[[2 1 8]]\n",
      "[[-4]]\n"
     ]
    }
   ],
   "source": [
    "A1 = np.array([\n",
    "        [4, 3],\n",
    "        [6, 9]\n",
    "    ])\n",
    "B1 = np.array([\n",
    "        [-2, 9],\n",
    "        [-5, 2]\n",
    "    ])\n",
    "print(A1-B1)\n",
    "\n",
    "x2 = np.array([[2, 7, 4, 1]])\n",
    "print(1/2 * x2.T)\n",
    "\n",
    "u3 = np.array([[2], [1], [8]])\n",
    "print(u3.T)\n",
    "\n",
    "u4 = np.array([[4], [-4], [-3]])\n",
    "v4 = np.array([[4,2,4]]).T\n",
    "print(u4.T.dot(v4))"
   ]
  },
  {
   "cell_type": "code",
   "execution_count": null,
   "metadata": {
    "collapsed": true
   },
   "outputs": [],
   "source": []
  }
 ],
 "metadata": {
  "kernelspec": {
   "display_name": "Python 3",
   "language": "python",
   "name": "python3"
  },
  "language_info": {
   "codemirror_mode": {
    "name": "ipython",
    "version": 3
   },
   "file_extension": ".py",
   "mimetype": "text/x-python",
   "name": "python",
   "nbconvert_exporter": "python",
   "pygments_lexer": "ipython3",
   "version": "3.4.4"
  }
 },
 "nbformat": 4,
 "nbformat_minor": 0
}
