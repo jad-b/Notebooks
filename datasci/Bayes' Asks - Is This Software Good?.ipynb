{
 "cells": [
  {
   "cell_type": "code",
   "execution_count": 4,
   "metadata": {
    "collapsed": false
   },
   "outputs": [],
   "source": [
    "# The Probabiliy Mass Function of having a positive|negative experience\n",
    "pmf_X_a = {\n",
    "    'positive': .8,\n",
    "    'negative': .2\n",
    "}"
   ]
  },
  {
   "cell_type": "code",
   "execution_count": 16,
   "metadata": {
    "collapsed": false
   },
   "outputs": [],
   "source": [
    "def bayes_rule(prior, datum):\n",
    "    p_x_a = pmf_X[datum]\n",
    "    return prior * p_x_a / p_x(p_x_a, prior)"
   ]
  },
  {
   "cell_type": "code",
   "execution_count": 17,
   "metadata": {
    "collapsed": true
   },
   "outputs": [],
   "source": [
    "def p_x(p_x_a, prior):\n",
    "    \"\"\"P(X) = P(X|A)*P(A) + P(X|~A)*P(~A)\"\"\"\n",
    "    return p_x_a * prior + (1 - p_x_a) * (1 - prior)"
   ]
  },
  {
   "cell_type": "code",
   "execution_count": null,
   "metadata": {
    "collapsed": true
   },
   "outputs": [],
   "source": []
  }
 ],
 "metadata": {
  "kernelspec": {
   "display_name": "Python 3",
   "language": "python",
   "name": "python3"
  },
  "language_info": {
   "codemirror_mode": {
    "name": "ipython",
    "version": 3
   },
   "file_extension": ".py",
   "mimetype": "text/x-python",
   "name": "python",
   "nbconvert_exporter": "python",
   "pygments_lexer": "ipython3",
   "version": "3.5.1"
  },
  "widgets": {
   "state": {},
   "version": "1.1.1"
  }
 },
 "nbformat": 4,
 "nbformat_minor": 0
}
