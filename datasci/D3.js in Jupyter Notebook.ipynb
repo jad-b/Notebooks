{
 "cells": [
  {
   "cell_type": "code",
   "execution_count": 5,
   "metadata": {
    "collapsed": false
   },
   "outputs": [
    {
     "data": {
      "application/javascript": [
       "require.config({\n",
       "  paths: {\n",
       "      d3: '//cdnjs.cloudflare.com/ajax/libs/d3/3.4.8/d3.min'\n",
       "  }\n",
       "});"
      ],
      "text/plain": [
       "<IPython.core.display.Javascript object>"
      ]
     },
     "metadata": {},
     "output_type": "display_data"
    }
   ],
   "source": [
    "%%javascript\n",
    "require.config({\n",
    "  paths: {\n",
    "      d3: '//cdnjs.cloudflare.com/ajax/libs/d3/3.4.8/d3.min'\n",
    "  }\n",
    "});"
   ]
  },
  {
   "cell_type": "code",
   "execution_count": 15,
   "metadata": {
    "collapsed": false
   },
   "outputs": [
    {
     "data": {
      "application/javascript": [
       "// IPython sets the JS variable 'element' to refer to this cell\n",
       "element.append(\"<div id='chart1'>What up?</div>\")"
      ],
      "text/plain": [
       "<IPython.core.display.Javascript object>"
      ]
     },
     "metadata": {},
     "output_type": "display_data"
    }
   ],
   "source": [
    "%%javascript\n",
    "// IPython sets the JS variable 'element' to refer to this cell\n",
    "element.append(\"<div id='chart1'>What up?</div>\")"
   ]
  },
  {
   "cell_type": "code",
   "execution_count": 11,
   "metadata": {
    "collapsed": false
   },
   "outputs": [
    {
     "data": {
      "text/html": [
       "\n",
       "<div id=\"someDiv\" style=\"width:200px;height:100px;border:black 1px solid;\">\n",
       "<input id=\"someCheckbox\" type=\"checkbox\" />\n"
      ],
      "text/plain": [
       "<IPython.core.display.HTML object>"
      ]
     },
     "execution_count": 11,
     "metadata": {},
     "output_type": "execute_result"
    }
   ],
   "source": [
    "from IPython.display import HTML\n",
    "# Display HTML in the output below\n",
    "HTML(\"\"\"\n",
    "<div id=\"someDiv\" style=\"width:200px;height:100px;border:black 1px solid;\">\n",
    "<input id=\"someCheckbox\" type=\"checkbox\" />\n",
    "\"\"\")"
   ]
  },
  {
   "cell_type": "code",
   "execution_count": 38,
   "metadata": {
    "collapsed": false
   },
   "outputs": [
    {
     "data": {
      "application/javascript": [
       "define('hello', [], function (){ // wrapper function for \"module\"\n",
       "    console.log(\"Defining 'hello'\");\n",
       "    return {\n",
       "        say() { // entire module is just this function\n",
       "            window.alert('Hello');\n",
       "        }\n",
       "    };\n",
       "});\n",
       "\n",
       "define('addDiv', [], function () {\n",
       "    return function() {\n",
       "        element.append(`\n",
       "<div id=\"someDiv\" style=\"width:200px;height:100px;border:black 1px solid;\">\n",
       "<input id=\"someCheckbox\" type=\"checkbox\" />`);    \n",
       "    };\n",
       "});\n",
       "\n",
       "require(['d3', 'hello'], // Dependencies to inject\n",
       "        function(d3, hello) { // dependencies as paramaters\n",
       "    hello.say();\n",
       "    // d3.select(\"#someDiv\").style(\"border\", \"5px darkgray dashed\");\n",
       "});\n"
      ],
      "text/plain": [
       "<IPython.core.display.Javascript object>"
      ]
     },
     "metadata": {},
     "output_type": "display_data"
    }
   ],
   "source": [
    "%%javascript\n",
    "define('hello', [], function (){ // wrapper function for \"module\"\n",
    "    console.log(\"Defining 'hello'\");\n",
    "    return {\n",
    "        say() { // entire module is just this function\n",
    "            window.alert('Hello');\n",
    "        }\n",
    "    };\n",
    "});\n",
    "\n",
    "define('addDiv', [], function () {\n",
    "    return function() {\n",
    "        element.append(`\n",
    "<div id=\"someDiv\" style=\"width:200px;height:100px;border:black 1px solid;\">\n",
    "<input id=\"someCheckbox\" type=\"checkbox\" />`);    \n",
    "    };\n",
    "});\n",
    "\n",
    "require(['d3', 'hello'], // Dependencies to inject\n",
    "        function(d3, hello) { // dependencies as paramaters\n",
    "    hello.say();\n",
    "    // d3.select(\"#someDiv\").style(\"border\", \"5px darkgray dashed\");\n",
    "});\n",
    "\n"
   ]
  }
 ],
 "metadata": {
  "kernelspec": {
   "display_name": "Python 3",
   "language": "python",
   "name": "python3"
  },
  "language_info": {
   "codemirror_mode": {
    "name": "ipython",
    "version": 3
   },
   "file_extension": ".py",
   "mimetype": "text/x-python",
   "name": "python",
   "nbconvert_exporter": "python",
   "pygments_lexer": "ipython3",
   "version": "3.4.4"
  }
 },
 "nbformat": 4,
 "nbformat_minor": 0
}
