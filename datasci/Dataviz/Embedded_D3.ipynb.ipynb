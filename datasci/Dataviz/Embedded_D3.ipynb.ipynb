{
 "cells": [
  {
   "cell_type": "markdown",
   "metadata": {},
   "source": [
    "# Basic D3 Visualization\n",
    "\n",
    "Step 1: Make some chartable data"
   ]
  },
  {
   "cell_type": "code",
   "execution_count": 1,
   "metadata": {
    "collapsed": false
   },
   "outputs": [
    {
     "ename": "IOError",
     "evalue": "[Errno 2] No such file or directory: 'Charm_City_Circulator_Headways.csv'",
     "output_type": "error",
     "traceback": [
      "\u001b[1;31m---------------------------------------------------------------------------\u001b[0m",
      "\u001b[1;31mIOError\u001b[0m                                   Traceback (most recent call last)",
      "\u001b[1;32m<ipython-input-1-ff848f015854>\u001b[0m in \u001b[0;36m<module>\u001b[1;34m()\u001b[0m\n\u001b[0;32m      4\u001b[0m \u001b[1;31m#data described/found here\u001b[0m\u001b[1;33m\u001b[0m\u001b[1;33m\u001b[0m\u001b[0m\n\u001b[0;32m      5\u001b[0m \u001b[1;31m#https://data.baltimorecity.gov/browse?category=Transportation&limitTo=datasets&utf8=%E2%9C%93\u001b[0m\u001b[1;33m\u001b[0m\u001b[1;33m\u001b[0m\u001b[0m\n\u001b[1;32m----> 6\u001b[1;33m \u001b[0mheadways\u001b[0m \u001b[1;33m=\u001b[0m \u001b[0mpd\u001b[0m\u001b[1;33m.\u001b[0m\u001b[0mread_csv\u001b[0m\u001b[1;33m(\u001b[0m\u001b[0mopen\u001b[0m\u001b[1;33m(\u001b[0m\u001b[1;34m\"Charm_City_Circulator_Headways.csv\"\u001b[0m\u001b[1;33m)\u001b[0m\u001b[1;33m)\u001b[0m\u001b[1;33m\u001b[0m\u001b[0m\n\u001b[0m\u001b[0;32m      7\u001b[0m \u001b[0mridership\u001b[0m \u001b[1;33m=\u001b[0m \u001b[0mpd\u001b[0m\u001b[1;33m.\u001b[0m\u001b[0mread_csv\u001b[0m\u001b[1;33m(\u001b[0m\u001b[0mopen\u001b[0m\u001b[1;33m(\u001b[0m\u001b[1;34m\"Charm_City_Circulator_Ridership.csv\"\u001b[0m\u001b[1;33m)\u001b[0m\u001b[1;33m)\u001b[0m\u001b[1;33m\u001b[0m\u001b[0m\n\u001b[0;32m      8\u001b[0m \u001b[1;33m\u001b[0m\u001b[0m\n",
      "\u001b[1;31mIOError\u001b[0m: [Errno 2] No such file or directory: 'Charm_City_Circulator_Headways.csv'"
     ]
    }
   ],
   "source": [
    "import pandas as pd\n",
    "#oh cool! up here we process the data, but down below we visualize it! all in the same file! wow!\n",
    "\n",
    "#data described/found here\n",
    "#https://data.baltimorecity.gov/browse?category=Transportation&limitTo=datasets&utf8=%E2%9C%93\n",
    "headways = pd.read_csv(open(\"Charm_City_Circulator_Headways.csv\"))\n",
    "ridership = pd.read_csv(open(\"Charm_City_Circulator_Ridership.csv\"))\n",
    "\n",
    "def timeToFloat(timeString):\n",
    "  try:\n",
    "    minutes, seconds = timeString.split(\":\")\n",
    "  except:\n",
    "    return None\n",
    "  return float(minutes) + float(seconds)/60.\n",
    "\n",
    "headways_averages = headways[['day', 'date', 'orangeHeadway', 'purpleHeadway', 'greenHeadway']]\n",
    "ridership_averages = ridership[['day', 'date', 'orangeAverage', 'purpleAverage', 'greenAverage']]\n",
    "headways_vs_ridership = headways_averages.merge(ridership_averages)\n",
    "headways_vs_ridership.purpleHeadway = headways_vs_ridership.purpleHeadway.apply(timeToFloat)"
   ]
  },
  {
   "cell_type": "markdown",
   "metadata": {},
   "source": [
    "So here's where we actually translate the data to the frontend. I also converted the data on the frontend; you could do it in Python if you so desired."
   ]
  },
  {
   "cell_type": "code",
   "execution_count": 2,
   "metadata": {
    "collapsed": false
   },
   "outputs": [
    {
     "name": "stderr",
     "output_type": "stream",
     "text": [
      "ERROR: An unexpected error occurred while tokenizing input\n",
      "The following traceback may be corrupted or invalid\n",
      "The error message is: ('EOF in multi-line string', (1, 11))\n",
      "\n"
     ]
    },
    {
     "ename": "NameError",
     "evalue": "name 'headways_vs_ridership' is not defined",
     "output_type": "error",
     "traceback": [
      "\u001b[1;31m---------------------------------------------------------------------------\u001b[0m",
      "\u001b[1;31mNameError\u001b[0m                                 Traceback (most recent call last)",
      "\u001b[1;32m<ipython-input-2-0c4b4fd876ef>\u001b[0m in \u001b[0;36m<module>\u001b[1;34m()\u001b[0m\n\u001b[0;32m      2\u001b[0m Javascript(\"\"\"\n\u001b[0;32m      3\u001b[0m            \u001b[0mwindow\u001b[0m\u001b[1;33m.\u001b[0m\u001b[0mheadwayVsRidership\u001b[0m\u001b[1;33m=\u001b[0m\u001b[1;33m{\u001b[0m\u001b[1;33m}\u001b[0m\u001b[1;33m;\u001b[0m\u001b[1;33m\u001b[0m\u001b[0m\n\u001b[1;32m----> 4\u001b[1;33m            \"\"\".format(headways_vs_ridership.to_json()))\n\u001b[0m",
      "\u001b[1;31mNameError\u001b[0m: name 'headways_vs_ridership' is not defined"
     ]
    }
   ],
   "source": [
    "from IPython.display import Javascript\n",
    "Javascript(\"\"\"\n",
    "           window.headwayVsRidership={};\n",
    "           \"\"\".format(headways_vs_ridership.to_json()))"
   ]
  },
  {
   "cell_type": "code",
   "execution_count": 5,
   "metadata": {
    "collapsed": false
   },
   "outputs": [
    {
     "data": {
      "application/javascript": [
       "\n",
       "/*\n",
       " * As it turns out, pandas returns a dictionary with \n",
       " * the top-level keys as the column headers, and values\n",
       " * as the list of values under that column.\n",
       " * I'd recommend looking yourself.\n",
       " * This function, in JS, converts to what D3 wants.\n",
       " * Of course we could also easily do this on the python side.\n",
       " */\n",
       "function convertPlotData(data){\n",
       "  var convertedData = [];\n",
       "  //pandas gives each column the same number of\n",
       "  //objects, arbitrarily choose one to iterate over\n",
       "  for(var i in data[Object.keys(data)[0]]){\n",
       "    var convertedDatum = {};\n",
       "    for(var key in data){\n",
       "      convertedDatum[key] = data[key][i];\n",
       "    }\n",
       "    convertedData.push(convertedDatum);\n",
       "  }\n",
       "  return convertedData;\n",
       "}\n",
       "\n",
       "window.convertPlotData = convertPlotData;"
      ],
      "text/plain": [
       "<IPython.core.display.Javascript object>"
      ]
     },
     "metadata": {},
     "output_type": "display_data"
    }
   ],
   "source": [
    "%%javascript\n",
    "\n",
    "/*\n",
    " * As it turns out, pandas returns a dictionary with \n",
    " * the top-level keys as the column headers, and values\n",
    " * as the list of values under that column.\n",
    " * I'd recommend looking yourself.\n",
    " * This function, in JS, converts to what D3 wants.\n",
    " * Of course we could also easily do this on the python side.\n",
    " */\n",
    "function convertPlotData(data){\n",
    "  var convertedData = [];\n",
    "  //pandas gives each column the same number of\n",
    "  //objects, arbitrarily choose one to iterate over\n",
    "  for(var i in data[Object.keys(data)[0]]){\n",
    "    var convertedDatum = {};\n",
    "    for(var key in data){\n",
    "      convertedDatum[key] = data[key][i];\n",
    "    }\n",
    "    convertedData.push(convertedDatum);\n",
    "  }\n",
    "  return convertedData;\n",
    "}\n",
    "\n",
    "window.convertPlotData = convertPlotData;"
   ]
  },
  {
   "cell_type": "code",
   "execution_count": 6,
   "metadata": {
    "collapsed": false
   },
   "outputs": [
    {
     "data": {
      "application/javascript": [
       "require.config({\n",
       "    paths: {\n",
       "        d3: '//cdnjs.cloudflare.com/ajax/libs/d3/3.4.8/d3.min'\n",
       "    }\n",
       "});"
      ],
      "text/plain": [
       "<IPython.core.display.Javascript object>"
      ]
     },
     "metadata": {},
     "output_type": "display_data"
    }
   ],
   "source": [
    "%%javascript\n",
    "require.config({\n",
    "    paths: {\n",
    "        d3: '//cdnjs.cloudflare.com/ajax/libs/d3/3.4.8/d3.min'\n",
    "    }\n",
    "});"
   ]
  },
  {
   "cell_type": "markdown",
   "metadata": {},
   "source": [
    "And here it is! Pretty cool, right? Notably, this chart is interactive and responds to user input (tooltip).\n",
    "\n",
    "D3 presented below without comment. The point is your arbitrary visualization code will work, too!"
   ]
  },
  {
   "cell_type": "code",
   "execution_count": 7,
   "metadata": {
    "collapsed": false
   },
   "outputs": [
    {
     "data": {
      "application/javascript": [
       "require(['d3'], function(d3){\n",
       "  //a weird idempotency thing\n",
       "  $(\"#chart1\").remove();\n",
       "  //create canvas\n",
       "  element.append(\"<div id='chart1'></div>\");\n",
       "  $(\"#chart1\").width(\"960px\");\n",
       "  $(\"#chart1\").height(\"600px\");        \n",
       "  var margin = {top: 20, right: 20, bottom: 30, left: 40};\n",
       "  var width = 880 - margin.left - margin.right;\n",
       "  var height = 500 - margin.top - margin.bottom;\n",
       "  var svg = d3.select(\"#chart1\").append(\"svg\")\n",
       "    .style(\"position\", \"relative\")\n",
       "    .style(\"max-width\", \"960px\")\n",
       "    .attr(\"width\", width + \"px\")\n",
       "    .attr(\"height\", (height + 50) + \"px\")\n",
       "    .append(\"g\")\n",
       "    .attr(\"transform\", \"translate(\" + margin.left + \",\" + margin.top + \")\");\n",
       "  \n",
       "  //set data\n",
       "  var data = convertPlotData(window.headwayVsRidership);\n",
       "  var xVals = function(d){return d.purpleHeadway;};\n",
       "  var yVals = function(d){return d.purpleAverage;};\n",
       "  \n",
       "  var xScale = d3.scale.linear().range([0, width]);\n",
       "  var xAxis = d3.svg.axis().scale(xScale).orient(\"bottom\");\n",
       "  var xMap = function(d) { return xScale(xVals(d));};\n",
       "      \n",
       "  var yScale = d3.scale.linear().range([height, 0]);\n",
       "  var yAxis = d3.svg.axis().scale(yScale).orient(\"left\");\n",
       "  var yMap = function(d) { return yScale(yVals(d));};\n",
       "  xScale.domain([d3.min(data, xVals)-1, d3.max(data, xVals)+1]);\n",
       "  yScale.domain([d3.min(data, yVals)-1, d3.max(data, yVals)+1]);\n",
       "\n",
       "  \n",
       "  var cValue = function(d) { \n",
       "    if(d.day == \"Saturday\" || d.day == \"Sunday\"){\n",
       "        return \"Weekend\";\n",
       "    }\n",
       "    return \"Weekday\";\n",
       "  }\n",
       "  var color = d3.scale.category10(); \n",
       "  \n",
       "  // x-axis\n",
       "  svg.append(\"g\")\n",
       "      .attr(\"class\", \"x axis\")\n",
       "      .attr(\"transform\", \"translate(0,\" + height + \")\")\n",
       "      .call(xAxis)\n",
       "    .append(\"text\")\n",
       "      .attr(\"class\", \"label\")\n",
       "      .attr(\"x\", width - 80)\n",
       "      .attr(\"y\", -15)\n",
       "      .style(\"text-anchor\", \"end\")\n",
       "      .text(\"Average Headway\");\n",
       "\n",
       "  // y-axis\n",
       "  svg.append(\"g\")\n",
       "      .attr(\"class\", \"y axis\")\n",
       "      .call(yAxis)\n",
       "    .append(\"text\")\n",
       "      .attr(\"class\", \"label\")\n",
       "      .attr(\"transform\", \"rotate(-90)\")\n",
       "      .attr(\"y\", 0)\n",
       "      .attr(\"dy\", \"1em\")\n",
       "      .style(\"text-anchor\", \"end\")\n",
       "      .text(\"Average Riders\");\n",
       "\n",
       "  //NEW: TOOLTIP. \n",
       "  var tooltip = d3.select(\"body\").append(\"div\")\n",
       "    .attr(\"class\", \"tooltip\")\n",
       "    .style(\"opacity\", 0)\n",
       "    .style(\"background-color\", \"white\");\n",
       " \n",
       "  svg.selectAll(\".dot\")\n",
       "     .data(data)\n",
       "     .enter().append(\"circle\")\n",
       "     .attr(\"class\", \"dot\")\n",
       "     .attr(\"r\", 3.5)\n",
       "     .attr(\"cx\", xMap)\n",
       "     .attr(\"cy\", yMap)\n",
       "     .style(\"fill\", function(d) { return color(cValue(d));}) //D3 does the magic! \n",
       "     .on(\"mouseover\", function(d) { //much like jquery, an event listener\n",
       "         tooltip.transition()\n",
       "                .duration(200)\n",
       "                .style(\"opacity\", .9);\n",
       "         tooltip.html(d[\"day\"] + \" : \" + d['date'])\n",
       "               .style(\"left\", (d3.event.pageX + 5) + \"px\")\n",
       "               .style(\"top\", (d3.event.pageY - 28) + \"px\");\n",
       "      })\n",
       "      .on(\"mouseout\", function(d) {\n",
       "          tooltip.transition()\n",
       "               .duration(500)\n",
       "               .style(\"opacity\", 0);\n",
       "      });\n",
       "    \n",
       "  var legend = svg.selectAll(\".legend\")\n",
       "      .data(color.domain()) //stores the color <-> label mappings\n",
       "      .enter().append(\"g\")\n",
       "      .attr(\"class\", \"legend\")\n",
       "      .attr(\"transform\", function(d, i) { return \"translate(0,\" + i * 20 + \")\"; });\n",
       "\n",
       "  legend.append(\"rect\")\n",
       "      .attr(\"x\", width - 60)\n",
       "      .attr(\"width\", 18)\n",
       "      .attr(\"height\", 18)\n",
       "      .style(\"fill\", color);\n",
       "\n",
       "  legend.append(\"text\")\n",
       "      .attr(\"x\", width - 70)\n",
       "      .attr(\"y\", 9)\n",
       "      .attr(\"dy\", \".35em\")\n",
       "      .style(\"text-anchor\", \"end\")\n",
       "      .text(function(d) { return d;})\n",
       "\n",
       "});"
      ],
      "text/plain": [
       "<IPython.core.display.Javascript object>"
      ]
     },
     "metadata": {},
     "output_type": "display_data"
    }
   ],
   "source": [
    "%%javascript\n",
    "require(['d3'], function(d3){\n",
    "  //a weird idempotency thing\n",
    "  $(\"#chart1\").remove();\n",
    "  //create canvas\n",
    "  element.append(\"<div id='chart1'></div>\");\n",
    "  $(\"#chart1\").width(\"960px\");\n",
    "  $(\"#chart1\").height(\"600px\");        \n",
    "  var margin = {top: 20, right: 20, bottom: 30, left: 40};\n",
    "  var width = 880 - margin.left - margin.right;\n",
    "  var height = 500 - margin.top - margin.bottom;\n",
    "  var svg = d3.select(\"#chart1\").append(\"svg\")\n",
    "    .style(\"position\", \"relative\")\n",
    "    .style(\"max-width\", \"960px\")\n",
    "    .attr(\"width\", width + \"px\")\n",
    "    .attr(\"height\", (height + 50) + \"px\")\n",
    "    .append(\"g\")\n",
    "    .attr(\"transform\", \"translate(\" + margin.left + \",\" + margin.top + \")\");\n",
    "  \n",
    "  //set data\n",
    "  var data = convertPlotData(window.headwayVsRidership);\n",
    "  var xVals = function(d){return d.purpleHeadway;};\n",
    "  var yVals = function(d){return d.purpleAverage;};\n",
    "  \n",
    "  var xScale = d3.scale.linear().range([0, width]);\n",
    "  var xAxis = d3.svg.axis().scale(xScale).orient(\"bottom\");\n",
    "  var xMap = function(d) { return xScale(xVals(d));};\n",
    "      \n",
    "  var yScale = d3.scale.linear().range([height, 0]);\n",
    "  var yAxis = d3.svg.axis().scale(yScale).orient(\"left\");\n",
    "  var yMap = function(d) { return yScale(yVals(d));};\n",
    "  xScale.domain([d3.min(data, xVals)-1, d3.max(data, xVals)+1]);\n",
    "  yScale.domain([d3.min(data, yVals)-1, d3.max(data, yVals)+1]);\n",
    "\n",
    "  \n",
    "  var cValue = function(d) { \n",
    "    if(d.day == \"Saturday\" || d.day == \"Sunday\"){\n",
    "        return \"Weekend\";\n",
    "    }\n",
    "    return \"Weekday\";\n",
    "  }\n",
    "  var color = d3.scale.category10(); \n",
    "  \n",
    "  // x-axis\n",
    "  svg.append(\"g\")\n",
    "      .attr(\"class\", \"x axis\")\n",
    "      .attr(\"transform\", \"translate(0,\" + height + \")\")\n",
    "      .call(xAxis)\n",
    "    .append(\"text\")\n",
    "      .attr(\"class\", \"label\")\n",
    "      .attr(\"x\", width - 80)\n",
    "      .attr(\"y\", -15)\n",
    "      .style(\"text-anchor\", \"end\")\n",
    "      .text(\"Average Headway\");\n",
    "\n",
    "  // y-axis\n",
    "  svg.append(\"g\")\n",
    "      .attr(\"class\", \"y axis\")\n",
    "      .call(yAxis)\n",
    "    .append(\"text\")\n",
    "      .attr(\"class\", \"label\")\n",
    "      .attr(\"transform\", \"rotate(-90)\")\n",
    "      .attr(\"y\", 0)\n",
    "      .attr(\"dy\", \"1em\")\n",
    "      .style(\"text-anchor\", \"end\")\n",
    "      .text(\"Average Riders\");\n",
    "\n",
    "  //NEW: TOOLTIP. \n",
    "  var tooltip = d3.select(\"body\").append(\"div\")\n",
    "    .attr(\"class\", \"tooltip\")\n",
    "    .style(\"opacity\", 0)\n",
    "    .style(\"background-color\", \"white\");\n",
    " \n",
    "  svg.selectAll(\".dot\")\n",
    "     .data(data)\n",
    "     .enter().append(\"circle\")\n",
    "     .attr(\"class\", \"dot\")\n",
    "     .attr(\"r\", 3.5)\n",
    "     .attr(\"cx\", xMap)\n",
    "     .attr(\"cy\", yMap)\n",
    "     .style(\"fill\", function(d) { return color(cValue(d));}) //D3 does the magic! \n",
    "     .on(\"mouseover\", function(d) { //much like jquery, an event listener\n",
    "         tooltip.transition()\n",
    "                .duration(200)\n",
    "                .style(\"opacity\", .9);\n",
    "         tooltip.html(d[\"day\"] + \" : \" + d['date'])\n",
    "               .style(\"left\", (d3.event.pageX + 5) + \"px\")\n",
    "               .style(\"top\", (d3.event.pageY - 28) + \"px\");\n",
    "      })\n",
    "      .on(\"mouseout\", function(d) {\n",
    "          tooltip.transition()\n",
    "               .duration(500)\n",
    "               .style(\"opacity\", 0);\n",
    "      });\n",
    "    \n",
    "  var legend = svg.selectAll(\".legend\")\n",
    "      .data(color.domain()) //stores the color <-> label mappings\n",
    "      .enter().append(\"g\")\n",
    "      .attr(\"class\", \"legend\")\n",
    "      .attr(\"transform\", function(d, i) { return \"translate(0,\" + i * 20 + \")\"; });\n",
    "\n",
    "  legend.append(\"rect\")\n",
    "      .attr(\"x\", width - 60)\n",
    "      .attr(\"width\", 18)\n",
    "      .attr(\"height\", 18)\n",
    "      .style(\"fill\", color);\n",
    "\n",
    "  legend.append(\"text\")\n",
    "      .attr(\"x\", width - 70)\n",
    "      .attr(\"y\", 9)\n",
    "      .attr(\"dy\", \".35em\")\n",
    "      .style(\"text-anchor\", \"end\")\n",
    "      .text(function(d) { return d;})\n",
    "\n",
    "});"
   ]
  },
  {
   "cell_type": "code",
   "execution_count": null,
   "metadata": {
    "collapsed": true
   },
   "outputs": [],
   "source": []
  },
  {
   "cell_type": "code",
   "execution_count": null,
   "metadata": {
    "collapsed": true
   },
   "outputs": [],
   "source": []
  },
  {
   "cell_type": "code",
   "execution_count": null,
   "metadata": {
    "collapsed": true
   },
   "outputs": [],
   "source": []
  }
 ],
 "metadata": {
  "kernelspec": {
   "display_name": "Python 2",
   "language": "python",
   "name": "python2"
  },
  "language_info": {
   "codemirror_mode": {
    "name": "ipython",
    "version": 2
   },
   "file_extension": ".py",
   "mimetype": "text/x-python",
   "name": "python",
   "nbconvert_exporter": "python",
   "pygments_lexer": "ipython2",
   "version": "2.7.11"
  }
 },
 "nbformat": 4,
 "nbformat_minor": 0
}
