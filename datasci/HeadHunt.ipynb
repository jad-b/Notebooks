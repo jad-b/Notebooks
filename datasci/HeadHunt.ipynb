{
 "cells": [
  {
   "cell_type": "markdown",
   "metadata": {},
   "source": [
    "# HeadHunt\n",
    "\n",
    "We're going to teach a program what kinds of jobs we like, using labeled Gmail messages as a training source.\n",
    "\n",
    "The workflow looks like this:\n",
    "\n",
    "1. Data Acquisition\n",
    "    1. Authorize w/ Gmail\n",
    "    1. Lookup IDs of labels\n",
    "    1. Get list of message IDs by label ID\n",
    "    1. Download all emails\n",
    "    1. Parse text from email\n",
    "1. Feature Extraction\n",
    "    1. Tokenize\n",
    "    1. TF-IDF\n",
    "1. Learn & Predict\n",
    "    1. Train\n",
    "    1. Cross-Validate\n",
    "    1. Visualize"
   ]
  },
  {
   "cell_type": "markdown",
   "metadata": {},
   "source": [
    "# Get Data"
   ]
  },
  {
   "cell_type": "code",
   "execution_count": 4,
   "metadata": {
    "collapsed": false
   },
   "outputs": [],
   "source": [
    "POS_LABEL = 'job-offers/yes'\n",
    "NEG_LABEL = 'job-offers-no'"
   ]
  },
  {
   "cell_type": "code",
   "execution_count": 5,
   "metadata": {
    "collapsed": false
   },
   "outputs": [
    {
     "name": "stdout",
     "output_type": "stream",
     "text": [
      "Requirement already satisfied (use --upgrade to upgrade): google-api-python-client in /opt/conda/lib/python3.5/site-packages\n",
      "Requirement already satisfied (use --upgrade to upgrade): six<2,>=1.6.1 in /opt/conda/lib/python3.5/site-packages (from google-api-python-client)\n",
      "Requirement already satisfied (use --upgrade to upgrade): oauth2client in /opt/conda/lib/python3.5/site-packages (from google-api-python-client)\n",
      "Requirement already satisfied (use --upgrade to upgrade): uritemplate<1,>=0.6 in /opt/conda/lib/python3.5/site-packages (from google-api-python-client)\n",
      "Requirement already satisfied (use --upgrade to upgrade): httplib2<1,>=0.8 in /opt/conda/lib/python3.5/site-packages (from google-api-python-client)\n",
      "Requirement already satisfied (use --upgrade to upgrade): rsa>=3.1.4 in /opt/conda/lib/python3.5/site-packages (from oauth2client->google-api-python-client)\n",
      "Requirement already satisfied (use --upgrade to upgrade): pyasn1-modules>=0.0.5 in /opt/conda/lib/python3.5/site-packages (from oauth2client->google-api-python-client)\n",
      "Requirement already satisfied (use --upgrade to upgrade): pyasn1>=0.1.7 in /opt/conda/lib/python3.5/site-packages (from oauth2client->google-api-python-client)\n",
      "Requirement already satisfied (use --upgrade to upgrade): simplejson>=2.5.0 in /opt/conda/lib/python3.5/site-packages (from uritemplate<1,>=0.6->google-api-python-client)\n"
     ]
    }
   ],
   "source": [
    "!pip install google-api-python-client"
   ]
  },
  {
   "cell_type": "code",
   "execution_count": 9,
   "metadata": {
    "collapsed": true
   },
   "outputs": [],
   "source": [
    "import argparse\n",
    "import base64\n",
    "import email\n",
    "import httplib2\n",
    "import os\n",
    "\n",
    "import oauth2client\n",
    "import pandas as pd\n",
    "from apiclient import discovery, errors\n",
    "from oauth2client import client, tools"
   ]
  },
  {
   "cell_type": "code",
   "execution_count": 44,
   "metadata": {
    "collapsed": true
   },
   "outputs": [],
   "source": [
    "def download_emails(gmail=None, df=None, labels=[]):\n",
    "    \"\"\"Retrieves emails for the user.\n",
    "    \n",
    "    Args:\n",
    "        df (pandas.DataFrame): Pre-existing data. Only non-existent emails\n",
    "            will be retrieved.\n",
    "    Returns:\n",
    "        A new DataFrame w/ downloaded emails.\n",
    "    \"\"\"\n",
    "    reqd_columns = ['id', 'labelName', 'email']\n",
    "    if df is None:\n",
    "        data = pd.DataFrame(columns=reqd_columns)\n",
    "    else:\n",
    "        assert reqd_columns in df.columns\n",
    "        data = df\n",
    "    if gmail is None:\n",
    "        gmail = build_service()  # Ctrl-Enter to save verification code"
   ]
  },
  {
   "cell_type": "code",
   "execution_count": 45,
   "metadata": {
    "collapsed": false
   },
   "outputs": [
    {
     "name": "stdout",
     "output_type": "stream",
     "text": [
      "Retrieving all messages with label(s) 'Label_62'\n",
      "Retrieved 39 messages\n",
      "Retrieving all messages with label(s) 'Label_60'\n",
      "Retrieved 112 messages\n"
     ]
    }
   ],
   "source": [
    "df = pd.DataFrame(columns=['id', 'labelName', 'email'])\n",
    "gmail = build_service()\n",
    "labels = [POS_LABEL, NEG_LABEL]\n",
    "# Get all labels, and build a map of label names => label IDs\n",
    "lbl_name_ids = get_label_ids(gmail, labels)\n",
    "label_ids = [lbl_name_ids[lbl] for lbl in labels]\n",
    "# Lookup message IDs associated with labels: labelName => [{message IDs, threadID}]\n",
    "messages = get_message_ids(gmail, label_ids)"
   ]
  },
  {
   "cell_type": "code",
   "execution_count": 46,
   "metadata": {
    "collapsed": false
   },
   "outputs": [
    {
     "data": {
      "text/html": [
       "<div>\n",
       "<table border=\"1\" class=\"dataframe\">\n",
       "  <thead>\n",
       "    <tr style=\"text-align: right;\">\n",
       "      <th></th>\n",
       "      <th>email</th>\n",
       "      <th>id</th>\n",
       "      <th>labelName</th>\n",
       "      <th>threadId</th>\n",
       "    </tr>\n",
       "  </thead>\n",
       "  <tbody>\n",
       "    <tr>\n",
       "      <th>0</th>\n",
       "      <td>NaN</td>\n",
       "      <td>1552c3134e732bff</td>\n",
       "      <td>Label_60</td>\n",
       "      <td>1552c3134e732bff</td>\n",
       "    </tr>\n",
       "    <tr>\n",
       "      <th>1</th>\n",
       "      <td>NaN</td>\n",
       "      <td>15507767e9b5725b</td>\n",
       "      <td>Label_60</td>\n",
       "      <td>15507767e9b5725b</td>\n",
       "    </tr>\n",
       "    <tr>\n",
       "      <th>2</th>\n",
       "      <td>NaN</td>\n",
       "      <td>154deb710bc21e40</td>\n",
       "      <td>Label_60</td>\n",
       "      <td>154deb710bc21e40</td>\n",
       "    </tr>\n",
       "    <tr>\n",
       "      <th>3</th>\n",
       "      <td>NaN</td>\n",
       "      <td>154d084eca46f99d</td>\n",
       "      <td>Label_60</td>\n",
       "      <td>154d084eca46f99d</td>\n",
       "    </tr>\n",
       "    <tr>\n",
       "      <th>4</th>\n",
       "      <td>NaN</td>\n",
       "      <td>154ce64cec2bfc18</td>\n",
       "      <td>Label_60</td>\n",
       "      <td>154ce64cec2bfc18</td>\n",
       "    </tr>\n",
       "  </tbody>\n",
       "</table>\n",
       "</div>"
      ],
      "text/plain": [
       "  email                id labelName          threadId\n",
       "0   NaN  1552c3134e732bff  Label_60  1552c3134e732bff\n",
       "1   NaN  15507767e9b5725b  Label_60  15507767e9b5725b\n",
       "2   NaN  154deb710bc21e40  Label_60  154deb710bc21e40\n",
       "3   NaN  154d084eca46f99d  Label_60  154d084eca46f99d\n",
       "4   NaN  154ce64cec2bfc18  Label_60  154ce64cec2bfc18"
      ]
     },
     "execution_count": 46,
     "metadata": {},
     "output_type": "execute_result"
    }
   ],
   "source": [
    "# Switch to using a DataFrame\n",
    "for lbl, msgs in messages.items():\n",
    "    tmpdf = pd.DataFrame(msgs)\n",
    "    tmpdf['labelName'] = lbl\n",
    "    df = df.append(tmpdf, ignore_index=True)\n",
    "df.head()"
   ]
  },
  {
   "cell_type": "code",
   "execution_count": 93,
   "metadata": {
    "collapsed": false
   },
   "outputs": [
    {
     "data": {
      "text/html": [
       "<div>\n",
       "<table border=\"1\" class=\"dataframe\">\n",
       "  <thead>\n",
       "    <tr style=\"text-align: right;\">\n",
       "      <th></th>\n",
       "      <th>email</th>\n",
       "      <th>id</th>\n",
       "      <th>labelName</th>\n",
       "      <th>threadId</th>\n",
       "      <th>text</th>\n",
       "      <th>emails</th>\n",
       "    </tr>\n",
       "  </thead>\n",
       "  <tbody>\n",
       "    <tr>\n",
       "      <th>0</th>\n",
       "      <td>{'id': '1552c3134e732bff', 'payload': {'mimeTy...</td>\n",
       "      <td>1552c3134e732bff</td>\n",
       "      <td>Label_60</td>\n",
       "      <td>1552c3134e732bff</td>\n",
       "      <td>Jeremy,\\r\\n\\r\\nI came across a copy of your re...</td>\n",
       "      <td>{'id': '1552c3134e732bff', 'payload': {'mimeTy...</td>\n",
       "    </tr>\n",
       "    <tr>\n",
       "      <th>1</th>\n",
       "      <td>{'id': '15507767e9b5725b', 'payload': {'mimeTy...</td>\n",
       "      <td>15507767e9b5725b</td>\n",
       "      <td>Label_60</td>\n",
       "      <td>15507767e9b5725b</td>\n",
       "      <td>Hello,\\n\\r\\nMy name is Naga.I am a Staffing Sp...</td>\n",
       "      <td>{'id': '15507767e9b5725b', 'payload': {'mimeTy...</td>\n",
       "    </tr>\n",
       "    <tr>\n",
       "      <th>2</th>\n",
       "      <td>{'id': '154deb710bc21e40', 'payload': {'mimeTy...</td>\n",
       "      <td>154deb710bc21e40</td>\n",
       "      <td>Label_60</td>\n",
       "      <td>154deb710bc21e40</td>\n",
       "      <td>Hi Jeremy,\\r\\n\\r\\nHope you are doing well!!\\r\\...</td>\n",
       "      <td>{'id': '154deb710bc21e40', 'payload': {'mimeTy...</td>\n",
       "    </tr>\n",
       "    <tr>\n",
       "      <th>3</th>\n",
       "      <td>{'id': '154d084eca46f99d', 'payload': {'mimeTy...</td>\n",
       "      <td>154d084eca46f99d</td>\n",
       "      <td>Label_60</td>\n",
       "      <td>154d084eca46f99d</td>\n",
       "      <td>Hello Jeremy, \\r\\nGreetings,This is Pankaj. I ...</td>\n",
       "      <td>{'id': '154d084eca46f99d', 'payload': {'mimeTy...</td>\n",
       "    </tr>\n",
       "    <tr>\n",
       "      <th>4</th>\n",
       "      <td>{'id': '154ce64cec2bfc18', 'payload': {'mimeTy...</td>\n",
       "      <td>154ce64cec2bfc18</td>\n",
       "      <td>Label_60</td>\n",
       "      <td>154ce64cec2bfc18</td>\n",
       "      <td>This is charan from Soft path System LLC. Soft...</td>\n",
       "      <td>{'id': '154ce64cec2bfc18', 'payload': {'mimeTy...</td>\n",
       "    </tr>\n",
       "  </tbody>\n",
       "</table>\n",
       "</div>"
      ],
      "text/plain": [
       "                                               email                id  \\\n",
       "0  {'id': '1552c3134e732bff', 'payload': {'mimeTy...  1552c3134e732bff   \n",
       "1  {'id': '15507767e9b5725b', 'payload': {'mimeTy...  15507767e9b5725b   \n",
       "2  {'id': '154deb710bc21e40', 'payload': {'mimeTy...  154deb710bc21e40   \n",
       "3  {'id': '154d084eca46f99d', 'payload': {'mimeTy...  154d084eca46f99d   \n",
       "4  {'id': '154ce64cec2bfc18', 'payload': {'mimeTy...  154ce64cec2bfc18   \n",
       "\n",
       "  labelName          threadId  \\\n",
       "0  Label_60  1552c3134e732bff   \n",
       "1  Label_60  15507767e9b5725b   \n",
       "2  Label_60  154deb710bc21e40   \n",
       "3  Label_60  154d084eca46f99d   \n",
       "4  Label_60  154ce64cec2bfc18   \n",
       "\n",
       "                                                text  \\\n",
       "0  Jeremy,\\r\\n\\r\\nI came across a copy of your re...   \n",
       "1  Hello,\\n\\r\\nMy name is Naga.I am a Staffing Sp...   \n",
       "2  Hi Jeremy,\\r\\n\\r\\nHope you are doing well!!\\r\\...   \n",
       "3  Hello Jeremy, \\r\\nGreetings,This is Pankaj. I ...   \n",
       "4  This is charan from Soft path System LLC. Soft...   \n",
       "\n",
       "                                              emails  \n",
       "0  {'id': '1552c3134e732bff', 'payload': {'mimeTy...  \n",
       "1  {'id': '15507767e9b5725b', 'payload': {'mimeTy...  \n",
       "2  {'id': '154deb710bc21e40', 'payload': {'mimeTy...  \n",
       "3  {'id': '154d084eca46f99d', 'payload': {'mimeTy...  \n",
       "4  {'id': '154ce64cec2bfc18', 'payload': {'mimeTy...  "
      ]
     },
     "execution_count": 93,
     "metadata": {},
     "output_type": "execute_result"
    }
   ],
   "source": [
    "# Download each missing email by ID\n",
    "def get_emails(row):\n",
    "    return get_email(gmail, row.id)\n",
    "\n",
    "# Retrieve each missing email\n",
    "df['emails'] = df.apply(get_emails, axis=1)\n",
    "df.head()"
   ]
  },
  {
   "cell_type": "code",
   "execution_count": 94,
   "metadata": {
    "collapsed": false
   },
   "outputs": [
    {
     "data": {
      "text/html": [
       "<div>\n",
       "<table border=\"1\" class=\"dataframe\">\n",
       "  <thead>\n",
       "    <tr style=\"text-align: right;\">\n",
       "      <th></th>\n",
       "      <th>email</th>\n",
       "      <th>id</th>\n",
       "      <th>labelName</th>\n",
       "      <th>threadId</th>\n",
       "      <th>text</th>\n",
       "      <th>emails</th>\n",
       "    </tr>\n",
       "  </thead>\n",
       "  <tbody>\n",
       "    <tr>\n",
       "      <th>0</th>\n",
       "      <td>{'id': '1552c3134e732bff', 'payload': {'mimeTy...</td>\n",
       "      <td>1552c3134e732bff</td>\n",
       "      <td>Label_60</td>\n",
       "      <td>1552c3134e732bff</td>\n",
       "      <td>Jeremy,\\r\\n\\r\\nI came across a copy of your re...</td>\n",
       "      <td>{'id': '1552c3134e732bff', 'payload': {'mimeTy...</td>\n",
       "    </tr>\n",
       "    <tr>\n",
       "      <th>1</th>\n",
       "      <td>{'id': '15507767e9b5725b', 'payload': {'mimeTy...</td>\n",
       "      <td>15507767e9b5725b</td>\n",
       "      <td>Label_60</td>\n",
       "      <td>15507767e9b5725b</td>\n",
       "      <td>Hello,\\n\\r\\nMy name is Naga.I am a Staffing Sp...</td>\n",
       "      <td>{'id': '15507767e9b5725b', 'payload': {'mimeTy...</td>\n",
       "    </tr>\n",
       "    <tr>\n",
       "      <th>2</th>\n",
       "      <td>{'id': '154deb710bc21e40', 'payload': {'mimeTy...</td>\n",
       "      <td>154deb710bc21e40</td>\n",
       "      <td>Label_60</td>\n",
       "      <td>154deb710bc21e40</td>\n",
       "      <td>Hi Jeremy,\\r\\n\\r\\nHope you are doing well!!\\r\\...</td>\n",
       "      <td>{'id': '154deb710bc21e40', 'payload': {'mimeTy...</td>\n",
       "    </tr>\n",
       "    <tr>\n",
       "      <th>3</th>\n",
       "      <td>{'id': '154d084eca46f99d', 'payload': {'mimeTy...</td>\n",
       "      <td>154d084eca46f99d</td>\n",
       "      <td>Label_60</td>\n",
       "      <td>154d084eca46f99d</td>\n",
       "      <td>Hello Jeremy, \\r\\nGreetings,This is Pankaj. I ...</td>\n",
       "      <td>{'id': '154d084eca46f99d', 'payload': {'mimeTy...</td>\n",
       "    </tr>\n",
       "    <tr>\n",
       "      <th>4</th>\n",
       "      <td>{'id': '154ce64cec2bfc18', 'payload': {'mimeTy...</td>\n",
       "      <td>154ce64cec2bfc18</td>\n",
       "      <td>Label_60</td>\n",
       "      <td>154ce64cec2bfc18</td>\n",
       "      <td>This is charan from Soft path System LLC. Soft...</td>\n",
       "      <td>{'id': '154ce64cec2bfc18', 'payload': {'mimeTy...</td>\n",
       "    </tr>\n",
       "  </tbody>\n",
       "</table>\n",
       "</div>"
      ],
      "text/plain": [
       "                                               email                id  \\\n",
       "0  {'id': '1552c3134e732bff', 'payload': {'mimeTy...  1552c3134e732bff   \n",
       "1  {'id': '15507767e9b5725b', 'payload': {'mimeTy...  15507767e9b5725b   \n",
       "2  {'id': '154deb710bc21e40', 'payload': {'mimeTy...  154deb710bc21e40   \n",
       "3  {'id': '154d084eca46f99d', 'payload': {'mimeTy...  154d084eca46f99d   \n",
       "4  {'id': '154ce64cec2bfc18', 'payload': {'mimeTy...  154ce64cec2bfc18   \n",
       "\n",
       "  labelName          threadId  \\\n",
       "0  Label_60  1552c3134e732bff   \n",
       "1  Label_60  15507767e9b5725b   \n",
       "2  Label_60  154deb710bc21e40   \n",
       "3  Label_60  154d084eca46f99d   \n",
       "4  Label_60  154ce64cec2bfc18   \n",
       "\n",
       "                                                text  \\\n",
       "0  Jeremy,\\r\\n\\r\\nI came across a copy of your re...   \n",
       "1  Hello,\\n\\r\\nMy name is Naga.I am a Staffing Sp...   \n",
       "2  Hi Jeremy,\\r\\n\\r\\nHope you are doing well!!\\r\\...   \n",
       "3  Hello Jeremy, \\r\\nGreetings,This is Pankaj. I ...   \n",
       "4  This is charan from Soft path System LLC. Soft...   \n",
       "\n",
       "                                              emails  \n",
       "0  {'id': '1552c3134e732bff', 'payload': {'mimeTy...  \n",
       "1  {'id': '15507767e9b5725b', 'payload': {'mimeTy...  \n",
       "2  {'id': '154deb710bc21e40', 'payload': {'mimeTy...  \n",
       "3  {'id': '154d084eca46f99d', 'payload': {'mimeTy...  \n",
       "4  {'id': '154ce64cec2bfc18', 'payload': {'mimeTy...  "
      ]
     },
     "execution_count": 94,
     "metadata": {},
     "output_type": "execute_result"
    }
   ],
   "source": [
    "def fill_in_text(row):\n",
    "    return extract_gmail_text(row.email['payload'])\n",
    "\n",
    "# Extract text from the email\n",
    "df['text'] = df.apply(fill_in_text, axis=1)\n",
    "df.head()"
   ]
  },
  {
   "cell_type": "markdown",
   "metadata": {},
   "source": [
    "## Authenticate to Gmail"
   ]
  },
  {
   "cell_type": "code",
   "execution_count": 20,
   "metadata": {
    "collapsed": false
   },
   "outputs": [],
   "source": [
    "# If modifying these scopes, delete your previously saved credentials\n",
    "# at ~/.credentials/gmail-python-quickstart.json\n",
    "SCOPES = [\n",
    "   'https://www.googleapis.com/auth/gmail.readonly',\n",
    "]\n",
    "CLIENT_SECRET_FILE = 'client_secret.json'\n",
    "APPLICATION_NAME = 'HeadHunt'\n",
    "\n",
    "\n",
    "def get_credentials(flags=None):\n",
    "    \"\"\"Gets valid user credentials from storage.\n",
    "\n",
    "    If nothing has been stored, or if the stored credentials are invalid,\n",
    "    the OAuth2 flow is completed to obtain the new credentials.\n",
    "\n",
    "    Returns:\n",
    "        Credentials, the obtained credential.\n",
    "    \"\"\"\n",
    "    home_dir = os.path.expanduser('~')\n",
    "    credential_dir = os.path.join(home_dir, '.credentials')\n",
    "    if not os.path.exists(credential_dir):\n",
    "        os.makedirs(credential_dir)\n",
    "    credential_path = os.path.join(credential_dir,\n",
    "                                   'gmail-python-quickstart.json')\n",
    "\n",
    "    store = oauth2client.file.Storage(credential_path)\n",
    "    credentials = store.get()\n",
    "    if not credentials or credentials.invalid:\n",
    "        flow = client.flow_from_clientsecrets(CLIENT_SECRET_FILE, SCOPES)\n",
    "        flow.user_agent = APPLICATION_NAME\n",
    "        if flags:\n",
    "            credentials = tools.run_flow(flow, store, flags)\n",
    "        else: # Needed only for compatibility with Python 2.6\n",
    "            credentials = tools.run(flow, store)\n",
    "        print('Storing credentials to ' + credential_path)\n",
    "    return credentials\n",
    "\n",
    "\n",
    "def build_service():\n",
    "    \"\"\"Shows basic usage of the Gmail API.\n",
    "\n",
    "    Creates a Gmail API service object and outputs a list of label names\n",
    "    of the user's Gmail account.\n",
    "    \"\"\"\n",
    "    flags = argparse.ArgumentParser(parents=[tools.argparser]).parse_args([\n",
    "        '--noauth_local_webserver'\n",
    "    ])\n",
    "    credentials = get_credentials(flags)\n",
    "    http = credentials.authorize(httplib2.Http())\n",
    "    service = discovery.build('gmail', 'v1', http=http)\n",
    "    return service"
   ]
  },
  {
   "cell_type": "markdown",
   "metadata": {},
   "source": [
    "## Download Email"
   ]
  },
  {
   "cell_type": "code",
   "execution_count": 96,
   "metadata": {
    "collapsed": false
   },
   "outputs": [],
   "source": [
    "# Convert our human-readable labels into Gmail's underlying label IDs\n",
    "def get_label_ids(gmail, labels=[], user_id='me'):\n",
    "    \"\"\"Retrieve the label ID for each label.\"\"\"\n",
    "    try:\n",
    "        response = gmail.users().labels().list(userId=user_id).execute()\n",
    "        return {lbl['name']: lbl['id'] for lbl in response['labels'] if lbl['name'] in labels}\n",
    "    except errors.HttpError as e:\n",
    "        return None\n",
    "\n",
    "    \n",
    "# Retrieve all messages under each label\n",
    "def get_message_ids(gmail, labels=[], user_id='me'):\n",
    "    d = {}\n",
    "    for label in labels:\n",
    "        print(\"Retrieving all messages with label(s) '{}'\".format(label))\n",
    "        try:\n",
    "            response = gmail.users().messages().list(userId=user_id,\n",
    "                                                     labelIds=[label]).execute()\n",
    "            d[label] = []\n",
    "            if 'messages' in response:\n",
    "                d[label].extend(response['messages'])\n",
    "\n",
    "            while 'nextPageToken' in response:\n",
    "                page_token = response['nextPageToken']\n",
    "                response = gmail.users().messages().list(userId=user_id,\n",
    "                                                         labelIds=[label],\n",
    "                                                         pageToken=page_token).execute()\n",
    "                d[label].extend(response['messages'])\n",
    "            print(\"Retrieved {:d} messages\".format(len(d[label])))\n",
    "        except errors.HttpError as e:\n",
    "            print(\"Error: \", e)\n",
    "            return None\n",
    "    return d\n",
    "\n",
    "\n",
    "def get_email(gmail, msg_id, format='full', user_id='me'):\n",
    "    \"\"\"Download an email in Google's pre-hierarchied format.\n",
    "    \n",
    "    https://developers.google.com/gmail/api/v1/reference/users/messages/get\n",
    "    \n",
    "    Returns:\n",
    "        https://developers.google.com/gmail/api/v1/reference/users/messages\n",
    "    \"\"\"\n",
    "    msg = gmail.users().messages().get(\n",
    "        userId=user_id, id=msg_id, format=format\n",
    "    ).execute()\n",
    "    # Convert raw emails into Python objects\n",
    "    if format == 'raw':\n",
    "        msg_str = base64.urlsafe_b64decode(msg['raw']).decode()  \n",
    "        return email.message_from_string(msg_str)\n",
    "    return msg\n",
    "\n",
    "\n",
    "def extract_by_mimetype(msg, mimetype='text/plain'):\n",
    "    \"\"\"Pull the first text/plain message part out of the email.\"\"\"\n",
    "    for part in msg.walk():\n",
    "        if part.get_content_type() == mimetype:\n",
    "            return part.get_payload(decode=True)"
   ]
  },
  {
   "cell_type": "markdown",
   "metadata": {},
   "source": [
    "## Process Text from Emails"
   ]
  },
  {
   "cell_type": "code",
   "execution_count": 62,
   "metadata": {
    "collapsed": true
   },
   "outputs": [],
   "source": [
    "from bs4 import BeautifulSoup"
   ]
  },
  {
   "cell_type": "code",
   "execution_count": 63,
   "metadata": {
    "collapsed": false
   },
   "outputs": [],
   "source": [
    "def walk(val, level=0, leaves=True):\n",
    "    \"\"\"Walk a structure made of a dicts/lists.\"\"\"\n",
    "    if isinstance(val, dict):\n",
    "        for k, v in sorted(val.items()):\n",
    "            yield k, level\n",
    "            yield from walk(v, level + 1, leaves=leaves)\n",
    "    elif isinstance(val, list):\n",
    "        for item in val:\n",
    "\n",
    "            yield from walk(item, level + 1, leaves=leaves)\n",
    "    elif leaves:\n",
    "        yield val, level\n",
    "\n",
    "        \n",
    "def tree(struct, filtr=''):\n",
    "    gen = walk(struct)\n",
    "    for key, lvl in gen:\n",
    "        if key in filtr:\n",
    "            yield next(gen) "
   ]
  },
  {
   "cell_type": "code",
   "execution_count": 64,
   "metadata": {
    "collapsed": false
   },
   "outputs": [],
   "source": [
    "def extract_gmail_text(payload):\n",
    "    \"\"\"Parse the *most likely* source of human-readable text from \n",
    "    the email.\n",
    "    \n",
    "    \"Most likely\" uses the following search along the MIME types of \n",
    "    messages parts:\n",
    "        * text/plain, which is base64 decoded.\n",
    "        * text/html, which is base64 decoded and then\n",
    "          parsed for text elements.\n",
    "    \"\"\"\n",
    "    if payload['mimeType'] == 'text/plain':\n",
    "        return base64.urlsafe_b64decode(payload['body']['data']).decode()\n",
    "    if payload['mimeType'] == 'text/html':\n",
    "        return parse_html_email(payload['body']['data'])\n",
    "    # Else, recurse\n",
    "    for part in payload.get('parts', []):\n",
    "        return extract_gmail_text(part)\n",
    "\n",
    "\n",
    "def parse_html_email(data):\n",
    "    \"\"\"Parse a text/html Email message part.\"\"\"\n",
    "    text = base64.urlsafe_b64decode(data).decode()\n",
    "    soup = BeautifulSoup(text, 'html.parser')\n",
    "    return soup.get_text()"
   ]
  }
 ],
 "metadata": {
  "kernelspec": {
   "display_name": "Python 3",
   "language": "python",
   "name": "python3"
  },
  "language_info": {
   "codemirror_mode": {
    "name": "ipython",
    "version": 3
   },
   "file_extension": ".py",
   "mimetype": "text/x-python",
   "name": "python",
   "nbconvert_exporter": "python",
   "pygments_lexer": "ipython3",
   "version": "3.5.1"
  },
  "widgets": {
   "state": {},
   "version": "1.1.1"
  }
 },
 "nbformat": 4,
 "nbformat_minor": 0
}
