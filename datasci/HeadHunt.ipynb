{
 "cells": [
  {
   "cell_type": "markdown",
   "metadata": {},
   "source": [
    "# HeadHunt\n",
    "\n",
    "We're going to teach a program what kinds of jobs we like, using labeled Gmail messages as a training source.\n",
    "\n",
    "Suggested fields:\n",
    "timestamp type source raw text label"
   ]
  },
  {
   "cell_type": "markdown",
   "metadata": {},
   "source": [
    "# Where was I?"
   ]
  },
  {
   "cell_type": "code",
   "execution_count": null,
   "metadata": {
    "collapsed": false
   },
   "outputs": [],
   "source": [
    "import pickle \n",
    "import sys\n",
    "\n",
    "MATCHWELL = '../matchwell'\n",
    "if MATCHWELL not in sys.path:\n",
    "    sys.path.insert(0, MATCHWELL)\n",
    "\n",
    "import pandas as pd\n",
    "%load_ext autoreload\n",
    "%autoreload 2\n",
    "from matchwell import models, gmail\n",
    "\n",
    "# Constants\n",
    "POS_LABEL = 'job-offers/yes'\n",
    "NEG_LABEL = 'job-offers-no'\n",
    "DATAFILE = './dataframe.h5'\n",
    "CLASSIFIER = './text_pipeline.pkl'"
   ]
  },
  {
   "cell_type": "code",
   "execution_count": null,
   "metadata": {
    "collapsed": true
   },
   "outputs": [],
   "source": [
    "# Load DataFrame\n",
    "with open(DATAFILE) as f:\n",
    "    df = pd.read_hdf(DATAFILE) "
   ]
  },
  {
   "cell_type": "code",
   "execution_count": null,
   "metadata": {
    "collapsed": false
   },
   "outputs": [],
   "source": [
    "# Load classifier\n",
    "clf = models.load_model(CLASSIFIER)\n",
    "\n",
    "gml = gmail.Gmail().connect()"
   ]
  },
  {
   "cell_type": "code",
   "execution_count": null,
   "metadata": {
    "collapsed": false
   },
   "outputs": [],
   "source": [
    "!ls -lh"
   ]
  }
 ],
 "metadata": {
  "kernelspec": {
   "display_name": "Python 3",
   "language": "python",
   "name": "python3"
  },
  "language_info": {
   "codemirror_mode": {
    "name": "ipython",
    "version": 3
   },
   "file_extension": ".py",
   "mimetype": "text/x-python",
   "name": "python",
   "nbconvert_exporter": "python",
   "pygments_lexer": "ipython3",
   "version": "3.5.1"
  },
  "widgets": {
   "state": {},
   "version": "1.1.1"
  }
 },
 "nbformat": 4,
 "nbformat_minor": 0
}
