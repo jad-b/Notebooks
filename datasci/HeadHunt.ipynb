{
 "cells": [
  {
   "cell_type": "markdown",
   "metadata": {},
   "source": [
    "# HeadHunt\n",
    "\n",
    "We're going to teach a program what kinds of jobs we like, using labeled Gmail messages as a training source.\n",
    "\n",
    "Suggested fields:\n",
    "timestamp type source raw text label"
   ]
  },
  {
   "cell_type": "markdown",
   "metadata": {},
   "source": [
    "# Where was I?"
   ]
  },
  {
   "cell_type": "markdown",
   "metadata": {},
   "source": [
    "To recap, we have:\n",
    "\n",
    "* Downloaded _all_ of our emails, w/ their labels included\n",
    "* Extracted their underlying text, for use as a Bag of Words\n",
    "* Classified good job offers from bad job offers\n",
    "\n",
    "Now, our challenge is to:\n",
    "\n",
    "* Classify what whether something _is_ a job offer\n",
    "* If it is, run it through the job-offer classifier to decide whether it's a good or bad offer.\n",
    "\n",
    "To accomplish the first, we simply need an boolean index into our \n",
    "dataset that says whether something is a job-offer (True) or \n",
    "not (False). The challenge is our labels live as a list inside the downloaded Gmail Message resource, and we'd need to perform a boolean `contains` operation on each message. We could formalize our problem as:\n",
    "\n",
    "    ???\n",
    "    \n",
    "The second is a bit easier to solve. We have a tree of labels, starting with a root of no label at all. Each non-leaf node of the tree will have an associated classifier, which assigns likelihoods to each of its children. We then simply have to run `predict` at each level of the tree, and follow the most likely path(s)."
   ]
  },
  {
   "cell_type": "code",
   "execution_count": 112,
   "metadata": {
    "collapsed": false
   },
   "outputs": [
    {
     "name": "stdout",
     "output_type": "stream",
     "text": [
      "The autoreload extension is already loaded. To reload it, use:\n",
      "  %reload_ext autoreload\n",
      "Loaded 13950 samples\n"
     ]
    }
   ],
   "source": [
    "%matplotlib inline\n",
    "import pickle \n",
    "import sys\n",
    "\n",
    "MATCHWELL = '../matchwell'\n",
    "if MATCHWELL not in sys.path:\n",
    "    sys.path.insert(0, MATCHWELL)\n",
    "\n",
    "import pandas as pd\n",
    "%load_ext autoreload\n",
    "%autoreload 2\n",
    "from matchwell import models, gmail, measure, util\n",
    "from importlib import reload\n",
    "\n",
    "\n",
    "# Constants\n",
    "POS_LABEL = 'job-offers/yes'\n",
    "NEG_LABEL = 'job-offers/no'\n",
    "DATAFILE = './matchwell.h5'\n",
    "\n",
    "# Load DataFrame; 'all' or 'emails' are the choices\n",
    "# all: The full set of downloaded emails & text messages\n",
    "# emails: A pre-processed set of emails for training\n",
    "df = pd.read_hdf(DATAFILE, 'emails') \n",
    "\n",
    "print(\"Loaded %d samples\" % len(df))"
   ]
  },
  {
   "cell_type": "code",
   "execution_count": 118,
   "metadata": {
    "collapsed": false
   },
   "outputs": [
    {
     "name": "stdout",
     "output_type": "stream",
     "text": [
      "Retrieving messages newer than 2016/06/29\n",
      "Retrieving messages newer than after:2016/06/29\n",
      "Retrieving messages with *any* label\n",
      "Retrieved 103 message IDs in 0.022 seconds\n",
      "Downloaded 100 emails\n",
      "Retrieved another 103 message IDs in 0.006 seconds\n",
      "Downloaded 100 emails\n",
      "Retrieved another 103 message IDs in 0.007 seconds\n",
      "Downloaded 100 emails\n",
      "Retrieved another 103 message IDs in 0.006 seconds\n",
      "Downloaded 100 emails\n",
      "Retrieved another 103 message IDs in 0.004 seconds\n",
      "Downloaded 100 emails\n",
      "Retrieved another 103 message IDs in 0.005 seconds\n",
      "Downloaded 100 emails\n",
      "Retrieved another 103 message IDs in 0.006 seconds\n",
      "Downloaded 100 emails\n",
      "Retrieved another 103 message IDs in 0.010 seconds\n",
      "Downloaded 100 emails\n",
      "Retrieved another 103 message IDs in 0.005 seconds\n",
      "Downloaded 100 emails\n",
      "Retrieved another 72 message IDs in 0.009 seconds\n",
      "Downloaded 72 emails\n",
      "Retrieved 999 total message IDs in 4.777 seconds\n"
     ]
    }
   ],
   "source": [
    "# from importlib import reload\n",
    "# reload(gmail)\n",
    "# Update\n",
    "gs = gmail.GmailSource()\n",
    "# msgs = gs._extract(query='after:' + util.newest(df, format=True))\n",
    "ndf = gs.pull(newer_than=util.newest(df, format=True))"
   ]
  },
  {
   "cell_type": "code",
   "execution_count": 123,
   "metadata": {
    "collapsed": false
   },
   "outputs": [],
   "source": [
    "mergedf = pd.concat([df, ndf])\n",
    "assert len(mergedf) == len(df) + len(ndf)"
   ]
  },
  {
   "cell_type": "code",
   "execution_count": null,
   "metadata": {
    "collapsed": true
   },
   "outputs": [],
   "source": [
    "# Save\n",
    "# df.to_hdf(DATAFILE, 'emails')"
   ]
  },
  {
   "cell_type": "code",
   "execution_count": 22,
   "metadata": {
    "collapsed": false
   },
   "outputs": [
    {
     "ename": "NameError",
     "evalue": "name 'table' is not defined",
     "output_type": "error",
     "traceback": [
      "\u001b[1;31m\u001b[0m",
      "\u001b[1;31mNameError\u001b[0mTraceback (most recent call last)",
      "\u001b[1;32m<ipython-input-22-18a10cc3ae35>\u001b[0m in \u001b[0;36m<module>\u001b[1;34m()\u001b[0m\n\u001b[1;32m----> 1\u001b[1;33m \u001b[0mtable\u001b[0m\u001b[1;33m.\u001b[0m\u001b[0mload\u001b[0m\u001b[1;33m(\u001b[0m\u001b[1;34m'./matchwell.h5'\u001b[0m\u001b[1;33m,\u001b[0m \u001b[1;34m'emails'\u001b[0m\u001b[1;33m)\u001b[0m\u001b[1;33m\u001b[0m\u001b[0m\n\u001b[0m",
      "\u001b[1;31mNameError\u001b[0m: name 'table' is not defined"
     ]
    }
   ],
   "source": [
    "X, y = df['text'], df['labels']"
   ]
  }
 ],
 "metadata": {
  "kernelspec": {
   "display_name": "Python 3",
   "language": "python",
   "name": "python3"
  },
  "language_info": {
   "codemirror_mode": {
    "name": "ipython",
    "version": 3
   },
   "file_extension": ".py",
   "mimetype": "text/x-python",
   "name": "python",
   "nbconvert_exporter": "python",
   "pygments_lexer": "ipython3",
   "version": "3.5.1"
  },
  "widgets": {
   "state": {},
   "version": "1.1.2"
  }
 },
 "nbformat": 4,
 "nbformat_minor": 0
}
