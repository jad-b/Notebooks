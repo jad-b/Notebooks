{
 "cells": [
  {
   "cell_type": "code",
   "execution_count": 3,
   "metadata": {
    "collapsed": false
   },
   "outputs": [
    {
     "name": "stdout",
     "output_type": "stream",
     "text": [
      "Requirement already satisfied (use --upgrade to upgrade): google-api-python-client in /opt/conda/lib/python3.5/site-packages\n",
      "Requirement already satisfied (use --upgrade to upgrade): six<2,>=1.6.1 in /opt/conda/lib/python3.5/site-packages (from google-api-python-client)\n",
      "Requirement already satisfied (use --upgrade to upgrade): oauth2client in /opt/conda/lib/python3.5/site-packages (from google-api-python-client)\n",
      "Requirement already satisfied (use --upgrade to upgrade): uritemplate<1,>=0.6 in /opt/conda/lib/python3.5/site-packages (from google-api-python-client)\n",
      "Requirement already satisfied (use --upgrade to upgrade): httplib2<1,>=0.8 in /opt/conda/lib/python3.5/site-packages (from google-api-python-client)\n",
      "Requirement already satisfied (use --upgrade to upgrade): pyasn1-modules>=0.0.5 in /opt/conda/lib/python3.5/site-packages (from oauth2client->google-api-python-client)\n",
      "Requirement already satisfied (use --upgrade to upgrade): rsa>=3.1.4 in /opt/conda/lib/python3.5/site-packages (from oauth2client->google-api-python-client)\n",
      "Requirement already satisfied (use --upgrade to upgrade): pyasn1>=0.1.7 in /opt/conda/lib/python3.5/site-packages (from oauth2client->google-api-python-client)\n",
      "Requirement already satisfied (use --upgrade to upgrade): simplejson>=2.5.0 in /opt/conda/lib/python3.5/site-packages (from uritemplate<1,>=0.6->google-api-python-client)\n"
     ]
    }
   ],
   "source": [
    "!pip install google-api-python-client"
   ]
  },
  {
   "cell_type": "code",
   "execution_count": 34,
   "metadata": {
    "collapsed": false
   },
   "outputs": [],
   "source": [
    "import argparse\n",
    "import httplib2\n",
    "import os\n",
    "\n",
    "from apiclient import discovery, errors\n",
    "import oauth2client\n",
    "from oauth2client import client\n",
    "from oauth2client import tools\n",
    "\n",
    "\n",
    "# If modifying these scopes, delete your previously saved credentials\n",
    "# at ~/.credentials/gmail-python-quickstart.json\n",
    "SCOPES = [\n",
    "   'https://www.googleapis.com/auth/gmail.readonly',\n",
    "]\n",
    "CLIENT_SECRET_FILE = 'client_secret.json'\n",
    "APPLICATION_NAME = 'Gmail API Python Quickstart'\n",
    "\n",
    "\n",
    "def get_credentials(flags=None):\n",
    "    \"\"\"Gets valid user credentials from storage.\n",
    "\n",
    "    If nothing has been stored, or if the stored credentials are invalid,\n",
    "    the OAuth2 flow is completed to obtain the new credentials.\n",
    "\n",
    "    Returns:\n",
    "        Credentials, the obtained credential.\n",
    "    \"\"\"\n",
    "    home_dir = os.path.expanduser('~')\n",
    "    credential_dir = os.path.join(home_dir, '.credentials')\n",
    "    if not os.path.exists(credential_dir):\n",
    "        os.makedirs(credential_dir)\n",
    "    credential_path = os.path.join(credential_dir,\n",
    "                                   'gmail-python-quickstart.json')\n",
    "\n",
    "    store = oauth2client.file.Storage(credential_path)\n",
    "    credentials = store.get()\n",
    "    if not credentials or credentials.invalid:\n",
    "        flow = client.flow_from_clientsecrets(CLIENT_SECRET_FILE, SCOPES)\n",
    "        flow.user_agent = APPLICATION_NAME\n",
    "        if flags:\n",
    "            credentials = tools.run_flow(flow, store, flags)\n",
    "        else: # Needed only for compatibility with Python 2.6\n",
    "            credentials = tools.run(flow, store)\n",
    "        print('Storing credentials to ' + credential_path)\n",
    "    return credentials\n",
    "\n",
    "\n",
    "def build_service():\n",
    "    \"\"\"Shows basic usage of the Gmail API.\n",
    "\n",
    "    Creates a Gmail API service object and outputs a list of label names\n",
    "    of the user's Gmail account.\n",
    "    \"\"\"\n",
    "    flags = argparse.ArgumentParser(parents=[tools.argparser]).parse_args([\n",
    "        '--noauth_local_webserver'\n",
    "    ])\n",
    "    credentials = get_credentials(flags)\n",
    "    http = credentials.authorize(httplib2.Http())\n",
    "    service = discovery.build('gmail', 'v1', http=http)\n",
    "    return service"
   ]
  },
  {
   "cell_type": "code",
   "execution_count": null,
   "metadata": {
    "collapsed": true
   },
   "outputs": [],
   "source": [
    "# Run this cell, and hit Ctrl-Enter to save the verification code.\n",
    "gmail = build_service()"
   ]
  },
  {
   "cell_type": "code",
   "execution_count": 40,
   "metadata": {
    "collapsed": false
   },
   "outputs": [],
   "source": [
    "POS_LABEL = 'job-offers/yes'\n",
    "NEG_LABEL = 'job-offers-no'"
   ]
  },
  {
   "cell_type": "code",
   "execution_count": 42,
   "metadata": {
    "collapsed": false
   },
   "outputs": [
    {
     "name": "stdout",
     "output_type": "stream",
     "text": [
      "{'job-offers/yes': 'Label_62', 'job-offers-no': 'Label_60'}\n"
     ]
    }
   ],
   "source": [
    "# Convert our human-readable labels into Gmail's underlying label IDs\n",
    "def get_label_ids(gmail, labels=[], user_id='me'):\n",
    "    \"\"\"Retrieve the label ID for each label.\"\"\"\n",
    "    try:\n",
    "        response = gmail.users().labels().list(userId=user_id).execute()\n",
    "        return {lbl['name']: lbl['id'] for lbl in response['labels'] if lbl['name'] in labels}\n",
    "    except errors.HttpError as e:\n",
    "        return None\n",
    "    \n",
    "lbl_name_ids = get_label_ids(gmail, [POS_LABEL, NEG_LABEL])\n",
    "print(lbl_name_ids)"
   ]
  },
  {
   "cell_type": "code",
   "execution_count": 54,
   "metadata": {
    "collapsed": false
   },
   "outputs": [
    {
     "name": "stdout",
     "output_type": "stream",
     "text": [
      "Retrieving all messages with label(s) 'Label_62'\n",
      "Retrieved 39 messages\n",
      "Retrieving all messages with label(s) 'Label_60'\n",
      "Retrieved 112 messages\n"
     ]
    }
   ],
   "source": [
    "# Retrieve all messages under each label\n",
    "def get_messages_by_label(gmail, labels=[], user_id='me'):\n",
    "    d = {}\n",
    "    for label in labels:\n",
    "        print(\"Retrieving all messages with label(s) '{}'\".format(label))\n",
    "        try:\n",
    "            response = gmail.users().messages().list(userId=user_id,\n",
    "                                                     labelIds=[label]).execute()\n",
    "            d[label] = []\n",
    "            if 'messages' in response:\n",
    "                d[label].extend(response['messages'])\n",
    "\n",
    "            while 'nextPageToken' in response:\n",
    "                page_token = response['nextPageToken']\n",
    "                response = gmail.users().messages().list(userId=user_id,\n",
    "                                                         labelIds=[label],\n",
    "                                                         pageToken=page_token).execute()\n",
    "                d[label].extend(response['messages'])\n",
    "            print(\"Retrieved {:d} messages\".format(len(d[label])))\n",
    "        except errors.HttpError as e:\n",
    "            print(\"Error: \", e)\n",
    "            return None\n",
    "    return d\n",
    "\n",
    "label_ids = [lbl_name_ids[lbl] for lbl in [POS_LABEL, NEG_LABEL]]\n",
    "messages = get_messages_by_label(gmail, label_ids)"
   ]
  },
  {
   "cell_type": "code",
   "execution_count": 3,
   "metadata": {
    "collapsed": true
   },
   "outputs": [],
   "source": [
    "import pandas as pd"
   ]
  },
  {
   "cell_type": "code",
   "execution_count": 69,
   "metadata": {
    "collapsed": false
   },
   "outputs": [
    {
     "data": {
      "text/html": [
       "<div>\n",
       "<table border=\"1\" class=\"dataframe\">\n",
       "  <thead>\n",
       "    <tr style=\"text-align: right;\">\n",
       "      <th></th>\n",
       "      <th>id</th>\n",
       "      <th>threadId</th>\n",
       "      <th>labelName</th>\n",
       "    </tr>\n",
       "  </thead>\n",
       "  <tbody>\n",
       "    <tr>\n",
       "      <th>count</th>\n",
       "      <td>151</td>\n",
       "      <td>151</td>\n",
       "      <td>151</td>\n",
       "    </tr>\n",
       "    <tr>\n",
       "      <th>unique</th>\n",
       "      <td>151</td>\n",
       "      <td>146</td>\n",
       "      <td>2</td>\n",
       "    </tr>\n",
       "    <tr>\n",
       "      <th>top</th>\n",
       "      <td>153a9496e6a5653a</td>\n",
       "      <td>1548799c2c39ebf3</td>\n",
       "      <td>Label_60</td>\n",
       "    </tr>\n",
       "    <tr>\n",
       "      <th>freq</th>\n",
       "      <td>1</td>\n",
       "      <td>2</td>\n",
       "      <td>112</td>\n",
       "    </tr>\n",
       "  </tbody>\n",
       "</table>\n",
       "</div>"
      ],
      "text/plain": [
       "                      id          threadId labelName\n",
       "count                151               151       151\n",
       "unique               151               146         2\n",
       "top     153a9496e6a5653a  1548799c2c39ebf3  Label_60\n",
       "freq                   1                 2       112"
      ]
     },
     "execution_count": 69,
     "metadata": {},
     "output_type": "execute_result"
    }
   ],
   "source": [
    "df = pd.DataFrame()\n",
    "for lbl, msgs in messages.items():\n",
    "    tmpdf = pd.DataFrame(msgs)\n",
    "    tmpdf['labelName'] = lbl\n",
    "    df = df.append(tmpdf, ignore_index=True)\n",
    "df.describe()"
   ]
  },
  {
   "cell_type": "code",
   "execution_count": 68,
   "metadata": {
    "collapsed": false
   },
   "outputs": [
    {
     "data": {
      "text/html": [
       "<div>\n",
       "<table border=\"1\" class=\"dataframe\">\n",
       "  <thead>\n",
       "    <tr style=\"text-align: right;\">\n",
       "      <th></th>\n",
       "      <th>id</th>\n",
       "      <th>labelName</th>\n",
       "      <th>threadId</th>\n",
       "    </tr>\n",
       "  </thead>\n",
       "  <tbody>\n",
       "    <tr>\n",
       "      <th>count</th>\n",
       "      <td>151</td>\n",
       "      <td>151</td>\n",
       "      <td>151</td>\n",
       "    </tr>\n",
       "    <tr>\n",
       "      <th>unique</th>\n",
       "      <td>151</td>\n",
       "      <td>2</td>\n",
       "      <td>146</td>\n",
       "    </tr>\n",
       "    <tr>\n",
       "      <th>top</th>\n",
       "      <td>1543e010109aeaea</td>\n",
       "      <td>Label_60</td>\n",
       "      <td>154815291dd58008</td>\n",
       "    </tr>\n",
       "    <tr>\n",
       "      <th>freq</th>\n",
       "      <td>1</td>\n",
       "      <td>112</td>\n",
       "      <td>2</td>\n",
       "    </tr>\n",
       "  </tbody>\n",
       "</table>\n",
       "</div>"
      ],
      "text/plain": [
       "                      id labelName          threadId\n",
       "count                151       151               151\n",
       "unique               151         2               146\n",
       "top     1543e010109aeaea  Label_60  154815291dd58008\n",
       "freq                   1       112                 2"
      ]
     },
     "execution_count": 68,
     "metadata": {},
     "output_type": "execute_result"
    }
   ],
   "source": [
    "# Checkpoint our work\n",
    "df.to_json('emails.json')\n",
    "# Aaaand prove it saved as we expect\n",
    "tmpdf = pd.read_json('emails.json')\n",
    "tmpdf.describe()"
   ]
  },
  {
   "cell_type": "code",
   "execution_count": 298,
   "metadata": {
    "collapsed": true
   },
   "outputs": [],
   "source": [
    "import base64\n",
    "import email\n",
    "from email.iterators import _structure\n",
    "\n",
    "\n",
    "def get_email(gmail, msg_id, format='full', user_id='me'):\n",
    "    \"\"\"Download an email in Google's pre-hierarchied format.\"\"\"\n",
    "    msg = gmail.users().messages().get(\n",
    "        userId=user_id, id=msg_id, format=format\n",
    "    ).execute()\n",
    "    # Convert raw emails into Python objects\n",
    "    if format == 'raw':\n",
    "        msg_str = base64.urlsafe_b64decode(msg['raw']).decode()  \n",
    "        return email.message_from_string(msg_str)\n",
    "    return msg\n",
    "\n",
    "\n",
    "def extract_by_mimetype(msg, mimetype='text/plain'):\n",
    "    \"\"\"Pull the first text/plain message part out of the email.\"\"\"\n",
    "    for part in msg.walk():\n",
    "        if part.get_content_type() == mimetype:\n",
    "            return part.get_payload(decode=True)"
   ]
  },
  {
   "cell_type": "code",
   "execution_count": 146,
   "metadata": {
    "collapsed": true
   },
   "outputs": [],
   "source": [
    "def get_emails(row):\n",
    "    return get_email(gmail, row.id)\n",
    "\n",
    "# Retrieve each missing email\n",
    "emails = df.apply(get_emails, axis=1)\n",
    "# Add to our dataframe\n",
    "df['email'] = emails\n",
    "# Save our work\n",
    "df.to_json('emails.json')"
   ]
  },
  {
   "cell_type": "code",
   "execution_count": 296,
   "metadata": {
    "collapsed": false
   },
   "outputs": [],
   "source": [
    "def b64decode(msg):\n",
    "    return base64.urlsafe_b64decode(msg).decode()\n",
    "\n",
    "\n",
    "def extract_gmail_plaintext(payload):\n",
    "    \"\"\"Return the first text/plain payload in Gmail message.\"\"\"\n",
    "    if payload['mimeType'] == 'text/plain':\n",
    "        return b64decode(payload['body']['data'])\n",
    "    for part in payload.get('parts', []):\n",
    "        return extract_gmail_plaintext(part)"
   ]
  },
  {
   "cell_type": "code",
   "execution_count": 186,
   "metadata": {
    "collapsed": false
   },
   "outputs": [],
   "source": [
    "def get_plaintext(row):\n",
    "    return extract_gmail_plaintext(row.email['payload'])\n",
    "\n",
    "text = df.apply(get_plaintext, axis=1)"
   ]
  },
  {
   "cell_type": "code",
   "execution_count": 1,
   "metadata": {
    "collapsed": false
   },
   "outputs": [
    {
     "ename": "NameError",
     "evalue": "name 'text' is not defined",
     "output_type": "error",
     "traceback": [
      "\u001b[1;31m\u001b[0m",
      "\u001b[1;31mNameError\u001b[0mTraceback (most recent call last)",
      "\u001b[1;32m<ipython-input-1-2bffdeca4c9a>\u001b[0m in \u001b[0;36m<module>\u001b[1;34m()\u001b[0m\n\u001b[1;32m----> 1\u001b[1;33m \u001b[0mdf\u001b[0m\u001b[1;33m[\u001b[0m\u001b[1;34m'text'\u001b[0m\u001b[1;33m]\u001b[0m \u001b[1;33m=\u001b[0m \u001b[0mtext\u001b[0m\u001b[1;33m\u001b[0m\u001b[0m\n\u001b[0m\u001b[0;32m      2\u001b[0m \u001b[0mdf\u001b[0m\u001b[1;33m.\u001b[0m\u001b[0mto_json\u001b[0m\u001b[1;33m(\u001b[0m\u001b[1;34m'emails.json'\u001b[0m\u001b[1;33m)\u001b[0m\u001b[1;33m\u001b[0m\u001b[0m\n",
      "\u001b[1;31mNameError\u001b[0m: name 'text' is not defined"
     ]
    }
   ],
   "source": [
    "df['text'] = text\n",
    "df.to_json('emails.json')"
   ]
  },
  {
   "cell_type": "markdown",
   "metadata": {},
   "source": [
    "# Checkpoint!"
   ]
  },
  {
   "cell_type": "code",
   "execution_count": 7,
   "metadata": {
    "collapsed": false
   },
   "outputs": [],
   "source": [
    "df = pd.read_json('emails.json')"
   ]
  },
  {
   "cell_type": "code",
   "execution_count": 34,
   "metadata": {
    "collapsed": false
   },
   "outputs": [
    {
     "name": "stdout",
     "output_type": "stream",
     "text": [
      "text\n",
      "====\n",
      "   null: 79\n",
      "notnull: 72\n",
      "\n"
     ]
    }
   ],
   "source": [
    "def null_count(df, colname):\n",
    "    \"\"\"Report on the number of null & non-null values.\"\"\"\n",
    "    print(\"\"\"{colname}\n",
    "====\n",
    "   null: {null:d}\n",
    "notnull: {notnull:d}\n",
    "\"\"\".format(colname=colname,\n",
    "           null=df[colname].isnull().sum(),\n",
    "           notnull=df[colname].notnull().sum())\n",
    "    )\n",
    "null_count(df, 'text')"
   ]
  },
  {
   "cell_type": "code",
   "execution_count": 51,
   "metadata": {
    "collapsed": false
   },
   "outputs": [],
   "source": [
    "payload = null_text['email']['payload']"
   ]
  },
  {
   "cell_type": "code",
   "execution_count": 237,
   "metadata": {
    "collapsed": false
   },
   "outputs": [],
   "source": [
    "def walk(val, level=0, leaves=True):\n",
    "    \"\"\"Walk a structure made of a dicts/lists.\"\"\"\n",
    "    if isinstance(val, dict):\n",
    "        for k, v in sorted(val.items()):\n",
    "            yield k, level\n",
    "            yield from walk(v, level + 1, leaves=leaves)\n",
    "    elif isinstance(val, list):\n",
    "        for item in val:\n",
    "            yield from walk(item, level + 1, leaves=leaves)\n",
    "    elif leaves:\n",
    "        yield val, level"
   ]
  },
  {
   "cell_type": "code",
   "execution_count": 241,
   "metadata": {
    "collapsed": false
   },
   "outputs": [
    {
     "name": "stdout",
     "output_type": "stream",
     "text": [
      "  multipart/mixed\n",
      "      text/html\n"
     ]
    }
   ],
   "source": [
    "def tree(struct, filtr=''):\n",
    "    gen = walk(struct)\n",
    "    for key, lvl in gen:\n",
    "        if key in filtr:\n",
    "            yield next(gen) \n",
    "        \n",
    "for val, lvl in tree(payload, filtr=['mimeType']):\n",
    "    print(\"{}{}\".format(' ' * 2 * lvl, val))"
   ]
  },
  {
   "cell_type": "code",
   "execution_count": 279,
   "metadata": {
    "collapsed": false
   },
   "outputs": [],
   "source": [
    "def get_mime_types(row):\n",
    "    return ', '.join([v for v, l in tree(row.email['payload'], filtr=['mimeType'])])\n",
    "\n",
    "mts = df[df['text'].isnull()].apply(get_mime_types, axis=1)"
   ]
  },
  {
   "cell_type": "code",
   "execution_count": 316,
   "metadata": {
    "collapsed": false
   },
   "outputs": [],
   "source": [
    "def extract_gmail_text(payload):\n",
    "    \"\"\"Parse the *most likely* source of human-readable text from \n",
    "    the email.\n",
    "    \n",
    "    \"Most likely\" uses the following search along the MIME types of \n",
    "    messages parts:\n",
    "        * text/plain, which is base64 decoded.\n",
    "        * text/html, which is base64 decoded and then\n",
    "          parsed for text elements.\n",
    "    \"\"\"\n",
    "    if payload['mimeType'] == 'text/plain':\n",
    "        return b64decode(payload['body']['data'])\n",
    "    if payload['mimeType'] == 'text/html':\n",
    "        return parse_html_email(payload['body']['data'])\n",
    "    # Else, recurse\n",
    "    for part in payload.get('parts', []):\n",
    "        return extract_gmail_text(part)\n",
    "    \n",
    "\n",
    "from bs4 import BeautifulSoup\n",
    "\n",
    "\n",
    "def parse_html_email(data):\n",
    "    \"\"\"Parse a text/html Email message part.\"\"\"\n",
    "    text = b64decode(data)\n",
    "    soup = BeautifulSoup(text, 'html.parser')\n",
    "    return soup.get_text()"
   ]
  },
  {
   "cell_type": "code",
   "execution_count": 318,
   "metadata": {
    "collapsed": false
   },
   "outputs": [],
   "source": [
    "def fill_in_text(row):\n",
    "    return extract_gmail_text(row.email['payload'])\n",
    "\n",
    "texts = df[df['text'].isnull()].apply(fill_in_text, axis=1)"
   ]
  },
  {
   "cell_type": "code",
   "execution_count": 319,
   "metadata": {
    "collapsed": false
   },
   "outputs": [
    {
     "data": {
      "text/plain": [
       "1      Hello,\\n\\r\\nMy name is Naga.I am a Staffing Sp...\n",
       "10     Hi Jeremy,\\n\\nMy Medford, MA client is conduct...\n",
       "101    Greetings!\\n\\r\\nMy name is Snigdha, I am a res...\n",
       "102    Hi Jeremy,\\nHope you are doing well,\\nMy name ...\n",
       "104    \\n\\nHello Jeremy\\n\\nMy name is Jake and I'm an...\n",
       "105    \\n\\nHello Jeremy\\n\\nMy name is Gabrielle and I...\n",
       "106    \\n\\nHello Jeremy\\n\\nMy name is Arthur and I'm ...\n",
       "108    \\n\\nHello Jeremy\\n\\nMy name is Jeremy and I'm ...\n",
       "109    Hi Jeremy,\\n\\nNet2Source, Inc. is one of the f...\n",
       "11     Greetings Jeremy,\\n\\r\\nI represent Pyramid Con...\n",
       "110    \\n\\nHello Jeremy\\n\\nMy name is Bria and I'm an...\n",
       "112    \\n\\nNow’s a great time for a career change\\n\\n...\n",
       "115    Hi Jeremy,\\n\\r\\nI came across your resume. I h...\n",
       "122    My name is Fern Stasiuk and I am a Senior Sour...\n",
       "124    Hello Jeremy,\\n\\nOur Merrimack,NH client is co...\n",
       "127    Hi Jeremy,\\n\\nI came across your resume online...\n",
       "129    \\n\\nHello Jeremy\\n\\nThere is immediate need fo...\n",
       "139    Good Morning/Afternoon Jeremy,\\n\\r\\nGreetings!...\n",
       "14     Greetings Jeremy,\\n\\r\\nI represent Pyramid Con...\n",
       "141    Hi Jeremy,\\n\\nI came across your resume online...\n",
       "149     \\r\\n \\r\\nHi,\\r\\nPlease go through below descr...\n",
       "16     05/05/16 9:10 AM\\r\\nHello Jeremy,\\r\\n \\nMy nam...\n",
       "17     \\n\\n \\n \\nI am looking to hire several individ...\n",
       "18     \\n\\nHello Jeremy\\n\\nMy name is Allison and I'm...\n",
       "19     Hi ,\\r\\n \\nI came across your profile and want...\n",
       "24     Hello Jeremy,\\n\\nOur Framingham,MA client is c...\n",
       "25     \\n\\nDoes this opportunity interest you?\\n\\n\\r\\...\n",
       "26     Hello,\\r\\n \\r\\nHope you are doing great today....\n",
       "27     Hello,\\r\\n \\r\\nHope you are doing great today....\n",
       "28     \\n\\nHI Jeremy\\n\\nMy name is Jeffrey and I'm an...\n",
       "                             ...                        \n",
       "58     Greetings!\\n\\r\\nMy name is Kiran, I am a resou...\n",
       "6      My name is Fern Stasiuk and I am a Senior Sour...\n",
       "60     Good Morning/Afternoon Jeremy,\\n\\r\\nGreeting f...\n",
       "61     Hello Jeremy,\\n\\nOur Boston,MA client is condu...\n",
       "62     Hi Jeremy,\\n\\r\\nOur Medford, MA client is cond...\n",
       "64     \\n\\nHello Jeremy\\n\\nMy name is Allison and I'm...\n",
       "67     My name is Imran Ansari, I am a resource profe...\n",
       "68     Hi Jeremy,\\nI am reaching out in case you or s...\n",
       "69     \\n\\nHello Jeremy\\n\\nMy name is Allison and I'm...\n",
       "7      Hi,\\nHope you are doing Great,\\r\\n \\nMy name i...\n",
       "70     \\n\\nHello Jeremy\\n\\nMy name is Kimberly and I'...\n",
       "72     Hello Jeremy,\\n\\nOur Burlington,MA client is c...\n",
       "73     \\n\\nHello Jeremy\\n\\nMy name is Jake and I'm an...\n",
       "74     Good Morning/Afternoon Jeremy,\\n\\r\\nGreetings!...\n",
       "77     Hi Jeremy,Are you seeking a new Full Stack Dev...\n",
       "79     Hi Jeremy:\\r\\n \\r\\nI’m a technical recruiter w...\n",
       "80     Hello,\\r\\nAt least 8 plus years of experience ...\n",
       "81     Hi Jeremy,\\n\\nMy Marlborough, MA client is con...\n",
       "82     Greetings Jeremy!I am reaching out to you just...\n",
       "83     Hello Jeremy,\\r\\n \\nOur direct client based in...\n",
       "84     \\n\\nHello Jeremy\\n\\nMy name is Kimberly and I'...\n",
       "86     Good Morning/Afternoon Jeremy,\\n\\nHope u are d...\n",
       "89     Good Morning Jeremy,\\nHope u are doing great.\\...\n",
       "9      Position: Java Developer\\nLocation: Waltham, M...\n",
       "90     Hi Jeremy,Impressive background! It appears to...\n",
       "92     \\n\\nHello Jeremy\\n\\nMy name is Allison and I'm...\n",
       "93     Hi Jeremy,\\n\\nHope you are doing well,\\n\\nMy n...\n",
       "94     \\n\\nHello Jeremy\\n\\nMy name is Allison and I'm...\n",
       "95     Hi Jeremy,Impressive background! It appears to...\n",
       "99     \\r\\nMy name is Laura Robinson and I am a membe...\n",
       "dtype: object"
      ]
     },
     "execution_count": 319,
     "metadata": {},
     "output_type": "execute_result"
    }
   ],
   "source": [
    "texts"
   ]
  }
 ],
 "metadata": {
  "kernelspec": {
   "display_name": "Python 3",
   "language": "python",
   "name": "python3"
  },
  "language_info": {
   "codemirror_mode": {
    "name": "ipython",
    "version": 3
   },
   "file_extension": ".py",
   "mimetype": "text/x-python",
   "name": "python",
   "nbconvert_exporter": "python",
   "pygments_lexer": "ipython3",
   "version": "3.5.1"
  },
  "widgets": {
   "state": {},
   "version": "1.1.1"
  }
 },
 "nbformat": 4,
 "nbformat_minor": 0
}
