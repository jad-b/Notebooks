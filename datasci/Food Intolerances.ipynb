{
 "cells": [
  {
   "cell_type": "markdown",
   "metadata": {},
   "source": [
    "Bulding the perfect food tracker.\n",
    "\n",
    "* Group foods together under categories\n",
    "* When exposed to what foods (causes)\n",
    "* Symptoms (effects)"
   ]
  },
  {
   "cell_type": "code",
   "execution_count": 1,
   "metadata": {
    "collapsed": true
   },
   "outputs": [],
   "source": [
    "import pandas as pd"
   ]
  },
  {
   "cell_type": "code",
   "execution_count": 4,
   "metadata": {
    "collapsed": false
   },
   "outputs": [],
   "source": [
    "exposure = pd.DataFrame(columns=['added_on'])\n",
    "foods = pd.DataFrame(\n",
    "    columns=[\n",
    "        'artificial coloring',\n",
    "        'chicken',\n",
    "        'chocolate',\n",
    "        'corn',\n",
    "        'dairy',\n",
    "        'eggs',\n",
    "        'peanuts',\n",
    "        'pork',\n",
    "        'shellfish',\n",
    "        'soy',\n",
    "        'tomato',\n",
    "        'tree nuts',\n",
    "        'wheat',\n",
    "        'yeast',\n",
    "    ])                                 \n",
    "symptoms = pd.DataFrame(\n",
    "    columns=[\n",
    "        \n",
    "    ])"
   ]
  }
 ],
 "metadata": {
  "kernelspec": {
   "display_name": "Python 3",
   "language": "python",
   "name": "python3"
  },
  "language_info": {
   "codemirror_mode": {
    "name": "ipython",
    "version": 3
   },
   "file_extension": ".py",
   "mimetype": "text/x-python",
   "name": "python",
   "nbconvert_exporter": "python",
   "pygments_lexer": "ipython3",
   "version": "3.5.1"
  },
  "widgets": {
   "state": {},
   "version": "1.1.2"
  }
 },
 "nbformat": 4,
 "nbformat_minor": 0
}
