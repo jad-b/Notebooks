{
 "metadata": {
  "name": "",
  "signature": "sha256:9d44866c586e4e4db4ea4250ba5d4b3a5b541d9f3933221fc5e2fe5d6698c2d4"
 },
 "nbformat": 3,
 "nbformat_minor": 0,
 "worksheets": [
  {
   "cells": [
    {
     "cell_type": "markdown",
     "metadata": {},
     "source": [
      "__Note__: All the below examples are for working *locally*. \n",
      "\n",
      "To talk to the Chef Server, just drop `-z`"
     ]
    },
    {
     "cell_type": "code",
     "collapsed": false,
     "input": [
      "# Setup\n",
      "!cd $CHEF_REPO\n",
      "!pwd\n",
      "!export EDITOR=vim"
     ],
     "language": "python",
     "metadata": {},
     "outputs": [
      {
       "output_type": "stream",
       "stream": "stdout",
       "text": [
        "/home/jeremydobbinsbucklad/dev/dyn_chef_data\r\n"
       ]
      }
     ],
     "prompt_number": 44
    },
    {
     "cell_type": "markdown",
     "metadata": {},
     "source": [
      "__List avilable data bags__"
     ]
    },
    {
     "cell_type": "code",
     "collapsed": false,
     "input": [
      "!bundle exec knife data bag list -z"
     ],
     "language": "python",
     "metadata": {},
     "outputs": [
      {
       "output_type": "stream",
       "stream": "stdout",
       "text": [
        "credentials\r\n",
        "dbag_name\r\n",
        "dlink_portal\r\n",
        "dyn-adnsmon\r\n",
        "dyn-chef-server\r\n",
        "dyn-class-mapping\r\n",
        "dyn-user-mapping\r\n",
        "dyn_base4\r\n",
        "dyn_bop\r\n",
        "dyn_database\r\n",
        "dyn_ecru\r\n",
        "dyn_grafana-keys\r\n",
        "dyn_jackal\r\n",
        "dyn_message_management\r\n",
        "dyn_portal\r\n",
        "dyn_stash-keys\r\n",
        "dyn_stash-rabbitlogin\r\n",
        "dyn_tessera-keys\r\n",
        "groups\r\n",
        "jdb\r\n",
        "repository\r\n",
        "users\r\n"
       ]
      }
     ],
     "prompt_number": 22
    },
    {
     "cell_type": "markdown",
     "metadata": {},
     "source": [
      "__Create a data bag__"
     ]
    },
    {
     "cell_type": "markdown",
     "metadata": {},
     "source": [
      "This creates an empty directory under `/data_bags` called `dbag_name`. \n",
      "\n",
      "The fastest way I've found to fill a data bag is with the `from file` sub-command; see [Add a data bag from JSON file](#add-a-data-bag-from-json-file)"
     ]
    },
    {
     "cell_type": "code",
     "collapsed": false,
     "input": [
      "# Create an empty data bag\n",
      "!bundle exec knife data bag create dbag_name -z\n",
      "\n",
      "# Create/modify a data bag with a starter item, \n",
      "# only containing `\"id\": \"new_item\"`\n",
      "# Fails if you can't open an editor, though - such as in iPython :)\n",
      "!bundle exec knife data bag create dbag_name new_item -z"
     ],
     "language": "python",
     "metadata": {},
     "outputs": [
      {
       "output_type": "stream",
       "stream": "stdout",
       "text": [
        "Data bag dbag_name already exists\r\n"
       ]
      },
      {
       "output_type": "stream",
       "stream": "stdout",
       "text": [
        "Data bag dbag_name already exists\r\n"
       ]
      },
      {
       "output_type": "stream",
       "stream": "stdout",
       "text": [
        "\u001b[31m\u001b[1mERROR:\u001b[0m RuntimeError: Please set EDITOR environment variable\r\n"
       ]
      }
     ],
     "prompt_number": 23
    },
    {
     "cell_type": "markdown",
     "metadata": {},
     "source": [
      "__Edit the data bag__"
     ]
    },
    {
     "cell_type": "code",
     "collapsed": false,
     "input": [
      "# Also fails if you can't open an editor, but you get the idea\n",
      "!bundle exec knife data bag edit dbag_name new_item -z"
     ],
     "language": "python",
     "metadata": {},
     "outputs": [
      {
       "output_type": "stream",
       "stream": "stdout",
       "text": [
        "\u001b[31m\u001b[1mERROR:\u001b[0m RuntimeError: Please set EDITOR environment variable\r\n"
       ]
      }
     ],
     "prompt_number": 24
    },
    {
     "cell_type": "code",
     "collapsed": false,
     "input": [
      "# Show items in the data bag\n",
      "!bundle exec knife data bag show dbag_name -z"
     ],
     "language": "python",
     "metadata": {},
     "outputs": [
      {
       "output_type": "stream",
       "stream": "stdout",
       "text": [
        "data\r\n",
        "new_item\r\n"
       ]
      }
     ],
     "prompt_number": 25
    },
    {
     "cell_type": "code",
     "collapsed": false,
     "input": [
      "# List items in a specific data bag\n",
      "!bundle exec knife data bag show dbag_name new_item -z"
     ],
     "language": "python",
     "metadata": {},
     "outputs": [
      {
       "output_type": "stream",
       "stream": "stdout",
       "text": [
        "\u001b[36mid:\u001b[0m new_item\r\n"
       ]
      }
     ],
     "prompt_number": 26
    },
    {
     "cell_type": "markdown",
     "metadata": {},
     "source": [
      "__Add a data bag from JSON file__"
     ]
    },
    {
     "cell_type": "code",
     "collapsed": false,
     "input": [
      "# Create some secrets we want to encrypt\n",
      "!echo '{\"id\": \"data\", \"username\": \"me\", \"password\": \"hard!\"}' | python -m json.tool > data.json"
     ],
     "language": "python",
     "metadata": {},
     "outputs": [],
     "prompt_number": 27
    },
    {
     "cell_type": "code",
     "collapsed": false,
     "input": [
      "# Add them to our data bag\n",
      "!bundle exec knife data bag from file dbag_name data.json -z # \\\n",
      "#     --secret-file ~/.chef/validation/encrypted_data_bag_secret.pem\n",
      "#     ^^^ Only if you don't have `knife[:secret_file] = ...` set in your knife.rb"
     ],
     "language": "python",
     "metadata": {},
     "outputs": [
      {
       "output_type": "stream",
       "stream": "stdout",
       "text": [
        "Updated data_bag_item[dbag_name::data]\r\n"
       ]
      }
     ],
     "prompt_number": 28
    },
    {
     "cell_type": "code",
     "collapsed": false,
     "input": [
      "# Is it encrypted? Yes!\n",
      "!cat data_bags/dbag_name/data.json"
     ],
     "language": "python",
     "metadata": {},
     "outputs": [
      {
       "output_type": "stream",
       "stream": "stdout",
       "text": [
        "{\r\n",
        "  \"id\": \"data\",\r\n",
        "  \"password\": {\r\n",
        "    \"encrypted_data\": \"xSO/jvIk7OSRXA2nt0DgTmZ2OKF5xou1QO449KQSqv0=\\n\",\r\n",
        "    \"hmac\": \"LlHpQI0F10UULwQsSpGZMYsqWPZxcBSV9z2Nonb7jo8=\\n\",\r\n",
        "    \"iv\": \"yRGzRvDsyI64DqB3c+7tYw==\\n\",\r\n",
        "    \"version\": 2,\r\n",
        "    \"cipher\": \"aes-256-cbc\"\r\n",
        "  },\r\n",
        "  \"username\": {\r\n",
        "    \"encrypted_data\": \"SR/i+SoUqFRJEIPrLcy2gzEdxSIQHDFcWPbr6ClqPkk=\\n\",\r\n",
        "    \"hmac\": \"ICtKCYvMkZrgcs01axw95KApNCtTFAYiGx/8/TfydhQ=\\n\",\r\n",
        "    \"iv\": \"2gDpJTQr6763p1X9i7huJQ==\\n\",\r\n",
        "    \"version\": 2,\r\n",
        "    \"cipher\": \"aes-256-cbc\"\r\n",
        "  }\r\n",
        "}"
       ]
      }
     ],
     "prompt_number": 29
    },
    {
     "cell_type": "code",
     "collapsed": false,
     "input": [
      "# View our changes\n",
      "!bundle exec knife data bag show dbag_name data -z"
     ],
     "language": "python",
     "metadata": {},
     "outputs": [
      {
       "output_type": "stream",
       "stream": "stdout",
       "text": [
        "\u001b[36mid:      \u001b[0m data\r\n",
        "\u001b[36mpassword:\u001b[0m hard!\r\n",
        "\u001b[36musername:\u001b[0m me\r\n"
       ]
      }
     ],
     "prompt_number": 30
    },
    {
     "cell_type": "code",
     "collapsed": false,
     "input": [
      "# Delete our temporary secrets\n",
      "!rm data.json"
     ],
     "language": "python",
     "metadata": {},
     "outputs": [],
     "prompt_number": 45
    },
    {
     "cell_type": "code",
     "collapsed": false,
     "input": [
      "# Cleanup our test data bag\n",
      "# Doesn't work in iPython, requires (Y/N) input\n",
      "#!bundle exec knife data bag delete dbag_name -z     "
     ],
     "language": "python",
     "metadata": {},
     "outputs": [],
     "prompt_number": 32
    }
   ],
   "metadata": {}
  }
 ]
}