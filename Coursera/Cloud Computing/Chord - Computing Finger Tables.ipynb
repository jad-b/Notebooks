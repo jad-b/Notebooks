{
 "cells": [
  {
   "cell_type": "code",
   "execution_count": 3,
   "metadata": {
    "collapsed": true
   },
   "outputs": [],
   "source": [
    "import bisect\n",
    "from pprint import pprint"
   ]
  },
  {
   "cell_type": "code",
   "execution_count": 4,
   "metadata": {
    "collapsed": true
   },
   "outputs": [],
   "source": [
    "# Hash to a potential node ID\n",
    "finger = lambda n, m, i: (n + 2**i) % 2**m\n",
    "# Round our potential node ID to the next real node\n",
    "ring = lambda vals, n: vals[bisect.bisect(vals, n) % len(vals)]\n",
    "# Find the whole table's worth of neighbors\n",
    "ftable = lambda n, m, vals: [ring(vals, x) for x in [finger(n, m, i) for i in range(m)]]"
   ]
  },
  {
   "cell_type": "code",
   "execution_count": 11,
   "metadata": {
    "collapsed": false
   },
   "outputs": [
    {
     "name": "stdout",
     "output_type": "stream",
     "text": [
      "[(32, [45, 45, 45, 45, 99, 99, 99, 199]),\n",
      " (45, [99, 99, 99, 99, 99, 99, 132, 199]),\n",
      " (99, [132, 132, 132, 132, 132, 132, 199, 234]),\n",
      " (132, [199, 199, 199, 199, 199, 199, 199, 32]),\n",
      " (199, [234, 234, 234, 234, 234, 234, 32, 99]),\n",
      " (234, [32, 32, 32, 32, 32, 32, 45, 132])]\n"
     ]
    }
   ],
   "source": [
    "# Node IDs on the ring\n",
    "intervals = [45, 32, 132, 234, 99, 199]\n",
    "intervals.sort()\n",
    "# Size of finger table\n",
    "m = 8\n",
    "# Print out finger table for all entries\n",
    "tables = [(n, ftable(n, m, intervals)) for n in intervals]\n",
    "pprint(tables)"
   ]
  },
  {
   "cell_type": "code",
   "execution_count": 51,
   "metadata": {
    "collapsed": false
   },
   "outputs": [],
   "source": [
    "def has_neighbor(target, neighbors, m):\n",
    "    \"\"\"Check finger tables for inclusion of neighbor.\"\"\"\n",
    "    tables = [(n, ftable(n, m, neighbors)) for n in neighbors]\n",
    "    return [ n for n, table in tables if target in table]            "
   ]
  },
  {
   "cell_type": "code",
   "execution_count": 53,
   "metadata": {
    "collapsed": false
   },
   "outputs": [
    {
     "name": "stdout",
     "output_type": "stream",
     "text": [
      "[32, 234]\n"
     ]
    }
   ],
   "source": [
    "has_45 = has_neighbor(target=45, neighbors=intervals, m=8)\n",
    "print(has_45)"
   ]
  },
  {
   "cell_type": "code",
   "execution_count": 60,
   "metadata": {
    "collapsed": true
   },
   "outputs": [],
   "source": [
    "def compute_hops(chord, source, key, m):\n",
    "    \"\"\"Compute the path taken in a Chord DHT from source to <key>.\"\"\"\n",
    "    # Make a copy and sort it \n",
    "    nodes = list(chord)\n",
    "    nodes.sort()  # Make sure we're sorted\n",
    "    # Find where the key's stored\n",
    "    dest = ring(nodes, key)\n",
    "    # Start at the beginning\n",
    "    n = source\n",
    "    # Track where we go\n",
    "    hops = []\n",
    "    while n != dest:\n",
    "        hops.append(n)\n",
    "        # Compute the finger table at this node\n",
    "        table = ftable(n, m, nodes)\n",
    "        \n",
    "        if dest in table:\n",
    "            # Go to key\n",
    "            hops.append(dest)\n",
    "            break\n",
    "            \n",
    "        closer = next((x for x in table if x < key), False)\n",
    "        if closer:\n",
    "            # Go to next closest neighbor\n",
    "            n = closer\n",
    "        else:\n",
    "            # Go to successor\n",
    "            n = nodes[(nodes.index(n) + 1) % len(nodes)]\n",
    "            \n",
    "    return hops"
   ]
  },
  {
   "cell_type": "code",
   "execution_count": 62,
   "metadata": {
    "collapsed": false
   },
   "outputs": [
    {
     "name": "stdout",
     "output_type": "stream",
     "text": [
      "[234, 345, 456, 12]\n"
     ]
    }
   ],
   "source": [
    "print(compute_hops([1, 12, 123, 234, 345, 456, 501], 234, 10, 9))"
   ]
  }
 ],
 "metadata": {
  "kernelspec": {
   "display_name": "Python 3",
   "language": "python",
   "name": "python3"
  },
  "language_info": {
   "codemirror_mode": {
    "name": "ipython",
    "version": 3
   },
   "file_extension": ".py",
   "mimetype": "text/x-python",
   "name": "python",
   "nbconvert_exporter": "python",
   "pygments_lexer": "ipython3",
   "version": "3.4.0"
  }
 },
 "nbformat": 4,
 "nbformat_minor": 0
}
