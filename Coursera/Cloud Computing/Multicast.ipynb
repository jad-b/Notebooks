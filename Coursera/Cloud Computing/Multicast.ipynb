{
 "cells": [
  {
   "cell_type": "markdown",
   "metadata": {},
   "source": [
    "# Multicast\n",
    "\n",
    "\n",
    "## Virtual Synchrony\n",
    "Combine membership + multicast protocol\n",
    "All processes maintain a membership list, called a _View_\n",
    "Updates to membership lists are called  _View Change_\n",
    "Imagine each join/leave of a process captured in a set {}\n",
    "Now you have a chain of sets, representing how membership has changed overtime\n",
    "Virtual Synchrony guarantees every _correct_ process will receive the same View Change list in the same order.\n",
    "A multicast message _M_ is \"delivered\" in a view _V_ if a process, $P_{i}$, receives _M_ while _V_ is the most recent.\n",
    "\n",
    "\"What happens in the View, stays in the View\" - All messages sent in a view are received in that same view.\n",
    "* If a multicast is delivered, its sender is within the same view\n",
    "* The same multicast is delivered within the same view\n",
    "\n",
    "\"Virtual Synchrony\" because it imposes a superficial apperance of synchronicity on top of an asynchronous network"
   ]
  }
 ],
 "metadata": {
  "kernelspec": {
   "display_name": "Python 2",
   "language": "python",
   "name": "python2"
  },
  "language_info": {
   "codemirror_mode": {
    "name": "ipython",
    "version": 2
   },
   "file_extension": ".py",
   "mimetype": "text/x-python",
   "name": "python",
   "nbconvert_exporter": "python",
   "pygments_lexer": "ipython2",
   "version": "2.7.6"
  }
 },
 "nbformat": 4,
 "nbformat_minor": 0
}
