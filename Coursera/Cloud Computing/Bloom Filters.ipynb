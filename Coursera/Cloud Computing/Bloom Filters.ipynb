{
 "cells": [
  {
   "cell_type": "code",
   "execution_count": 49,
   "metadata": {
    "collapsed": false
   },
   "outputs": [],
   "source": [
    "import math\n",
    "m = 32\n",
    "hashes = (\n",
    "    lambda x: int(((math.pow(x, 2) + math.pow(x, 3)) * 1) % m), \n",
    "    lambda x: int(((math.pow(x, 2) + math.pow(x, 3)) * 2) % m), \n",
    "    lambda x: int(((math.pow(x, 2) + math.pow(x, 3)) * 3) % m)\n",
    ")\n",
    "\n",
    "elements = (2013, 2010, 2007)"
   ]
  },
  {
   "cell_type": "code",
   "execution_count": 50,
   "metadata": {
    "collapsed": false
   },
   "outputs": [
    {
     "data": {
      "text/plain": [
       "{4, 8, 10, 12, 14, 16, 24, 28}"
      ]
     },
     "execution_count": 50,
     "metadata": {},
     "output_type": "execute_result"
    }
   ],
   "source": [
    "def bloom(elements, hashes):\n",
    "    bitset = set()\n",
    "    for e in elements:\n",
    "#         print(e)\n",
    "        for h in hashes:\n",
    "            val = int(h(e))\n",
    "#             print('\\t', val)\n",
    "            bitset.add(val)\n",
    "    return bitset\n",
    "\n",
    "bitmap1 = bloom(elements, hashes)\n",
    "bitmap1"
   ]
  },
  {
   "cell_type": "code",
   "execution_count": 51,
   "metadata": {
    "collapsed": false
   },
   "outputs": [
    {
     "name": "stdout",
     "output_type": "stream",
     "text": [
      "{0}\n"
     ]
    }
   ],
   "source": [
    "bitmap_2 = bloom((2004,), hashes)\n",
    "print(bitmap_2.difference(bitmap1))"
   ]
  },
  {
   "cell_type": "code",
   "execution_count": 58,
   "metadata": {
    "collapsed": false
   },
   "outputs": [
    {
     "name": "stdout",
     "output_type": "stream",
     "text": [
      "{0, 4, 8, 10, 12, 14, 16, 18, 20, 22, 24, 28}\n",
      "[0, 0, 0]\n",
      "[0, 0, 0]\n",
      "[16, 0, 16]\n",
      "[2, 4, 6]\n",
      "1 not in bitmap\n",
      "0 in bitmap: True\n",
      "3200 in bitmap: True\n"
     ]
    }
   ],
   "source": [
    "bitmap3 = bloom(elements + (2004, 2001, 1998), hashes)\n",
    "print(bitmap3)\n",
    "for x in (0, 3200, 4, 1, range(17,31)):\n",
    "    hashout = [h(x) for h in hashes]\n",
    "    print(hashout)\n",
    "    if not all((x in bitmap3 for x in hashout)):\n",
    "        print(x, 'not in bitmap')\n",
    "        break\n",
    "else:\n",
    "    print('All values were in bitmap')"
   ]
  }
 ],
 "metadata": {
  "kernelspec": {
   "display_name": "Python 3",
   "language": "python",
   "name": "python3"
  },
  "language_info": {
   "codemirror_mode": {
    "name": "ipython",
    "version": 3
   },
   "file_extension": ".py",
   "mimetype": "text/x-python",
   "name": "python",
   "nbconvert_exporter": "python",
   "pygments_lexer": "ipython3",
   "version": "3.4.0"
  }
 },
 "nbformat": 4,
 "nbformat_minor": 0
}
