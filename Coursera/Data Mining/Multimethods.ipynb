{
 "cells": [
  {
   "cell_type": "code",
   "execution_count": 3,
   "metadata": {
    "collapsed": true
   },
   "outputs": [],
   "source": [
    "# Create a multiple dispatch decorator\n",
    "registry = {}\n",
    "\n",
    "class MultiMethod(object):\n",
    "    \n",
    "    def __init__(self, name):\n",
    "        self.name = name\n",
    "        self.typemap = {}\n",
    "        \n",
    "    def __call__(self, *args):\n",
    "        # Extract class from arguments\n",
    "        types = tuple(arg.__class__ for arg in args) # a generator expression!\n",
    "        # Use class tuple as lookup key\n",
    "        # TODO: Allow subclasses to match as well\n",
    "        function = self.typemap.get(types)\n",
    "        if function is None:\n",
    "            raise TypeError(\"no match\")\n",
    "        return function(*args)\n",
    "    \n",
    "    def register(self, types, function):\n",
    "        if types in self.typemap:\n",
    "            raise TypeError(\"duplicate registration\")\n",
    "        # Map argument class types to this function\n",
    "        self.typemap[types] = function\n",
    "\n",
    "\n",
    "def multimethod(*types):\n",
    "    def register(function):\n",
    "        # Check if the function we're wrapping was already wrapped\n",
    "        function = getattr(function, \"__lastreg__\", function)\n",
    "        name = function.__name__\n",
    "        \n",
    "        mm = registry.get(name)\n",
    "        # Create multimethod registry, if needed\n",
    "        if mm is None:\n",
    "            mm = registry[name] = MultiMethod(name)\n",
    "            \n",
    "        # Register this function\n",
    "        mm.register(types, function)\n",
    "        # Save a reference to this function, in case there's another\n",
    "        # multimethod decorator above us\n",
    "        mm.__lastreg__ = function\n",
    "        return mm\n",
    "    return register"
   ]
  },
  {
   "cell_type": "code",
   "execution_count": null,
   "metadata": {
    "collapsed": true
   },
   "outputs": [],
   "source": []
  }
 ],
 "metadata": {
  "kernelspec": {
   "display_name": "Python 3",
   "language": "python",
   "name": "python3"
  },
  "language_info": {
   "codemirror_mode": {
    "name": "ipython",
    "version": 3
   },
   "file_extension": ".py",
   "mimetype": "text/x-python",
   "name": "python",
   "nbconvert_exporter": "python",
   "pygments_lexer": "ipython3",
   "version": "3.4.0"
  }
 },
 "nbformat": 4,
 "nbformat_minor": 0
}
