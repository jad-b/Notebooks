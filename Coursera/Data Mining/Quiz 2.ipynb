{
 "cells": [
  {
   "cell_type": "code",
   "execution_count": 2,
   "metadata": {
    "collapsed": true
   },
   "outputs": [],
   "source": [
    "import numpy as np\n",
    "import pandas as pd"
   ]
  },
  {
   "cell_type": "code",
   "execution_count": 10,
   "metadata": {
    "collapsed": false
   },
   "outputs": [
    {
     "name": "stdout",
     "output_type": "stream",
     "text": [
      "      HD  ~HD    Σ\n",
      "HM    40   24   64\n",
      "~HM  210  126  336\n",
      "Σ    250  150  400\n"
     ]
    },
    {
     "data": {
      "text/plain": [
       "1.0"
      ]
     },
     "execution_count": 10,
     "metadata": {},
     "output_type": "execute_result"
    }
   ],
   "source": [
    "# Q1\n",
    "rows = ('HM', '~HM', '\\u03A3')\n",
    "cols = {\n",
    "    'HD': (40, 210, 250), \n",
    "    '~HD': (24, 126, 150),\n",
    "    '\\u03A3': (64, 336, 400)\n",
    "}\n",
    "df = pd.DataFrame(cols, index=rows)\n",
    "print(df)\n",
    "\n",
    "def lift(s_bc, s_b, s_c):\n",
    "    return (s_bc / (s_b * s_c))\n",
    "\n",
    "# lift(HD, HM)\n",
    "lift(40/400, 250/400, 64/400)"
   ]
  },
  {
   "cell_type": "code",
   "execution_count": 12,
   "metadata": {
    "collapsed": false
   },
   "outputs": [],
   "source": [
    "# Q2\n",
    "def chi_squared(*events):\n",
    "    op = lambda o, e: (math.pow(o - e, 2) / e)\n",
    "    return sum((op(o, e) for o, e in events))\n",
    "\n",
    "def calculate_expected():\n",
    "    pass"
   ]
  },
  {
   "cell_type": "code",
   "execution_count": null,
   "metadata": {
    "collapsed": true
   },
   "outputs": [],
   "source": [
    "#Q5\n",
    "def kulczynski(s_ab, s_a, s_b):\n",
    "    return 0.5 * (s_ab / s_a + s_ab / s_b)\n",
    "\n",
    "s1 = (10**5, 7000, 3000, 300)\n",
    "s2 = (10*85, 7000, 3000, 90000)\n",
    "print(kulczynski("
   ]
  }
 ],
 "metadata": {
  "kernelspec": {
   "display_name": "Python 3",
   "language": "python",
   "name": "python3"
  },
  "language_info": {
   "codemirror_mode": {
    "name": "ipython",
    "version": 3
   },
   "file_extension": ".py",
   "mimetype": "text/x-python",
   "name": "python",
   "nbconvert_exporter": "python",
   "pygments_lexer": "ipython3",
   "version": "3.4.0"
  }
 },
 "nbformat": 4,
 "nbformat_minor": 0
}
