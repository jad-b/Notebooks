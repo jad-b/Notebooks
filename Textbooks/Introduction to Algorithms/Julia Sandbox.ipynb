{
 "cells": [
  {
   "cell_type": "code",
   "execution_count": 111,
   "metadata": {
    "collapsed": false
   },
   "outputs": [
    {
     "data": {
      "text/plain": [
       "7-element Array{Any,1}:\n",
       " 1.0\n",
       " 2.0\n",
       " 2.0\n",
       " 2.0\n",
       " 2.0\n",
       " 2.0\n",
       " 2.0"
      ]
     },
     "execution_count": 111,
     "metadata": {},
     "output_type": "execute_result"
    }
   ],
   "source": [
    "ex2(n) = [exp2(x) for x=0:n-1]\n",
    "\n",
    "function fibonacci (n)\n",
    "    if n == 0\n",
    "        return 0\n",
    "    end\n",
    "    if n == 1\n",
    "        return 1\n",
    "    end\n",
    "    return fibonacci(n-1) + fibonacci(n-2)\n",
    "end\n",
    "\n",
    "fib(n) = [fibonacci(x) for x=0:n-1]"
   ]
  },
  {
   "cell_type": "code",
   "execution_count": 110,
   "metadata": {
    "collapsed": false
   },
   "outputs": [
    {
     "data": {
      "text/plain": [
       "7x2 Array{Float64,2}:\n",
       "  1.0  0.0\n",
       "  2.0  1.0\n",
       "  4.0  1.0\n",
       "  8.0  2.0\n",
       " 16.0  3.0\n",
       " 32.0  5.0\n",
       " 64.0  8.0"
      ]
     },
     "execution_count": 110,
     "metadata": {},
     "output_type": "execute_result"
    }
   ],
   "source": [
    "n = 7\n",
    "vals = hcat( # Matrix: (index-by-function)\n",
    "    [fn(n) for fn in [ex2, fib,]]...\n",
    ")"
   ]
  },
  {
   "cell_type": "code",
   "execution_count": 120,
   "metadata": {
    "collapsed": false
   },
   "outputs": [
    {
     "data": {
      "text/plain": [
       "21.84986222490514"
      ]
     },
     "execution_count": 120,
     "metadata": {},
     "output_type": "execute_result"
    }
   ],
   "source": [
    "3^(log2(7))"
   ]
  },
  {
   "cell_type": "code",
   "execution_count": 199,
   "metadata": {
    "collapsed": false
   },
   "outputs": [
    {
     "data": {
      "text/plain": [
       "onlinemax (generic function with 1 method)"
      ]
     },
     "execution_count": 199,
     "metadata": {},
     "output_type": "execute_result"
    }
   ],
   "source": [
    "function onlinemax(A, k)\n",
    "    bestscore = maximum(A[1:k])\n",
    "    for i in k+1:length(A)\n",
    "        if A[i] > bestscore\n",
    "            return i\n",
    "        end\n",
    "    end\n",
    "    return length(A)\n",
    "end"
   ]
  },
  {
   "cell_type": "code",
   "execution_count": 159,
   "metadata": {
    "collapsed": false
   },
   "outputs": [
    {
     "name": "stdout",
     "output_type": "stream",
     "text": [
      "Running trials for k=1\n",
      "Running trials for k=2\n",
      "Running trials for k=3\n",
      "Running trials for k=4\n",
      "Running trials for k=5\n",
      "Running trials for k=6\n",
      "Running trials for k=7\n",
      "Running trials for k=8\n",
      "Running trials for k=9\n",
      "Running trials for k=10\n",
      "Running trials for k=11\n",
      "Running trials for k=12\n",
      "Running trials for k=13\n",
      "Running trials for k=14\n",
      "Running trials for k=15\n",
      "Running trials for k=16\n",
      "Running trials for k=17\n",
      "Running trials for k=18\n",
      "Running trials for k=19\n",
      "Running trials for k=20\n"
     ]
    }
   ],
   "source": [
    "\"\"\"\n",
    "Perform a Monte Carlo simulation of how different values of k effect \n",
    "how often the best candidate is selected.\n",
    "\"\"\"\n",
    "n = 20\n",
    "A = collect(1:n)\n",
    "trials = 1e5\n",
    "\n",
    "max = maximum(A)\n",
    "results = zeros(Int16, n, n)\n",
    "for k in 1:n\n",
    "    @printf \"Running trials for k=%d\\n\" k\n",
    "    for t in 1:trials\n",
    "        shuffle!(A)\n",
    "        i = onlinemax(A, k)\n",
    "        results[k, A[i]] += 1\n",
    "    end\n",
    "end"
   ]
  },
  {
   "cell_type": "code",
   "execution_count": 211,
   "metadata": {
    "collapsed": false
   },
   "outputs": [
    {
     "data": {
      "text/plain": [
       "20-element Array{Float64,1}:\n",
       "  55151.0\n",
       "  55170.0\n",
       "  55515.0\n",
       "  55726.0\n",
       "  56437.0\n",
       "  56853.0\n",
       "  57193.0\n",
       "  57880.0\n",
       "  58825.0\n",
       "  60432.0\n",
       "  62646.0\n",
       "  64343.0\n",
       "  67156.0\n",
       "  71445.0\n",
       "  77583.0\n",
       "  87471.0\n",
       " 104951.0\n",
       " 140143.0\n",
       " 227939.0\n",
       "   2853.0"
      ]
     },
     "execution_count": 211,
     "metadata": {},
     "output_type": "execute_result"
    }
   ],
   "source": [
    "# total = zeros(n)\n",
    "# for j in 1:n\n",
    "#     for i in 1:n\n",
    "#         total[j] += results[i, j]\n",
    "#     end\n",
    "# end\n",
    "# total\n",
    "\n",
    "# Sum all columns \n",
    "sum(results, 1)"
   ]
  },
  {
   "cell_type": "code",
   "execution_count": 218,
   "metadata": {
    "collapsed": false
   },
   "outputs": [
    {
     "name": "stderr",
     "output_type": "stream",
     "text": [
      "INFO: Nothing to be done\n",
      "INFO: Nothing to be done\n",
      "INFO: Nothing to be done\n"
     ]
    },
    {
     "ename": "LoadError",
     "evalue": "PlotlyJS can't be installed because it has no versions that support 0.3.2 of julia\nwhile loading In[218], in expression starting on line 4",
     "output_type": "error",
     "traceback": [
      "PlotlyJS can't be installed because it has no versions that support 0.3.2 of julia\nwhile loading In[218], in expression starting on line 4",
      "",
      " in wait1743 at /usr/bin/../lib/x86_64-linux-gnu/julia/sys.so",
      " in wait1783 at /usr/bin/../lib/x86_64-linux-gnu/julia/sys.so",
      " in wait at ./task.jl:48",
      " in sync_end1865 at /usr/bin/../lib/x86_64-linux-gnu/julia/sys.so",
      " in add at ./pkg/entry.jl:65",
      " in add at ./pkg/entry.jl:71",
      " in anonymous at ./pkg/dir.jl:28",
      " in cd1904 at /usr/bin/../lib/x86_64-linux-gnu/julia/sys.so",
      " in __cd#227__1872 at /usr/bin/../lib/x86_64-linux-gnu/julia/sys.so",
      " in add at ./pkg.jl:20"
     ]
    }
   ],
   "source": [
    "Pkg.add(\"Plots\")\n",
    "Pkg.add(\"PyPlot\")\n",
    "Pkg.add(\"GR\")\n",
    "Pkg.add(\"PlotlyJS\")"
   ]
  },
  {
   "cell_type": "code",
   "execution_count": 219,
   "metadata": {
    "collapsed": false
   },
   "outputs": [
    {
     "name": "stderr",
     "output_type": "stream",
     "text": [
      "Warning: using Plots.plot in module Main conflicts with an existing identifier.\n"
     ]
    },
    {
     "ename": "LoadError",
     "evalue": "gr not defined\nwhile loading In[219], in expression starting on line 2",
     "output_type": "error",
     "traceback": [
      "gr not defined\nwhile loading In[219], in expression starting on line 2",
      ""
     ]
    }
   ],
   "source": [
    "using Plots\n",
    "gr()"
   ]
  },
  {
   "cell_type": "code",
   "execution_count": 216,
   "metadata": {
    "collapsed": false
   },
   "outputs": [
    {
     "data": {
      "text/html": [
       "<table class=\"data-frame\"><tr><th></th><th>Candidate1</th><th>Candidate10</th><th>Candidate11</th><th>Candidate12</th><th>Candidate13</th><th>Candidate14</th><th>Candidate15</th><th>Candidate16</th><th>Candidate17</th><th>Candidate18</th><th>Candidate19</th><th>Candidate2</th><th>Candidate20</th><th>Candidate3</th><th>Candidate4</th><th>Candidate5</th><th>Candidate6</th><th>Candidate7</th><th>Candidate8</th><th>Candidate9</th></tr><tr><th>1</th><td>250</td><td>3417</td><td>3955</td><td>4447</td><td>5005</td><td>5854</td><td>6549</td><td>7606</td><td>8761</td><td>10448</td><td>13087</td><td>528</td><td>17607</td><td>787</td><td>1061</td><td>1388</td><td>1756</td><td>2137</td><td>2456</td><td>2901</td></tr><tr><th>2</th><td>538</td><td>1996</td><td>2462</td><td>3052</td><td>3784</td><td>4713</td><td>5833</td><td>7280</td><td>9142</td><td>12073</td><td>16481</td><td>529</td><td>25383</td><td>579</td><td>626</td><td>706</td><td>849</td><td>1038</td><td>1302</td><td>1634</td></tr><tr><th>3</th><td>781</td><td>1311</td><td>1706</td><td>2148</td><td>2713</td><td>3559</td><td>4826</td><td>6182</td><td>8809</td><td>12211</td><td>18181</td><td>811</td><td>30442</td><td>831</td><td>795</td><td>780</td><td>878</td><td>892</td><td>1010</td><td>1134</td></tr><tr><th>4</th><td>1019</td><td>1287</td><td>1487</td><td>1721</td><td>2069</td><td>2731</td><td>3706</td><td>5283</td><td>7686</td><td>11381</td><td>18565</td><td>1047</td><td>-31101</td><td>1082</td><td>1006</td><td>1063</td><td>1044</td><td>1087</td><td>1127</td><td>1174</td></tr><tr><th>5</th><td>1329</td><td>1436</td><td>1441</td><td>1633</td><td>1976</td><td>2315</td><td>3141</td><td>4338</td><td>6559</td><td>10496</td><td>18211</td><td>1273</td><td>-28774</td><td>1280</td><td>1322</td><td>1252</td><td>1273</td><td>1295</td><td>1307</td><td>1361</td></tr><tr><th>6</th><td>1600</td><td>1643</td><td>1633</td><td>1715</td><td>1821</td><td>2122</td><td>2747</td><td>3722</td><td>5631</td><td>9379</td><td>17223</td><td>1623</td><td>-27535</td><td>1624</td><td>1546</td><td>1533</td><td>1667</td><td>1598</td><td>1597</td><td>1575</td></tr><tr><th>7</th><td>1876</td><td>1739</td><td>1795</td><td>1904</td><td>1999</td><td>2174</td><td>2527</td><td>3275</td><td>4826</td><td>8364</td><td>16358</td><td>1813</td><td>-27274</td><td>1874</td><td>1849</td><td>1923</td><td>1840</td><td>1930</td><td>1780</td><td>1892</td></tr><tr><th>8</th><td>2104</td><td>2081</td><td>2092</td><td>2142</td><td>2241</td><td>2237</td><td>2383</td><td>3125</td><td>4330</td><td>7325</td><td>15048</td><td>2079</td><td>-27415</td><td>2129</td><td>2103</td><td>2055</td><td>2135</td><td>2062</td><td>2166</td><td>2042</td></tr><tr><th>9</th><td>2372</td><td>2369</td><td>2398</td><td>2350</td><td>2302</td><td>2394</td><td>2516</td><td>2978</td><td>3823</td><td>6401</td><td>13825</td><td>2360</td><td>-28151</td><td>2394</td><td>2314</td><td>2397</td><td>2305</td><td>2360</td><td>2427</td><td>2330</td></tr><tr><th>10</th><td>2691</td><td>2632</td><td>2620</td><td>2616</td><td>2695</td><td>2598</td><td>2750</td><td>2879</td><td>3480</td><td>5665</td><td>12276</td><td>2627</td><td>-29555</td><td>2691</td><td>2720</td><td>2653</td><td>2688</td><td>2629</td><td>2555</td><td>2554</td></tr><tr><th>11</th><td>2835</td><td>2933</td><td>2958</td><td>2877</td><td>2812</td><td>2896</td><td>2886</td><td>3112</td><td>3501</td><td>5144</td><td>10967</td><td>2836</td><td>-31400</td><td>2921</td><td>2875</td><td>2900</td><td>2858</td><td>2855</td><td>2799</td><td>2899</td></tr><tr><th>12</th><td>3111</td><td>3045</td><td>3255</td><td>3190</td><td>3103</td><td>3116</td><td>3126</td><td>3257</td><td>3498</td><td>4744</td><td>9634</td><td>3181</td><td>31887</td><td>3139</td><td>3150</td><td>3103</td><td>3034</td><td>3092</td><td>3245</td><td>3090</td></tr><tr><th>13</th><td>3509</td><td>3402</td><td>3440</td><td>3392</td><td>3517</td><td>3515</td><td>3394</td><td>3374</td><td>3595</td><td>4294</td><td>8331</td><td>3449</td><td>28808</td><td>3482</td><td>3365</td><td>3383</td><td>3408</td><td>3540</td><td>3466</td><td>3336</td></tr><tr><th>14</th><td>3748</td><td>3743</td><td>3789</td><td>3625</td><td>3633</td><td>3675</td><td>3830</td><td>3720</td><td>3755</td><td>4201</td><td>7180</td><td>3667</td><td>25446</td><td>3671</td><td>3846</td><td>3723</td><td>3696</td><td>3614</td><td>3711</td><td>3727</td></tr><tr><th>15</th><td>3989</td><td>3886</td><td>4011</td><td>3962</td><td>4029</td><td>3927</td><td>3968</td><td>3876</td><td>4043</td><td>4277</td><td>6424</td><td>4009</td><td>22180</td><td>3948</td><td>3917</td><td>3952</td><td>3993</td><td>3891</td><td>3903</td><td>3815</td></tr><tr><th>16</th><td>4171</td><td>4262</td><td>4282</td><td>4266</td><td>4313</td><td>4235</td><td>4233</td><td>4154</td><td>4174</td><td>4239</td><td>5798</td><td>4207</td><td>18387</td><td>4179</td><td>4167</td><td>4287</td><td>4158</td><td>4270</td><td>4129</td><td>4089</td></tr><tr><th>17</th><td>4455</td><td>4473</td><td>4431</td><td>4468</td><td>4426</td><td>4457</td><td>4518</td><td>4525</td><td>4528</td><td>4698</td><td>5188</td><td>4522</td><td>14183</td><td>4372</td><td>4322</td><td>4521</td><td>4516</td><td>4355</td><td>4527</td><td>4515</td></tr><tr><th>18</th><td>4738</td><td>4678</td><td>4782</td><td>4766</td><td>4672</td><td>4761</td><td>4733</td><td>4796</td><td>4676</td><td>4734</td><td>5124</td><td>4661</td><td>9681</td><td>4737</td><td>4808</td><td>4754</td><td>4735</td><td>4725</td><td>4629</td><td>4810</td></tr><tr><th>19</th><td>5050</td><td>5076</td><td>5033</td><td>5053</td><td>5127</td><td>5040</td><td>4927</td><td>4998</td><td>5082</td><td>5012</td><td>4917</td><td>4935</td><td>5077</td><td>4965</td><td>4979</td><td>5012</td><td>5019</td><td>4911</td><td>4829</td><td>4958</td></tr><tr><th>20</th><td>4985</td><td>5023</td><td>5076</td><td>5016</td><td>4919</td><td>5126</td><td>4990</td><td>4991</td><td>5052</td><td>5057</td><td>5121</td><td>5013</td><td>4977</td><td>4830</td><td>4955</td><td>5052</td><td>5001</td><td>4912</td><td>4915</td><td>4989</td></tr></table>"
      ],
      "text/plain": [
       "20x20 DataFrame\n",
       "| Row | Candidate1 | Candidate10 | Candidate11 | Candidate12 | Candidate13 |\n",
       "|-----|------------|-------------|-------------|-------------|-------------|\n",
       "| 1   | 250        | 3417        | 3955        | 4447        | 5005        |\n",
       "| 2   | 538        | 1996        | 2462        | 3052        | 3784        |\n",
       "| 3   | 781        | 1311        | 1706        | 2148        | 2713        |\n",
       "| 4   | 1019       | 1287        | 1487        | 1721        | 2069        |\n",
       "| 5   | 1329       | 1436        | 1441        | 1633        | 1976        |\n",
       "| 6   | 1600       | 1643        | 1633        | 1715        | 1821        |\n",
       "| 7   | 1876       | 1739        | 1795        | 1904        | 1999        |\n",
       "| 8   | 2104       | 2081        | 2092        | 2142        | 2241        |\n",
       "| 9   | 2372       | 2369        | 2398        | 2350        | 2302        |\n",
       "| 10  | 2691       | 2632        | 2620        | 2616        | 2695        |\n",
       "| 11  | 2835       | 2933        | 2958        | 2877        | 2812        |\n",
       "| 12  | 3111       | 3045        | 3255        | 3190        | 3103        |\n",
       "| 13  | 3509       | 3402        | 3440        | 3392        | 3517        |\n",
       "| 14  | 3748       | 3743        | 3789        | 3625        | 3633        |\n",
       "| 15  | 3989       | 3886        | 4011        | 3962        | 4029        |\n",
       "| 16  | 4171       | 4262        | 4282        | 4266        | 4313        |\n",
       "| 17  | 4455       | 4473        | 4431        | 4468        | 4426        |\n",
       "| 18  | 4738       | 4678        | 4782        | 4766        | 4672        |\n",
       "| 19  | 5050       | 5076        | 5033        | 5053        | 5127        |\n",
       "| 20  | 4985       | 5023        | 5076        | 5016        | 4919        |\n",
       "\n",
       "| Row | Candidate14 | Candidate15 | Candidate16 | Candidate17 | Candidate18 |\n",
       "|-----|-------------|-------------|-------------|-------------|-------------|\n",
       "| 1   | 5854        | 6549        | 7606        | 8761        | 10448       |\n",
       "| 2   | 4713        | 5833        | 7280        | 9142        | 12073       |\n",
       "| 3   | 3559        | 4826        | 6182        | 8809        | 12211       |\n",
       "| 4   | 2731        | 3706        | 5283        | 7686        | 11381       |\n",
       "| 5   | 2315        | 3141        | 4338        | 6559        | 10496       |\n",
       "| 6   | 2122        | 2747        | 3722        | 5631        | 9379        |\n",
       "| 7   | 2174        | 2527        | 3275        | 4826        | 8364        |\n",
       "| 8   | 2237        | 2383        | 3125        | 4330        | 7325        |\n",
       "| 9   | 2394        | 2516        | 2978        | 3823        | 6401        |\n",
       "| 10  | 2598        | 2750        | 2879        | 3480        | 5665        |\n",
       "| 11  | 2896        | 2886        | 3112        | 3501        | 5144        |\n",
       "| 12  | 3116        | 3126        | 3257        | 3498        | 4744        |\n",
       "| 13  | 3515        | 3394        | 3374        | 3595        | 4294        |\n",
       "| 14  | 3675        | 3830        | 3720        | 3755        | 4201        |\n",
       "| 15  | 3927        | 3968        | 3876        | 4043        | 4277        |\n",
       "| 16  | 4235        | 4233        | 4154        | 4174        | 4239        |\n",
       "| 17  | 4457        | 4518        | 4525        | 4528        | 4698        |\n",
       "| 18  | 4761        | 4733        | 4796        | 4676        | 4734        |\n",
       "| 19  | 5040        | 4927        | 4998        | 5082        | 5012        |\n",
       "| 20  | 5126        | 4990        | 4991        | 5052        | 5057        |\n",
       "\n",
       "| Row | Candidate19 | Candidate2 | Candidate20 | Candidate3 | Candidate4 |\n",
       "|-----|-------------|------------|-------------|------------|------------|\n",
       "| 1   | 13087       | 528        | 17607       | 787        | 1061       |\n",
       "| 2   | 16481       | 529        | 25383       | 579        | 626        |\n",
       "| 3   | 18181       | 811        | 30442       | 831        | 795        |\n",
       "| 4   | 18565       | 1047       | -31101      | 1082       | 1006       |\n",
       "| 5   | 18211       | 1273       | -28774      | 1280       | 1322       |\n",
       "| 6   | 17223       | 1623       | -27535      | 1624       | 1546       |\n",
       "| 7   | 16358       | 1813       | -27274      | 1874       | 1849       |\n",
       "| 8   | 15048       | 2079       | -27415      | 2129       | 2103       |\n",
       "| 9   | 13825       | 2360       | -28151      | 2394       | 2314       |\n",
       "| 10  | 12276       | 2627       | -29555      | 2691       | 2720       |\n",
       "| 11  | 10967       | 2836       | -31400      | 2921       | 2875       |\n",
       "| 12  | 9634        | 3181       | 31887       | 3139       | 3150       |\n",
       "| 13  | 8331        | 3449       | 28808       | 3482       | 3365       |\n",
       "| 14  | 7180        | 3667       | 25446       | 3671       | 3846       |\n",
       "| 15  | 6424        | 4009       | 22180       | 3948       | 3917       |\n",
       "| 16  | 5798        | 4207       | 18387       | 4179       | 4167       |\n",
       "| 17  | 5188        | 4522       | 14183       | 4372       | 4322       |\n",
       "| 18  | 5124        | 4661       | 9681        | 4737       | 4808       |\n",
       "| 19  | 4917        | 4935       | 5077        | 4965       | 4979       |\n",
       "| 20  | 5121        | 5013       | 4977        | 4830       | 4955       |\n",
       "\n",
       "| Row | Candidate5 | Candidate6 | Candidate7 | Candidate8 | Candidate9 |\n",
       "|-----|------------|------------|------------|------------|------------|\n",
       "| 1   | 1388       | 1756       | 2137       | 2456       | 2901       |\n",
       "| 2   | 706        | 849        | 1038       | 1302       | 1634       |\n",
       "| 3   | 780        | 878        | 892        | 1010       | 1134       |\n",
       "| 4   | 1063       | 1044       | 1087       | 1127       | 1174       |\n",
       "| 5   | 1252       | 1273       | 1295       | 1307       | 1361       |\n",
       "| 6   | 1533       | 1667       | 1598       | 1597       | 1575       |\n",
       "| 7   | 1923       | 1840       | 1930       | 1780       | 1892       |\n",
       "| 8   | 2055       | 2135       | 2062       | 2166       | 2042       |\n",
       "| 9   | 2397       | 2305       | 2360       | 2427       | 2330       |\n",
       "| 10  | 2653       | 2688       | 2629       | 2555       | 2554       |\n",
       "| 11  | 2900       | 2858       | 2855       | 2799       | 2899       |\n",
       "| 12  | 3103       | 3034       | 3092       | 3245       | 3090       |\n",
       "| 13  | 3383       | 3408       | 3540       | 3466       | 3336       |\n",
       "| 14  | 3723       | 3696       | 3614       | 3711       | 3727       |\n",
       "| 15  | 3952       | 3993       | 3891       | 3903       | 3815       |\n",
       "| 16  | 4287       | 4158       | 4270       | 4129       | 4089       |\n",
       "| 17  | 4521       | 4516       | 4355       | 4527       | 4515       |\n",
       "| 18  | 4754       | 4735       | 4725       | 4629       | 4810       |\n",
       "| 19  | 5012       | 5019       | 4911       | 4829       | 4958       |\n",
       "| 20  | 5052       | 5001       | 4912       | 4915       | 4989       |"
      ]
     },
     "execution_count": 216,
     "metadata": {},
     "output_type": "execute_result"
    }
   ],
   "source": [
    "x = convert(\n",
    "    DataFrame,  # Type to convert to \n",
    "    Dict(\n",
    "[@sprintf \"Candidate%d\" i for i in 1:n], # Column headers\n",
    "[results[:,i] for i in 1:size(results,2)] # Split up matrix by columns\n",
    "    )\n",
    ")\n",
    "# plot(x, y=:1, Geom.histogram(bincount=20))"
   ]
  }
 ],
 "metadata": {
  "kernelspec": {
   "display_name": "Julia 0.3.2",
   "language": "julia",
   "name": "julia-0.3"
  },
  "language_info": {
   "file_extension": ".jl",
   "mimetype": "application/julia",
   "name": "julia",
   "version": "0.3.2"
  }
 },
 "nbformat": 4,
 "nbformat_minor": 1
}
