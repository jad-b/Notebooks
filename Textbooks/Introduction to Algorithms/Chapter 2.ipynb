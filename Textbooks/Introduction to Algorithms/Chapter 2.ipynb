{
 "cells": [
  {
   "cell_type": "markdown",
   "metadata": {},
   "source": [
    "# 2.2) Analyzing Algorithms"
   ]
  },
  {
   "cell_type": "markdown",
   "metadata": {},
   "source": [
    "##### 2.2-1\n",
    "$$\n",
    "\\Theta(\\frac{n^3}{1000} - 100n^2 - 100n + 3) = \\Theta(n^3)\n",
    "$$"
   ]
  },
  {
   "cell_type": "markdown",
   "metadata": {},
   "source": [
    "##### 2.2-2\n",
    "```\n",
    "# Selection Sort\n",
    "for j=1 to A.length-1:\n",
    "    min = j\n",
    "    for i=j+1 to A.length:\n",
    "        if A[i] < min:\n",
    "            min = i\n",
    "    A[j], A[min] = A[min], A[j]\n",
    "``` \n",
    "Invariant) A[1..j-1] is sorted\n",
    "\n",
    "Init) A[1..1] is sorted (list of size 1)\n",
    "\n",
    "Maintenance) A[1..j-1] is sorted. After the iteration, $A[j] > x \\in \\forall A[1..j-1]$\n",
    "\n",
    "Termination) After interating over the array, all values have been swapped where appropriate.\n",
    "\n",
    "The loop doesn't need to touch the last element, as it is inspected by previous calls to the inner for loop.\n",
    "\n",
    "$\\Omega(n^2)$\n",
    "\n",
    "$\\Theta(n^2)$"
   ]
  },
  {
   "cell_type": "markdown",
   "metadata": {},
   "source": [
    "##### 2.2-3\n",
    "For each pass of a linear search, we inspect between 1 to _n_ items. Thus, we inspect the following number of items on average:\n",
    "$$\n",
    "\\frac{\\sum_{i=1}^{n}}{n} = \\frac{n(n+1)}{2}\\frac{1}{n} = \\frac{(n+1)}{2}\n",
    "$$"
   ]
  },
  {
   "cell_type": "markdown",
   "metadata": {},
   "source": [
    "##### 2.2-4\n",
    "> How can we modify almost any algorithm to have a good best-case running time?\n",
    "\n",
    "Check if the input already satisfies the output. It adds a factor of _n_ to the runtime, but can drastically save time otherwise."
   ]
  },
  {
   "cell_type": "markdown",
   "metadata": {},
   "source": [
    "# 2.3) Designing Algorithms"
   ]
  },
  {
   "cell_type": "markdown",
   "metadata": {},
   "source": [
    "##### 2.3-1\n",
    "```python\n",
    "A = [3, 41, 52, 26, 38, 57, 9, 49]\n",
    "# Divide (Conquer through implicit calls to MERGE-SORT)\n",
    "A1, A2 = [3, 41, 52, 26], [38, 57, 9, 49]\n",
    "A11, A12, A21, A22 = [3, 41], [52, 26], [38, 57], [9, 49]\n",
    "A11, A12, A13, A14, A21, A22, A23, A24 = [3], [41], [52], [26], [38], [57], [9], [49]\n",
    "# Combine\n",
    "A11, A12, A21, A22 = [3, 41], [26, 52], [38, 57], [9, 49]\n",
    "A1, A2 = [3, 26, 41, 52], [9, 38, 49, 57]\n",
    "A = [3, 9, 26, 38, 41, 49, 52, 57]\n",
    "```"
   ]
  },
  {
   "cell_type": "markdown",
   "metadata": {},
   "source": [
    "##### 2.3-2\n",
    "```python\n",
    "def merge(A,p,q,r): \n",
    "    n1 = q - p + 1\n",
    "    n2 = r - q\n",
    "    l, r = [], []\n",
    "    for i=1 to n1:\n",
    "        l[i] = A[p+i-1]\n",
    "    for i=1 to n2:\n",
    "        r[i] = A[q+i]\n",
    "    i, j = 1, 1\n",
    "    for k=p to r:\n",
    "        if i > n1:\n",
    "            A[k:] = r[j:]\n",
    "            return\n",
    "        if j > n2:\n",
    "            A[k:] = l[i:]\n",
    "            return\n",
    "        if l[i] < r[j]:\n",
    "            A[k] = l[i]\n",
    "            i++\n",
    "        else:\n",
    "            A[k] = r[j]\n",
    "            j++\n",
    "```"
   ]
  },
  {
   "cell_type": "markdown",
   "metadata": {},
   "source": [
    "##### 2.3-3 (Redo)\n",
    "Hint: Work with $2^k$ instead of $n$, and assume $T(2^k) = 2^k lg 2^k$ for the inductive step."
   ]
  },
  {
   "cell_type": "markdown",
   "metadata": {},
   "source": [
    "##### 2.3-4\n",
    "$$\n",
    "\\begin{equation}\n",
    "I(n) = \\begin{cases}\n",
    "1 & \\text{if $n=1$}, \\\\\n",
    "\\text{Recurrence} & otherwise\n",
    "\\end{cases}\n",
    "\\end{equation}\n",
    "$$"
   ]
  }
 ],
 "metadata": {
  "kernelspec": {
   "display_name": "Python 3",
   "language": "python",
   "name": "python3"
  },
  "language_info": {
   "codemirror_mode": {
    "name": "ipython",
    "version": 3
   },
   "file_extension": ".py",
   "mimetype": "text/x-python",
   "name": "python",
   "nbconvert_exporter": "python",
   "pygments_lexer": "ipython3",
   "version": "3.5.2"
  }
 },
 "nbformat": 4,
 "nbformat_minor": 0
}
