{
 "cells": [
  {
   "cell_type": "markdown",
   "metadata": {},
   "source": [
    "# Chapter 3) Growth of Functions"
   ]
  },
  {
   "cell_type": "markdown",
   "metadata": {},
   "source": [
    "## Section 3.1) Asymptotic notation"
   ]
  },
  {
   "cell_type": "markdown",
   "metadata": {},
   "source": [
    "### 3.1-1\n",
    "By the definition of $\\Theta$-notation,there is are two constants, $c1, c2$, that when multiplied by our $f(n)$ will produce a lower or upper bound (respectively) than $f(n) + g(n)$ for every value of $n > n_0$.\n",
    "\n",
    "Let us tackle the higher bound first. We'll define our predicate to be $P(n) = max(f(n), g(n)) \\le c_2(f(n) + g(n))$. This is relatively straight-forward: the maximum of two values will always be less than than the same maximum with another value added, which is what we have. In this case, $c_2$ could have a value of 1. \n",
    "\n",
    "The lower bound is a bit tricker. Let's assume $f(n)$ is the greater of the two functions. Then, $f(n) \\ge 2 \\cdot \\frac{f(n)}{2} = \\frac{f(n)}{2} + \\frac{f(n)}{2}$ by the reflexive property, as well as whatever let's us say two equal values are less than or equal. Now, we _know_ $g(n) < f(n)$, otherwise our greater function would've been $g(n)$. Equivalently, $\\frac{f(n)}{2} \\gt \\frac{g(n)}{2}$. This means that if we substitute one $f(n)$ in the right-hand side of the above equation for $g(n)$, we now have $f(n) \\gt \\frac{f(n)}{2} + \\frac{g(n)}{2}$. Thus, having $c_2 \\le 2$ satisfies the lower bound.\n",
    "\n",
    "#formalize"
   ]
  },
  {
   "cell_type": "markdown",
   "metadata": {},
   "source": [
    "### 3.1-2\n",
    "We're seeking to prove $0 \\le c_1(n+1)^b \\le (n+1+a)^b \\le c_2(n+1)^b$. $(n+a)^b$ is fodder for the Binomial Theorem, as both $n$ and $a$ can be viewed as monomials. Applying the theorem:\n",
    "$$\n",
    "\\begin{align}\n",
    "(n+a)^b & = \\binom{b}{0}n^ba^0 + \\binom{b}{1}n^{b-1}a{1} + ... + \\binom{b}{b-1}n^1a^{b-1} + \\binom{b}{b}n^0a^b \\\\\n",
    "c_1n^b & \\le \\binom{b}{0}n^ba^0 + \\binom{b}{1}n^{b-1}a{1} + ... + \\binom{b}{b-1}n^1a^{b-1} + \\binom{b}{b}n^0a^b \\le c_2n^b \\\\\n",
    "\\text{Divide through by}\\;n^b: \\\\\n",
    "c_1 & \\le \\binom{b}{0}a^0 + \\binom{b}{1}n^{-1}a{1} + ... + \\binom{b}{b-1}n^{b-1}a^{b-1} + \\binom{b}{b}n^{-b}a^b \\le c_2\n",
    "\\end{align}\n",
    "$$\n",
    "A math property to keep in mind: $\\binom{b}{0}$ and $\\binom{b}{b}$ both equal 1. There is only one way of choosing nothing or everything from a set. That means the coefficient (that's what the $\\binom{n}{k}$ becomes) will maximize when $\\binom{b}{\\frac{b}{2}}$.\n",
    "\n",
    "We can make the right-hand inequality hold for any value of $c_2$ by choosing any constant $c_2 \\ge \\sum_{k=0}^{b}\\binom{b}{k}n^{-k}a^k$. Since the effec of $n$ is to reduce the total sum, we find our global maximum when $n=1$. Substituting, we get the simpler inequality $c_2 \\ge \\sum_{k=0}^{b}\\binom{b}{k}a^k$. Likewise, we can make the left-hand inequality hold by choosing any value of $c_1 \\le c_2$."
   ]
  },
  {
   "cell_type": "markdown",
   "metadata": {},
   "source": [
    "### 3.1-3\n",
    "Since $O(n^2)$ is an asymptotically tight _upper_ bound, it is nonsensical to say the $f(n)$ runs _at least_ $O(n^2)$. That is like saying the room is _at least_ as tall as the ceiling; rather, it is _at most_ as tall."
   ]
  },
  {
   "cell_type": "markdown",
   "metadata": {},
   "source": [
    "### 3.1-4\n",
    "> Is $2^{n+1} \\le O(2^{n})$?\n",
    "\n",
    "$$\n",
    "\\begin{align}\n",
    "2^{n+1} & \\le c_22^{n} \\\\\n",
    "2^1 & \\le c_2\n",
    "\\end{align}\n",
    "$$\n",
    "Thus, $2^{n+1} = O(2^{n})$ for any value of $c_2 \\ge 2$.\n",
    "\n",
    "> Is $2^{2n} = O(2^n)$?\n",
    "\n",
    "$$\n",
    "2^{2n} \\le c_22^n \\\\\n",
    "2^2 \\le c_2\n",
    "$$\n",
    "$\\therefore 2^2n = O(2^n)$ for any value of $c_2 \\ge 4$."
   ]
  },
  {
   "cell_type": "markdown",
   "metadata": {},
   "source": [
    "### 3.1-5\n",
    "We prove $f(n) = \\Theta(g(n))$ implies $f(n) = O(g(n))$ and $f(n) = \\Omega(g(n))$ and vice-versa. \n",
    "\n",
    "First, we show $f(n) = \\Theta(g(n))$ implies $f(n) = O(g(n))$ and $f(n) = \\Omega(g(n))$. Assume $f(n) = \\Theta(g(n))$. Then, there exists positive constants $c_1, c_2$ and $n_0$ such that $\\forall n \\ge n_0, 0 \\le c_1g(n) \\le f(n) \\le c_2g(n)$. Thus, there exists both a positive constant $c_2$ such that $0 \\le f(n) \\le c_2g(n)$, as well as a positive constant $c_1$ such that $0 \\le c_1g(n) \\le f(n)$ for all $n \\ge n_0$. $\\blacksquare$\n",
    "\n",
    "Now, assume $f(n) = O(g(n))$ and $f(n) = \\Omega(g(n))$. We now have two positive constants with which we can construct $\\forall n \\ge n_0, 0 \\le c_1g(n) \\le f(n) \\le c_2g(n)$. $\\blacksquare$"
   ]
  },
  {
   "cell_type": "markdown",
   "metadata": {},
   "source": [
    "### 3.1-6\n",
    "We prove the equivalency: If the worst case of an algorithm is $\\Theta(g(n))$, which we'll call $P$, then its worst-case running time is $O(g(n))$, which we'll call $R$, and its best-case running time is $\\Omega(g(n))$, which we'll call $S$, and collectively will call $Q$.\n",
    "\n",
    "First, we show $P\\;\\text{IMPLIES}\\;Q$, by contrapositive, or $\\text{NOT}(Q)\\;\\text{IMPLIES NOT}(P)$. Assume not $Q$. Then there do not exist positive constants $c_1, c_2$ such that $0 \\le f(n) \\le c_2g$, as well as $0 \\le c_1g(n) \\le f(n)$ for all $n \\ge n_0$, $\\therefore$, the inequality $\\forall n \\ge n_0, 0 \\le c_1g(n) \\le f(n) \\le c_2g(n)$ does not hold.\n",
    "\n",
    "Now, assume $NOT(P)$; we must prove $NOT(R)\\;||\\;NOT(S)$. Under our assumption, there do not exist positive constants $c_1, c_2$ such that $\\forall n \\ge n_0, 0 \\le c_1g(n) \\le f(n) \\le c_2g(n)$. Therefore, it is impossible to that there exist constants for both $0 \\le f(n) \\le c_2g$ and $0 \\le c_1g(n) \\le f(n)$. $\\blacksquare$"
   ]
  },
  {
   "cell_type": "markdown",
   "metadata": {},
   "source": [
    "### 3.1-7\n",
    "We prove $o(g(n)) \\cap \\omega(g(n)) = \\varnothing$. This is a proof by contradiction. Assume the set of $o(g(n)) \\cap \\omega(g(n))$ contains the function $f(n)$. Then $0 \\le c_1g(n) \\lt f(n)$ _and_ $0 \\le f(n) \\lt c_2g(n)$ for any possible values of $c_1, c_2$. It is not possible for a function to produce a value both less and greater than another value simultaneously, thus such a function does not exist."
   ]
  },
  {
   "cell_type": "markdown",
   "metadata": {},
   "source": [
    "### 3.1-8\n",
    "$$\n",
    "\\begin{align}\n",
    "\\Omega(g(n, m)) & = {f(n,m): \\text{there exist positive constants}\\,c, n_0, \\text{and}\\,m_0\\,\\text{such that}\\,0 \\le c(n,m) \\le f(n,m)\\,\\text{for all}\\,n \\ge n_0\\,\\text{or}\\,m \\ge m_0} \\\\\n",
    "\\Theta(g(n, m)) & = {f(n,m): \\text{there exist positive constants}\\,c_1,\\,c_2,\\,n_0, \\text{and}\\,m_0\\,\\text{such that}\\,0 \\le c_1g(n,m) \\le f(n,m) \\le c_2g(n,m)\\,\\text{for all}\\,n \\ge n_0\\,\\text{or}\\,m \\ge m_0}\n",
    "\\end{align}\n",
    "$$"
   ]
  },
  {
   "cell_type": "markdown",
   "metadata": {},
   "source": [
    "## Section 2) Standard notations and common functions"
   ]
  },
  {
   "cell_type": "markdown",
   "metadata": {},
   "source": [
    "### 3.2-1\n",
    "Let $P(n) = f(n)$ and $g(n)$ are monotonically increasing functions; let $Q(n) = f(n) + g(n)$ is monotonically increasing; let $R(n) = f(g(n))$ is monotonically increasing.\n",
    "\n",
    "We need to prove $P \\implies Q \\wedge P \\implies R$; we start with $P \\implies Q$. Assume $P$. Let $m \\lt n$. Then\n",
    "$$\n",
    "\\begin{align}\n",
    "f(m) & \\le f(n) \\\\\n",
    "0 & \\le f(n) - f(m)\n",
    "\\end{align}\n",
    "$$ with a similar conclusion for $g(n)$. Knowing the difference between $f(n)$ and $f(m)$ to be greater than zero, we can conclude:\n",
    "$$\n",
    "\\begin{align}\n",
    "f(m) + g(m) & \\le f(n) + g(n) \\\\\n",
    "0 & \\le f(n)-f(m) + g(n) + g(m)\n",
    "\\end{align}\n",
    "$$\n",
    "which qualifies $f(n) + g(n)$ as monotonically increasing. \n",
    "\n",
    "Now, we show $P \\implies R$. Knowing $m \\le n$, and $g(m) \\le g(n)$, we can conclude $f(g(m)) \\le f(g(n))$. \n",
    "$\\blacksquare$\n",
    "\n",
    "Now let $S$ extend $P$ to include \"$f(n)$ and $g(n)$ are in addition nonnegative\", and $T$ to be \"$f(n) \\cdot g(n)$ is monotonically increasing.\" We want to show $S \\implies T$. Assuming $S$, we now need to show\n",
    "$$\n",
    "f(m) \\cdot g(m) \\le f(n) \\cdot g(n)\n",
    "$$\n",
    "Assuming another basic property of multiplication, $\\exists x \\in \\mathbb{R}, \\forall a,b \\in \\mathbb{Z},\\; ab \\le (a+x)b\\;\\text{where}\\;x \\gt 0$, or simply, the product monotonically increases as either multiplicand increases. Since we know the functions to be monotonically increasing, we see that $f(m) \\cdot g(m) \\le f(n) \\cdot g(n)$ holds."
   ]
  },
  {
   "cell_type": "markdown",
   "metadata": {},
   "source": [
    "### 3.2-2\n",
    "> Prove $a^{log_b c} = c^{log_b a}$\n",
    "\n",
    "$$\n",
    "\\begin{align}\n",
    "a^{log_b c} & = a^{\\frac{log_a c}{log_a b}} \\\\\n",
    "& = (a^{log_a c})^{\\frac{1}{log_a b}}\n",
    "\\end{align}\n",
    "$$"
   ]
  },
  {
   "cell_type": "markdown",
   "metadata": {},
   "source": [
    "### 3.2-3\n",
    "> Prove $lg(n!) = \\Theta(n\\,lgn)$\n",
    "\n",
    "$$\n",
    "\\begin{align}\n",
    "n! & = \\sqrt{2 \\pi n}(\\frac{n}{e})^n(1+\\Theta(\\frac{1}{n})) \\\\\n",
    "lg(n!) & = lg(\\sqrt{2 \\pi n}(\\frac{n}{e})^n(1+\\Theta(\\frac{1}{n}))) \\\\\n",
    "& = lg(\\sqrt{2 \\pi n}) + lg(\\frac{n}{e})^n + lg(1+\\Theta(\\frac{1}{n})) \\\\\n",
    "& = lg(\\sqrt{2 \\pi n}) + nlg(\\frac{n}{e}) + lg(1+\\Theta(\\frac{1}{n})) \\\\\n",
    "& = \\Theta(lg\\sqrt{n}) + \\Theta(n\\,lgn) + \\Theta(lg\\frac{1}{n}) \\\\\n",
    "& = \\Theta(n\\,lg\\,n)\n",
    "\\end{align}\n",
    "$$\n",
    "\n",
    "$$\n",
    "\\begin{align}\n",
    "n! &= o(n^n) \\\\\n",
    "n \\cdot (n-1) \\cdot ... \\cdot 1 & \\lt n_1 \\cdot n_1 \\cdot ... \\cdot n_n \n",
    "\\\\\n",
    "n! &= \\omega(2^n) \\\\\n",
    "n \\cdot (n-1) \\cdot ... \\cdot 1 & \\gt 2_1 \\cdot 2_2 \\cdot ... \\cdot 2_n\n",
    "\\end{align}\n",
    "$$\n",
    "\n",
    "#redo"
   ]
  },
  {
   "cell_type": "markdown",
   "metadata": {},
   "source": [
    "### 3.2-4\n",
    "What we know:\n",
    "$$\n",
    "\\begin{align}\n",
    "\\newcommand{lgnceil}{\\lceil lg\\, n \\rceil}\n",
    "lg(n!) = \\Theta(n\\,lg\\,n) & \\qquad \\text{(3.19)}\\\\\n",
    "n! \\le \\lceil n! \\rceil \\le n! + 1 \\le 2n!; \\lceil n! \\rceil = \\Theta(n!) & \\qquad \\text{(3.3)} \\\\\n",
    "f(n) = O(n^k) &\\qquad \\text{Def. of Polynomially bounded} \\\\\n",
    "lg\\,(f(n)) = O(ck\\,lg\\,n) = O(lg\\,n) &\\qquad \\text{Slight derivation}\n",
    "\\\\\n",
    "\\\\\n",
    "lg(n!) &= \\Theta(n\\,lg\\,n) &\\qquad \\text{3.19}  \\\\\n",
    "lg(\\lgnceil)! &= \\Theta(\\lgnceil\\,lg\\,\\lgnceil) & \\qquad \\text{Let } n \\text{ equal } \\lceil lg\\, n \\rceil \\\\\n",
    "&= \\Theta(lg\\,n\\ (lg\\,lg\\,n)) &\\qquad \\text{By 3.3} \\\\\n",
    "\\Theta(lg\\,n) &\\neq \\Theta(lg\\,n\\ lg\\,(lg\\,n)) &\\qquad \\text{Def. of Polynomially bounded} \\\\\n",
    "\\end{align}\n",
    "$$\n",
    "Thus, $\\lceil lg\\, n \\rceil !$ is _not_ polynomially bounded.\n",
    "\n",
    "$$\n",
    "\\begin{align}\n",
    "\\newcommand{dublgn}{lg\\,lg\\,n}\n",
    "\\newcommand{lgnlgnceil}{\\lceil \\dublgn \\rceil} \n",
    "lg(n!) &= \\Theta(n\\,lg\\,n) &\\qquad \\text{3.19} \\\\\n",
    "lg(\\lgnlgnceil)! &= \\Theta(\\lgnlgnceil\\,lg\\,\\lgnlgnceil) &\\qquad \\text{Let } n \\text{ equal } \\lgnlgnceil \\\\\n",
    "&= \\Theta(\\dublgn\\,lg\\,(\\dublgn)) &\\qquad \\text{By 3.3} \\\\\n",
    "&= o((\\dublgn)^2) &\\qquad \\text{Relax to non-asymptotically-tight upper bound}\\\\\n",
    "&= o(\\lg^2(lg\\,n)) &\\text{exponentiation} \\\\\n",
    "&= o(\\lg n) &lg^b n = o(n^a) \n",
    "\\end{align}\n",
    "$$\n",
    "\n",
    "Resources:\n",
    "* http://answers-by-me.blogspot.com/2010/08/clrs-2e-exercise-32-4.html\n",
    "* http://s3.alirezaweb.com/91-5/introduction-to-algorithms/solution-manual/3th-edition-exercises-and-problems/chap3-solutions-www.alirezaweb.com.pdf\n",
    "#redo\n",
    "\n",
    "#time=1h1m"
   ]
  },
  {
   "cell_type": "markdown",
   "metadata": {},
   "source": [
    "### 3.2-5\n",
    "First, a short code demonstration:"
   ]
  },
  {
   "cell_type": "code",
   "execution_count": 2,
   "metadata": {
    "collapsed": false
   },
   "outputs": [
    {
     "name": "stdout",
     "output_type": "stream",
     "text": [
      "2 [2.0, 1.0]\n",
      "4 [4.0, 2.0, 1.0]\n",
      "8 [8.0, 3.0, 1.584962500721156, 0.6644487074538893]\n",
      "16 [16.0, 4.0, 2.0, 1.0]\n",
      "32 [32.0, 5.0, 2.321928094887362, 1.2153232957367877, 0.2813401452001366]\n",
      "64 [64.0, 6.0, 2.584962500721156, 1.3701433519460013, 0.4543268437859885]\n"
     ]
    }
   ],
   "source": [
    "import math\n",
    "def iterlg(n):\n",
    "    steps = []\n",
    "    while n > 1:\n",
    "        n = math.log2(n)\n",
    "        steps.append(n)\n",
    "    return steps\n",
    "powers = [2, 4, 8, 16, 32, 64]\n",
    "for p in powers:\n",
    "    print(p, iterlg(2**p))"
   ]
  },
  {
   "cell_type": "markdown",
   "metadata": {},
   "source": [
    "We see that the input into the next iteration is the previous iteration's exponent. With that visual, hopefully we can intuit how the iterated logarithm works. As far as which function is larger, lets see what our simulation says:"
   ]
  },
  {
   "cell_type": "code",
   "execution_count": 3,
   "metadata": {
    "collapsed": false
   },
   "outputs": [
    {
     "name": "stdout",
     "output_type": "stream",
     "text": [
      "2^8: 2.00000 v. 3.00000\n",
      "2^16: 2.00000 v. 3.00000\n",
      "2^24: 2.32193 v. 4.00000\n",
      "2^32: 2.32193 v. 4.00000\n",
      "2^40: 2.32193 v. 4.00000\n",
      "2^48: 2.32193 v. 4.00000\n",
      "2^56: 2.32193 v. 4.00000\n",
      "2^64: 2.32193 v. 4.00000\n",
      "2^72: 2.32193 v. 4.00000\n",
      "2^80: 2.32193 v. 4.00000\n"
     ]
    }
   ],
   "source": [
    "def compare(base=8, steps=10):\n",
    "    i = 1\n",
    "    while i <= steps:\n",
    "        val = 2**(8*i)\n",
    "        print(\"2^{:d}: {:.5f} v. {:.5f}\".format(    \n",
    "            8*i, math.log2(len(iterlg(val))), len(iterlg(math.log2(val)))))\n",
    "        i += 1\n",
    "        \n",
    "compare()"
   ]
  },
  {
   "cell_type": "markdown",
   "metadata": {},
   "source": [
    "The simulation supports $O(lg(lg^*\\,n)) \\lt O(lg^*(lg\\,n))$. Intuitively, we can understand it as first reducing a potentially incredibly large value to $\\le 1$ in only five or fewer steps, then taking the $lg$ of that number of steps. Since the $lg(5) = 2.32193$, we essentially have a constant operation.\n",
    "\n",
    "To prove:\n",
    "$$\n",
    "\\begin{gather}\n",
    "lg(lg^*n) \\\\\n",
    "\\text{Let } lg^*n = x \\\\\n",
    "\\text{Then, } lg^*(lg\\,n) = x - 1 \\\\\n",
    "lg\\, x \\lt x - 1 \\\\\n",
    "O(lg(lg^*n)) \\lt O(lg^*(lg\\,n))\n",
    "\\end{gather}\n",
    "$$\n",
    "\n",
    "#time=48m34s"
   ]
  },
  {
   "cell_type": "markdown",
   "metadata": {},
   "source": [
    "### 3.2-6\n",
    "$$\n",
    "\\begin{align}\n",
    "\\newcommand{\\Est}[1]{\\hat{#1}}\n",
    "\\newcommand{\\goldenRatio}{\\frac{1+\\sqrt{5}}{2}}\n",
    "\\phi &= \\goldenRatio \\\\\n",
    "(\\goldenRatio)^2 &= \\goldenRatio - 1 \\\\\n",
    "\\frac{1-2\\sqrt{5} + 5}{4} &= \\frac{3-\\sqrt{5}}{2} \\\\\n",
    "0 & = \\frac{3-\\sqrt{5}}{2} - \\frac{1-2\\sqrt{5} + 5}{4} \\\\\n",
    "&= \\frac{6-2\\sqrt{5}-1-2\\sqrt{5} + 5}{4} \\\\\n",
    "&= \\frac{0}{4}\n",
    "\\end{align}\n",
    "$$\n",
    "The same procedure is followed for $\\hat{\\phi} = \\frac{1-\\sqrt{5}}{2}$."
   ]
  },
  {
   "cell_type": "markdown",
   "metadata": {},
   "source": [
    "### 3.2-7\n",
    "We prove by induction.\n",
    "\n",
    "Base Case(s):\n",
    "$$\n",
    "\\begin{align}\n",
    "F_0 &= \\frac{\\phi^0-\\hat{\\phi^0}}{\\sqrt{5}} = \\frac{1-1}{\\sqrt{5}} = \\frac{0}{\\sqrt{5}} = 0 \\\\\n",
    "F_1 &= \\frac{\\phi^1-\\hat{\\phi^1}}{\\sqrt{5}} = \\frac{ \\frac{1+\\sqrt{5}-1+\\sqrt{5} }{2} }{\\sqrt{5}} \n",
    "= \\frac{ \\frac{2\\sqrt{5}}{2} }{\\sqrt{5}} = \\frac{\\sqrt{5}}{\\sqrt{5}} = 1\n",
    "\\end{align}\n",
    "$$\n",
    "Inductive hypothesis:\n",
    "$$\n",
    "\\begin{align}\n",
    "\\text{Assume } F_i &= \\frac{\\phi^i - \\hat{\\phi^i}}{\\sqrt{5}} = F_{i-1} + F_{i-2} \n",
    "= \\frac{\\phi^{i-1} - \\hat{\\phi^{i-1}}}{\\sqrt{5}} + \\frac{\\phi^{i-2} - \\hat{\\phi^{i-2}}}{\\sqrt{5}} \\\\\n",
    "\\text{Then, } F_{i+1} &= \\frac{\\phi^{i+1-1} - \\hat{\\phi^{i+1-1}}}{\\sqrt{5}} + \\frac{\\phi^{i+1-2} - \\hat{\\phi^{i+1-2}}}{\\sqrt{5}} \\\\\n",
    "&= \\frac{\\phi^{i} - \\hat{\\phi^{i}} + \\phi^{i-1} - \\hat{\\phi^{i-1}}}{\\sqrt{5}} \\\\\n",
    "&= \\frac{\\phi^{i-1}(\\phi+1) - \\hat{\\phi^{i-1}}(\\hat{\\phi}+1)}{\\sqrt{5}} \\\\\n",
    "\\text{Since } x^2 = x + 1 \\text{ when } x \\in \\{\\phi, \\hat{\\phi}\\} \\text{, } \\therefore\\ &= \\frac{\\phi^{i-1}\\phi^2 - \\hat{\\phi^{i-1}}\\hat{\\phi}^2}{\\sqrt{5}} \\\\\n",
    "&= \\frac{\\phi^{i+1} - \\hat{\\phi^{i+1}}}{\\sqrt{5}}\n",
    "\\end{align}\n",
    "$$\n",
    "\n",
    "#time=43m50s"
   ]
  },
  {
   "cell_type": "markdown",
   "metadata": {},
   "source": [
    "### 3.2-8\n",
    "$$\n",
    "k = \\Theta(\\frac{k\\,ln\\,k}{ln(k\\,ln\\,k)}) = \\Theta(\\frac{k\\,ln\\,k}{ln\\,k + ln\\,ln\\,k)})\n",
    "= \\Theta(\\frac{k\\,ln\\,k}{ln\\,k})\n",
    "= \\Theta(k)\n",
    "$$\n",
    "In the third step, we use the hand-waving of $\\Theta$-notation to make $ln\\,ln\\,k$ disappear from the denominator."
   ]
  },
  {
   "cell_type": "markdown",
   "metadata": {},
   "source": [
    "## Problems"
   ]
  },
  {
   "cell_type": "markdown",
   "metadata": {},
   "source": [
    "### 3.1 Asymptotic behavior of polynomials\n",
    "a) If $k \\ge d$, as $n$ goes large, we will see the first term of $p(n)$, $a_dn^d$, dominate the polynomial. If we can show that $p(n) = O(n^k)$ when $k=d$, then any scenario where $k \\gt d$ follows.\n",
    "\n",
    "In English, albeit brief: Let $k=d$. Expand the polynomial series, then divide both sides by $n^k$. This shows that all non-leading terms will approach 0 as $n$ grows. Let $n = 1$; since as $n$ grows, the non-leading terms will proportionately diminish in contribution, this will also serve as our $n_0$. This leaves us with a summation of the original coefficients, which $c$ just needs to be equal to or greater than.\n",
    "\n",
    "$$\n",
    "\\begin{align}\n",
    "\\text{Let } k=d & & \\\\\n",
    "0 & \\le a_dn^d + a_{d-1}n^{d-1} + \\ldots + a_1n^1 + a_0 &\\le cn^k \\\\\n",
    "& \\le a_dn^{d-k} + a_{d-1}n^{d-k-1} + \\ldots + a_1n^{1-k} + a_0n^{-k} &\\le c \\\\\n",
    "& \\le a_d + a_{d-1}n^{-1} + \\ldots + a_1n^{1-d} + a_0n^{-d} &\\le c \\\\\n",
    "\\text{Let } n=1 & & \\\\\n",
    "& \\le a_d + a_{d-1}1^{-1} + \\ldots + a_1 1^{1-d} + a_0 1^{-d} &\\le c \\\\\n",
    "& \\le a_d + a_{d-1} + \\ldots + a_1 + a_0 &\\le c \\\\\n",
    "& \\le \\sum_{i=0}^d a_i &\\le c\n",
    "\\end{align}\n",
    "$$\n",
    "\n",
    "Therefore, when $c=\\sum_{i=0}^d a_i$, and $n_0 = 1$, $p(n) = O(n^k)$.\n",
    "\n",
    "b) Choose $c \\le \\sum_{i=0}^d a_i$.\n",
    "\n",
    "c) Combinining a & b, we have $n_0 = 1$, and $c_1 \\le \\sum_{i=0}^d a_i \\le c_2$.\n",
    "\n",
    "d) $ \\sum_{i=0}^d a_i \\lt c + x$, where $x \\in \\mathbb{N}$.\n",
    "\n",
    "e) $ c-x \\lt \\sum_{i=0}^d a_i $, where $x \\in \\mathbb{N}$."
   ]
  },
  {
   "cell_type": "markdown",
   "metadata": {},
   "source": [
    "### 3-2\n",
    "$$\n",
    "\\begin{align}\n",
    "& A         & B               & O & o & \\Omega & \\omega & \\Theta \\\\\n",
    "& lg^k\\,n   & n^\\epsilon      & n & y & n      & n      & n      \\\\\n",
    "& n^k       & c^n             & n & y & n      & n      & n      \\\\\n",
    "& \\sqrt{n}  & n^{sin\\ h}      & n & n & n      & n      & n      \\\\\n",
    "& 2^n       & 2^{\\frac{n}{2}} & y & y & y      & y      & y      \\\\\n",
    "& n^{lg\\,c} & c^{lg\\,n}       & n & y & n      & n      & n      \\\\\n",
    "& lg(n!)    & lg(n^n)         & y & y & y      & y      & y      \n",
    "\\end{align}\n",
    "$$\n",
    "\n",
    "Sigh. IPython doesn't seem to recognize the \\tabluar LaTeX environment.\n",
    "\n",
    "#time=27m34s"
   ]
  },
  {
   "cell_type": "markdown",
   "metadata": {},
   "source": [
    "### 3-3\n",
    "Ranking, from fastest to slowest growth. Same line indicates equivalence: $f(n) = \\Theta(g(n))$.\n",
    "In general: $n^n \\gt n! \\ge a^n \\gt n^b \\gt n\\,lg\\,n \\gt lg^b\\,n \\gt lg^*\\,n \\gt a^k$.\n",
    "\n",
    "Unlike my usual \"prove it all!\", I'm going to settle for bucketing the functions into the categories. A couple I made up, such as Pseudo-constant for functions which grow so slowly as to appear constant-valued, and Super-whatever, for when $n$ shows up in multiple places. What would be left is to further refine the buckets\n",
    "\n",
    "$$\n",
    "\\text{Super-Exponential: } \\\\\n",
    "\\text{Factorial: } n!,\\  \\\\\n",
    "\\text{Exponential: } 2^{2^n},\\ n\\cdot2^n,\\ \\frac{3}{2}^n \\\\\n",
    "\\text{Polynomial: } n^3,\\ n^2\\ \\\\\n",
    "\\text{Super-Polylogarithmic: } n\\,lg\\,n,\\  \\\\\n",
    "\\text{Polylogarithmic: } lg^2\\,n,\\ \\\\\n",
    "\\text{Logarithmic: } ln\\,ln\\,n,\\ (lg\\,n)!,\\ \\\\\n",
    "\\text{Iterated logarithm: } lg(lg^*\\,n),\\ lg^*\\,n,\\ \\\\\n",
    "\\text{Pseudo-Constant: } 2^{lg^*n},\\  (\\sqrt{2})^{lg\\,n},\\ n^{1/lg\\,n} \\\\\n",
    "\\text{Linear: } n\\ \\\\\n",
    "\\text{Constant: } 1\\  \\\\\n",
    "$$\n",
    "\n",
    "lg(n!) \\\\\n",
    " \\\\\n",
    " \\\\\n",
    "\n",
    "\n",
    "b) A single function that isn't bounded above or below for any equation listed above? Well, how about $n^{sin\\ h}$ from problem 3-2. This curious little oscillator periodically goes to zero. Let's couple this weirdness with something like $n^n$ to outstrip any upper bound, making $n^{n\\,sin\\ h}$.\n",
    "\n",
    "#incomplete"
   ]
  },
  {
   "cell_type": "markdown",
   "metadata": {},
   "source": [
    "### 3-4\n"
   ]
  }
 ],
 "metadata": {
  "kernelspec": {
   "display_name": "Python 3",
   "language": "python",
   "name": "python3"
  },
  "language_info": {
   "codemirror_mode": {
    "name": "ipython",
    "version": 3
   },
   "file_extension": ".py",
   "mimetype": "text/x-python",
   "name": "python",
   "nbconvert_exporter": "python",
   "pygments_lexer": "ipython3",
   "version": "3.5.2"
  }
 },
 "nbformat": 4,
 "nbformat_minor": 0
}
