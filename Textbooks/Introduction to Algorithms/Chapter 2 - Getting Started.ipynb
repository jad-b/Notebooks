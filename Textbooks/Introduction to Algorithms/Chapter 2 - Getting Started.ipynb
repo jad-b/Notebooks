{
 "cells": [
  {
   "cell_type": "markdown",
   "metadata": {},
   "source": [
    "# 2.2) Analyzing Algorithms"
   ]
  },
  {
   "cell_type": "markdown",
   "metadata": {},
   "source": [
    "##### 2.1-1\n",
    "```\n",
    "[31,41!,59,26,41,58]; j=2\n",
    "[31,41,59!,26,41,58]; j=3\n",
    "[31>,41>,59>,26!,41,58]; j=4\n",
    "[26,31,41,59>,41!,58]; j=5\n",
    "[26,31,41,41,59>,58!]; j=6\n",
    "[26,31,41,41,58,59]; j=7\n",
    "```"
   ]
  },
  {
   "cell_type": "markdown",
   "metadata": {},
   "source": [
    "##### 2.1-2\n",
    "```\n",
    "for j=2 to A.length\n",
    "    key = A[j]\n",
    "    i = j-1\n",
    "    while i > 0 and A[i] < key\n",
    "        A[i+1] = A[i]\n",
    "        i--\n",
    "    A[i+1]\n",
    "```"
   ]
  },
  {
   "cell_type": "markdown",
   "metadata": {},
   "source": [
    "##### 2.1-3\n",
    "```\n",
    "for i=1 to A.length\n",
    "    if A[i] == v\n",
    "        return i\n",
    "    return NIL\n",
    "```\n",
    "__Invariant)__ At the start of iteration $i$, the subarray $A[i..i-1]$ does __not__ contain the value v.\n",
    "\n",
    "__Initialization)__ $A[1..0]$ contains no values, and therefore doesn't contain value v.\n",
    "\n",
    "__Maintenance)__ All values within A[1..i-1] do not equal v, having been checked by the previous iteration.\n",
    "\n",
    "__Termination)__ When $i=A.length+1$, $A[i..A.length]$ has been proven to not contain v. Or, v was found, and the return at line 3 occurred."
   ]
  },
  {
   "cell_type": "markdown",
   "metadata": {},
   "source": [
    "##### 2.1-4\n",
    "Input) Two n-length arrays containing binary numbers\n",
    "Output) An (n+1) length array containing the sum of the input arrays.\n",
    "\n",
    "```\n",
    "BINARYADD(A, B)\n",
    "    C = int[1..A.length+1]\n",
    "    carry = 0\n",
    "    for i=A.length downto 1\n",
    "        sum = A[i] + B[i] + carry\n",
    "        if sum > 1\n",
    "            C[i+1] = sum - 2\n",
    "            carry = 1\n",
    "        else\n",
    "            C[i+1] = sum\n",
    "            carry = 0\n",
    "    C[1] = carry\n",
    "```"
   ]
  },
  {
   "cell_type": "markdown",
   "metadata": {},
   "source": [
    "##### 2.2-1\n",
    "$$\n",
    "\\Theta(\\frac{n^3}{1000} - 100n^2 - 100n + 3) = \\Theta(n^3)\n",
    "$$"
   ]
  },
  {
   "cell_type": "markdown",
   "metadata": {},
   "source": [
    "##### 2.2-2\n",
    "```\n",
    "# Selection Sort\n",
    "for j=1 to A.length-1:\n",
    "    min = j\n",
    "    for i=j+1 to A.length:\n",
    "        if A[i] < min:\n",
    "            min = i\n",
    "    A[j], A[min] = A[min], A[j]\n",
    "``` \n",
    "Invariant) A[1..j-1] is sorted\n",
    "\n",
    "Init) A[1..1] is sorted (list of size 1)\n",
    "\n",
    "Maintenance) A[1..j-1] is sorted. After the iteration, $A[j] > x \\in \\forall A[1..j-1]$\n",
    "\n",
    "Termination) After interating over the array, all values have been swapped where appropriate.\n",
    "\n",
    "The loop doesn't need to touch the last element, as it is inspected by previous calls to the inner for loop.\n",
    "\n",
    "$\\Omega(n^2)$\n",
    "\n",
    "$\\Theta(n^2)$"
   ]
  },
  {
   "cell_type": "markdown",
   "metadata": {},
   "source": [
    "##### 2.2-3\n",
    "For each pass of a linear search, we inspect between 1 to _n_ items. Thus, we inspect the following number of items on average:\n",
    "$$\n",
    "\\frac{\\sum_{i=1}^{n}}{n} = \\frac{n(n+1)}{2}\\frac{1}{n} = \\frac{(n+1)}{2}\n",
    "$$"
   ]
  },
  {
   "cell_type": "markdown",
   "metadata": {},
   "source": [
    "##### 2.2-4\n",
    "> How can we modify almost any algorithm to have a good best-case running time?\n",
    "\n",
    "Check if the input already satisfies the output. It adds a factor of _n_ to the runtime, but can drastically save time otherwise."
   ]
  },
  {
   "cell_type": "markdown",
   "metadata": {},
   "source": [
    "# 2.3) Designing Algorithms"
   ]
  },
  {
   "cell_type": "markdown",
   "metadata": {},
   "source": [
    "##### 2.3-1\n",
    "```python\n",
    "A = [3, 41, 52, 26, 38, 57, 9, 49]\n",
    "# Divide (Conquer through implicit calls to MERGE-SORT)\n",
    "A1, A2 = [3, 41, 52, 26], [38, 57, 9, 49]\n",
    "A11, A12, A21, A22 = [3, 41], [52, 26], [38, 57], [9, 49]\n",
    "A11, A12, A13, A14, A21, A22, A23, A24 = [3], [41], [52], [26], [38], [57], [9], [49]\n",
    "# Combine\n",
    "A11, A12, A21, A22 = [3, 41], [26, 52], [38, 57], [9, 49]\n",
    "A1, A2 = [3, 26, 41, 52], [9, 38, 49, 57]\n",
    "A = [3, 9, 26, 38, 41, 49, 52, 57]\n",
    "```"
   ]
  },
  {
   "cell_type": "markdown",
   "metadata": {},
   "source": [
    "##### 2.3-2\n",
    "```python\n",
    "def merge(A,p,q,r): \n",
    "    n1 = q - p + 1\n",
    "    n2 = r - q\n",
    "    l, r = [], []\n",
    "    for i=1 to n1:\n",
    "        l[i] = A[p+i-1]\n",
    "    for i=1 to n2:\n",
    "        r[i] = A[q+i]\n",
    "    i, j = 1, 1\n",
    "    for k=p to r:\n",
    "        if i > n1:\n",
    "            A[k:] = r[j:]\n",
    "            return\n",
    "        if j > n2:\n",
    "            A[k:] = l[i:]\n",
    "            return\n",
    "        if l[i] < r[j]:\n",
    "            A[k] = l[i]\n",
    "            i++\n",
    "        else:\n",
    "            A[k] = r[j]\n",
    "            j++\n",
    "```"
   ]
  },
  {
   "cell_type": "markdown",
   "metadata": {},
   "source": [
    "##### 2.3-3 (Redo)\n",
    "Hint: Work with $2^k$ instead of $n$, and assume $T(2^k) = 2^k lg 2^k$ for the inductive step."
   ]
  },
  {
   "cell_type": "markdown",
   "metadata": {},
   "source": [
    "##### 2.3-4\n",
    "$$\n",
    "\\begin{equation}\n",
    "I(n) = \\begin{cases}\n",
    "1 & \\text{if $n=1$}, \\\\\n",
    "n-1 &\n",
    "\\end{cases} \\\\\n",
    "T(n) = n(n-1)\n",
    "\\end{equation}\n",
    "$$"
   ]
  },
  {
   "cell_type": "markdown",
   "metadata": {},
   "source": [
    "##### 2.3-5\n",
    "```python\n",
    "BinarySearch(A, v)\n",
    "    lo, hi = 1, A.length\n",
    "    while lo < hi:\n",
    "        mid = floor((lo + hi)/2)\n",
    "        if v == mid:\n",
    "            return mid\n",
    "        if v < mid:\n",
    "            hi = mid - 1\n",
    "        if v > mid: \n",
    "            lo = mid + 1  // Accounts for 'mid' rounding down\n",
    "    return NIL\n",
    "```\n",
    "With each pass, the size of the input is reduced by a factor of 2. Any input of size $2^k$ can reduced to a size of 1 with no more than $k$ iterations. Non-power of 2 inputs add a constant step of 1 to the algorithm"
   ]
  },
  {
   "cell_type": "markdown",
   "metadata": {},
   "source": [
    "##### 2.3-7\n",
    "> Describe a $\\Theta(n \\mathrm{lg} n)$-time algorithm that, given a set $S$ of $n$ integers and another integer $x$, determines whether or not there exist two elements in $S$ whose sum is exactly $x$.\n",
    "\n",
    "```python\n",
    "TwoSum(S, x):\n",
    "    A = MergeSort(S)  // Sort the input (n lg n)\n",
    "    // Optimization: Limit our search to values less than x\n",
    "    z = LinearLessThanSearch(A, x) // n\n",
    "    i = 1\n",
    "    while A[i] < x:  // One pass; n\n",
    "        // Search for the sum's complement\n",
    "        if BinarySearch(A[i..z], x-A[i]): // lg n\n",
    "            return True\n",
    "        i++\n",
    "    return False\n",
    "    // (n lg n) + n + (n lg n) = n lg n\n",
    "```"
   ]
  },
  {
   "cell_type": "markdown",
   "metadata": {},
   "source": [
    "## Problems"
   ]
  },
  {
   "cell_type": "markdown",
   "metadata": {},
   "source": [
    "### 2-1) Insertion sort on small arrays in merge sort"
   ]
  },
  {
   "cell_type": "markdown",
   "metadata": {},
   "source": [
    "a) Insertion sort has a worst-case runtime of $\\Theta(k^2)$. If we run the algorithm $\\frac{n}{k}$ times, we have $\\Theta(k^2 * \\frac{n}{k}) = \\Theta(nk)$"
   ]
  },
  {
   "cell_type": "markdown",
   "metadata": {},
   "source": [
    "b) You create $\\frac{n}{k}$ sublists as leaf nodes in the recurrence tree, which must be merged in pairs. If we assume $k$ is a power of 2 to simplify analysis, there are $lg \\frac{n}{k}$ levels to combine. Each level contains $\\frac{n}{k}$ sublists of size $k$ elements, which multiply to a total cost of $n$, like the original merge sort. Multiplying the cost for each level, $n$, by the number of levels, $\\frac{n}{k}$, provides a run-time of $\\Theta(n lg(\\frac{n}{k}))$"
   ]
  },
  {
   "cell_type": "markdown",
   "metadata": {},
   "source": [
    "c)\n",
    "$$\n",
    "\\begin{align*}\n",
    "\\text{MergeSort} &= \\Theta (n + n lg n) \\\\\n",
    "\\text{MergeSort w/ InsertionSort} &= \\Theta (nk + n lg (\\frac{n}{k}))\n",
    "\\end{align*}\n",
    "$$\n",
    "We want to find the largest value of $k$ that satisfies the $nk + n\\,lg\\,(\\frac{n}{k}) = n + n\\,lg\\,n$. \n",
    "When $k=1$, the equations are identical. When $k>1$, we can compare the two parts of each sum. $nk > n$, so we know to arrive at equality the next part must compensate by a factor of $k$. Similarly, we know $n\\,lg\\,(\\frac{n}{k}) < n\\,lg\\,n$ by a factor of $lg\\,n - lg\\,k$. We set the two compensating factors equal to one another, arriving at\n",
    "\n",
    "$$ \n",
    "\\begin{align}\n",
    "k &= lg\\,n - lg\\,k \\\\\n",
    "k + lg\\,k &= lg\\,n \\\\\n",
    "2^{k + lg\\,k} &= 2^{lg\\,n} \\\\\n",
    "2^{k} + k &= n\n",
    "\\end{align}\n",
    "$$\n",
    "\n",
    "...except that's wrong, because that value takes off exponentially. Everyone else on the internet says the answer is $lg\\,n$, so what am I missing? The intuition is using $INSERTIONSORT$ provides a lower bound on how small the sublists will get.\n",
    "\n",
    "#redo"
   ]
  },
  {
   "cell_type": "markdown",
   "metadata": {},
   "source": [
    "d) Empirically, $k$ can be chosen by running benchmarks between InsertionSort versus MergeSort. The greatest input size for which InsertionSort outperforms MergeSort becomes $k$."
   ]
  },
  {
   "cell_type": "markdown",
   "metadata": {
    "collapsed": true
   },
   "source": [
    "### 2-2) Correctness of bubblesort"
   ]
  },
  {
   "cell_type": "markdown",
   "metadata": {},
   "source": [
    "a) In addition to showing $BUBBLESORT$ terminates, and the output is in sorted order, we need to prove the base case ($n=1$), as well as provide an *inductive step* showing the loop invariant(s) hold for $A[1..i-1]$ & $A[1..i]$ for $i$ from 2 to $A.length$."
   ]
  },
  {
   "cell_type": "markdown",
   "metadata": {},
   "source": [
    "b) \n",
    "\n",
    "__Variant)__ At the start of each iteration of the *for* loop of lines 2-4, $A[j]$ is the smallest element within the subarray $A[j..A.length]$.\n",
    "\n",
    "__Initialization)__ Prior to the first iteration of the loop, we have $j=A.length$, so that the subarray $A[A.length..A.length]$ contains one element, which is obviously the smallest element in the subarray. \n",
    "\n",
    "__Maintenance)__ For each iteration of the loop, the value of $A[j]$ is compared against the value at $A[j-1]$; if less, the values are swapped. This ensures that at the start of the loop, $A[j]$ is the smallest element within $A[j..A.length]$.\n",
    "\n",
    "__Termination)__ At termination, $j = i$. This means that $A[i]$ is the smallest element within the subarray $A[i..A.length]$."
   ]
  },
  {
   "cell_type": "markdown",
   "metadata": {},
   "source": [
    "c) \n",
    "\n",
    "__Variant)__ At the start of each iteration of the for loop of lines 1-4, the subarray $A[1..i-1]$ contains $i-1$ elemnets of $A$ in sorted order.\n",
    "\n",
    "__Initialization)__ Prior to the first iteration, $i=1$, and the subarray $A[1..(1-1)]$ is empty. \n",
    "\n",
    "__Maintenance)__ In each iteration, the smallest value within $A[i..A.length]$ is moved to position $A[i]$. \n",
    "\n",
    "__Termination)__ At termination, $i=A.length$, so $A[1..A.length]$, or simply $A$, is in sorted order."
   ]
  },
  {
   "cell_type": "markdown",
   "metadata": {},
   "source": [
    "d) \n",
    "$$\n",
    "\\begin{align}\n",
    "n(n-1(c_1 + c_2)) &= n^2 - n(c_1 + c_2) \\\\\n",
    "&= \\Theta(n^2)\n",
    "\\end{align}\n",
    "$$"
   ]
  },
  {
   "cell_type": "markdown",
   "metadata": {},
   "source": [
    "### 2-3) Correctness of Horner's rule"
   ]
  },
  {
   "cell_type": "markdown",
   "metadata": {},
   "source": [
    "a) $c_2\\,n + c_1 = \\Theta(n)$"
   ]
  },
  {
   "cell_type": "markdown",
   "metadata": {},
   "source": [
    "b) \n",
    "```python\n",
    "y = coeffs[0] // start with the first coefficient\n",
    "for k=1 to n:\n",
    "    z = x\n",
    "    for i=1 to k: // Perform a naive exponentiation\n",
    "        z = z * x\n",
    "    y += coeffs[k] * z\n",
    "```\n",
    "$$\n",
    "\\begin{align}\n",
    "\\sum^{n}_{k=0}k &= \\frac{1}{2}n(n+1) \\quad & \\quad \\text{Perform a constant-time multiplication k times} \\\\\n",
    "&= \\sum^{n}_{k=0}(n^2) \\quad & \\quad \\text{Simplify to the highest-order term} \\\\\n",
    "&= \\Theta(n^2)\n",
    "\\end{align}\n",
    "$$\n",
    "\n",
    "The naive approach runs $n^2$ slower than Horner's rule."
   ]
  },
  {
   "cell_type": "markdown",
   "metadata": {},
   "source": [
    "c) \n",
    "\n",
    "__Invariant)__ $y = \\sum_{k=0}^{n-(i+1)}a_{k+i+1}x^k$\n",
    "\n",
    "__Initialization)__ $i=n; \\sum_{k=0}^{n-(n+1)}a_{k+-1+1}x^k = \\sum_{k=0}^{-1)}a_{k+n+1}x^k$. The range [0,-1] contains no elements.\n",
    "\n",
    "__Maintenance)__ \n",
    "$$\n",
    "\\begin{align}\n",
    "y' &= a_i + x \\cdot y & \\textsf{From the pseudocode}\\\\\n",
    "&= a_i + x\\sum_{k=0}^{n-(i+1)}a_{k+i+1}x^k \\ & \\textsf{Expand y to be the loop invariant} \\\\\n",
    "&= a_i + \\sum_{k=0}^{n-(i+1)}a_{k+i+1}x^{k+1} & \\textsf{Push x into the summation} \\\\\n",
    "&= \\sum_{k=-1}^{n-(i+1)}a_{k+i+1}x^{k+1} & \\textsf{Account for the first term by increasing the range to -1} \\\\\n",
    "&= \\sum_{k'=0}^{n-(i+1)}a_{k'+i}x^{k'} & k'=k+1; \\text{Returns the range to [0,n-(i+1)]}  \\\\\n",
    "&= \\sum_{k'=0}^{n-(i'+1)}a_{k'+i+1}x^{k'} & i'=i-1; \\text{Update for the loop iterating} \\\\\n",
    "\\end{align}\n",
    "$$\n",
    "\n",
    "__Termination)__ $i=-1; y = \\sum_{k=0}^{n-(-1+1)}a_{k+-1+1}x^k = \\sum_{k=0}^{n}a_{k}x^k$.\n",
    "We've successfully arrived at the original description of Horner's Rule."
   ]
  },
  {
   "cell_type": "markdown",
   "metadata": {},
   "source": [
    "d) The code evaluates all terms, and its invariant has been shown to terminate as Horner's Rule."
   ]
  },
  {
   "cell_type": "markdown",
   "metadata": {},
   "source": [
    "### Problem 2-4) Inversions"
   ]
  },
  {
   "cell_type": "markdown",
   "metadata": {},
   "source": [
    "a) Inversions by index: [(1,5),(2,5),(3,4),(3,5),(4,1)]. Inversions by value: [(2,1),(3,1),(8,6),(8,1),(6,1)]."
   ]
  },
  {
   "cell_type": "markdown",
   "metadata": {},
   "source": [
    "b) An array with _n_-values sorted in descending order, $[n..1]$, contains the most inversions. For any index _i_, there will be $n-i$ inversions following it in the subarray $A[i..n]$. This can be expressed as $\\sum_{i=2}^{n}(i-1)$, with $i=2$ as we can not include the starting value when comparing for inversions. Using the summation solution, we arrive at $\\sum_{i=2}^{n}(i-1) = \\frac{n(n-1)}{2}$ for the maximal number of inversions.\n",
    "\n",
    "#rewrite"
   ]
  },
  {
   "cell_type": "markdown",
   "metadata": {},
   "source": [
    "c) Insertion sort performs as many move operations as there are inversions within an array; $\\sum_{i=2}^n(i-1)$. Intuitively, this makes sense, as each inversion must be accounted for during the sort."
   ]
  },
  {
   "cell_type": "markdown",
   "metadata": {},
   "source": [
    "d) The strategy will be to augment MergeSort to return the number of inversions it encounters while merging subarrays. An inversion(s) will be detected everytime the subarray an element from $A[q+1..r]$ is greater than an element from $A[p..q]$.\n",
    "```python\n",
    "INVERSIONCOUNT(A, p, r):\n",
    "if p < r:\n",
    "    q = floor((p + r)/2)\n",
    "    l, r = INVERSIONCOUNT(A, p, q), INVERSIONCOUNT(A, q+1, r)\n",
    "    count = COUNT(A, p, q, r)\n",
    "    RETURN l + r + count\n",
    "\n",
    "COUNT(A, lo, mid, hi):\n",
    "    // Size of each array\n",
    "    n1 = mid - lo + 1 // +1 accounts for one-based indexing\n",
    "    n2 = hi - mid \n",
    "    // Create two temporary arrays\n",
    "    L = COPY(A[p..p+n1-1] // Again, -1 for 1-based indexing\n",
    "    R = A[q..n2])\n",
    "    // Set sentinels\n",
    "    L[n1+1], R[n2+2] = INF, INF\n",
    "    i, j = 0\n",
    "    inversions = 0\n",
    "    for k=p to r\n",
    "        if L[i] < R[j]:\n",
    "            A[k] = L[i]\n",
    "            i++\n",
    "        else:\n",
    "            // Create an inversion for every remaining value in the left subarray\n",
    "            inversions += len(L[i..n1])\n",
    "            A[k] = R[j]\n",
    "            j++\n",
    "    return inversions\n",
    "```"
   ]
  }
 ],
 "metadata": {
  "kernelspec": {
   "display_name": "Python 3",
   "language": "python",
   "name": "python3"
  },
  "language_info": {
   "codemirror_mode": {
    "name": "ipython",
    "version": 3
   },
   "file_extension": ".py",
   "mimetype": "text/x-python",
   "name": "python",
   "nbconvert_exporter": "python",
   "pygments_lexer": "ipython3",
   "version": "3.5.2"
  }
 },
 "nbformat": 4,
 "nbformat_minor": 0
}
