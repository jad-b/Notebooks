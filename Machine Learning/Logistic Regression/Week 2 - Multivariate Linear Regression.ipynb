{
 "cells": [
  {
   "cell_type": "code",
   "execution_count": 2,
   "metadata": {
    "collapsed": true
   },
   "outputs": [],
   "source": [
    "import numpy as np"
   ]
  },
  {
   "cell_type": "code",
   "execution_count": 5,
   "metadata": {
    "collapsed": false
   },
   "outputs": [],
   "source": [
    "def mean_normalize(x_vec):\n",
    "    # Find mean\n",
    "    mean = np.mean(x_vec)\n",
    "    spread = np.amax(x_vec) - np.amin(x_vec)\n",
    "    return (x_vec - mean)/spread, mean, spread"
   ]
  },
  {
   "cell_type": "code",
   "execution_count": 7,
   "metadata": {
    "collapsed": false
   },
   "outputs": [
    {
     "name": "stdout",
     "output_type": "stream",
     "text": [
      "(array([ 0.32, -0.36,  0.52, -0.48]), 81.0, 25)\n"
     ]
    }
   ],
   "source": [
    "## Quiz: Linear Regression\n",
    "### 1)\n",
    "x_i = np.array([89, 72, 94, 69])\n",
    "print(mean_normalize(x_i))"
   ]
  }
 ],
 "metadata": {
  "kernelspec": {
   "display_name": "Python 3",
   "language": "python",
   "name": "python3"
  },
  "language_info": {
   "codemirror_mode": {
    "name": "ipython",
    "version": 3
   },
   "file_extension": ".py",
   "mimetype": "text/x-python",
   "name": "python",
   "nbconvert_exporter": "python",
   "pygments_lexer": "ipython3",
   "version": "3.4.4"
  }
 },
 "nbformat": 4,
 "nbformat_minor": 0
}
