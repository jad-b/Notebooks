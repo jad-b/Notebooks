{
 "cells": [
  {
   "cell_type": "markdown",
   "metadata": {},
   "source": [
    "## Hypothesis Function\n",
    "Better called our \"prediction function\".\n",
    "\n",
    "We perform the same matrix multiplication as in linear regression, getting the dot product of our training set, _X_, and our weights, $\\theta$. What makes logistic regression unique is that we then pass that output through the _sigmoid function_, which squashes the output to a range between 0 to 1.\n",
    "\n",
    "$$h_{\\theta}(x) = \\sigma(\\theta^{T}x)$$\n",
    "\n",
    "$$\\sigma(x) = \\frac{1}{1-e^{-x}}$$\n",
    "\n",
    "$$ h_{\\theta}(x) = \\frac{1}{1-e^{-\\theta^{T}x}} $$"
   ]
  },
  {
   "cell_type": "markdown",
   "metadata": {},
   "source": [
    "## Cost Function\n",
    "$$\n",
    "J(\\theta) := -\\frac{1}{m}[\\sum_{i=1}^m y^{(i)} log (h_{\\theta}(x^{(i)})) + (1-y^{i}) log(1 - h_{\\theta}(x^{(i)}))]\n",
    "$$"
   ]
  },
  {
   "cell_type": "markdown",
   "metadata": {},
   "source": [
    "### Partial Derivative of Cost Function\n",
    "$\n",
    "\\theta_{j} := \n",
    "\\theta_{j} - \\alpha\\frac{\\partial}{\\partial\\theta_{j}}J(\\theta) :=\n",
    "$\n",
    "Same as linear regression!"
   ]
  },
  {
   "cell_type": "markdown",
   "metadata": {},
   "source": [
    "### Sigmoid Function"
   ]
  },
  {
   "cell_type": "code",
   "execution_count": 64,
   "metadata": {
    "collapsed": false
   },
   "outputs": [],
   "source": [
    "%matplotlib inline\n",
    "import numpy as np\n",
    "import pandas as pd\n",
    "from scipy.special import expit as sigmoid\n",
    "import matplotlib.pyplot as plt"
   ]
  },
  {
   "cell_type": "code",
   "execution_count": null,
   "metadata": {
    "collapsed": true
   },
   "outputs": [],
   "source": [
    "def sigmoid_func()"
   ]
  },
  {
   "cell_type": "code",
   "execution_count": 63,
   "metadata": {
    "collapsed": false,
    "scrolled": true
   },
   "outputs": [
    {
     "name": "stdout",
     "output_type": "stream",
     "text": [
      "     x         y\n",
      "0 -4.5  0.010987\n",
      "1 -3.5  0.029312\n",
      "2 -2.5  0.075858\n",
      "3 -1.5  0.182426\n",
      "4 -0.5  0.377541\n",
      "5  0.5  0.622459\n",
      "6  1.5  0.817574\n",
      "7  2.5  0.924142\n",
      "8  3.5  0.970688\n",
      "9  4.5  0.989013\n"
     ]
    },
    {
     "data": {
      "image/png": "[encoded data removed]",
      "text/plain": [
       "<matplotlib.figure.Figure at 0x7f641e2149e8>"
      ]
     },
     "metadata": {},
     "output_type": "display_data"
    }
   ],
   "source": [
    "# Create a range of numbers from 10^-5 to 10^5 - very small, very big\n",
    "x = np.arange(10**-3, 10)\n",
    "# Normalize range around 0 (shift midpoint to zero)\n",
    "x = x - x.mean()\n",
    "# Apply sigmoid function\n",
    "y = sigmoid(x)\n",
    "# Dump into a data frame for nicer printing\n",
    "df = pd.DataFrame(np.array([x, y]).T, columns=['x', 'y'])\n",
    "# Display no more than 20 samples\n",
    "print(df.head(min((20, int(df.size/2)))))\n",
    "\n",
    "plt.plot(x, y)\n",
    "# plt.xscale('linear')\n",
    "plt.show()"
   ]
  }
 ],
 "metadata": {
  "kernelspec": {
   "display_name": "Python 3",
   "language": "python",
   "name": "python3"
  },
  "language_info": {
   "codemirror_mode": {
    "name": "ipython",
    "version": 3
   },
   "file_extension": ".py",
   "mimetype": "text/x-python",
   "name": "python",
   "nbconvert_exporter": "python",
   "pygments_lexer": "ipython3",
   "version": "3.4.4"
  }
 },
 "nbformat": 4,
 "nbformat_minor": 0
}
