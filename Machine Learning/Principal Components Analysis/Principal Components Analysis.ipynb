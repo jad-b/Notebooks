{
 "cells": [
  {
   "cell_type": "code",
   "execution_count": 1,
   "metadata": {
    "collapsed": true
   },
   "outputs": [],
   "source": [
    "import numpy as np"
   ]
  },
  {
   "cell_type": "code",
   "execution_count": 2,
   "metadata": {
    "collapsed": true
   },
   "outputs": [],
   "source": [
    "def pca(X):\n",
    "    \"\"\"Perform Principal Component Analysis.\n",
    "    \n",
    "    \n",
    "    \"\"\"\n",
    "    assert X.ndim == 2  # Assert matrix \n",
    "    # Normalize the data\n",
    "    X = feature_normalize(X)\n",
    "    # Compute convariance matrix of the data\n",
    "    Sigma = (X.T.dot(X))/len(X)\n",
    "    # Compute eigenvectors \n",
    "    # u: principal components\n",
    "    # s: \n",
    "    # v: \n",
    "    u, s, v = np.linalg.svd(Sigma)"
   ]
  }
 ],
 "metadata": {
  "kernelspec": {
   "display_name": "Python 3",
   "language": "python",
   "name": "python3"
  },
  "language_info": {
   "codemirror_mode": {
    "name": "ipython",
    "version": 3
   },
   "file_extension": ".py",
   "mimetype": "text/x-python",
   "name": "python",
   "nbconvert_exporter": "python",
   "pygments_lexer": "ipython3",
   "version": "3.4.4"
  }
 },
 "nbformat": 4,
 "nbformat_minor": 0
}
