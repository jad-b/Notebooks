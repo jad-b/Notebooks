{
 "cells": [
  {
   "cell_type": "code",
   "execution_count": 2,
   "metadata": {
    "collapsed": false
   },
   "outputs": [],
   "source": [
    "from oct2py import octave\n",
    "octave.addpath('./ex1')\n",
    "submit_token = 'pwr4F9cDfBZhocrb'\n",
    "\n",
    "import numpy as np\n",
    "import pprint\n",
    "import math\n",
    "from IPython.display import display, Math, Latex"
   ]
  },
  {
   "cell_type": "code",
   "execution_count": 3,
   "metadata": {
    "collapsed": false
   },
   "outputs": [],
   "source": [
    "ex1data = np.genfromtxt('./ex1/ex1data1.txt', delimiter=',')\n",
    "#: X = training data\n",
    "#: y = training targets\n",
    "X, y = ex1data[:,0], ex1data[:,1]\n",
    "assert len(X) == len(y)\n",
    "assert (X!=y).all()\n",
    "# print(X)\n",
    "theta_0 = np.ones(len(X))\n",
    "# Add 1s and X values as two rows, then transpose\n",
    "X = np.array([theta_0,X]).T"
   ]
  },
  {
   "cell_type": "code",
   "execution_count": 42,
   "metadata": {
    "collapsed": false
   },
   "outputs": [
    {
     "name": "stdout",
     "output_type": "stream",
     "text": [
      "Initial theta values:  [ 0.  0.]\n"
     ]
    }
   ],
   "source": [
    "theta = np.zeros(2)\n",
    "print(\"Initial theta values: \", thetas)\n",
    "iterations = 1500\n",
    "alpha = 0.01"
   ]
  },
  {
   "cell_type": "code",
   "execution_count": 43,
   "metadata": {
    "collapsed": false
   },
   "outputs": [
    {
     "data": {
      "text/latex": [
       "$$h_{\\theta}(x) = \\theta_{0} + \\theta_{1}x$$"
      ],
      "text/plain": [
       "<IPython.core.display.Math object>"
      ]
     },
     "metadata": {},
     "output_type": "display_data"
    },
    {
     "data": {
      "text/latex": [
       "$$J(\\theta) = \\frac{1}{2m}\\sum_{i=1}^m(h_{\\theta}(x^{i}) - y^{i})^{2}$$"
      ],
      "text/plain": [
       "<IPython.core.display.Math object>"
      ]
     },
     "metadata": {},
     "output_type": "display_data"
    },
    {
     "name": "stdout",
     "output_type": "stream",
     "text": [
      "11.945 11.945\n",
      "7.0175 7.0175\n",
      "J(0.0,0.0) = 32.07\n"
     ]
    }
   ],
   "source": [
    "display(Math(r'h_{\\theta}(x) = \\theta_{0} + \\theta_{1}x'))\n",
    "def hypothesis(x, thetas):\n",
    "    return thetas[0] + thetas[1]*x\n",
    "h = hypothesis\n",
    "\n",
    "display(Math(r'J(\\theta) = \\frac{1}{2m}\\sum_{i=1}^m(h_{\\theta}(x^{i}) - y^{i})^{2}'))\n",
    "def compute_cost(X, y, thetas):\n",
    "    m = len(y)\n",
    "    h = X.dot(thetas)\n",
    "    err = h - y\n",
    "    err_sqr = np.square(err)\n",
    "#     print(\"Hypothesis: {}\\nError: {}\\nError^2: {}\\n\".format(\n",
    "#         h, err, err_sqr))\n",
    "    return np.sum(err_sqr) / (2 * m)\n",
    "\n",
    "j = compute_cost\n",
    "# Test cases\n",
    "print(compute_cost(\n",
    "    np.array([[1, 2], [1, 3], [1, 4], [1, 5]]), \n",
    "    np.array([7,6,5,4]), \n",
    "    np.array([0.1, 0.2])), 11.9450)\n",
    "print(compute_cost(\n",
    "        np.array([[1,2,3], [1,3,4], [1,4,5], [1,5,6]]),\n",
    "        np.array([7,6,5,4]),\n",
    "        np.array([0.1, 0.2, 0.3])), 7.0175)\n",
    "\n",
    "print(\"J({thetas[0]},{thetas[1]}) = {cost:.2f}\"\n",
    "      .format(thetas=thetas,cost=j(X,y,thetas)))"
   ]
  },
  {
   "cell_type": "code",
   "execution_count": 54,
   "metadata": {
    "collapsed": false
   },
   "outputs": [
    {
     "data": {
      "text/latex": [
       "$$\\theta_{j} := \\alpha\\frac{1}{m}\\sum_{i=1}^m(h_{\\theta}(x^{(i)})-y^{(i)})x_{j}^{(i)}$$"
      ],
      "text/plain": [
       "<IPython.core.display.Math object>"
      ]
     },
     "metadata": {},
     "output_type": "display_data"
    },
    {
     "name": "stdout",
     "output_type": "stream",
     "text": [
      "Running gradient descent on 4 training samples\n",
      "Starting parameters: [ 0.  0.]\n",
      "Alpha: 0.01; Iterations: 1000\n",
      "Output:  [ 5.21475495 -0.57334591]\n",
      "[ 5.21475495 -0.57334591] should equal [ 5.2148 -0.5733]\n",
      "Running gradient descent on 2 training samples\n",
      "Starting parameters: [ 0.5  0.5]\n",
      "Alpha: 0.1; Iterations: 10\n",
      "Output:  [ 1.70986322  0.19229354]\n",
      "[ 1.70986322  0.19229354] should equal [ 1.70986  0.19229]\n",
      "Running gradient descent on 97 training samples\n",
      "Starting parameters: [-3.8957756   1.19303311]\n",
      "Alpha: 0.01; Iterations: 1500\n",
      "Output:  [-3.89578053  1.19303361]\n"
     ]
    }
   ],
   "source": [
    "# Gradient descent algorithm\n",
    "display(Math(r'\\theta_{j} := \\alpha\\frac{1}{m}\\sum_{i=1}^m'\n",
    "             r'(h_{\\theta}(x^{(i)})-y^{(i)})x_{j}^{(i)}'))\n",
    "def grad_descent(X, y, theta, alpha, n_iters):\n",
    "    m = len(y)\n",
    "    print(\"Running gradient descent on {} training samples\".format(m))\n",
    "    print(\"Starting parameters: {}\".format(str(theta)))\n",
    "    print(\"Alpha: {}; Iterations: {}\".format(alpha, n_iters))\n",
    "    j_hist = []\n",
    "    for i in range(0, n_iters):\n",
    "        h = X.dot(theta)   # m x n * n x 1\n",
    "        err = h - y        # m x 1 - m x 1\n",
    "        dJ = X.T.dot(err)  # n x m * m x 1\n",
    "        d_theta = alpha * (1/m) * dJ\n",
    "        theta -= d_theta\n",
    "        \n",
    "        j_hist.append(compute_cost(X, y, theta))\n",
    "    print(\"Output: \", theta)\n",
    "    return theta, j_hist\n",
    "\n",
    "thetas, j_hist = grad_descent(\n",
    "    np.array([[1, 5], [1, 2], [1, 4], [1, 5]], dtype=np.int64),\n",
    "    np.array([1, 6, 4, 2]).T,\n",
    "    np.array([0., 0.]).T,\n",
    "    0.01,\n",
    "    1000)\n",
    "print(thetas, \"should equal\", np.array([5.2148, -0.5733]))\n",
    "thetas, j_hist = grad_descent(\n",
    "    np.array([[1, 5], [1, 2]]),\n",
    "    np.array([1, 6]).T,\n",
    "    np.array([.5, .5]).T,\n",
    "    0.1,\n",
    "    10);\n",
    "print(thetas, \"should equal\", np.array([1.70986, 0.19229]))\n",
    "\n",
    "thetas, j_hist = grad_descent(X, y, theta, alpha, iterations)\n",
    "# print(\"Theta = [{theta[0]}, {theta[1]}]\".format(theta=new_theta))\n",
    "# print(\"Printing every 50th step:\\n\", \n",
    "#       '\\n'.join(\"{}) {}\".format(i, j_hist[i]) for i in range(0,len(j_hist), 50)))"
   ]
  },
  {
   "cell_type": "code",
   "execution_count": 64,
   "metadata": {
    "collapsed": false
   },
   "outputs": [
    {
     "name": "stdout",
     "output_type": "stream",
     "text": [
      "First 10 data points\n",
      "    size  # of bedrooms   price\n",
      "0  2104              3  399900\n",
      "1  1600              3  329900\n",
      "2  2400              3  369000\n",
      "3  1416              2  232000\n",
      "4  3000              4  539900\n",
      "5  1985              4  299900\n",
      "6  1534              3  314900\n",
      "7  1427              3  198999\n",
      "8  1380              3  212000\n",
      "9  1494              3  242500\n"
     ]
    }
   ],
   "source": [
    "# Multiple Gradient Descent\n",
    "ex1data2 = np.genfromtxt('./ex1/ex1data2.txt', delimiter=',')\n",
    "X, y = ex1data2[:, 0:2], ex1data2[:, 2]\n",
    "m = len(y)\n",
    "import pandas\n",
    "Xp = pandas.DataFrame(X, columns=['size', '# of bedrooms'])\n",
    "yp = pandas.Series(y, name='price')\n",
    "print(\"First 10 data points\\n\", pandas.concat([Xp, yp], axis=1)[:10])"
   ]
  },
  {
   "cell_type": "code",
   "execution_count": 73,
   "metadata": {
    "collapsed": false,
    "scrolled": false
   },
   "outputs": [
    {
     "name": "stdout",
     "output_type": "stream",
     "text": [
      "2\n",
      "(array([[-1.22474487,  0.        ,  1.22474487]]), array([ 2.]), array([ 0.81649658]))\n",
      "2\n",
      "(array([[ nan, -inf, -inf],\n",
      "       [ inf,  nan, -inf],\n",
      "       [ inf,  inf,  nan]]), array([ 1.,  2.,  3.]), array([ 0.,  0.,  0.]))\n"
     ]
    }
   ],
   "source": [
    "def feature_normalize(X):\n",
    "    mu = X.mean(axis=1)    # Mean of each column (feature)\n",
    "    sigma = X.std(axis=1)  # Std. dev. of each feature\n",
    "    Xn = X- mu\n",
    "    Xn /= sigma\n",
    "    return Xn, mu, sigma \n",
    "\n",
    "print(feature_normalize(np.array([[1, 2, 3]])))\n",
    "print(feature_normalize(np.array([[1, 2, 3]]).T))"
   ]
  },
  {
   "cell_type": "code",
   "execution_count": null,
   "metadata": {
    "collapsed": true
   },
   "outputs": [],
   "source": []
  }
 ],
 "metadata": {
  "kernelspec": {
   "display_name": "Python 3",
   "language": "python",
   "name": "python3"
  },
  "language_info": {
   "codemirror_mode": {
    "name": "ipython",
    "version": 3
   },
   "file_extension": ".py",
   "mimetype": "text/x-python",
   "name": "python",
   "nbconvert_exporter": "python",
   "pygments_lexer": "ipython3",
   "version": "3.4.4"
  }
 },
 "nbformat": 4,
 "nbformat_minor": 0
}
