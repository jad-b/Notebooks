{
 "cells": [
  {
   "cell_type": "code",
   "execution_count": 6,
   "metadata": {
    "collapsed": false
   },
   "outputs": [
    {
     "name": "stdout",
     "output_type": "stream",
     "text": [
      "Adding /home/jovyan/work/datasci/Machine Learning to sys.path\n"
     ]
    }
   ],
   "source": [
    "import os\n",
    "import sys\n",
    "helper_path = os.path.join(os.path.expanduser('~'), \n",
    "                           'work/datasci/Machine Learning')\n",
    "print('Adding {} to sys.path'.format(helper_path))\n",
    "sys.path.append(helper_path)"
   ]
  },
  {
   "cell_type": "code",
   "execution_count": 15,
   "metadata": {
    "collapsed": false
   },
   "outputs": [
    {
     "data": {
      "text/plain": [
       "<module 'mlhelper' from '/home/jovyan/work/datasci/Machine Learning/mlhelper.py'>"
      ]
     },
     "execution_count": 15,
     "metadata": {},
     "output_type": "execute_result"
    }
   ],
   "source": [
    "import numpy as np\n",
    "import mlhelper\n",
    "from importlib import reload\n",
    "reload(mlhelper)"
   ]
  },
  {
   "cell_type": "code",
   "execution_count": 29,
   "metadata": {
    "collapsed": false
   },
   "outputs": [
    {
     "name": "stdout",
     "output_type": "stream",
     "text": [
      "0.324652467358\n"
     ]
    }
   ],
   "source": [
    "def gaussian_kernel(x1, x2, sigma):\n",
    "    \"\"\"Find Gaussian distance (similarity) between two sets of points.\n",
    "    \n",
    "    \n",
    "    \"\"\"\n",
    "    # Nominator: Sum of Squares\n",
    "    nom = np.sum(np.power(x1 - x2, 2))\n",
    "    # Denominator: Variance. \n",
    "    denom = 2 * np.power(sigma, 2)\n",
    "    return np.exp(-nom/denom)\n",
    "\n",
    "\n",
    "def test_gaussian_kernel():\n",
    "    x1 = np.array([1, 2, 1])\n",
    "    x2 = np.array([0, 4, -1]) \n",
    "    sigma = 2\n",
    "    result = gaussian_kernel(x1, x2, sigma)\n",
    "    print(result)\n",
    "    mlhelper.assertClose(result, np.array([0.324652]), 1e-5)\n",
    "    \n",
    "test_gaussian_kernel()"
   ]
  },
  {
   "cell_type": "code",
   "execution_count": 49,
   "metadata": {
    "collapsed": false
   },
   "outputs": [
    {
     "name": "stdout",
     "output_type": "stream",
     "text": [
      "anyon\n"
     ]
    }
   ],
   "source": [
    "with open('./ex6/emailSample1.txt') as e:\n",
    "    sample_email = e.read()\n",
    "with open('./ex6/vocab.txt') as v:\n",
    "    vocab = v.read().split()\n",
    "words = vocab[1::2]\n",
    "indices = vocab[::2]\n",
    "print(words[85])"
   ]
  },
  {
   "cell_type": "code",
   "execution_count": null,
   "metadata": {
    "collapsed": true
   },
   "outputs": [],
   "source": [
    "def process_email(w):\n",
    "    "
   ]
  }
 ],
 "metadata": {
  "kernelspec": {
   "display_name": "Python 3",
   "language": "python",
   "name": "python3"
  },
  "language_info": {
   "codemirror_mode": {
    "name": "ipython",
    "version": 3
   },
   "file_extension": ".py",
   "mimetype": "text/x-python",
   "name": "python",
   "nbconvert_exporter": "python",
   "pygments_lexer": "ipython3",
   "version": "3.4.4"
  }
 },
 "nbformat": 4,
 "nbformat_minor": 0
}
