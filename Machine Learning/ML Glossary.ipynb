{
 "cells": [
  {
   "cell_type": "markdown",
   "metadata": {},
   "source": [
    "# ML Glossary"
   ]
  },
  {
   "cell_type": "markdown",
   "metadata": {},
   "source": [
    "## Math\n",
    "|Word|Definition|\n",
    "|----|----------|\n",
    "|gradient|Vector of partial derivatives, one per feature\n",
    "|partial derivative|$\\frac{\\delta f(x)}{\\delta x}$ Rate-of-change for _y_ given _x_ with all other parameters held constant. \n",
    "|derivative|Instantaneous _rate of change_.\n",
    "|Instantaneous| Of only one instant, i.e., single value of dependent variable, i.e. the value of _x_\n",
    "|Rate of change| How quickly is the function, i.e. the value of y, changing when given _x_? "
   ]
  },
  {
   "cell_type": "markdown",
   "metadata": {},
   "source": [
    "## Statistics\n",
    "|Word|Definition|\n",
    "|----|----------|\n",
    "|Bernoulli|Binary-valued; boolean\n",
    "|Bivariate Distribution| The probability distribution of seeing (X, Y) together, for all values of X & Y. If you've got more than two variables, then you have a _multivariate distribution_.\n",
    "|Child Variables|variables that are affected by other variables, i.e. are the subject of parent variables\n",
    "|Gaussian|Normal distribution; I guess \"Gaussian\" is shorter and sounds cooler.\n",
    "|Parent Variables| variables that influence another variable\n",
    "|Multivariate|More than one feature, a.k.a $x_{i}$"
   ]
  },
  {
   "cell_type": "markdown",
   "metadata": {},
   "source": [
    "## Machine Learning\n",
    "|Word|Definition|\n",
    "|----|----------|\n",
    "|out-of-core|Doesn't fit in memory\n",
    "|Hyperparameter| Parameters that affect other parameters. When talking about machine learning models, these are parameters that affect the learning of the model parameters.\n",
    "|Parameter| Values the training method tweaks to better predict the data; the \"weights\" it \"learns\"."
   ]
  }
 ],
 "metadata": {
  "kernelspec": {
   "display_name": "Python 3",
   "language": "python",
   "name": "python3"
  },
  "language_info": {
   "codemirror_mode": {
    "name": "ipython",
    "version": 3
   },
   "file_extension": ".py",
   "mimetype": "text/x-python",
   "name": "python",
   "nbconvert_exporter": "python",
   "pygments_lexer": "ipython3",
   "version": "3.5.1"
  },
  "widgets": {
   "state": {},
   "version": "1.1.1"
  }
 },
 "nbformat": 4,
 "nbformat_minor": 0
}
