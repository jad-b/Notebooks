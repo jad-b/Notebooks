{
 "cells": [
  {
   "cell_type": "markdown",
   "metadata": {},
   "source": [
    "# On Learning"
   ]
  },
  {
   "cell_type": "markdown",
   "metadata": {},
   "source": [
    "This document will serve as a case study on learning, using learning databases as the problem.\n",
    "\n",
    "## Concepts\n",
    "* Using features of the information to classifying & divide concepts.\n",
    "\n",
    "* Begin with the problem space. Overview of \"Why are we learning this? What are the fundamental problems this is trying to address?\"\n",
    "    * Why do we use databases? We need ways to manage incredibly large sets of data and its metadata. Metadata can include the relationships within data.\n",
    "    * What problems do databases have to solve? Writing to disk is very slow compared to the rest of I/O, so all databases need to optimize this. How they do so is a significant difference between databases.\n",
    "        * We can use this difference as a means of classifying and comparing different databases.\n",
    "        \n",
    "* Provide a framework for comparison\n",
    "    * Would listing up-front the variables for comparison overwhelm or assist? Perhaps this is size-dependent on the number of variables.\n",
    "* Use a common example across the different categories\n",
    "    * For databases, have a given set of data, and depict how it's stored in different DBs.\n",
    "    * In military terms, this would be the \"walk\" phase - hand-holding still involved. The \"run\" might be creating a data set, and having the student depict the different style of storage.\n"
   ]
  }
 ],
 "metadata": {
  "kernelspec": {
   "display_name": "Python 3",
   "language": "python",
   "name": "python3"
  },
  "language_info": {
   "codemirror_mode": {
    "name": "ipython",
    "version": 3
   },
   "file_extension": ".py",
   "mimetype": "text/x-python",
   "name": "python",
   "nbconvert_exporter": "python",
   "pygments_lexer": "ipython3",
   "version": "3.4.0"
  }
 },
 "nbformat": 4,
 "nbformat_minor": 0
}
