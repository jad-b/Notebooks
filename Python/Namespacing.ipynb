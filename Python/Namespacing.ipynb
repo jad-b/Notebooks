{
 "metadata": {
  "name": "",
  "signature": "sha256:debd57330e91690097d17228948ad8de206ebc3ca221f59ae67a641c6c1dc332"
 },
 "nbformat": 3,
 "nbformat_minor": 0,
 "worksheets": [
  {
   "cells": [
    {
     "cell_type": "code",
     "collapsed": false,
     "input": [
      "dork = 'dork'\n",
      "_quiet_dork = 'quiet dork'\n",
      "__ninja = 'ninja'\n",
      "_MadLib_ninja = 'squishy ninja'\n",
      "\n",
      "class MadLib:\n",
      "    _MadLib__ninja = 'ninjitsu'\n",
      "    \n",
      "    def __init__(self, *args):\n",
      "        self.default_nouns = list(args)\n",
      "    \n",
      "    def catcall(self, noun=None, verb=None, noun2=None):\n",
      "        print(dir())\n",
      "        if noun is None:\n",
      "            noun = dork\n",
      "        if verb is None:\n",
      "            verb = _quiet_dork\n",
      "        if noun2 is None:\n",
      "            noun2 = __ninja\n",
      "        print('Hey baby, ever had your {n} {v} by a {n2}?'.format(n=noun, v=verb, n2=noun2))"
     ],
     "language": "python",
     "metadata": {},
     "outputs": [],
     "prompt_number": 14
    },
    {
     "cell_type": "code",
     "collapsed": false,
     "input": [
      "ml = MadLib()\n",
      "ml.catcall()"
     ],
     "language": "python",
     "metadata": {},
     "outputs": [
      {
       "output_type": "stream",
       "stream": "stdout",
       "text": [
        "['noun', 'noun2', 'self', 'verb']\n"
       ]
      },
      {
       "ename": "NameError",
       "evalue": "name '_MadLib__ninja' is not defined",
       "output_type": "pyerr",
       "traceback": [
        "\u001b[1;31m---------------------------------------------------------------------------\u001b[0m\n\u001b[1;31mNameError\u001b[0m                                 Traceback (most recent call last)",
        "\u001b[1;32m<ipython-input-15-364746a9bbb1>\u001b[0m in \u001b[0;36m<module>\u001b[1;34m()\u001b[0m\n\u001b[0;32m      1\u001b[0m \u001b[0mml\u001b[0m \u001b[1;33m=\u001b[0m \u001b[0mMadLib\u001b[0m\u001b[1;33m(\u001b[0m\u001b[1;33m)\u001b[0m\u001b[1;33m\u001b[0m\u001b[0m\n\u001b[1;32m----> 2\u001b[1;33m \u001b[0mml\u001b[0m\u001b[1;33m.\u001b[0m\u001b[0mcatcall\u001b[0m\u001b[1;33m(\u001b[0m\u001b[1;33m)\u001b[0m\u001b[1;33m\u001b[0m\u001b[0m\n\u001b[0m",
        "\u001b[1;32m<ipython-input-14-8074558594ef>\u001b[0m in \u001b[0;36mcatcall\u001b[1;34m(self, noun, verb, noun2)\u001b[0m\n\u001b[0;32m     17\u001b[0m             \u001b[0mverb\u001b[0m \u001b[1;33m=\u001b[0m \u001b[0m_quiet_dork\u001b[0m\u001b[1;33m\u001b[0m\u001b[0m\n\u001b[0;32m     18\u001b[0m         \u001b[1;32mif\u001b[0m \u001b[0mnoun2\u001b[0m \u001b[1;32mis\u001b[0m \u001b[1;32mNone\u001b[0m\u001b[1;33m:\u001b[0m\u001b[1;33m\u001b[0m\u001b[0m\n\u001b[1;32m---> 19\u001b[1;33m             \u001b[0mnoun2\u001b[0m \u001b[1;33m=\u001b[0m \u001b[0m__ninja\u001b[0m\u001b[1;33m\u001b[0m\u001b[0m\n\u001b[0m\u001b[0;32m     20\u001b[0m         \u001b[0mprint\u001b[0m\u001b[1;33m(\u001b[0m\u001b[1;34m'Hey baby, ever had your {n} {v} by a {n2}?'\u001b[0m\u001b[1;33m.\u001b[0m\u001b[0mformat\u001b[0m\u001b[1;33m(\u001b[0m\u001b[0mn\u001b[0m\u001b[1;33m=\u001b[0m\u001b[0mnoun\u001b[0m\u001b[1;33m,\u001b[0m \u001b[0mv\u001b[0m\u001b[1;33m=\u001b[0m\u001b[0mverb\u001b[0m\u001b[1;33m,\u001b[0m \u001b[0mn2\u001b[0m\u001b[1;33m=\u001b[0m\u001b[0mnoun2\u001b[0m\u001b[1;33m)\u001b[0m\u001b[1;33m)\u001b[0m\u001b[1;33m\u001b[0m\u001b[0m\n",
        "\u001b[1;31mNameError\u001b[0m: name '_MadLib__ninja' is not defined"
       ]
      }
     ],
     "prompt_number": 15
    }
   ],
   "metadata": {}
  }
 ]
}