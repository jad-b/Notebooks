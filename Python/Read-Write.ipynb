{
 "cells": [
  {
   "cell_type": "code",
   "execution_count": 36,
   "metadata": {
    "collapsed": true
   },
   "outputs": [],
   "source": [
    "import collections\n",
    "import string\n",
    "import shutil\n",
    "import os\n",
    "\n",
    "letters = 'letter.txt'"
   ]
  },
  {
   "cell_type": "code",
   "execution_count": 37,
   "metadata": {
    "collapsed": false
   },
   "outputs": [
    {
     "name": "stdout",
     "output_type": "stream",
     "text": [
      "A\n",
      "B\n",
      "C\n",
      "D\n",
      "E\n",
      "F\n",
      "G\n",
      "H\n",
      "I\n",
      "J\n",
      "K\n",
      "L\n",
      "M\n",
      "N\n",
      "O\n",
      "P\n",
      "Q\n",
      "R\n",
      "S\n",
      "T\n",
      "U\n",
      "V\n",
      "W\n",
      "X\n",
      "Y\n",
      "Z\n",
      "\n"
     ]
    }
   ],
   "source": [
    "# Create a file, one ASCII letter per line\n",
    "with open(letters, 'w') as fp:\n",
    "    fp.writelines((x + '\\n' for x in string.ascii_uppercase))\n",
    "# Preview the file\n",
    "with open(letters) as fp:\n",
    "    print(fp.read())"
   ]
  },
  {
   "cell_type": "code",
   "execution_count": 38,
   "metadata": {
    "collapsed": true
   },
   "outputs": [],
   "source": [
    "def increment_ascii(source, verbose=False):\n",
    "    # Increment the first char's in string ASCII integer value\n",
    "    inc_fn = lambda line: chr(ord(line[0]) + 1) + '\\n' \n",
    "    return (inc_fn(line) for line in source)"
   ]
  },
  {
   "cell_type": "code",
   "execution_count": 47,
   "metadata": {
    "collapsed": true
   },
   "outputs": [],
   "source": [
    "def safe_fileop(filename, fn):\n",
    "    \"\"\"Apply a function to a file with built-in failsafe.\n",
    "    \n",
    "    Any error during raised by the function causes a no-op to occur.\n",
    "    \n",
    "    :arg ``function`` fn: \n",
    "    \"\"\"\n",
    "    tmp_file = 'out.txt'\n",
    "    try:\n",
    "        with open(filename) as fp:\n",
    "            # provide a line generator to function; O(n)\n",
    "            line_gen = (line for line in fp)\n",
    "            output = fn(line_gen)    # Hopefully O(1) per line\n",
    "            if not isinstance(output, collections.Iterable):\n",
    "                raise TypeError('Output needs to be an Iterable for writing to file.')\n",
    "    except:\n",
    "        # write output buffer to file; O(n)\n",
    "        with open(tmp_file, 'w') as fp:\n",
    "            for line in output:\n",
    "                fp.write(line)\n",
    "        # copy output over original file\n",
    "        shutil.move(tmp_file, filename)\n",
    "        # In event of errors, the original file will be untouched."
   ]
  },
  {
   "cell_type": "code",
   "execution_count": 46,
   "metadata": {
    "collapsed": false
   },
   "outputs": [
    {
     "name": "stdout",
     "output_type": "stream",
     "text": [
      "A\n",
      "B\n",
      "C\n",
      "D\n",
      "E\n",
      "F\n",
      "G\n",
      "H\n",
      "I\n",
      "J\n",
      "K\n",
      "L\n",
      "M\n",
      "N\n",
      "O\n",
      "P\n",
      "Q\n",
      "R\n",
      "S\n",
      "T\n",
      "U\n",
      "V\n",
      "W\n",
      "X\n",
      "Y\n",
      "Z\n",
      "\n"
     ]
    }
   ],
   "source": [
    "safe_fileop(letters, increment_ascii)\n",
    "with open(letters) as fp:\n",
    "    print(fp.read())"
   ]
  }
 ],
 "metadata": {
  "kernelspec": {
   "display_name": "Python 3",
   "language": "python",
   "name": "python3"
  },
  "language_info": {
   "codemirror_mode": {
    "name": "ipython",
    "version": 3
   },
   "file_extension": ".py",
   "mimetype": "text/x-python",
   "name": "python",
   "nbconvert_exporter": "python",
   "pygments_lexer": "ipython3",
   "version": "3.4.0"
  }
 },
 "nbformat": 4,
 "nbformat_minor": 0
}
