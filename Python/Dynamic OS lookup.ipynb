{
 "cells": [
  {
   "cell_type": "code",
   "execution_count": 12,
   "metadata": {
    "collapsed": false
   },
   "outputs": [],
   "source": [
    "import platform\n",
    "import os"
   ]
  },
  {
   "cell_type": "code",
   "execution_count": 13,
   "metadata": {
    "collapsed": false
   },
   "outputs": [
    {
     "name": "stdout",
     "output_type": "stream",
     "text": [
      "Linux-3.13.0-36-generic-x86_64-with-debian-jessie-sid\n",
      "Linux-3.13.0-36-generic-x86_64-with-glibc2.9\n",
      "uname_result(system='Linux', node='TheGoodUbuntu', release='3.13.0-36-generic', version='#63-Ubuntu SMP Wed Sep 3 21:30:07 UTC 2014', machine='x86_64', processor='x86_64')\n",
      "posix.uname_result(sysname='Linux', nodename='TheGoodUbuntu', release='3.13.0-36-generic', version='#63-Ubuntu SMP Wed Sep 3 21:30:07 UTC 2014', machine='x86_64')\n"
     ]
    }
   ],
   "source": [
    "verbose = platform.platform(aliased=True)\n",
    "terse = platform.platform(aliased=True, terse=True)\n",
    "print(verbose)\n",
    "print(terse)\n",
    "\n",
    "uname = platform.uname()\n",
    "print(uname)\n",
    "\n",
    "os_uname = os.uname()\n",
    "print(os_uname)"
   ]
  }
 ],
 "metadata": {
  "kernelspec": {
   "display_name": "Python 3",
   "language": "python",
   "name": "python3"
  },
  "language_info": {
   "codemirror_mode": {
    "name": "ipython",
    "version": 3
   },
   "file_extension": ".py",
   "mimetype": "text/x-python",
   "name": "python",
   "nbconvert_exporter": "python",
   "pygments_lexer": "ipython3",
   "version": "3.5.2"
  }
 },
 "nbformat": 4,
 "nbformat_minor": 0
}
