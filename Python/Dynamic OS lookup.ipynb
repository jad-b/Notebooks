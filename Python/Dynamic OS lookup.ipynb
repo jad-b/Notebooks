{
 "metadata": {
  "name": "",
  "signature": "sha256:56192ef886c42d1c4623f56519f40890e6660097dc48bee9605860e27906e63e"
 },
 "nbformat": 3,
 "nbformat_minor": 0,
 "worksheets": [
  {
   "cells": [
    {
     "cell_type": "code",
     "collapsed": false,
     "input": [
      "import platform\n",
      "import os"
     ],
     "language": "python",
     "metadata": {},
     "outputs": [],
     "prompt_number": 12
    },
    {
     "cell_type": "code",
     "collapsed": false,
     "input": [
      "verbose = platform.platform(aliased=True)\n",
      "terse = platform.platform(aliased=True, terse=True)\n",
      "print(verbose)\n",
      "print(terse)\n",
      "\n",
      "uname = platform.uname()\n",
      "print(uname)\n",
      "\n",
      "os_uname = os.uname()\n",
      "print(os_uname)"
     ],
     "language": "python",
     "metadata": {},
     "outputs": [
      {
       "output_type": "stream",
       "stream": "stdout",
       "text": [
        "Linux-3.13.0-36-generic-x86_64-with-debian-jessie-sid\n",
        "Linux-3.13.0-36-generic-x86_64-with-glibc2.9\n",
        "uname_result(system='Linux', node='TheGoodUbuntu', release='3.13.0-36-generic', version='#63-Ubuntu SMP Wed Sep 3 21:30:07 UTC 2014', machine='x86_64', processor='x86_64')\n",
        "posix.uname_result(sysname='Linux', nodename='TheGoodUbuntu', release='3.13.0-36-generic', version='#63-Ubuntu SMP Wed Sep 3 21:30:07 UTC 2014', machine='x86_64')\n"
       ]
      }
     ],
     "prompt_number": 13
    }
   ],
   "metadata": {}
  }
 ]
}