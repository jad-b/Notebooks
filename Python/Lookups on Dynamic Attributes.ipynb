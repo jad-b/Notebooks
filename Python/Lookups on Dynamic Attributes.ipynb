{
 "cells": [
  {
   "cell_type": "code",
   "execution_count": 6,
   "metadata": {
    "collapsed": false
   },
   "outputs": [],
   "source": [
    "class A(object):\n",
    "    \n",
    "    def __init__(self):\n",
    "        self.x = 'x'\n",
    "        self.y = 'y'\n",
    "        self.z = 'z'\n",
    "        \n",
    "def dump_attrs(a_inst):\n",
    "    if hasattr(a, 'errors'):\n",
    "        print(a.errors)\n",
    "    else:\n",
    "        print(a.x, a.y, a.z)"
   ]
  },
  {
   "cell_type": "code",
   "execution_count": 7,
   "metadata": {
    "collapsed": false
   },
   "outputs": [
    {
     "name": "stdout",
     "output_type": "stream",
     "text": [
      "('x', 'y', 'z')\n",
      "Oh no you don't\n"
     ]
    }
   ],
   "source": [
    "a = A()\n",
    "dump_attrs(a)\n",
    "a.errors = \"Oh no you don't\"\n",
    "dump_attrs(a)"
   ]
  },
  {
   "cell_type": "code",
   "execution_count": null,
   "metadata": {
    "collapsed": false
   },
   "outputs": [],
   "source": []
  }
 ],
 "metadata": {
  "kernelspec": {
   "display_name": "Python 3",
   "language": "python",
   "name": "python3"
  },
  "language_info": {
   "codemirror_mode": {
    "name": "ipython",
    "version": 3
   },
   "file_extension": ".py",
   "mimetype": "text/x-python",
   "name": "python",
   "nbconvert_exporter": "python",
   "pygments_lexer": "ipython3",
   "version": "3.5.2"
  }
 },
 "nbformat": 4,
 "nbformat_minor": 0
}
