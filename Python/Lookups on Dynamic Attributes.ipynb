{
 "metadata": {
  "name": "",
  "signature": "sha256:466cab92a92d561b8b1df4dca8646ea6a971a3c151ca7a14c3927ddd921e23ab"
 },
 "nbformat": 3,
 "nbformat_minor": 0,
 "worksheets": [
  {
   "cells": [
    {
     "cell_type": "code",
     "collapsed": false,
     "input": [
      "class A(object):\n",
      "    \n",
      "    def __init__(self):\n",
      "        self.x = 'x'\n",
      "        self.y = 'y'\n",
      "        self.z = 'z'\n",
      "        \n",
      "def dump_attrs(a_inst):\n",
      "    if hasattr(a, 'errors'):\n",
      "        print(a.errors)\n",
      "    else:\n",
      "        print(a.x, a.y, a.z)"
     ],
     "language": "python",
     "metadata": {},
     "outputs": [],
     "prompt_number": 6
    },
    {
     "cell_type": "code",
     "collapsed": false,
     "input": [
      "a = A()\n",
      "dump_attrs(a)\n",
      "a.errors = \"Oh no you don't\"\n",
      "dump_attrs(a)"
     ],
     "language": "python",
     "metadata": {},
     "outputs": [
      {
       "output_type": "stream",
       "stream": "stdout",
       "text": [
        "('x', 'y', 'z')\n",
        "Oh no you don't\n"
       ]
      }
     ],
     "prompt_number": 7
    },
    {
     "cell_type": "code",
     "collapsed": false,
     "input": [],
     "language": "python",
     "metadata": {},
     "outputs": []
    }
   ],
   "metadata": {}
  }
 ]
}