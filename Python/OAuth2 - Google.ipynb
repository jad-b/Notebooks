{
 "cells": [
  {
   "cell_type": "code",
   "execution_count": 1,
   "metadata": {
    "collapsed": false
   },
   "outputs": [
    {
     "name": "stdout",
     "output_type": "stream",
     "text": [
      "requests is already installed\n",
      "aiohttp is already installed\n",
      "3.5.0a4+ (default:1158f5d7a48e, Sep 18 2015, 12:10:03) \n",
      "[GCC 4.8.4]\n"
     ]
    }
   ],
   "source": [
    "import pip\n",
    "import webbrowser\n",
    "\n",
    "def install(package):\n",
    "    # Check if it's installed\n",
    "    installed = pip.get_installed_distributions()\n",
    "    # Skip installation if already present\n",
    "    if next((x for x in installed if x.project_name == package), False):\n",
    "        print('{} is already installed'.format(package))\n",
    "        return\n",
    "    pip.main(['install', package])\n",
    "    \n",
    "install('requests')\n",
    "install('aiohttp')\n",
    "\n",
    "import aiohttp.web\n",
    "import asyncio\n",
    "import requests\n",
    "import sys\n",
    "\n",
    "print(sys.version)"
   ]
  },
  {
   "cell_type": "code",
   "execution_count": 23,
   "metadata": {
    "collapsed": false
   },
   "outputs": [],
   "source": [
    "CLIENT_ID = '398877270309-ahp65honkf4qoiav98uu4rbbuin8elfc.apps.googleusercontent.com'\n",
    "GOOGLE_OAUTH2_ENDPOINT = 'https://accounts.google.com/o/oauth2/auth'\n",
    "REDIRECT_URI = 'http://localhost:9876'\n",
    "USERNAME = 'j.american.db'\n",
    "INCLUDE_GRANTED = 'false'\n",
    "\n",
    "# Make the initial auth token request\n",
    "request_params = {\n",
    "#     'scope': 'https://www.googleapis.com/auth/calendar',\n",
    "    'scope': 'profile',\n",
    "    'redirect_uri': REDIRECT_URI,\n",
    "    'response_type': 'code',\n",
    "    'client_id': CLIENT_ID,\n",
    "#     'state': 'You again.',\n",
    "#     'login_hint': USERNAME,\n",
    "#     'include_granted_scopes': INCLUDE_GRANTED\n",
    "}\n",
    "\n",
    "\n",
    "\n",
    "    \n",
    "def get_auth_token(code):\n",
    "    print('Authorization code: {}'.format(code))\n",
    "    \n",
    "            "
   ]
  },
  {
   "cell_type": "code",
   "execution_count": null,
   "metadata": {
    "collapsed": true
   },
   "outputs": [],
   "source": [
    "# Prepare for the response\n",
    "r = requests.Request('GET', url=GOOGLE_OAUTH2_ENDPOINT, params=request_params)\n",
    "r = r.prepare()\n",
    "print(r.url)"
   ]
  },
  {
   "cell_type": "code",
   "execution_count": 25,
   "metadata": {
    "collapsed": false
   },
   "outputs": [
    {
     "name": "stdout",
     "output_type": "stream",
     "text": [
      "https://accounts.google.com/o/oauth2/auth?client_id=398877270309-ahp65honkf4qoiav98uu4rbbuin8elfc.apps.googleusercontent.com&scope=profile&response_type=code&redirect_uri=http%3A%2F%2Flocalhost%3A9876\n"
     ]
    },
    {
     "ename": "RuntimeError",
     "evalue": "Event loop is closed",
     "output_type": "error",
     "traceback": [
      "\u001b[1;31m---------------------------------------------------------------------------\u001b[0m",
      "\u001b[1;31mRuntimeError\u001b[0m                              Traceback (most recent call last)",
      "\u001b[1;32m<ipython-input-25-4d89383510ed>\u001b[0m in \u001b[0;36m<module>\u001b[1;34m()\u001b[0m\n\u001b[0;32m     11\u001b[0m \u001b[0mhandler\u001b[0m \u001b[1;33m=\u001b[0m \u001b[0mapp\u001b[0m\u001b[1;33m.\u001b[0m\u001b[0mmake_handler\u001b[0m\u001b[1;33m(\u001b[0m\u001b[1;33m)\u001b[0m\u001b[1;33m\u001b[0m\u001b[0m\n\u001b[0;32m     12\u001b[0m \u001b[0mf\u001b[0m \u001b[1;33m=\u001b[0m \u001b[0mloop\u001b[0m\u001b[1;33m.\u001b[0m\u001b[0mcreate_server\u001b[0m\u001b[1;33m(\u001b[0m\u001b[0mhandler\u001b[0m\u001b[1;33m,\u001b[0m \u001b[1;34m'localhost'\u001b[0m\u001b[1;33m,\u001b[0m \u001b[1;36m9876\u001b[0m\u001b[1;33m)\u001b[0m\u001b[1;33m\u001b[0m\u001b[0m\n\u001b[1;32m---> 13\u001b[1;33m \u001b[0msrv\u001b[0m \u001b[1;33m=\u001b[0m \u001b[0mloop\u001b[0m\u001b[1;33m.\u001b[0m\u001b[0mrun_until_complete\u001b[0m\u001b[1;33m(\u001b[0m\u001b[0mf\u001b[0m\u001b[1;33m)\u001b[0m\u001b[1;33m\u001b[0m\u001b[0m\n\u001b[0m\u001b[0;32m     14\u001b[0m \u001b[1;32mtry\u001b[0m\u001b[1;33m:\u001b[0m\u001b[1;33m\u001b[0m\u001b[0m\n\u001b[0;32m     15\u001b[0m     \u001b[0mloop\u001b[0m\u001b[1;33m.\u001b[0m\u001b[0mrun_until_complete\u001b[0m\u001b[1;33m(\u001b[0m\u001b[1;33m)\u001b[0m\u001b[1;33m\u001b[0m\u001b[0m\n",
      "\u001b[1;32m/home/jdb/.pyenv/versions/3.5-dev/lib/python3.5/asyncio/base_events.py\u001b[0m in \u001b[0;36mrun_until_complete\u001b[1;34m(self, future)\u001b[0m\n\u001b[0;32m    291\u001b[0m         \u001b[0mReturn\u001b[0m \u001b[0mthe\u001b[0m \u001b[0mFuture\u001b[0m\u001b[0;31m'\u001b[0m\u001b[0ms\u001b[0m \u001b[0mresult\u001b[0m\u001b[1;33m,\u001b[0m \u001b[1;32mor\u001b[0m \u001b[1;32mraise\u001b[0m \u001b[0mits\u001b[0m \u001b[0mexception\u001b[0m\u001b[1;33m.\u001b[0m\u001b[1;33m\u001b[0m\u001b[0m\n\u001b[0;32m    292\u001b[0m         \"\"\"\n\u001b[1;32m--> 293\u001b[1;33m         \u001b[0mself\u001b[0m\u001b[1;33m.\u001b[0m\u001b[0m_check_closed\u001b[0m\u001b[1;33m(\u001b[0m\u001b[1;33m)\u001b[0m\u001b[1;33m\u001b[0m\u001b[0m\n\u001b[0m\u001b[0;32m    294\u001b[0m \u001b[1;33m\u001b[0m\u001b[0m\n\u001b[0;32m    295\u001b[0m         \u001b[0mnew_task\u001b[0m \u001b[1;33m=\u001b[0m \u001b[1;32mnot\u001b[0m \u001b[0misinstance\u001b[0m\u001b[1;33m(\u001b[0m\u001b[0mfuture\u001b[0m\u001b[1;33m,\u001b[0m \u001b[0mfutures\u001b[0m\u001b[1;33m.\u001b[0m\u001b[0mFuture\u001b[0m\u001b[1;33m)\u001b[0m\u001b[1;33m\u001b[0m\u001b[0m\n",
      "\u001b[1;32m/home/jdb/.pyenv/versions/3.5-dev/lib/python3.5/asyncio/base_events.py\u001b[0m in \u001b[0;36m_check_closed\u001b[1;34m(self)\u001b[0m\n\u001b[0;32m    263\u001b[0m     \u001b[1;32mdef\u001b[0m \u001b[0m_check_closed\u001b[0m\u001b[1;33m(\u001b[0m\u001b[0mself\u001b[0m\u001b[1;33m)\u001b[0m\u001b[1;33m:\u001b[0m\u001b[1;33m\u001b[0m\u001b[0m\n\u001b[0;32m    264\u001b[0m         \u001b[1;32mif\u001b[0m \u001b[0mself\u001b[0m\u001b[1;33m.\u001b[0m\u001b[0m_closed\u001b[0m\u001b[1;33m:\u001b[0m\u001b[1;33m\u001b[0m\u001b[0m\n\u001b[1;32m--> 265\u001b[1;33m             \u001b[1;32mraise\u001b[0m \u001b[0mRuntimeError\u001b[0m\u001b[1;33m(\u001b[0m\u001b[1;34m'Event loop is closed'\u001b[0m\u001b[1;33m)\u001b[0m\u001b[1;33m\u001b[0m\u001b[0m\n\u001b[0m\u001b[0;32m    266\u001b[0m \u001b[1;33m\u001b[0m\u001b[0m\n\u001b[0;32m    267\u001b[0m     \u001b[1;32mdef\u001b[0m \u001b[0mrun_forever\u001b[0m\u001b[1;33m(\u001b[0m\u001b[0mself\u001b[0m\u001b[1;33m)\u001b[0m\u001b[1;33m:\u001b[0m\u001b[1;33m\u001b[0m\u001b[0m\n",
      "\u001b[1;31mRuntimeError\u001b[0m: Event loop is closed"
     ]
    }
   ],
   "source": [
    "# Start a listening connection, and come back to it\n",
    "@asyncio.coroutine\n",
    "def listen_for_auth_code(future):\n",
    "    \n",
    "    @asyncio.coroutine\n",
    "    def oauth_code_handler(request):\n",
    "        # Extract code from GET parameters\n",
    "        code = request.GET.get('code', '')\n",
    "        # Set auth code\n",
    "        future.set_result(code)\n",
    "        # Return empty response; don't care\n",
    "        return web.Response()\n",
    "    \n",
    "    app = aiohttp.web.Application(loop=loop)\n",
    "    app.router.add_route('GET', '/', oauth_code_parser)\n",
    "    handler = app.make_handler()\n",
    "    f = loop.create_server(handler, 'localhost', 9876)\n",
    "    return\n",
    "\n",
    "# Placeholder for authorization code\n",
    "future_code = asyncio.Future()\n",
    "loop = asyncio.get_event_loop()\n",
    "    \n",
    "srv = loop.run_until_complete(f)\n",
    "try:\n",
    "    loop.run_until_complete()\n",
    "except KeyboardInterrupt:\n",
    "    pass\n",
    "finally:\n",
    "    loop.run_until_complete(handler.finish_connections(1.0))\n",
    "    srv.close()\n",
    "    loop.run_until_complete(srv.wait_closed())\n",
    "    loop.run_until_complete(app.finish())\n",
    "loop.close()"
   ]
  },
  {
   "cell_type": "code",
   "execution_count": null,
   "metadata": {
    "collapsed": true
   },
   "outputs": [],
   "source": []
  }
 ],
 "metadata": {
  "kernelspec": {
   "display_name": "Python 3",
   "language": "python",
   "name": "python3"
  },
  "language_info": {
   "codemirror_mode": {
    "name": "ipython",
    "version": 3
   },
   "file_extension": ".py",
   "mimetype": "text/x-python",
   "name": "python",
   "nbconvert_exporter": "python",
   "pygments_lexer": "ipython3",
   "version": "3.5.0a4+"
  }
 },
 "nbformat": 4,
 "nbformat_minor": 0
}
