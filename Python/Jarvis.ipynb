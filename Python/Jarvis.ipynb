{
 "cells": [
  {
   "cell_type": "markdown",
   "metadata": {},
   "source": [
    "This script provides a framework for building a CI pipeline.\n",
    "\n",
    "Jarvis seems like a natural combination between Jenkins and Travis."
   ]
  },
  {
   "cell_type": "code",
   "execution_count": 8,
   "metadata": {
    "collapsed": true
   },
   "outputs": [],
   "source": [
    "import re"
   ]
  },
  {
   "cell_type": "code",
   "execution_count": 9,
   "metadata": {
    "collapsed": false
   },
   "outputs": [],
   "source": [
    "def update_kitchen_yml(lines, prev_pattern, pattern, repl):\n",
    "    \"\"\"Perform a two-line search to update the correct versions in kitchen.yml.\"\"\"\n",
    "    # Safe to setup first two lines in a multiline match.\n",
    "    prev = next(lines)\n",
    "    for line in lines:\n",
    "        curr = line\n",
    "        if re.search(prev_pattern, line) and re.search(pattern, line):\n",
    "            # Update on match\n",
    "            yield re.sub(pattern, repl, line, count=0)\n",
    "        prev = curr"
   ]
  },
  {
   "cell_type": "code",
   "execution_count": 65,
   "metadata": {
    "collapsed": false
   },
   "outputs": [
    {
     "name": "stdout",
     "output_type": "stream",
     "text": [
      "      vangmeh:\n",
      "111.\n",
      "\n",
      "      vangmeh:\n",
      "        version: 111.\n",
      "\n",
      "  attributes:\n",
      "    dyn:\n",
      "      hostname: \"zephyr24-00-dev\"\n",
      "      site: \"dev\"\n",
      "    dyn_zephyr:\n",
      "      env: dev\n",
      "      vangmeh:\n",
      "        version: 1.1.0204.43\n",
      "      majqa:\n",
      "        version: 1.0.5\n",
      "\n",
      "\n"
     ]
    }
   ],
   "source": [
    "source = '''\n",
    "  attributes:\n",
    "    dyn:\n",
    "      hostname: \"zephyr24-00-dev\"\n",
    "      site: \"dev\"\n",
    "    dyn_zephyr:\n",
    "      env: dev\n",
    "      vangmeh:\n",
    "        version: 111.204.43\n",
    "      majqa:\n",
    "        version: 1.0.5\n",
    "\n",
    "'''\n",
    "patterns = [\n",
    "    re.compile(r'''\n",
    "    ^\\s+vangmeh:$\n",
    "    ''', re.X | re.M ),\n",
    "    re.compile(r'(\\d\\.?){3}'),\n",
    "    re.compile(r'''\n",
    "(\\s+vangmeh:\\n\n",
    "\\s+version:\\s)(?P<version>(\\d\\.?){3})\n",
    "''', re.X)\n",
    "]\n",
    "\n",
    "for p in patterns:\n",
    "    m = p.search(source)\n",
    "    if m:\n",
    "        print(m.group(0))\n",
    "    else:\n",
    "        print(\"No match found\")\n",
    "        \n",
    "s = patterns[-1].sub('\\g<1>1.1.0', source, 1)\n",
    "if s:\n",
    "    print(s)"
   ]
  },
  {
   "cell_type": "code",
   "execution_count": 76,
   "metadata": {
    "collapsed": false
   },
   "outputs": [
    {
     "name": "stdout",
     "output_type": "stream",
     "text": [
      "Bumping version from 111.204.43 => 1.1.0\n",
      "Preview:\n",
      "      vangmeh:\n",
      "        version: 1.1.0\n",
      "Output:\n",
      " \n",
      "  attributes:\n",
      "    dyn:\n",
      "      hostname: \"zephyr24-00-dev\"\n",
      "      site: \"dev\"\n",
      "    dyn_zephyr:\n",
      "      env: dev\n",
      "      vangmeh:\n",
      "        version: 1.1.0\n",
      "      majqa:\n",
      "        version: 1.0.5\n",
      "\n",
      "\n",
      "Bumping version from 1.0.5 => 9.1.0\n",
      "Preview:\n",
      "      majqa:\n",
      "        version: 9.1.0\n",
      "Output:\n",
      " \n",
      "  attributes:\n",
      "    dyn:\n",
      "      hostname: \"zephyr24-00-dev\"\n",
      "      site: \"dev\"\n",
      "    dyn_zephyr:\n",
      "      env: dev\n",
      "      vangmeh:\n",
      "        version: 111.204.43\n",
      "      majqa:\n",
      "        version: 9.1.0\n",
      "\n",
      "\n"
     ]
    }
   ],
   "source": [
    "def read_until_valid(prompt, valid_inputs=None, lmbda=None):\n",
    "    \"\"\"Loop until a valid input has been received.\n",
    "\n",
    "    It is up to the caller to handle exceptions that occur outside the realm of\n",
    "    calling their lambda, such as KeyboardInterrupts (^c, a.k.a C-c).\n",
    "\n",
    "    :arg str prompt: Prompt to display.\n",
    "    :kwarg ``Iterable`` valid_inputs: Acceptable inputs. If none are provided,\n",
    "        then the first non-exceptional value entered will be returned.\n",
    "    :arg ``func`` lmbda: Function to call on received inputs. Any errors will\n",
    "        result in a re-prompting.\n",
    "    \"\"\"\n",
    "    while True:\n",
    "        user_input = input(prompt).strip(string.whitespace)\n",
    "        # Apply a given function\n",
    "        if lmbda is not None:\n",
    "            try:\n",
    "                user_input = lmbda(user_input)\n",
    "            except:         # Any errors are assumed to be bad input\n",
    "                continue    # So keep trying\n",
    "        if valid_inputs is not None:\n",
    "            if user_input in valid_inputs:\n",
    "                return user_input\n",
    "        else:\n",
    "            return user_input\n",
    "\n",
    "\n",
    "def bump_kitchen_yml(source, name, new_version, prompt=True):\n",
    "    \"\"\"Performs a version bump on .kitchen.yml file.\n",
    "    \n",
    "    :arg str source: .kitchen.yml file read into memory.\n",
    "    :arg str name: Name of target binary to bump\n",
    "    :arg str new_version: Version to bump to.\n",
    "    \"\"\"\n",
    "    # Master string template for .kitchen.yml version attributes\n",
    "    re_string = '''\n",
    "(\\s+{name}:\\n\n",
    "\\s+version:\\s+)(?P<version>(\\d+\\.?){{3}})\n",
    "'''.format(name=name)\n",
    "    p = re.compile(re_string, re.X)\n",
    "    \n",
    "    # Preview the change to our user\n",
    "    m = p.search(source)\n",
    "    print('Bumping version from {old} => {new}'.format(old=m.group('version'), new=new_version))\n",
    "    print('Preview:{body}{new}'.format(body=m.group(1), new=new_version))\n",
    "    \n",
    "    # Request permission to continue (unless told not to)\n",
    "    if prompt:\n",
    "        def booleanize(v):\n",
    "            if v in ('y', 'yes'):\n",
    "                return True\n",
    "            elif v in ('n', 'no'):\n",
    "                return False\n",
    "            raise TypeError('Unrecognized boolean placeholder: ', v)\n",
    "        _continue = read_until_valid('Modify file? ', ('y', 'yes', 'n', 'no'), booleanize)\n",
    "        if not _continue:\n",
    "            print('Aborting version bump')\n",
    "            return source\n",
    "    \n",
    "    # Perform the replacement\n",
    "    return p.sub('\\g<1>{}'.format(new_version), source)\n",
    "\n",
    "print('Output:\\n', bump(source, 'vangmeh', '1.1.0'))\n",
    "print('Output:\\n', bump(source, 'majqa', '9.1.0'))"
   ]
  },
  {
   "cell_type": "code",
   "execution_count": 77,
   "metadata": {
    "collapsed": false
   },
   "outputs": [
    {
     "data": {
      "text/plain": [
       "'jdb'"
      ]
     },
     "execution_count": 77,
     "metadata": {},
     "output_type": "execute_result"
    }
   ],
   "source": [
    "import os\n",
    "os.getenv('USER')"
   ]
  }
 ],
 "metadata": {
  "kernelspec": {
   "display_name": "Python 3",
   "language": "python",
   "name": "python3"
  },
  "language_info": {
   "codemirror_mode": {
    "name": "ipython",
    "version": 3
   },
   "file_extension": ".py",
   "mimetype": "text/x-python",
   "name": "python",
   "nbconvert_exporter": "python",
   "pygments_lexer": "ipython3",
   "version": "3.5.0a4+"
  }
 },
 "nbformat": 4,
 "nbformat_minor": 0
}
