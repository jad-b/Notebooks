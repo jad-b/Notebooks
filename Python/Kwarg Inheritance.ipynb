{
 "metadata": {
  "name": "",
  "signature": "sha256:a218a1de3a3a62c0157ada73405ea2c4b5fbc0327925bd3e6056794dc78792b0"
 },
 "nbformat": 3,
 "nbformat_minor": 0,
 "worksheets": [
  {
   "cells": [
    {
     "cell_type": "markdown",
     "metadata": {},
     "source": [
      "Base class with kwargs in __init__"
     ]
    },
    {
     "cell_type": "code",
     "collapsed": false,
     "input": [
      "class Base(object):\n",
      "    \n",
      "    def __init__(self, foo='foo', bar='bar', **kwargs):\n",
      "        self.foo = foo\n",
      "        self.bar = bar\n",
      "        self.kwargs = kwargs"
     ],
     "language": "python",
     "metadata": {},
     "outputs": [],
     "prompt_number": 1
    },
    {
     "cell_type": "markdown",
     "metadata": {},
     "source": [
      "Child class which adds a keyword argument"
     ]
    },
    {
     "cell_type": "code",
     "collapsed": false,
     "input": [
      "class Child(Base):\n",
      "    \n",
      "    def __init__(self, baz='baz', **kwargs):\n",
      "        super(Child, self).__init__(**kwargs)\n",
      "        self.baz = baz"
     ],
     "language": "python",
     "metadata": {},
     "outputs": [],
     "prompt_number": 41
    },
    {
     "cell_type": "code",
     "collapsed": false,
     "input": [
      "# Error: we need to specify our parent's keyword args\n",
      "Child(baz='bazzle')"
     ],
     "language": "python",
     "metadata": {},
     "outputs": [
      {
       "ename": "TypeError",
       "evalue": "__init__() takes exactly 3 arguments (1 given)",
       "output_type": "pyerr",
       "traceback": [
        "\u001b[1;31m---------------------------------------------------------------------------\u001b[0m\n\u001b[1;31mTypeError\u001b[0m                                 Traceback (most recent call last)",
        "\u001b[1;32m<ipython-input-52-aef80a3af5bb>\u001b[0m in \u001b[0;36m<module>\u001b[1;34m()\u001b[0m\n\u001b[0;32m      1\u001b[0m \u001b[1;31m# Error: we need to specify our parent's keyword args\u001b[0m\u001b[1;33m\u001b[0m\u001b[1;33m\u001b[0m\u001b[0m\n\u001b[1;32m----> 2\u001b[1;33m \u001b[0mChild\u001b[0m\u001b[1;33m(\u001b[0m\u001b[0mbaz\u001b[0m\u001b[1;33m=\u001b[0m\u001b[1;34m'bazzle'\u001b[0m\u001b[1;33m)\u001b[0m\u001b[1;33m\u001b[0m\u001b[0m\n\u001b[0m",
        "\u001b[1;32m<ipython-input-41-7cb019990609>\u001b[0m in \u001b[0;36m__init__\u001b[1;34m(self, baz, **kwargs)\u001b[0m\n\u001b[0;32m      2\u001b[0m \u001b[1;33m\u001b[0m\u001b[0m\n\u001b[0;32m      3\u001b[0m     \u001b[1;32mdef\u001b[0m \u001b[0m__init__\u001b[0m\u001b[1;33m(\u001b[0m\u001b[0mself\u001b[0m\u001b[1;33m,\u001b[0m \u001b[0mbaz\u001b[0m\u001b[1;33m=\u001b[0m\u001b[1;34m'baz'\u001b[0m\u001b[1;33m,\u001b[0m \u001b[1;33m**\u001b[0m\u001b[0mkwargs\u001b[0m\u001b[1;33m)\u001b[0m\u001b[1;33m:\u001b[0m\u001b[1;33m\u001b[0m\u001b[0m\n\u001b[1;32m----> 4\u001b[1;33m         \u001b[0msuper\u001b[0m\u001b[1;33m(\u001b[0m\u001b[0mChild\u001b[0m\u001b[1;33m,\u001b[0m \u001b[0mself\u001b[0m\u001b[1;33m)\u001b[0m\u001b[1;33m.\u001b[0m\u001b[0m__init__\u001b[0m\u001b[1;33m(\u001b[0m\u001b[1;33m**\u001b[0m\u001b[0mkwargs\u001b[0m\u001b[1;33m)\u001b[0m\u001b[1;33m\u001b[0m\u001b[0m\n\u001b[0m\u001b[0;32m      5\u001b[0m         \u001b[0mself\u001b[0m\u001b[1;33m.\u001b[0m\u001b[0mbaz\u001b[0m \u001b[1;33m=\u001b[0m \u001b[0mbaz\u001b[0m\u001b[1;33m\u001b[0m\u001b[0m\n",
        "\u001b[1;31mTypeError\u001b[0m: __init__() takes exactly 3 arguments (1 given)"
       ]
      }
     ],
     "prompt_number": 52
    },
    {
     "cell_type": "code",
     "collapsed": false,
     "input": [
      "c = Child(foo='foozy', bar='none', baz='bazoom')"
     ],
     "language": "python",
     "metadata": {},
     "outputs": [],
     "prompt_number": 9
    },
    {
     "cell_type": "code",
     "collapsed": false,
     "input": [
      "print(c.foo, c.bar, c.baz)\n"
     ],
     "language": "python",
     "metadata": {},
     "outputs": [
      {
       "output_type": "stream",
       "stream": "stdout",
       "text": [
        "('foozy', 'none', 'bazoom')\n"
       ]
      }
     ],
     "prompt_number": 33
    },
    {
     "cell_type": "code",
     "collapsed": false,
     "input": [
      "class GrandChild(Child):\n",
      "     \n",
      "    def __init__(self, whack='ness', **kwargs):\n",
      "        super(GrandChild, self).__init__(**kwargs)\n",
      "        self.whack = whack"
     ],
     "language": "python",
     "metadata": {},
     "outputs": [],
     "prompt_number": 48
    },
    {
     "cell_type": "code",
     "collapsed": false,
     "input": [
      "stuff = {\n",
      "    'foo': 'die', \n",
      "    'bar': 'barian', \n",
      "    'baz': 'script', \n",
      "    'whack': 'a mole'\n",
      "}"
     ],
     "language": "python",
     "metadata": {},
     "outputs": [],
     "prompt_number": 49
    },
    {
     "cell_type": "code",
     "collapsed": false,
     "input": [
      "gc = GrandChild(**stuff)\n",
      "dir(gc)\n",
      "# print(gc.foo, gc.bar, gc.baz, gc.coo)\n"
     ],
     "language": "python",
     "metadata": {},
     "outputs": [
      {
       "metadata": {},
       "output_type": "pyout",
       "prompt_number": 50,
       "text": [
        "['__class__',\n",
        " '__delattr__',\n",
        " '__dict__',\n",
        " '__doc__',\n",
        " '__format__',\n",
        " '__getattribute__',\n",
        " '__hash__',\n",
        " '__init__',\n",
        " '__module__',\n",
        " '__new__',\n",
        " '__reduce__',\n",
        " '__reduce_ex__',\n",
        " '__repr__',\n",
        " '__setattr__',\n",
        " '__sizeof__',\n",
        " '__str__',\n",
        " '__subclasshook__',\n",
        " '__weakref__',\n",
        " 'bar',\n",
        " 'baz',\n",
        " 'foo',\n",
        " 'kwargs',\n",
        " 'whack']"
       ]
      }
     ],
     "prompt_number": 50
    },
    {
     "cell_type": "code",
     "collapsed": false,
     "input": [
      "str(c.__class__).split('.')[-1][:-2]"
     ],
     "language": "python",
     "metadata": {},
     "outputs": [
      {
       "metadata": {},
       "output_type": "pyout",
       "prompt_number": 25,
       "text": [
        "'Child'"
       ]
      }
     ],
     "prompt_number": 25
    },
    {
     "cell_type": "code",
     "collapsed": false,
     "input": [
      "class SeaChild(c):\n",
      "    pass"
     ],
     "language": "python",
     "metadata": {},
     "outputs": [
      {
       "ename": "TypeError",
       "evalue": "Error when calling the metaclass bases\n    __init__() takes at most 2 arguments (4 given)",
       "output_type": "pyerr",
       "traceback": [
        "\u001b[1;31m---------------------------------------------------------------------------\u001b[0m\n\u001b[1;31mTypeError\u001b[0m                                 Traceback (most recent call last)",
        "\u001b[1;32m<ipython-input-26-94faa7ee6631>\u001b[0m in \u001b[0;36m<module>\u001b[1;34m()\u001b[0m\n\u001b[1;32m----> 1\u001b[1;33m \u001b[1;32mclass\u001b[0m \u001b[0mSeaChild\u001b[0m\u001b[1;33m(\u001b[0m\u001b[0mc\u001b[0m\u001b[1;33m)\u001b[0m\u001b[1;33m:\u001b[0m\u001b[1;33m\u001b[0m\u001b[0m\n\u001b[0m\u001b[0;32m      2\u001b[0m     \u001b[1;32mpass\u001b[0m\u001b[1;33m\u001b[0m\u001b[0m\n",
        "\u001b[1;31mTypeError\u001b[0m: Error when calling the metaclass bases\n    __init__() takes at most 2 arguments (4 given)"
       ]
      }
     ],
     "prompt_number": 26
    },
    {
     "cell_type": "code",
     "collapsed": false,
     "input": [
      "class TaskResult(object):\n",
      "    \"\"\"Generalized class for dealing with Celery task results.\n",
      "\n",
      "    __On serializing, specifically JSON:__\n",
      "    By using only kwargs, we can use keyword argument expansion (**kwargs)\n",
      "    on the JSON/dict to fill in what we need. Extraneous kwargs will be\n",
      "    absorbed by the **kwargs parameter.\n",
      "    \"\"\"\n",
      "\n",
      "    def __init__(self, **kwargs):\n",
      "        \"\"\"Sets the fields we specifically care about\"\"\"\n",
      "        self.results = kwargs.get('results', [])\n",
      "        self.kwargs = kwargs\n",
      "\n",
      "    def to_dict(self):\n",
      "        \"\"\"Serializes the object into a dict.\n",
      "\n",
      "        Should be overridden and super'd by child classes to include the\n",
      "        child's attributes.\n",
      "        \"\"\"\n",
      "        return {\n",
      "            'results': self.results,\n",
      "            'kwargs': self.kwargs\n",
      "        }\n",
      "\n",
      "    def to_json(self):\n",
      "        return json.dumps(self.to_dict())\n",
      "\n",
      "    def _check_results(self):\n",
      "        \"\"\"Checks all items in the results list are Iterable.\"\"\"\n",
      "        # Type checking on results\n",
      "        for x in self.results:\n",
      "            # All results must be an iterable\n",
      "            assert isinstance(x, Iterable)\n",
      "            # Expect a header and body\n",
      "            assert len(x) >= 2\n",
      "\n",
      "    def __repr__(self):\n",
      "        title = str(self.__class__).split('.')[-1][:-2]\n",
      "        return(\"\"\"\n",
      "            {title}\n",
      "            {hbreak}\n",
      "            results = {results}\n",
      "            Add'l kwargs = {kwargs}\n",
      "            \"\"\".format(title=title,\n",
      "                       hbreak='=' * len(title),\n",
      "                       results=pformat(self.results),\n",
      "                       kwargs=pformat(self.kwargs)))\n",
      "\n",
      "    __str__ = __repr__\n",
      "\n",
      "    \n",
      "class APIResult(TaskResult):\n",
      "    \"\"\"Class for holding results from API calls.\n",
      "\n",
      "    This includes the username of the requestee, the API call record, and an\n",
      "    error boolean/error message that arose.\n",
      "    \"\"\"\n",
      "\n",
      "    def __init__(self, user='Unknown', call_record='', error=False, **kwargs):\n",
      "        \"\"\"Sets the fields we specifically care about\"\"\"\n",
      "        super(APIResult, self).__init__(**kwargs)\n",
      "        self.user = user\n",
      "        self.call_record = call_record\n",
      "        self.error = error\n",
      "\n",
      "    def to_dict(self):\n",
      "        parent = super(APIResult, self).to_dict()\n",
      "        return parent.update({\n",
      "            'user': self.user,\n",
      "            'call_record': self.call_record,\n",
      "            'error': self.error,\n",
      "        })\n",
      "\n",
      "    def __repr__(self):\n",
      "        parent = super(APIResult, self).__str__()\n",
      "        return parent + \"\"\"\n",
      "            user = {user}\n",
      "            call record = {call_record}\n",
      "            error = {error}\n",
      "            \"\"\".format(user=self.user,\n",
      "                       call_record=self.call_record,\n",
      "                       error=str(self.error))\n",
      "\n",
      "\n",
      "class APITaskResult(APIResult):\n",
      "    \"\"\"Extends the APIResult to include the requested pool ID\"\"\"\n",
      "\n",
      "    def __init__(self, pool_id=None, **kwargs):\n",
      "        super(APITaskResult, self).__init__(self, **kwargs)\n",
      "        self.pool_id = pool_id\n",
      "\n",
      "    def to_dict(self):\n",
      "        parent = super(APITaskResult, self).to_dict()\n",
      "        return parent.update({'pool_id': self.pool_id})\n",
      "\n",
      "    def __repr__(self):\n",
      "        parent = super(APITaskResult, self).__str__()\n",
      "        return parent + '\\n{pool_id}'.format(self.pool_id)"
     ],
     "language": "python",
     "metadata": {},
     "outputs": [],
     "prompt_number": 28
    },
    {
     "cell_type": "code",
     "collapsed": false,
     "input": [
      "data = {\n",
      "    'user': 'jdb',\n",
      "    'call_record': 'When Boys Telephone Girls',\n",
      "    'pool_id': 7,\n",
      "    'customer_name': 'people'\n",
      "}"
     ],
     "language": "python",
     "metadata": {},
     "outputs": [],
     "prompt_number": 29
    },
    {
     "cell_type": "code",
     "collapsed": false,
     "input": [
      "atr = APITaskResult(**data)"
     ],
     "language": "python",
     "metadata": {},
     "outputs": [
      {
       "ename": "TypeError",
       "evalue": "__init__() got multiple values for keyword argument 'user'",
       "output_type": "pyerr",
       "traceback": [
        "\u001b[1;31m---------------------------------------------------------------------------\u001b[0m\n\u001b[1;31mTypeError\u001b[0m                                 Traceback (most recent call last)",
        "\u001b[1;32m<ipython-input-30-3e6f7d2072fe>\u001b[0m in \u001b[0;36m<module>\u001b[1;34m()\u001b[0m\n\u001b[1;32m----> 1\u001b[1;33m \u001b[0mcbp\u001b[0m \u001b[1;33m=\u001b[0m \u001b[0mCustByPoolResult\u001b[0m\u001b[1;33m(\u001b[0m\u001b[1;33m**\u001b[0m\u001b[0mdata\u001b[0m\u001b[1;33m)\u001b[0m\u001b[1;33m\u001b[0m\u001b[0m\n\u001b[0m",
        "\u001b[1;32m<ipython-input-28-b47227bb0f54>\u001b[0m in \u001b[0;36m__init__\u001b[1;34m(self, pool_id, **kwargs)\u001b[0m\n\u001b[0;32m     88\u001b[0m \u001b[1;33m\u001b[0m\u001b[0m\n\u001b[0;32m     89\u001b[0m     \u001b[1;32mdef\u001b[0m \u001b[0m__init__\u001b[0m\u001b[1;33m(\u001b[0m\u001b[0mself\u001b[0m\u001b[1;33m,\u001b[0m \u001b[0mpool_id\u001b[0m\u001b[1;33m=\u001b[0m\u001b[0mNone\u001b[0m\u001b[1;33m,\u001b[0m \u001b[1;33m**\u001b[0m\u001b[0mkwargs\u001b[0m\u001b[1;33m)\u001b[0m\u001b[1;33m:\u001b[0m\u001b[1;33m\u001b[0m\u001b[0m\n\u001b[1;32m---> 90\u001b[1;33m         \u001b[0msuper\u001b[0m\u001b[1;33m(\u001b[0m\u001b[0mCustByPoolResult\u001b[0m\u001b[1;33m,\u001b[0m \u001b[0mself\u001b[0m\u001b[1;33m)\u001b[0m\u001b[1;33m.\u001b[0m\u001b[0m__init__\u001b[0m\u001b[1;33m(\u001b[0m\u001b[0mself\u001b[0m\u001b[1;33m,\u001b[0m \u001b[1;33m**\u001b[0m\u001b[0mkwargs\u001b[0m\u001b[1;33m)\u001b[0m\u001b[1;33m\u001b[0m\u001b[0m\n\u001b[0m\u001b[0;32m     91\u001b[0m         \u001b[0mself\u001b[0m\u001b[1;33m.\u001b[0m\u001b[0mpool_id\u001b[0m \u001b[1;33m=\u001b[0m \u001b[0mpool_id\u001b[0m\u001b[1;33m\u001b[0m\u001b[0m\n\u001b[0;32m     92\u001b[0m \u001b[1;33m\u001b[0m\u001b[0m\n",
        "\u001b[1;31mTypeError\u001b[0m: __init__() got multiple values for keyword argument 'user'"
       ]
      }
     ],
     "prompt_number": 30
    }
   ],
   "metadata": {}
  }
 ]
}