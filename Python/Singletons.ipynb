{
 "metadata": {
  "name": "",
  "signature": "sha256:1835b6c40012535cdb95411b85501c5d13d86ebd20f4edad5b8e4ce255e1586c"
 },
 "nbformat": 3,
 "nbformat_minor": 0,
 "worksheets": [
  {
   "cells": [
    {
     "cell_type": "code",
     "collapsed": false,
     "input": [
      "class Singleton(type):\n",
      "    instance = None\n",
      "    \n",
      "    def __call__(cls, *args, **kw):\n",
      "        if not cls.instance:\n",
      "             cls.instance = super(Singleton, cls).__call__(*args, **kw)\n",
      "        return cls.instance"
     ],
     "language": "python",
     "metadata": {},
     "outputs": [],
     "prompt_number": 7
    },
    {
     "cell_type": "code",
     "collapsed": false,
     "input": [
      "class Singlet(metaclass=Singleton):\n",
      "    pass"
     ],
     "language": "python",
     "metadata": {},
     "outputs": [],
     "prompt_number": 8
    },
    {
     "cell_type": "code",
     "collapsed": false,
     "input": [
      "a = Singlet()\n",
      "b = Singlet()\n",
      "print(a is b)\n",
      "print(Singlet.instance == a.instance == b.instance)\n"
     ],
     "language": "python",
     "metadata": {},
     "outputs": [
      {
       "output_type": "stream",
       "stream": "stdout",
       "text": [
        "True\n",
        "True\n"
       ]
      }
     ],
     "prompt_number": 15
    },
    {
     "cell_type": "code",
     "collapsed": false,
     "input": [
      "class NewSingleton(object):\n",
      "    instance = None\n",
      "    \n",
      "    def __new__(cls, *args, **kwargs):\n",
      "        if not cls.instance:\n",
      "            cls.instance = super(NewSingleton, cls).__new__(cls)\n",
      "        return cls.instance"
     ],
     "language": "python",
     "metadata": {},
     "outputs": [],
     "prompt_number": 1
    },
    {
     "cell_type": "code",
     "collapsed": false,
     "input": [
      "c = NewSingleton()\n",
      "d = NewSingleton()\n",
      "print(c is d)\n",
      "print(NewSingleton.instance == c.instance == d.instance)"
     ],
     "language": "python",
     "metadata": {},
     "outputs": [
      {
       "output_type": "stream",
       "stream": "stdout",
       "text": [
        "True\n",
        "True\n"
       ]
      }
     ],
     "prompt_number": 4
    },
    {
     "cell_type": "code",
     "collapsed": false,
     "input": [],
     "language": "python",
     "metadata": {},
     "outputs": []
    }
   ],
   "metadata": {}
  }
 ]
}