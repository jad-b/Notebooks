{
 "metadata": {
  "name": "",
  "signature": "sha256:f5841cf905287c96ae12d0cc0d1cfdb53727169936e663909eb7950147656878"
 },
 "nbformat": 3,
 "nbformat_minor": 0,
 "worksheets": [
  {
   "cells": [
    {
     "cell_type": "code",
     "collapsed": false,
     "input": [],
     "language": "python",
     "metadata": {},
     "outputs": []
    }
   ],
   "metadata": {}
  }
 ]
}