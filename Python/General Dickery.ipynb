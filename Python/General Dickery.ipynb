{
 "metadata": {
  "name": "",
  "signature": "sha256:60fa116e02e90d004740805f272a411ad02b06f2332342d9fb0d20236402d821"
 },
 "nbformat": 3,
 "nbformat_minor": 0,
 "worksheets": [
  {
   "cells": [
    {
     "cell_type": "code",
     "collapsed": false,
     "input": [
      "from mail.cacher import ParallelGroupCacher\n",
      "pgc = ParallelGroupCacher()\n",
      "data = pgc.all_groups()"
     ],
     "language": "python",
     "metadata": {},
     "outputs": [
      {
       "output_type": "stream",
       "stream": "stderr",
       "text": [
        "2014-06-03 20:46:54,395 DEBUG [models:has_expired (35)] >>>> Data has expired; 0:58:18.204892 > 0:20:00\n"
       ]
      },
      {
       "output_type": "stream",
       "stream": "stderr",
       "text": [
        "2014-06-03 20:46:54,396 DEBUG [models:has_expired (35)] >>>> Data has expired; 0:56:13.385669 > 0:20:00\n"
       ]
      },
      {
       "output_type": "stream",
       "stream": "stderr",
       "text": [
        "2014-06-03 20:46:54,396 DEBUG [models:has_expired (35)] >>>> Data has expired; 0:56:18.841440 > 0:20:00\n"
       ]
      },
      {
       "output_type": "stream",
       "stream": "stderr",
       "text": [
        "2014-06-03 20:46:54,396 DEBUG [models:has_expired (35)] >>>> Data has expired; 0:54:39.639157 > 0:20:00\n"
       ]
      },
      {
       "output_type": "stream",
       "stream": "stderr",
       "text": [
        "2014-06-03 20:46:54,396 DEBUG [models:has_expired (35)] >>>> Data has expired; 0:56:17.610408 > 0:20:00\n"
       ]
      },
      {
       "output_type": "stream",
       "stream": "stderr",
       "text": [
        "2014-06-03 20:46:54,397 DEBUG [models:has_expired (35)] >>>> Data has expired; 0:54:39.054862 > 0:20:00\n"
       ]
      },
      {
       "output_type": "stream",
       "stream": "stderr",
       "text": [
        "2014-06-03 20:46:54,397 DEBUG [models:has_expired (35)] >>>> Data has expired; 0:56:16.464116 > 0:20:00\n"
       ]
      },
      {
       "output_type": "stream",
       "stream": "stderr",
       "text": [
        "2014-06-03 20:46:54,397 DEBUG [models:has_expired (35)] >>>> Data has expired; 0:54:37.978190 > 0:20:00\n"
       ]
      },
      {
       "output_type": "stream",
       "stream": "stderr",
       "text": [
        "2014-06-03 20:46:54,397 DEBUG [models:has_expired (35)] >>>> Data has expired; 0:56:16.277671 > 0:20:00\n"
       ]
      },
      {
       "output_type": "stream",
       "stream": "stderr",
       "text": [
        "2014-06-03 20:46:54,397 DEBUG [models:has_expired (35)] >>>> Data has expired; 0:54:37.370927 > 0:20:00\n"
       ]
      },
      {
       "output_type": "stream",
       "stream": "stderr",
       "text": [
        "2014-06-03 20:46:54,398 DEBUG [models:has_expired (35)] >>>> Data has expired; 0:56:14.846201 > 0:20:00\n"
       ]
      },
      {
       "output_type": "stream",
       "stream": "stderr",
       "text": [
        "2014-06-03 20:46:54,398 DEBUG [models:has_expired (35)] >>>> Data has expired; 0:54:35.643802 > 0:20:00\n"
       ]
      },
      {
       "output_type": "stream",
       "stream": "stderr",
       "text": [
        "2014-06-03 20:46:54,398 DEBUG [models:has_expired (35)] >>>> Data has expired; 0:56:14.023103 > 0:20:00\n"
       ]
      },
      {
       "output_type": "stream",
       "stream": "stderr",
       "text": [
        "2014-06-03 20:46:54,402 DEBUG [cacher:all_groups (366)] Created threads for 2 datacenters\n"
       ]
      },
      {
       "output_type": "stream",
       "stream": "stderr",
       "text": [
        "2014-06-03 20:46:54,505 DEBUG [models:parallel_query (395)] Connected to a10-00-ewr; id is a2901be113841c49b8ea89f4b207c8\n",
        "2014-06-03 20:46:54,508 DEBUG [models:_query (370)] Entering _query with args (<mail.lib.A10.Api object at 0x45d0dd0>, u'ewr', u'mail6-01-25')\n",
        "2014-06-03 20:46:54,508 DEBUG [models:_query (370)] Entering _query with args (<mail.lib.A10.Api object at 0x45d0dd0>, u'ewr', u'mail6-02-25')\n",
        "2014-06-03 20:46:54,508 DEBUG [models:_query (370)] Entering _query with args (<mail.lib.A10.Api object at 0x45d0dd0>, u'ewr', u'mail6-03-25')\n",
        "2014-06-03 20:46:54,508 DEBUG [models:query (350)] Querying for mail6-01-25 @ ewr\n",
        "2014-06-03 20:46:54,508 DEBUG [models:query (350)] Querying for mail6-02-25 @ ewr\n",
        "2014-06-03 20:46:54,508 DEBUG [models:_query (370)] Entering _query with args (<mail.lib.A10.Api object at 0x45d0dd0>, u'ewr', u'mail6-04-25')\n",
        "2014-06-03 20:46:54,509 DEBUG [models:_query (370)] Entering _query with args (<mail.lib.A10.Api object at 0x45d0dd0>, u'ewr', u'mail6_smtp')\n",
        "2014-06-03 20:46:54,509 DEBUG [models:query (350)] Querying for mail6-03-25 @ ewr\n",
        "2014-06-03 20:46:54,510 DEBUG [models:query (350)] Querying for mail6-04-25 @ ewr\n",
        "2014-06-03 20:46:54,510 DEBUG [models:_query (370)] Entering _query with args (<mail.lib.A10.Api object at 0x45d0dd0>, u'ewr', u'smtp-large')\n",
        "2014-06-03 20:46:54,510 DEBUG [models:_query (370)] Entering _query with args (<mail.lib.A10.Api object at 0x45d0dd0>, u'ewr', u'test_smtp_dynect')\n",
        "2014-06-03 20:46:54,510 DEBUG [models:query (350)] Querying for mail6_smtp @ ewr\n",
        "2014-06-03 20:46:54,511 DEBUG [models:query (350)] Querying for smtp-large @ ewr\n",
        "2014-06-03 20:46:54,511 DEBUG [models:query (350)] Querying for test_smtp_dynect @ ewr\n",
        "2014-06-03 20:46:54,831 DEBUG [models:query (353)] Retrieved a ServiceGroupQuery; ServiceGroup object (`mail6-03-25`) with 5 children in ReadOnly mode with session_id of a2901be113841c49b8ea89f4b207c8\n",
        "2014-06-03 20:46:54,845 DEBUG [models:parallel_query (395)] Connected to a10-00-pao; id is cd0a9aa7ca7250d6a150c6c2638a0e\n",
        "2014-06-03 20:46:54,847 DEBUG [models:_query (370)] Entering _query with args (<mail.lib.A10.Api object at 0x45d0750>, u'pao', u'mail6-01-25')\n",
        "2014-06-03 20:46:54,847 DEBUG [models:_query (370)] Entering _query with args (<mail.lib.A10.Api object at 0x45d0750>, u'pao', u'mail6-02-25')\n",
        "2014-06-03 20:46:54,847 DEBUG [models:_query (370)] Entering _query with args (<mail.lib.A10.Api object at 0x45d0750>, u'pao', u'mail6-03-25')\n",
        "2014-06-03 20:46:54,847 DEBUG [models:query (350)] Querying for mail6-01-25 @ pao\n",
        "2014-06-03 20:46:54,847 DEBUG [models:query (350)] Querying for mail6-02-25 @ pao\n",
        "2014-06-03 20:46:54,847 DEBUG [models:_query (370)] Entering _query with args (<mail.lib.A10.Api object at 0x45d0750>, u'pao', u'mail6-04-25')\n",
        "2014-06-03 20:46:54,848 DEBUG [models:_query (370)] Entering _query with args (<mail.lib.A10.Api object at 0x45d0750>, u'pao', u'mail6_smtp')\n",
        "2014-06-03 20:46:54,848 DEBUG [models:query (350)] Querying for mail6-03-25 @ pao\n",
        "2014-06-03 20:46:54,848 DEBUG [models:_query (370)] Entering _query with args (<mail.lib.A10.Api object at 0x45d0750>, u'pao', u'smtp-large')\n",
        "2014-06-03 20:46:54,849 DEBUG [models:query (350)] Querying for smtp-large @ pao\n",
        "2014-06-03 20:46:54,848 DEBUG [models:query (350)] Querying for mail6_smtp @ pao\n",
        "2014-06-03 20:46:54,848 DEBUG [models:query (350)] Querying for mail6-04-25 @ pao\n",
        "2014-06-03 20:46:54,888 DEBUG [models:query (353)] Retrieved a ServiceGroupQuery; ServiceGroup object (`mail6-01-25`) with 0 children in ReadOnly mode with session_id of a2901be113841c49b8ea89f4b207c8\n",
        "2014-06-03 20:46:54,892 DEBUG [models:query (353)] Retrieved a ServiceGroupQuery; ServiceGroup object (`mail6-02-25`) with 5 children in ReadOnly mode with session_id of a2901be113841c49b8ea89f4b207c8\n",
        "2014-06-03 20:46:54,949 DEBUG [models:query (353)] Retrieved a ServiceGroupQuery; ServiceGroup object (`mail6-04-25`) with 0 children in ReadOnly mode with session_id of a2901be113841c49b8ea89f4b207c8\n",
        "2014-06-03 20:46:54,952 DEBUG [models:query (353)] Retrieved a ServiceGroupQuery; ServiceGroup object (`mail6_smtp`) with 7 children in ReadOnly mode with session_id of a2901be113841c49b8ea89f4b207c8\n",
        "2014-06-03 20:46:55,005 DEBUG [models:query (353)] Retrieved a ServiceGroupQuery; ServiceGroup object (`smtp-large`) with 2 children in ReadOnly mode with session_id of a2901be113841c49b8ea89f4b207c8\n",
        "2014-06-03 20:46:55,009 DEBUG [models:query (353)] Retrieved a ServiceGroupQuery; ServiceGroup object (`test_smtp_dynect`) with 1 children in ReadOnly mode with session_id of a2901be113841c49b8ea89f4b207c8\n",
        "2014-06-03 20:46:55,016 DEBUG [models:parallel_query (400)] Threads have finished running\n",
        "2014-06-03 20:46:55,858 DEBUG [models:query (353)] Retrieved a ServiceGroupQuery; ServiceGroup object (`mail6-01-25`) with 0 children in ReadOnly mode with session_id of cd0a9aa7ca7250d6a150c6c2638a0e\n",
        "2014-06-03 20:46:55,860 DEBUG [models:query (353)] Retrieved a ServiceGroupQuery; ServiceGroup object (`mail6-03-25`) with 4 children in ReadOnly mode with session_id of cd0a9aa7ca7250d6a150c6c2638a0e\n",
        "2014-06-03 20:46:56,045 DEBUG [models:query (353)] Retrieved a ServiceGroupQuery; ServiceGroup object (`mail6-02-25`) with 2 children in ReadOnly mode with session_id of cd0a9aa7ca7250d6a150c6c2638a0e\n",
        "2014-06-03 20:46:56,047 DEBUG [models:query (353)] Retrieved a ServiceGroupQuery; ServiceGroup object (`mail6_smtp`) with 8 children in ReadOnly mode with session_id of cd0a9aa7ca7250d6a150c6c2638a0e\n",
        "2014-06-03 20:46:56,234 DEBUG [models:query (353)] Retrieved a ServiceGroupQuery; ServiceGroup object (`smtp-large`) with 2 children in ReadOnly mode with session_id of cd0a9aa7ca7250d6a150c6c2638a0e\n",
        "2014-06-03 20:46:56,235 DEBUG [models:query (353)] Retrieved a ServiceGroupQuery; ServiceGroup object (`mail6-04-25`) with 1 children in ReadOnly mode with session_id of cd0a9aa7ca7250d6a150c6c2638a0e\n",
        "2014-06-03 20:46:56,237 DEBUG [models:parallel_query (400)] Threads have finished running\n",
        "2014-06-03 20:46:56,678 DEBUG [cacher:all_groups (371)] Retrieved [<mail.models.ServiceGroupQuery object at 0x45eb5d0>, <mail.models.ServiceGroupQuery object at 0x45eb390>, <mail.models.ServiceGroupQuery object at 0x7f9ce0021250>, <mail.models.ServiceGroupQuery object at 0x45ebb90>, <mail.models.ServiceGroupQuery object at 0x45eb990>, <mail.models.ServiceGroupQuery object at 0x45ebd90>, <mail.models.ServiceGroupQuery object at 0x45ebfd0>] from ewr\n"
       ]
      },
      {
       "output_type": "stream",
       "stream": "stderr",
       "text": [
        "2014-06-03 20:46:56,822 DEBUG [cacher:all_groups (398)] Finished Member updating in 0:00:00.142486 seconds\n"
       ]
      },
      {
       "output_type": "stream",
       "stream": "stderr",
       "text": [
        "2014-06-03 20:46:57,902 DEBUG [cacher:all_groups (398)] Finished Member updating in 0:00:01.079509 seconds\n"
       ]
      },
      {
       "output_type": "stream",
       "stream": "stderr",
       "text": [
        "2014-06-03 20:46:59,276 DEBUG [cacher:all_groups (398)] Finished Member updating in 0:00:01.372929 seconds\n"
       ]
      },
      {
       "output_type": "stream",
       "stream": "stderr",
       "text": [
        "2014-06-03 20:46:59,402 DEBUG [cacher:all_groups (398)] Finished Member updating in 0:00:00.125445 seconds\n"
       ]
      },
      {
       "output_type": "stream",
       "stream": "stderr",
       "text": [
        "2014-06-03 20:47:00,852 DEBUG [cacher:all_groups (398)] Finished Member updating in 0:00:01.450022 seconds\n"
       ]
      },
      {
       "output_type": "stream",
       "stream": "stderr",
       "text": [
        "2014-06-03 20:47:01,515 DEBUG [cacher:all_groups (398)] Finished Member updating in 0:00:00.662537 seconds\n"
       ]
      },
      {
       "output_type": "stream",
       "stream": "stderr",
       "text": [
        "2014-06-03 20:47:02,131 DEBUG [cacher:all_groups (398)] Finished Member updating in 0:00:00.615108 seconds\n"
       ]
      },
      {
       "output_type": "stream",
       "stream": "stderr",
       "text": [
        "2014-06-03 20:47:02,132 DEBUG [cacher:all_groups (371)] Retrieved [<mail.models.ServiceGroupQuery object at 0x7f9ce0029c90>, <mail.models.ServiceGroupQuery object at 0x7f9ce002d150>, <mail.models.ServiceGroupQuery object at 0x7f9ce0029dd0>, <mail.models.ServiceGroupQuery object at 0x7f9ce0035550>, <mail.models.ServiceGroupQuery object at 0x7f9ce002da90>, <mail.models.ServiceGroupQuery object at 0x7f9ce002d210>] from pao\n"
       ]
      },
      {
       "output_type": "stream",
       "stream": "stderr",
       "text": [
        "2014-06-03 20:47:02,315 DEBUG [cacher:all_groups (398)] Finished Member updating in 0:00:00.182664 seconds\n"
       ]
      },
      {
       "output_type": "stream",
       "stream": "stderr",
       "text": [
        "2014-06-03 20:47:03,125 DEBUG [cacher:all_groups (398)] Finished Member updating in 0:00:00.809294 seconds\n"
       ]
      },
      {
       "output_type": "stream",
       "stream": "stderr",
       "text": [
        "2014-06-03 20:47:04,315 DEBUG [cacher:all_groups (398)] Finished Member updating in 0:00:01.189424 seconds\n"
       ]
      },
      {
       "output_type": "stream",
       "stream": "stderr",
       "text": [
        "2014-06-03 20:47:04,927 DEBUG [cacher:all_groups (398)] Finished Member updating in 0:00:00.612533 seconds\n"
       ]
      },
      {
       "output_type": "stream",
       "stream": "stderr",
       "text": [
        "2014-06-03 20:47:06,704 DEBUG [cacher:all_groups (398)] Finished Member updating in 0:00:01.776248 seconds\n"
       ]
      },
      {
       "output_type": "stream",
       "stream": "stderr",
       "text": [
        "2014-06-03 20:47:07,382 DEBUG [cacher:all_groups (398)] Finished Member updating in 0:00:00.677323 seconds\n"
       ]
      },
      {
       "output_type": "stream",
       "stream": "stdout",
       "text": [
        "({}, {u'ewr': [u'mail6-01-25', u'mail6-02-25', u'mail6-03-25', u'mail6-04-25', u'mail6_smtp', u'smtp-large', u'test_smtp_dynect'], u'pao': [u'mail6-01-25', u'mail6-02-25', u'mail6-03-25', u'mail6-04-25', u'mail6_smtp', u'smtp-large']})\n",
        "{u'ewr': None, u'pao': None}\n",
        "{u'ewr': Payload(groups=[], errors=[]), u'pao': Payload(groups=[], errors=[])}\n",
        "[(u'ewr', [u'mail6-01-25', u'mail6-02-25', u'mail6-03-25', u'mail6-04-25', u'mail6_smtp', u'smtp-large', u'test_smtp_dynect']), (u'pao', [u'mail6-01-25', u'mail6-02-25', u'mail6-03-25', u'mail6-04-25', u'mail6_smtp', u'smtp-large'])]\n"
       ]
      }
     ],
     "prompt_number": 1
    },
    {
     "cell_type": "code",
     "collapsed": false,
     "input": [
      "data"
     ],
     "language": "python",
     "metadata": {},
     "outputs": [
      {
       "metadata": {},
       "output_type": "pyout",
       "prompt_number": 2,
       "text": [
        "{u'ewr': Payload(groups=[<Group: mail6-01-25 @ ewr>, <Group: mail6-02-25 @ ewr>, <Group: mail6-03-25 @ ewr>, <Group: mail6-04-25 @ ewr>, <Group: mail6_smtp @ ewr>, <Group: smtp-large @ ewr>, <Group: test_smtp_dynect @ ewr>], errors=[]),\n",
        " u'pao': Payload(groups=[<Group: mail6-01-25 @ pao>, <Group: mail6-02-25 @ pao>, <Group: mail6-03-25 @ pao>, <Group: mail6-04-25 @ pao>, <Group: mail6_smtp @ pao>, <Group: smtp-large @ pao>], errors=[])}"
       ]
      }
     ],
     "prompt_number": 2
    },
    {
     "cell_type": "code",
     "collapsed": false,
     "input": [
      "from mail.lib.A10 import Api, ApiMode\n",
      "from settings.credentials import a10_username, a10_password"
     ],
     "language": "python",
     "metadata": {},
     "outputs": [],
     "prompt_number": 5
    },
    {
     "cell_type": "code",
     "collapsed": false,
     "input": [
      "api = Api(\"a10-00-ewr\", a10_username, a10_password)\n",
      "api.connect()"
     ],
     "language": "python",
     "metadata": {},
     "outputs": [
      {
       "metadata": {},
       "output_type": "pyout",
       "prompt_number": 7,
       "text": [
        "'6dba3a82f1f2f0c114b22f1e8d62f1'"
       ]
      }
     ],
     "prompt_number": 7
    },
    {
     "cell_type": "code",
     "collapsed": false,
     "input": [
      "api.get_service_group('mail6_smtp', ApiMode.ReadOnly)"
     ],
     "language": "python",
     "metadata": {},
     "outputs": [
      {
       "metadata": {},
       "output_type": "pyout",
       "prompt_number": 8,
       "text": [
        "ServiceGroup object (`mail6_smtp`) with 7 children in ReadOnly mode with session_id of 6dba3a82f1f2f0c114b22f1e8d62f1\n",
        "_request_bytes: 60083683821859\n",
        "_members: {'192.168.161.109': {'status': 1, 'response_bytes': '685420608571', 'connection_limit': 8000000, 'request_bytes': '11557566956639', 'total_connections': '268199234', 'current_connections': '70', 'port': 25}, '192.168.161.105': {'status': 1, 'response_bytes': '53899985469', 'connection_limit': 8000000, 'request_bytes': '1196898137257', 'total_connections': '16997472', 'current_connections': '49', 'port': 25}, '192.168.161.104': {'status': 1, 'response_bytes': '666995537073', 'connection_limit': 8000000, 'request_bytes': '11290669532756', 'total_connections': '267613959', 'current_connections': '45', 'port': 25}, '192.168.161.110': {'status': 1, 'response_bytes': '687634719350', 'connection_limit': 8000000, 'request_bytes': '11618194993880', 'total_connections': '267875816', 'current_connections': '39', 'port': 25}, '192.168.161.106': {'status': 1, 'response_bytes': '59578494368', 'connection_limit': 8000000, 'request_bytes': '1293872126263', 'total_connections': '19891417', 'current_connections': '45', 'port': 25}, '192.168.161.103': {'status': 1, 'response_bytes': '674140487900', 'connection_limit': 8000000, 'request_bytes': '11589410681785', 'total_connections': '266867705', 'current_connections': '41', 'port': 25}, '192.168.161.113': {'status': 1, 'response_bytes': '685692840983', 'connection_limit': 8000000, 'request_bytes': '11537071393279', 'total_connections': '268402724', 'current_connections': '83', 'port': 25}}\n",
        "_total_connections: 1375848327\n",
        "_health_method: SMTP-Check\n",
        "_name: mail6_smtp\n",
        "_loadbalance_method: 1\n",
        "api: A10Api object with session_id of 6dba3a82f1f2f0c114b22f1e8d62f1\n",
        "mode: 0\n",
        "_current_connections: 372\n",
        "_status: 1\n",
        "_persistent_connections: 0\n",
        "_response_bytes: 3513362673714"
       ]
      }
     ],
     "prompt_number": 8
    },
    {
     "cell_type": "code",
     "collapsed": false,
     "input": [],
     "language": "python",
     "metadata": {},
     "outputs": []
    }
   ],
   "metadata": {}
  }
 ]
}