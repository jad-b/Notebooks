{
 "cells": [
  {
   "cell_type": "code",
   "execution_count": 2,
   "metadata": {
    "collapsed": false
   },
   "outputs": [],
   "source": [
    "import subprocess"
   ]
  },
  {
   "cell_type": "code",
   "execution_count": 7,
   "metadata": {
    "collapsed": false
   },
   "outputs": [
    {
     "data": {
      "text/plain": [
       "['CalledProcessError',\n",
       " 'DEVNULL',\n",
       " 'MAXFD',\n",
       " 'PIPE',\n",
       " 'Popen',\n",
       " 'STDOUT',\n",
       " 'SubprocessError',\n",
       " 'TimeoutExpired',\n",
       " '_PIPE_BUF',\n",
       " '_PLATFORM_DEFAULT_CLOSE_FDS',\n",
       " '_PopenSelector',\n",
       " '__all__',\n",
       " '__builtins__',\n",
       " '__cached__',\n",
       " '__doc__',\n",
       " '__file__',\n",
       " '__loader__',\n",
       " '__name__',\n",
       " '__package__',\n",
       " '__spec__',\n",
       " '_active',\n",
       " '_args_from_interpreter_flags',\n",
       " '_cleanup',\n",
       " '_eintr_retry_call',\n",
       " '_posixsubprocess',\n",
       " '_time',\n",
       " 'builtins',\n",
       " 'call',\n",
       " 'check_call',\n",
       " 'check_output',\n",
       " 'errno',\n",
       " 'gc',\n",
       " 'getoutput',\n",
       " 'getstatusoutput',\n",
       " 'io',\n",
       " 'list2cmdline',\n",
       " 'mswindows',\n",
       " 'os',\n",
       " 'select',\n",
       " 'selectors',\n",
       " 'signal',\n",
       " 'sys',\n",
       " 'time',\n",
       " 'traceback',\n",
       " 'warnings']"
      ]
     },
     "execution_count": 7,
     "metadata": {},
     "output_type": "execute_result"
    }
   ],
   "source": [
    "dir(subprocess)"
   ]
  },
  {
   "cell_type": "code",
   "execution_count": 19,
   "metadata": {
    "collapsed": false
   },
   "outputs": [
    {
     "name": "stdout",
     "output_type": "stream",
     "text": [
      "AsyncResult & Exceptions.ipynb\n",
      "Callability.ipynb\n",
      "Conway's Game of Life.ipynb\n",
      "Data Model.ipynb\n",
      "Exception Typing.ipynb\n",
      "General Dickery.ipynb\n",
      "Importing.ipynb\n",
      "Kwarg Inheritance.ipynb\n",
      "Lookups on Dynamic Attributes.ipynb\n",
      "Mock\n",
      "MRO.ipynb\n",
      "Namedtuples.ipynb\n",
      "Pretty Multiline Printing.ipynb\n",
      "Subprocess commands.ipynb\n",
      "\n"
     ]
    }
   ],
   "source": [
    "# Returns a bytes array\n",
    "out = subprocess.check_output('ls')\n",
    "# convert to a normal string\n",
    "out = out.decode('utf-8')\n",
    "print(out)"
   ]
  },
  {
   "cell_type": "code",
   "execution_count": null,
   "metadata": {
    "collapsed": false
   },
   "outputs": [],
   "source": []
  }
 ],
 "metadata": {
  "kernelspec": {
   "display_name": "Python 3",
   "language": "python",
   "name": "python3"
  },
  "language_info": {
   "codemirror_mode": {
    "name": "ipython",
    "version": 3
   },
   "file_extension": ".py",
   "mimetype": "text/x-python",
   "name": "python",
   "nbconvert_exporter": "python",
   "pygments_lexer": "ipython3",
   "version": "3.5.2"
  }
 },
 "nbformat": 4,
 "nbformat_minor": 0
}
