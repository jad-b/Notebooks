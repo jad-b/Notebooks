{
 "metadata": {
  "name": "",
  "signature": "sha256:21e5a0f928c8bdcc0d35ce3248474247021565f9598417568ae0fbc3c4f8ffc1"
 },
 "nbformat": 3,
 "nbformat_minor": 0,
 "worksheets": [
  {
   "cells": [
    {
     "cell_type": "code",
     "collapsed": false,
     "input": [
      "import subprocess"
     ],
     "language": "python",
     "metadata": {},
     "outputs": [],
     "prompt_number": 2
    },
    {
     "cell_type": "code",
     "collapsed": false,
     "input": [
      "dir(subprocess)"
     ],
     "language": "python",
     "metadata": {},
     "outputs": [
      {
       "metadata": {},
       "output_type": "pyout",
       "prompt_number": 7,
       "text": [
        "['CalledProcessError',\n",
        " 'DEVNULL',\n",
        " 'MAXFD',\n",
        " 'PIPE',\n",
        " 'Popen',\n",
        " 'STDOUT',\n",
        " 'SubprocessError',\n",
        " 'TimeoutExpired',\n",
        " '_PIPE_BUF',\n",
        " '_PLATFORM_DEFAULT_CLOSE_FDS',\n",
        " '_PopenSelector',\n",
        " '__all__',\n",
        " '__builtins__',\n",
        " '__cached__',\n",
        " '__doc__',\n",
        " '__file__',\n",
        " '__loader__',\n",
        " '__name__',\n",
        " '__package__',\n",
        " '__spec__',\n",
        " '_active',\n",
        " '_args_from_interpreter_flags',\n",
        " '_cleanup',\n",
        " '_eintr_retry_call',\n",
        " '_posixsubprocess',\n",
        " '_time',\n",
        " 'builtins',\n",
        " 'call',\n",
        " 'check_call',\n",
        " 'check_output',\n",
        " 'errno',\n",
        " 'gc',\n",
        " 'getoutput',\n",
        " 'getstatusoutput',\n",
        " 'io',\n",
        " 'list2cmdline',\n",
        " 'mswindows',\n",
        " 'os',\n",
        " 'select',\n",
        " 'selectors',\n",
        " 'signal',\n",
        " 'sys',\n",
        " 'time',\n",
        " 'traceback',\n",
        " 'warnings']"
       ]
      }
     ],
     "prompt_number": 7
    },
    {
     "cell_type": "code",
     "collapsed": false,
     "input": [
      "# Returns a bytes array\n",
      "out = subprocess.check_output('ls')\n",
      "# convert to a normal string\n",
      "out = out.decode('utf-8')\n",
      "print(out)"
     ],
     "language": "python",
     "metadata": {},
     "outputs": [
      {
       "output_type": "stream",
       "stream": "stdout",
       "text": [
        "AsyncResult & Exceptions.ipynb\n",
        "Callability.ipynb\n",
        "Conway's Game of Life.ipynb\n",
        "Data Model.ipynb\n",
        "Exception Typing.ipynb\n",
        "General Dickery.ipynb\n",
        "Importing.ipynb\n",
        "Kwarg Inheritance.ipynb\n",
        "Lookups on Dynamic Attributes.ipynb\n",
        "Mock\n",
        "MRO.ipynb\n",
        "Namedtuples.ipynb\n",
        "Pretty Multiline Printing.ipynb\n",
        "Subprocess commands.ipynb\n",
        "\n"
       ]
      }
     ],
     "prompt_number": 19
    },
    {
     "cell_type": "code",
     "collapsed": false,
     "input": [],
     "language": "python",
     "metadata": {},
     "outputs": []
    }
   ],
   "metadata": {}
  }
 ]
}