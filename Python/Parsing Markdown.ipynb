{
 "cells": [
  {
   "cell_type": "code",
   "execution_count": 15,
   "metadata": {
    "collapsed": true
   },
   "outputs": [],
   "source": [
    "import mistune\n",
    "from bs4 import BeautifulSoup"
   ]
  },
  {
   "cell_type": "code",
   "execution_count": 16,
   "metadata": {
    "collapsed": true
   },
   "outputs": [],
   "source": [
    "# Le Markdown\n",
    "md = \"\"\"\n",
    "* MlSL: machine learning, visualization\n",
    "* The Fantastic Light: DSP, Arduino\n",
    "* tiredlike.us: front-end, data collection, modeling, nosql, cloud, payments, oauth\n",
    "* travellingsalesman.com: front-end, graph, optimization, payments\n",
    "* isastrologyreal.com: front-end, machine learning, data collection, oauth\n",
    "* HeadHunt: machine learning, NLP, web scraping, chrome app, front-end\n",
    "* guitar!: DSP, machine learning\n",
    "* Torque: front-end, modeling, Android\n",
    "\"\"\""
   ]
  },
  {
   "cell_type": "markdown",
   "metadata": {},
   "source": [
    "Prep: Parse the markdown into HTML using `mistune`, and parse the HTML using `beautifulsoup`"
   ]
  },
  {
   "cell_type": "code",
   "execution_count": 17,
   "metadata": {
    "collapsed": false
   },
   "outputs": [],
   "source": [
    "html = mistune.markdown(md)\n",
    "soup = BeautifulSoup(html, 'html.parser')"
   ]
  },
  {
   "cell_type": "markdown",
   "metadata": {},
   "source": [
    "Method 1) Iterate over all of the &lt;li&gt; children under the &lt;ul&gt; "
   ]
  },
  {
   "cell_type": "code",
   "execution_count": 23,
   "metadata": {
    "collapsed": false
   },
   "outputs": [
    {
     "name": "stdout",
     "output_type": "stream",
     "text": [
      "{'guitar!': [' DSP', ' machine learning'], 'MlSL': [' machine learning', ' visualization'], 'HeadHunt': [' machine learning', ' NLP', ' web scraping', ' chrome app', ' front-end'], 'tiredlike.us': [' front-end', ' data collection', ' modeling', ' nosql', ' cloud', ' payments', ' oauth'], 'Torque': [' front-end', ' modeling', ' Android'], 'isastrologyreal.com': [' front-end', ' machine learning', ' data collection', ' oauth'], 'The Fantastic Light': [' DSP', ' Arduino'], 'travellingsalesman.com': [' front-end', ' graph', ' optimization', ' payments']}\n"
     ]
    }
   ],
   "source": [
    "things = {}\n",
    "for child in soup.ul.findAll('li'):\n",
    "    if child.string:\n",
    "        name, tags = child.string.split(':')\n",
    "        things[name] = tags.split(',')\n",
    "print(things)"
   ]
  },
  {
   "cell_type": "markdown",
   "metadata": {},
   "source": [
    "Method 2) Iterate over the strings inside the &lt;ul&gt;"
   ]
  },
  {
   "cell_type": "code",
   "execution_count": 26,
   "metadata": {
    "collapsed": false
   },
   "outputs": [
    {
     "name": "stdout",
     "output_type": "stream",
     "text": [
      "{'guitar!': ['guitar!: DSP', 'machine learning'], 'MlSL': ['MlSL: machine learning', 'visualization'], 'HeadHunt': ['HeadHunt: machine learning', 'NLP', 'web scraping', 'chrome app', 'front-end'], 'tiredlike.us': ['tiredlike.us: front-end', 'data collection', 'modeling', 'nosql', 'cloud', 'payments', 'oauth'], 'Torque': ['Torque: front-end', 'modeling', 'Android'], 'isastrologyreal.com': ['isastrologyreal.com: front-end', 'machine learning', 'data collection', 'oauth'], 'The Fantastic Light': ['The Fantastic Light: DSP', 'Arduino'], 'travellingsalesman.com': ['travellingsalesman.com: front-end', 'graph', 'optimization', 'payments']}\n"
     ]
    }
   ],
   "source": [
    "things = {}\n",
    "for string in soup.ul.strings:\n",
    "    if string != '\\n':\n",
    "        name, tags = string.split(':')\n",
    "        things[name] = string.split(', ')\n",
    "print(things)"
   ]
  }
 ],
 "metadata": {
  "kernelspec": {
   "display_name": "Python 3",
   "language": "python",
   "name": "python3"
  },
  "language_info": {
   "codemirror_mode": {
    "name": "ipython",
    "version": 3
   },
   "file_extension": ".py",
   "mimetype": "text/x-python",
   "name": "python",
   "nbconvert_exporter": "python",
   "pygments_lexer": "ipython3",
   "version": "3.5.1"
  },
  "widgets": {
   "state": {},
   "version": "1.1.1"
  }
 },
 "nbformat": 4,
 "nbformat_minor": 0
}
