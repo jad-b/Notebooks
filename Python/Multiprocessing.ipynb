{
 "cells": [
  {
   "cell_type": "markdown",
   "metadata": {},
   "source": [
    "At its simplest, you can spawn a Process w/ a given `run` function:"
   ]
  },
  {
   "cell_type": "code",
   "execution_count": 27,
   "metadata": {
    "collapsed": false
   },
   "outputs": [
    {
     "name": "stdout",
     "output_type": "stream",
     "text": [
      "Running in __main__\n",
      "Running in __main__\n",
      "('a1', 'a2')\n"
     ]
    }
   ],
   "source": [
    "import multiprocessing as mp\n",
    "import multiprocessing.dummy as mt\n",
    "\n",
    "def main():\n",
    "    return __name__ == '__main__'\n",
    "\n",
    "def run(*args):\n",
    "    print('Running in', __name__)\n",
    "    if args:\n",
    "        print(args)\n",
    "\n",
    "# A Process will import the module containing it's target function,\n",
    "# so we need make that module safe to run (idempotent), or separate\n",
    "# the run function\n",
    "if main():\n",
    "    p = []\n",
    "    p.append(mp.Process(target=run))\n",
    "    p.append(mp.Process(target=run, args=('a1', 'a2')))\n",
    "    # Start all processes\n",
    "    for proc in p:\n",
    "        proc.start()\n",
    "    # Wait for them to *die*\n",
    "    for proc in p:\n",
    "        proc.join()"
   ]
  },
  {
   "cell_type": "markdown",
   "metadata": {},
   "source": [
    "Naming a process is just one more argument:"
   ]
  },
  {
   "cell_type": "code",
   "execution_count": 26,
   "metadata": {
    "collapsed": false
   },
   "outputs": [
    {
     "name": "stdout",
     "output_type": "stream",
     "text": [
      "Hi, my name is Jujubees\n",
      "I am coming for your soul\n"
     ]
    }
   ],
   "source": [
    "def your_soul():\n",
    "    print('Hi, my name is', mp.current_process().name)\n",
    "    print('I am coming for your soul')\n",
    "\n",
    "if main(): \n",
    "    p = mp.Process(name='Jujubees', target=your_soul)\n",
    "    p.start()\n",
    "    p.join()    "
   ]
  },
  {
   "cell_type": "markdown",
   "metadata": {},
   "source": [
    "Daemonizing a child process is also just an argument:"
   ]
  },
  {
   "cell_type": "code",
   "execution_count": 23,
   "metadata": {
    "collapsed": false
   },
   "outputs": [
    {
     "name": "stdout",
     "output_type": "stream",
     "text": [
      "Zah-Ahm-bah, zah-AHM-beh, ooh oh\n"
     ]
    }
   ],
   "source": [
    "import time\n",
    "\n",
    "def i_live():\n",
    "    print('Zah-Ahm-bah, zah-AHM-beh, ooh oh')\n",
    "    \n",
    "if main():\n",
    "    zombie = mp.Process(name='Cranberries', target=i_live)\n",
    "    zombie.daemon = True\n",
    "    zombie.start()\n",
    "    time.sleep(1)\n",
    "    zombie.join()\n",
    "    "
   ]
  },
  {
   "cell_type": "markdown",
   "metadata": {},
   "source": [
    "## Using Pool"
   ]
  },
  {
   "cell_type": "markdown",
   "metadata": {},
   "source": [
    "Spawning individual processes is pretty straightforward, but tedious.\n",
    "We can use `mp.Pool` to handle creating and joining tasks."
   ]
  },
  {
   "cell_type": "code",
   "execution_count": null,
   "metadata": {
    "collapsed": true
   },
   "outputs": [],
   "source": []
  }
 ],
 "metadata": {
  "kernelspec": {
   "display_name": "Python 3",
   "language": "python",
   "name": "python3"
  },
  "language_info": {
   "codemirror_mode": {
    "name": "ipython",
    "version": 3
   },
   "file_extension": ".py",
   "mimetype": "text/x-python",
   "name": "python",
   "nbconvert_exporter": "python",
   "pygments_lexer": "ipython3",
   "version": "3.4.0"
  }
 },
 "nbformat": 4,
 "nbformat_minor": 0
}
