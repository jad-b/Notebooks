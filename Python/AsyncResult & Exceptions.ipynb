{
 "metadata": {
  "name": "",
  "signature": "sha256:d0d0f189c5d8b57c2909c72cd31d085c127d6c65c78ac482c0d06c0007fdd7d3"
 },
 "nbformat": 3,
 "nbformat_minor": 0,
 "worksheets": [
  {
   "cells": [
    {
     "cell_type": "code",
     "collapsed": false,
     "input": [
      "from multiprocessing.dummy import Pool"
     ],
     "language": "python",
     "metadata": {},
     "outputs": [],
     "prompt_number": 2
    },
    {
     "cell_type": "code",
     "collapsed": false,
     "input": [
      "def unreliable_fn(tpl):\n",
      "    i, a = tpl\n",
      "    if i % 3 == 0:\n",
      "        raise Exception(\"I hate multiples of 3!\")\n",
      "    return a, i\n",
      "\n",
      "def reliable_wrapper(tpl):\n",
      "    try:\n",
      "        return unreliable_fn(tpl)\n",
      "    except Exception as e:\n",
      "        return e"
     ],
     "language": "python",
     "metadata": {},
     "outputs": [],
     "prompt_number": 9
    },
    {
     "cell_type": "code",
     "collapsed": false,
     "input": [
      "pool = Pool(3)\n",
      "result = pool.map_async(reliable_wrapper, \n",
      "                        ((i, chr(i)) for i in range(6)))\n",
      "ret = result.get()\n",
      "print(ret)"
     ],
     "language": "python",
     "metadata": {},
     "outputs": [
      {
       "output_type": "stream",
       "stream": "stdout",
       "text": [
        "[Exception('I hate multiples of 3!',), ('\\x01', 1), ('\\x02', 2), Exception('I hate multiples of 3!',), ('\\x04', 4), ('\\x05', 5)]\n"
       ]
      }
     ],
     "prompt_number": 10
    }
   ],
   "metadata": {}
  }
 ]
}