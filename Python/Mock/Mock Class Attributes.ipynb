{
 "metadata": {
  "name": "",
  "signature": "sha256:50a74c2b8069326a858159c4ddafb4615b53fb7c0de5895bc49ac3cb7ef6957b"
 },
 "nbformat": 3,
 "nbformat_minor": 0,
 "worksheets": [
  {
   "cells": [
    {
     "cell_type": "code",
     "collapsed": false,
     "input": [
      "from mock import patch"
     ],
     "language": "python",
     "metadata": {},
     "outputs": [],
     "prompt_number": 3
    },
    {
     "cell_type": "code",
     "collapsed": false,
     "input": [
      "class A(object):\n",
      "    foo = 'foo'\n",
      "    bar = 'bar'\n",
      "    \n",
      "    def __str__(self):\n",
      "        return a.foo + \", \" + a.bar\n",
      "    \n",
      "a = A()\n",
      "print(a)\n",
      "\n",
      "@patch.object(B, 'foo', return_value='fuzz')\n",
      "class B(A):\n",
      "    pass"
     ],
     "language": "python",
     "metadata": {},
     "outputs": [
      {
       "output_type": "stream",
       "stream": "stdout",
       "text": [
        "foo, bar\n"
       ]
      }
     ],
     "prompt_number": 12
    },
    {
     "cell_type": "code",
     "collapsed": false,
     "input": [
      "b = B()\n",
      "print(b.foo)"
     ],
     "language": "python",
     "metadata": {},
     "outputs": [
      {
       "output_type": "stream",
       "stream": "stdout",
       "text": [
        "foo\n"
       ]
      }
     ],
     "prompt_number": 13
    }
   ],
   "metadata": {}
  }
 ]
}