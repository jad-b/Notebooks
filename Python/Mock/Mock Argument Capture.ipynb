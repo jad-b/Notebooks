{
 "metadata": {
  "name": "",
  "signature": "sha256:2eca7b8a66c9fd0c4269950d61785d45db59c043de4cc6c7d8c446b196193230"
 },
 "nbformat": 3,
 "nbformat_minor": 0,
 "worksheets": [
  {
   "cells": [
    {
     "cell_type": "code",
     "collapsed": false,
     "input": [
      "from mock import patch"
     ],
     "language": "python",
     "metadata": {},
     "outputs": [],
     "prompt_number": 1
    },
    {
     "cell_type": "code",
     "collapsed": false,
     "input": [
      "class Hunter(object):\n",
      "    \n",
      "    def __init__(self, uuid):\n",
      "        self.uuid = uuid\n",
      "    \n",
      "    def seeker(self, sub_id, pos=0):\n",
      "        return self.seek(self.uuid, sub_id, pos)    \n",
      "    \n",
      "    def seek(self, master, sub, pos=0):\n",
      "        \"\"\"Returns pos at which the substring was located\n",
      "\n",
      "        :param ``str`` master: String against which to compare\n",
      "        :param ``str`` sub: Substring we're comparing with\n",
      "        :param ``int`` pos: Optional string index to start the \n",
      "        comparison at\n",
      "        :return int: Position at which substring matched, or None\n",
      "        no match is found\n",
      "        \"\"\"\n",
      "        # Get starting range\n",
      "        start = pos\n",
      "        end = len(sub)\n",
      "        term = len(master)\n",
      "\n",
      "        while end < term:\n",
      "            if master[start:end]:\n",
      "                return start\n",
      "            else:\n",
      "                start += 1\n",
      "                end += 1\n",
      "        return None "
     ],
     "language": "python",
     "metadata": {},
     "outputs": [],
     "prompt_number": 34
    },
    {
     "cell_type": "code",
     "collapsed": false,
     "input": [
      "class Gaoler:    \n",
      "    def __init__(self):\n",
      "        self.args = None\n",
      "        \n",
      "    def __call__(self, *args):\n",
      "        print('Gaoler called')\n",
      "        self.args = args\n",
      "    "
     ],
     "language": "python",
     "metadata": {},
     "outputs": [],
     "prompt_number": 15
    },
    {
     "cell_type": "code",
     "collapsed": false,
     "input": [
      "hunter = Hunter('alkaslkjasblkasklj082u354lkijasd;l')\n",
      "# We don't have to use autospec here\n",
      "@patch.object(hunter, 'seek')\n",
      "def mock_instance(mock_seek):    \n",
      "    print(\"Mocking an instance\")\n",
      "    print(hunter.seek)\n",
      "    print(mock_seek)    \n",
      "    hunter.seeker('kasklj0', pos=6)\n",
      "    print(mock_seek.call_args)\n",
      "\n",
      "mock_instance()\n",
      "    \n",
      "# We *have* to use autospec here; otherwise the Mock won't be\n",
      "# bound to an instance\n",
      "@patch.object(Hunter, 'seek', autospec=True)\n",
      "def mock_class(mock_seek):\n",
      "    print(\"Mocking a class\")\n",
      "    print(Hunter.seek)\n",
      "    print(mock_seek)\n",
      "    hunter = Hunter('asdljasgrlj2984982ljhdaflh9283')\n",
      "    hunter.seeker('2984982', 1)\n",
      "    print(mock_seek.call_args)\n",
      "\n",
      "mock_class()"
     ],
     "language": "python",
     "metadata": {},
     "outputs": [
      {
       "output_type": "stream",
       "stream": "stdout",
       "text": [
        "Mocking an instance\n",
        "<MagicMock name='seek' id='55552144'>\n",
        "<MagicMock name='seek' id='55552144'>\n",
        "call('alkaslkjasblkasklj082u354lkijasd;l', 'kasklj0', 6)\n",
        "Mocking a class\n",
        "<unbound method Hunter.seek>\n",
        "<function seek at 0x3506578>\n",
        "call(<__main__.Hunter object at 0x34c0ed0>, 'asdljasgrlj2984982ljhdaflh9283', '2984982', 1)\n"
       ]
      }
     ],
     "prompt_number": 38
    }
   ],
   "metadata": {}
  }
 ]
}