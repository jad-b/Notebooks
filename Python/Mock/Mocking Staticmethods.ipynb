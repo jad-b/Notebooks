{
 "metadata": {
  "name": "",
  "signature": "sha256:f25bbfa18a230d6f796e926b564349f16ff0ae6ef579bb04785490b4c5d39d73"
 },
 "nbformat": 3,
 "nbformat_minor": 0,
 "worksheets": [
  {
   "cells": [
    {
     "cell_type": "code",
     "collapsed": false,
     "input": [
      "from mock import patch\n",
      "\n",
      "class A(object):\n",
      "\n",
      "    @classmethod\n",
      "    def api_meth(cls):\n",
      "        return cls._internal_classmethod(1, 2, 3)\n",
      "\n",
      "    @classmethod\n",
      "    def _internal_classmethod(cls, n, m, o):\n",
      "        return sum(n, m, o)\n",
      "\n",
      "with patch.object(A, '_internal_classmethod') as p:\n",
      "    print(type(p).__name__)\n",
      "\n",
      "with patch.object(A, '_internal_classmethod', spec_set=A._internal_classmethod) as p:\n",
      "    print(type(p).__name__)\n",
      "    result = A._internal_classmethod(1,1,1,1,1)\n",
      "    print(result)\n",
      "    "
     ],
     "language": "python",
     "metadata": {},
     "outputs": [
      {
       "output_type": "stream",
       "stream": "stdout",
       "text": [
        "MagicMock\n",
        "MagicMock\n",
        "<MagicMock name='_internal_classmethod()' id='38558864'>\n"
       ]
      }
     ],
     "prompt_number": 10
    }
   ],
   "metadata": {}
  }
 ]
}