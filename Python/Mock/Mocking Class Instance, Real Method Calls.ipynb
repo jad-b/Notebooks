{
 "metadata": {
  "name": "",
  "signature": "sha256:aade58306c00d0cae24f58fbd9fc125e4647a718a5c1d5878aac01c9e6c410d1"
 },
 "nbformat": 3,
 "nbformat_minor": 0,
 "worksheets": [
  {
   "cells": [
    {
     "cell_type": "markdown",
     "metadata": {},
     "source": [
      "__Objective:__ To mock a class instance with a known variable, while keeping any real method calls typically present on the class."
     ]
    },
    {
     "cell_type": "code",
     "collapsed": false,
     "input": [
      "from mock import patch, create_autospec"
     ],
     "language": "python",
     "metadata": {},
     "outputs": [],
     "prompt_number": 32
    },
    {
     "cell_type": "code",
     "collapsed": false,
     "input": [
      "class Cliche(object):\n",
      "    \n",
      "    def __init__(self):\n",
      "        self.phrase = 'You may know me from my previous works.'\n",
      "    \n",
      "    def foo(self, extra=''):\n",
      "        return 'I am foo{}'.format(extra)\n",
      "        \n",
      "    def bar(self):\n",
      "        return 'I am bar'\n",
      "        \n",
      "    @classmethod\n",
      "    def baz(cls):\n",
      "        print('Class: {}'.format(cls))\n",
      "        _cls = cls()\n",
      "        print('Class instance:{}'.format(_cls))\n",
      "        print('Instance.foo:{}'.format(_cls.foo))\n",
      "        return _cls.foo('lish')"
     ],
     "language": "python",
     "metadata": {},
     "outputs": [],
     "prompt_number": 60
    },
    {
     "cell_type": "markdown",
     "metadata": {},
     "source": [
      "__Hypothesis:__ Autospec'd bound methods on class objects prohibits access to the `self` argument."
     ]
    },
    {
     "cell_type": "code",
     "collapsed": false,
     "input": [
      "words = 'I am a fool in love' \n",
      "\n",
      "@patch.object(Cliche, 'foo', autospec=True)\n",
      "def mock_a_foo(mock_foo):\n",
      "    mock_foo.return_value = words\n",
      "    \n",
      "    cliche = Cliche()\n",
      "    ret = Cliche.baz()\n",
      "    assert mock_foo.called\n",
      "    assert ret == words\n",
      "    print(mock_foo.call_args)\n",
      "\n",
      "mock_a_foo()"
     ],
     "language": "python",
     "metadata": {},
     "outputs": [
      {
       "output_type": "stream",
       "stream": "stdout",
       "text": [
        "Class:<__main__.Cliche object at 0x355f150>\n",
        "Class.foo:<bound method Cliche.foo of <__main__.Cliche object at 0x355f150>>\n",
        "call(<__main__.Cliche object at 0x355f150>, 'lish')\n"
       ]
      }
     ],
     "prompt_number": 48
    },
    {
     "cell_type": "markdown",
     "metadata": {},
     "source": [
      " __Action:__ Mock the Class, and provide a pre-existing instance as a return value."
     ]
    },
    {
     "cell_type": "code",
     "collapsed": false,
     "input": [
      "def mock_a_foo2():\n",
      "    # Get an instance of Cliche()\n",
      "    cliche = Cliche()\n",
      "    real_baz = Cliche.baz\n",
      "    print('Mocked class instance: {}'.format(cliche))\n",
      "    # Mock out our instance's foo\n",
      "    mock_foo = create_autospec(Cliche.foo)\n",
      "    cliche.foo = mock_foo\n",
      "    print('Mocked instance.foo: {}'.format(mock_foo))\n",
      "    \n",
      "    with patch('__main__.Cliche', autospec=True) as mock_cliche:\n",
      "        print('Mocked class: {}'.format(mock_cliche))\n",
      "        mock_cliche.return_value = cliche\n",
      "        mock_cliche.baz = real_baz\n",
      "        \n",
      "        assert cliche.foo == mock_foo\n",
      "        \n",
      "        ret = Cliche.baz()\n",
      "        \n",
      "    assert mock_foo.called\n",
      "#     assert ret == words\n",
      "#     mock_foo.assert_called_once_with(mock_cliche, 'lish')\n",
      "    \n",
      "mock_a_foo2()"
     ],
     "language": "python",
     "metadata": {},
     "outputs": [
      {
       "output_type": "stream",
       "stream": "stdout",
       "text": [
        "Mocked class instance: <__main__.Cliche object at 0x35d2bd0>\n",
        "Mocked instance.foo: <function foo at 0x357ba28>\n",
        "Mocked class: <MagicMock name='Cliche' spec='Cliche' id='57696720'>\n",
        "Class: <class '__main__.Cliche'>\n",
        "Class instance:<__main__.Cliche object at 0x37062d0>\n",
        "Instance.foo:<bound method Cliche.foo of <__main__.Cliche object at 0x37062d0>>\n"
       ]
      },
      {
       "ename": "AssertionError",
       "evalue": "",
       "output_type": "pyerr",
       "traceback": [
        "\u001b[1;31m---------------------------------------------------------------------------\u001b[0m\n\u001b[1;31mAssertionError\u001b[0m                            Traceback (most recent call last)",
        "\u001b[1;32m<ipython-input-66-f97149932bc2>\u001b[0m in \u001b[0;36m<module>\u001b[1;34m()\u001b[0m\n\u001b[0;32m     22\u001b[0m \u001b[1;31m#     mock_foo.assert_called_once_with(mock_cliche, 'lish')\u001b[0m\u001b[1;33m\u001b[0m\u001b[1;33m\u001b[0m\u001b[0m\n\u001b[0;32m     23\u001b[0m \u001b[1;33m\u001b[0m\u001b[0m\n\u001b[1;32m---> 24\u001b[1;33m \u001b[0mmock_a_foo2\u001b[0m\u001b[1;33m(\u001b[0m\u001b[1;33m)\u001b[0m\u001b[1;33m\u001b[0m\u001b[0m\n\u001b[0m",
        "\u001b[1;32m<ipython-input-66-f97149932bc2>\u001b[0m in \u001b[0;36mmock_a_foo2\u001b[1;34m()\u001b[0m\n\u001b[0;32m     18\u001b[0m         \u001b[0mret\u001b[0m \u001b[1;33m=\u001b[0m \u001b[0mCliche\u001b[0m\u001b[1;33m.\u001b[0m\u001b[0mbaz\u001b[0m\u001b[1;33m(\u001b[0m\u001b[1;33m)\u001b[0m\u001b[1;33m\u001b[0m\u001b[0m\n\u001b[0;32m     19\u001b[0m \u001b[1;33m\u001b[0m\u001b[0m\n\u001b[1;32m---> 20\u001b[1;33m     \u001b[1;32massert\u001b[0m \u001b[0mmock_foo\u001b[0m\u001b[1;33m.\u001b[0m\u001b[0mcalled\u001b[0m\u001b[1;33m\u001b[0m\u001b[0m\n\u001b[0m\u001b[0;32m     21\u001b[0m \u001b[1;31m#     assert ret == words\u001b[0m\u001b[1;33m\u001b[0m\u001b[1;33m\u001b[0m\u001b[0m\n\u001b[0;32m     22\u001b[0m \u001b[1;31m#     mock_foo.assert_called_once_with(mock_cliche, 'lish')\u001b[0m\u001b[1;33m\u001b[0m\u001b[1;33m\u001b[0m\u001b[0m\n",
        "\u001b[1;31mAssertionError\u001b[0m: "
       ]
      }
     ],
     "prompt_number": 66
    },
    {
     "cell_type": "markdown",
     "metadata": {},
     "source": [
      "__Results:__ \n",
      "* Mocking a class object causes classmethod's to become MagicMock's. This results in stubbing of code, and prevents ancillary functions from getting called."
     ]
    }
   ],
   "metadata": {}
  }
 ]
}