{
 "metadata": {
  "name": "",
  "signature": "sha256:6790c30cdc8d4b11bc46d8371815aa127dc296759685551316c2198c4272a2e0"
 },
 "nbformat": 3,
 "nbformat_minor": 0,
 "worksheets": [
  {
   "cells": [
    {
     "cell_type": "code",
     "collapsed": false,
     "input": [
      "def "
     ],
     "language": "python",
     "metadata": {},
     "outputs": []
    }
   ],
   "metadata": {}
  }
 ]
}