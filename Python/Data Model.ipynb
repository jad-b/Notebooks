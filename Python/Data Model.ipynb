{
 "cells": [
  {
   "cell_type": "markdown",
   "metadata": {},
   "source": [
    "Python objects have three key aspects:\n",
    "1. ID\n",
    "2. Type\n",
    "3. Value"
   ]
  },
  {
   "cell_type": "markdown",
   "metadata": {},
   "source": [
    "### ID"
   ]
  },
  {
   "cell_type": "markdown",
   "metadata": {},
   "source": [
    "The **ID** of an object is unique. In CPython, this is it's memory address."
   ]
  },
  {
   "cell_type": "code",
   "execution_count": 2,
   "metadata": {
    "collapsed": false
   },
   "outputs": [
    {
     "name": "stdout",
     "output_type": "stream",
     "text": [
      "140562439034208\n"
     ]
    }
   ],
   "source": [
    "obj = object()\n",
    "print(id(obj))"
   ]
  },
  {
   "cell_type": "markdown",
   "metadata": {},
   "source": [
    "### Type"
   ]
  },
  {
   "cell_type": "markdown",
   "metadata": {},
   "source": [
    "The **Type** is unchangeable. It sets which and how operations on the object work, as well as the range of values.\n",
    "Think **Polymorphism**."
   ]
  },
  {
   "cell_type": "code",
   "execution_count": 5,
   "metadata": {
    "collapsed": false
   },
   "outputs": [
    {
     "name": "stdout",
     "output_type": "stream",
     "text": [
      "The type of <object object at 0x7fd73e3f5560> is <type 'object'>\n",
      "The type of [] is <type 'list'>\n",
      "The type of 3 is <type 'int'>\n"
     ]
    }
   ],
   "source": [
    "def typeof(thing):\n",
    "    print('The type of {} is {}'.format(str(thing), type(thing)))\n",
    "\n",
    "typeof(obj)\n",
    "typeof([])\n",
    "typeof(3)"
   ]
  },
  {
   "cell_type": "markdown",
   "metadata": {},
   "source": [
    "Note that an object's type is an object itself:"
   ]
  },
  {
   "cell_type": "code",
   "execution_count": 7,
   "metadata": {
    "collapsed": false
   },
   "outputs": [
    {
     "name": "stdout",
     "output_type": "stream",
     "text": [
      "The type of <type 'object'> is <type 'type'>\n"
     ]
    }
   ],
   "source": [
    "typeof(type(obj))"
   ]
  },
  {
   "cell_type": "markdown",
   "metadata": {},
   "source": [
    "### Value"
   ]
  },
  {
   "cell_type": "markdown",
   "metadata": {},
   "source": [
    "An object's **value** can be thought to be its *state*. Object's can be mutable or immutable.\n",
    "\n",
    "Objects which are collections of references to other objects are called *containers*."
   ]
  },
  {
   "cell_type": "code",
   "execution_count": 13,
   "metadata": {
    "collapsed": false
   },
   "outputs": [
    {
     "name": "stdout",
     "output_type": "stream",
     "text": [
      "Can't change an immutable value\n"
     ]
    }
   ],
   "source": [
    "mutable = [1, 2]\n",
    "mutable[0] = 0    # No problem\n",
    "\n",
    "immutable = (1, 2)\n",
    "try:\n",
    "    immutable[0] = 0\n",
    "except:\n",
    "    print(\"Can't change an immutable value\")\n"
   ]
  },
  {
   "cell_type": "markdown",
   "metadata": {},
   "source": [
    "Note that *immutable* is not *unchangeable*; an tuple with whose *value* contains a mutable object maintains an *immutable* range of references to objects whose own values may change."
   ]
  },
  {
   "cell_type": "code",
   "execution_count": 33,
   "metadata": {
    "collapsed": false
   },
   "outputs": [
    {
     "name": "stdout",
     "output_type": "stream",
     "text": [
      "('IDs:', [24042688, 41319456])\n",
      "('IDs:', [24042688, 41319456])\n"
     ]
    }
   ],
   "source": [
    "immutable = (0, [1, 2])\n",
    "print('IDs:', map(id, immutable))\n",
    "try:\n",
    "    immutable[1][1] = 'b'\n",
    "    print('IDs:', map(id, immutable))\n",
    "except:\n",
    "    print(\"This isn't how Python works\")"
   ]
  },
  {
   "cell_type": "markdown",
   "metadata": {},
   "source": [
    "To be exact: In Python, a *collection* is immutable on its collection's (i.e., value's) *identities*. "
   ]
  },
  {
   "cell_type": "markdown",
   "metadata": {},
   "source": [
    "__Final words on immutability__"
   ]
  },
  {
   "cell_type": "markdown",
   "metadata": {},
   "source": [
    "Immutable objects are allowed to be reused.\n",
    "\n",
    "By that, I mean the reference to a pre-existing object can be used by multiple variables."
   ]
  },
  {
   "cell_type": "code",
   "execution_count": 32,
   "metadata": {
    "collapsed": false
   },
   "outputs": [],
   "source": [
    "# The Immutables\n",
    "a = 1\n",
    "b = 1\n",
    "assert a == b\n",
    "assert id(a) == id(b)\n",
    "\n",
    "# The Mutables\n",
    "a = [1]\n",
    "b = [1]\n",
    "assert a == b\n",
    "assert id(a) != id(b)"
   ]
  },
  {
   "cell_type": "markdown",
   "metadata": {},
   "source": [
    "## A Quick Word on Garbage Collection"
   ]
  },
  {
   "cell_type": "markdown",
   "metadata": {},
   "source": [
    "An object is garbage collected when it has zero external references.\n",
    "\n",
    "Debugging facilities may keep things alive an artificially long time, as may objects wrapped in a try...except block."
   ]
  },
  {
   "cell_type": "markdown",
   "metadata": {},
   "source": [
    "Garbage collection is *very* implementation dependent. \n",
    "\n",
    "> An implementation is allowed to postpone garbage collection or omit it altogether\n",
    "\n",
    "See? "
   ]
  },
  {
   "cell_type": "markdown",
   "metadata": {},
   "source": [
    "### Standard Types"
   ]
  },
  {
   "cell_type": "markdown",
   "metadata": {},
   "source": [
    "We'll just hit the highlights here"
   ]
  },
  {
   "cell_type": "markdown",
   "metadata": {},
   "source": [
    "Some types have a single value (Remember: ID, Type, Value define an object)\n",
    "\n",
    "Some such types are: \n",
    "- None, \n",
    "- NotImplemented\n",
    "- Ellipsis (...)"
   ]
  },
  {
   "cell_type": "markdown",
   "metadata": {},
   "source": [
    "In Python, numbers are objects too."
   ]
  },
  {
   "cell_type": "code",
   "execution_count": 4,
   "metadata": {
    "collapsed": false
   },
   "outputs": [
    {
     "data": {
      "text/plain": [
       "['ABCMeta',\n",
       " 'Complex',\n",
       " 'Integral',\n",
       " 'Number',\n",
       " 'Rational',\n",
       " 'Real',\n",
       " '__all__',\n",
       " '__builtins__',\n",
       " '__cached__',\n",
       " '__doc__',\n",
       " '__file__',\n",
       " '__loader__',\n",
       " '__name__',\n",
       " '__package__',\n",
       " '__spec__',\n",
       " 'abstractmethod']"
      ]
     },
     "execution_count": 4,
     "metadata": {},
     "output_type": "execute_result"
    }
   ],
   "source": [
    "import numbers\n",
    "dir(numbers)"
   ]
  },
  {
   "cell_type": "markdown",
   "metadata": {},
   "source": [
    "#### Sequences"
   ]
  },
  {
   "cell_type": "markdown",
   "metadata": {},
   "source": [
    "> finite ordered sets indexed by non-negative numbers\n",
    "\n",
    "...although 'sets' is misleading, as we'll see below. Other than that, all sequences support indexing and slicing (and some support extended slicing, [x:y:z])."
   ]
  },
  {
   "cell_type": "markdown",
   "metadata": {},
   "source": [
    "Some immutable sequences. Remember, *immutable* means unchanging state. \n",
    "\n",
    "New state == new object."
   ]
  },
  {
   "cell_type": "code",
   "execution_count": 17,
   "metadata": {
    "collapsed": false
   },
   "outputs": [
    {
     "name": "stdout",
     "output_type": "stream",
     "text": [
      "hello python\n",
      "atsinohtyp\n",
      "b'python' all the things.\n"
     ]
    }
   ],
   "source": [
    "# Strings are sequences\n",
    "s = 'pythonista'\n",
    "print('hello', s[:6])\n",
    "# Reverse string by stepping backwards\n",
    "print(s[::-1])\n",
    "\n",
    "# Bytes are immutable arrays, each entry an 8-bit byte\n",
    "b = s.encode()  # Can take an encoding, defaults to 'utf-8'\n",
    "print(b[:6], 'all the things.')\n",
    "\n",
    "# Tuples are also things\n",
    "t = ()    # Empty tuple\n",
    "t1 = (s,) # 'Singleton'"
   ]
  },
  {
   "cell_type": "markdown",
   "metadata": {},
   "source": [
    "And some mutable sequences:"
   ]
  },
  {
   "cell_type": "code",
   "execution_count": 34,
   "metadata": {
    "collapsed": false
   },
   "outputs": [
    {
     "name": "stdout",
     "output_type": "stream",
     "text": [
      "['p', 'y', 't', 'h', 'o', 'n', 'i', 's', 't', 'a']\n",
      "['p', 'y', 't', 'h', 'o', 'n', 's']\n",
      "bytearray(b'pythonista')\n",
      "Can't be putting no integers on a Unicode array\n"
     ]
    }
   ],
   "source": [
    "# Lists\n",
    "pythons = list(s)\n",
    "print(pythons)\n",
    "\n",
    "# Spell 'pythons'\n",
    "del pythons[-4]\n",
    "del pythons[-2:]\n",
    "print(pythons)\n",
    "\n",
    "# Byte Arrays\n",
    "ba_pythons = bytearray(s.encode())\n",
    "print(ba_pythons)\n",
    "\n",
    "# Arrays are basically typed lists, with typing enforced \n",
    "# by ctypes. \n",
    "import array\n",
    "arr_pythons = array.array('u', s)\n",
    "try:\n",
    "    arr_pythons.append(4)\n",
    "except TypeError:\n",
    "    print(\"Can't be putting no integers on a Unicode array\")"
   ]
  },
  {
   "cell_type": "markdown",
   "metadata": {},
   "source": [
    "#### Sets"
   ]
  },
  {
   "cell_type": "markdown",
   "metadata": {},
   "source": [
    "> unordered, finite sets of unique, immutable objects\n",
    "\n",
    "- *Can't* be indexed.\n",
    "- **Can** be iterated over\n",
    "- Uniqueness enforced through equality (1 excludes 1.0 in Python)"
   ]
  },
  {
   "cell_type": "code",
   "execution_count": 55,
   "metadata": {
    "collapsed": false
   },
   "outputs": [
    {
     "name": "stdout",
     "output_type": "stream",
     "text": [
      "{1, 'guido', 'a', '1'}\n",
      "{1, 2.0, 'a', 'van rossum', 'guido', '1'}\n"
     ]
    }
   ],
   "source": [
    "_set = set([1, 1.0, 'a', '1', 'guido'])\n",
    "print(_set)\n",
    "\n",
    "_set2 = set([2.0, 'a', 'van rossum'])\n",
    "_set |= _set2\n",
    "print(_set)"
   ]
  },
  {
   "cell_type": "markdown",
   "metadata": {},
   "source": [
    "#### Callables"
   ]
  },
  {
   "cell_type": "markdown",
   "metadata": {},
   "source": [
    "> These are the types to which the function call operation"
   ]
  },
  {
   "cell_type": "code",
   "execution_count": 59,
   "metadata": {
    "collapsed": false
   },
   "outputs": [],
   "source": [
    "def f(arg1, named_arg='named_arg'):\n",
    "    \"\"\"Function doctstring.\"\"\"\n",
    "    \n",
    "    def helper_f(helper_arg1):\n",
    "        print('Helper function namespace:', \n",
    "              arg1, named_arg, helper_arg1)\n",
    "        \n",
    "    print('My args are: ', arg1, named_arg)\n",
    "    return helper_f"
   ]
  },
  {
   "cell_type": "code",
   "execution_count": 70,
   "metadata": {
    "collapsed": false
   },
   "outputs": [],
   "source": [
    "f.purpose = 'To educate and inform'\n",
    "attrs = [\n",
    "    '__doc__',\n",
    "    '__name__',\n",
    "    '__qualname__',\n",
    "    '__module__',\n",
    "    '__defaults__',\n",
    "    '__code__',\n",
    "    # Globals is quite large; the entirety of this notebook\n",
    "    # '__globals__',\n",
    "    '__dict__',\n",
    "    '__closure__',\n",
    "    '__annotations__',\n",
    "    '__kwdefaults__'\n",
    "]"
   ]
  },
  {
   "cell_type": "code",
   "execution_count": null,
   "metadata": {
    "collapsed": false
   },
   "outputs": [],
   "source": [
    "def print_attrs(f, attrs):\n",
    "    from pprint import pprint\n",
    "    for spec_attr in attrs:\n",
    "        print(spec_attr, '=>', getattr(f, spec_attr))"
   ]
  },
  {
   "cell_type": "code",
   "execution_count": 73,
   "metadata": {
    "collapsed": false
   },
   "outputs": [
    {
     "name": "stdout",
     "output_type": "stream",
     "text": [
      "__doc__ => Function doctstring.\n",
      "__name__ => f\n",
      "__qualname__ => f\n",
      "__module__ => __main__\n",
      "__defaults__ => ('named_arg',)\n",
      "__code__ => <code object f at 0x7fa6501418a0, file \"<ipython-input-59-3d04717bd477>\", line 1>\n",
      "__dict__ => {'purpose': 'To educate and inform'}\n",
      "__closure__ => None\n",
      "__annotations__ => {}\n",
      "__kwdefaults__ => None\n"
     ]
    }
   ],
   "source": [
    "print_attrs(f, attrs)"
   ]
  },
  {
   "cell_type": "code",
   "execution_count": 75,
   "metadata": {
    "collapsed": false
   },
   "outputs": [
    {
     "name": "stdout",
     "output_type": "stream",
     "text": [
      "My args are:  the first argument a named argument\n",
      "__doc__ => None\n",
      "__name__ => helper_f\n",
      "__qualname__ => f.<locals>.helper_f\n",
      "__module__ => __main__\n",
      "__defaults__ => None\n",
      "__code__ => <code object helper_f at 0x7fa653f4cdb0, file \"<ipython-input-59-3d04717bd477>\", line 4>\n",
      "__dict__ => {}\n",
      "__closure__ => (<cell at 0x7fa6507d3e58: str object at 0x7fa6500d9d20>, <cell at 0x7fa6507d3cd8: str object at 0x7fa6500d9c00>)\n",
      "__annotations__ => {}\n",
      "__kwdefaults__ => None\n"
     ]
    }
   ],
   "source": [
    "print_attrs(f('the first argument', named_arg='a named argument'), attrs)"
   ]
  },
  {
   "cell_type": "markdown",
   "metadata": {},
   "source": [
    "#### Instance methods"
   ]
  },
  {
   "cell_type": "markdown",
   "metadata": {},
   "source": [
    "> An instance method object combines a class, a class instance and any callable object\n",
    "\n",
    "In Python, a method is not another name for a function. It is a wrapped *callable*, with an associated class *object* and class *instance*.\n",
    "\n",
    "Ever seen a *bound* method? It's *bound* to that instance, giving it access. Classmethod's (in Python 3) behave the same way, but they're *bound* to the class object instead.\n",
    "\n",
    "If you're new to Python, and you find the difference between the class *object* and *instance* confusing, we will look at this in more detail under __Classes__."
   ]
  },
  {
   "cell_type": "code",
   "execution_count": 1,
   "metadata": {
    "collapsed": false
   },
   "outputs": [],
   "source": [
    "read_only_attrs = [\n",
    "    '__self__',\n",
    "    '__func__',\n",
    "    '__doc__',\n",
    "    '__name__',\n",
    "    '__module__'\n",
    "]"
   ]
  },
  {
   "cell_type": "markdown",
   "metadata": {},
   "source": [
    "Bookmark: \n",
    "> When an instance method object is called"
   ]
  },
  {
   "cell_type": "markdown",
   "metadata": {},
   "source": [
    "### 3.3.2 Customizing Attribute Access"
   ]
  },
  {
   "cell_type": "markdown",
   "metadata": {},
   "source": [
    "* `__getattr__`: is run for undefined attributes—that is, attributes not stored on an instance or inherited from one of its classes. \n",
    "\n",
    "* `__getattribute__`: is run for every attribute, so when using it you must be cautious to avoid recursive loops by passing attribute accesses to a superclass."
   ]
  },
  {
   "cell_type": "markdown",
   "metadata": {},
   "source": [
    "> these two methods are well suited to general delegation-based coding patterns—they can be used to implement wrapper objects that manage all attribute accesses for an embedded object.> "
   ]
  }
 ],
 "metadata": {
  "kernelspec": {
   "display_name": "Python 3",
   "language": "python",
   "name": "python3"
  },
  "language_info": {
   "codemirror_mode": {
    "name": "ipython",
    "version": 3
   },
   "file_extension": ".py",
   "mimetype": "text/x-python",
   "name": "python",
   "nbconvert_exporter": "python",
   "pygments_lexer": "ipython3",
   "version": "3.5.2"
  }
 },
 "nbformat": 4,
 "nbformat_minor": 0
}
