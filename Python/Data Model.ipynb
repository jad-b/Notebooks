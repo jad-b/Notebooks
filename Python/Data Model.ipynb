{
 "metadata": {
  "name": "",
  "signature": "sha256:7cd1d28cbe1a408d461c07ea3b248c2983a8a84b7505b5a7161a2e445e1c32f6"
 },
 "nbformat": 3,
 "nbformat_minor": 0,
 "worksheets": [
  {
   "cells": [
    {
     "cell_type": "markdown",
     "metadata": {},
     "source": [
      "Python objects have three key aspects:\n",
      "1. ID\n",
      "2. Type\n",
      "3. Value"
     ]
    },
    {
     "cell_type": "markdown",
     "metadata": {},
     "source": [
      "### ID"
     ]
    },
    {
     "cell_type": "markdown",
     "metadata": {},
     "source": [
      "The **ID** of an object is unique. In CPython, this is it's memory address."
     ]
    },
    {
     "cell_type": "code",
     "collapsed": false,
     "input": [
      "obj = object()\n",
      "print(id(obj))"
     ],
     "language": "python",
     "metadata": {},
     "outputs": [
      {
       "output_type": "stream",
       "stream": "stdout",
       "text": [
        "140562439034208\n"
       ]
      }
     ],
     "prompt_number": 2
    },
    {
     "cell_type": "markdown",
     "metadata": {},
     "source": [
      "### Type"
     ]
    },
    {
     "cell_type": "markdown",
     "metadata": {},
     "source": [
      "The **Type** is unchangeable. It sets which and how operations on the object work, as well as the range of values.\n",
      "Think **Polymorphism**."
     ]
    },
    {
     "cell_type": "code",
     "collapsed": false,
     "input": [
      "def typeof(thing):\n",
      "    print('The type of {} is {}'.format(str(thing), type(thing)))\n",
      "\n",
      "typeof(obj)\n",
      "typeof([])\n",
      "typeof(3)"
     ],
     "language": "python",
     "metadata": {},
     "outputs": [
      {
       "output_type": "stream",
       "stream": "stdout",
       "text": [
        "The type of <object object at 0x7fd73e3f5560> is <type 'object'>\n",
        "The type of [] is <type 'list'>\n",
        "The type of 3 is <type 'int'>\n"
       ]
      }
     ],
     "prompt_number": 5
    },
    {
     "cell_type": "markdown",
     "metadata": {},
     "source": [
      "Note that an object's type is an object itself:"
     ]
    },
    {
     "cell_type": "code",
     "collapsed": false,
     "input": [
      "typeof(type(obj))"
     ],
     "language": "python",
     "metadata": {},
     "outputs": [
      {
       "output_type": "stream",
       "stream": "stdout",
       "text": [
        "The type of <type 'object'> is <type 'type'>\n"
       ]
      }
     ],
     "prompt_number": 7
    },
    {
     "cell_type": "markdown",
     "metadata": {},
     "source": [
      "### Value"
     ]
    },
    {
     "cell_type": "markdown",
     "metadata": {},
     "source": [
      "An object's **value** can be thought to be its *state*. Object's can be mutable or immutable.\n",
      "\n",
      "Objects which are collections of references to other objects are called *containers*."
     ]
    },
    {
     "cell_type": "code",
     "collapsed": false,
     "input": [
      "mutable = [1, 2]\n",
      "mutable[0] = 0    # No problem\n",
      "\n",
      "immutable = (1, 2)\n",
      "try:\n",
      "    immutable[0] = 0\n",
      "except:\n",
      "    print(\"Can't change an immutable value\")\n"
     ],
     "language": "python",
     "metadata": {},
     "outputs": [
      {
       "output_type": "stream",
       "stream": "stdout",
       "text": [
        "Can't change an immutable value\n"
       ]
      }
     ],
     "prompt_number": 13
    },
    {
     "cell_type": "markdown",
     "metadata": {},
     "source": [
      "Note that *immutable* is not *unchangeable*; an tuple with whose *value* contains a mutable object maintains an *immutable* range of references to objects whose own values may change."
     ]
    },
    {
     "cell_type": "code",
     "collapsed": false,
     "input": [
      "immutable = (0, [1, 2])\n",
      "print('IDs:', map(id, immutable))\n",
      "try:\n",
      "    immutable[1][1] = 'b'\n",
      "    print('IDs:', map(id, immutable))\n",
      "except:\n",
      "    print(\"This isn't how Python works\")"
     ],
     "language": "python",
     "metadata": {},
     "outputs": [
      {
       "output_type": "stream",
       "stream": "stdout",
       "text": [
        "('IDs:', [24042688, 41319456])\n",
        "('IDs:', [24042688, 41319456])\n"
       ]
      }
     ],
     "prompt_number": 33
    },
    {
     "cell_type": "markdown",
     "metadata": {},
     "source": [
      "To be exact: In Python, a *collection* is immutable on its collection's (i.e., value's) *identities*. "
     ]
    },
    {
     "cell_type": "markdown",
     "metadata": {},
     "source": [
      "__Final words on immutability__"
     ]
    },
    {
     "cell_type": "markdown",
     "metadata": {},
     "source": [
      "Immutable objects are allowed to be reused.\n",
      "\n",
      "By that, I mean the reference to a pre-existing object can be used by multiple variables."
     ]
    },
    {
     "cell_type": "code",
     "collapsed": false,
     "input": [
      "# The Immutables\n",
      "a = 1\n",
      "b = 1\n",
      "assert a == b\n",
      "assert id(a) == id(b)\n",
      "\n",
      "# The Mutables\n",
      "a = [1]\n",
      "b = [1]\n",
      "assert a == b\n",
      "assert id(a) != id(b)"
     ],
     "language": "python",
     "metadata": {},
     "outputs": [],
     "prompt_number": 32
    },
    {
     "cell_type": "markdown",
     "metadata": {},
     "source": [
      "## A Quick Word on Garbage Collection"
     ]
    },
    {
     "cell_type": "markdown",
     "metadata": {},
     "source": [
      "An object is garbage collected when it has zero external references.\n",
      "\n",
      "Debugging facilities may keep things alive an artificially long time, as may objects wrapped in a try...except block."
     ]
    },
    {
     "cell_type": "markdown",
     "metadata": {},
     "source": [
      "Garbage collection is *very* implementation dependent. \n",
      "\n",
      "> An implementation is allowed to postpone garbage collection or omit it altogether\n",
      "\n",
      "See? "
     ]
    },
    {
     "cell_type": "markdown",
     "metadata": {},
     "source": [
      "### Standard Types"
     ]
    },
    {
     "cell_type": "markdown",
     "metadata": {},
     "source": [
      "We'll just hit the highlights here"
     ]
    },
    {
     "cell_type": "markdown",
     "metadata": {},
     "source": [
      "Some types have a single value (Remember: ID, Type, Value define an object)\n",
      "\n",
      "Some such types are: \n",
      "- None, \n",
      "- NotImplemented\n",
      "- Ellipsis (...)"
     ]
    },
    {
     "cell_type": "markdown",
     "metadata": {},
     "source": [
      "In Python, numbers are objects too."
     ]
    },
    {
     "cell_type": "code",
     "collapsed": false,
     "input": [
      "import numbers\n",
      "dir(numbers)"
     ],
     "language": "python",
     "metadata": {},
     "outputs": [
      {
       "metadata": {},
       "output_type": "pyout",
       "prompt_number": 4,
       "text": [
        "['ABCMeta',\n",
        " 'Complex',\n",
        " 'Integral',\n",
        " 'Number',\n",
        " 'Rational',\n",
        " 'Real',\n",
        " '__all__',\n",
        " '__builtins__',\n",
        " '__cached__',\n",
        " '__doc__',\n",
        " '__file__',\n",
        " '__loader__',\n",
        " '__name__',\n",
        " '__package__',\n",
        " '__spec__',\n",
        " 'abstractmethod']"
       ]
      }
     ],
     "prompt_number": 4
    },
    {
     "cell_type": "markdown",
     "metadata": {},
     "source": [
      "#### Sequences"
     ]
    },
    {
     "cell_type": "markdown",
     "metadata": {},
     "source": [
      "> finite ordered sets indexed by non-negative numbers\n",
      "\n",
      "...although 'sets' is misleading, as we'll see below. Other than that, all sequences support indexing and slicing (and some support extended slicing, [x:y:z])."
     ]
    },
    {
     "cell_type": "markdown",
     "metadata": {},
     "source": [
      "Some immutable sequences. Remember, *immutable* means unchanging state. \n",
      "\n",
      "New state == new object."
     ]
    },
    {
     "cell_type": "code",
     "collapsed": false,
     "input": [
      "# Strings are sequences\n",
      "s = 'pythonista'\n",
      "print('hello', s[:6])\n",
      "# Reverse string by stepping backwards\n",
      "print(s[::-1])\n",
      "\n",
      "# Bytes are immutable arrays, each entry an 8-bit byte\n",
      "b = s.encode()  # Can take an encoding, defaults to 'utf-8'\n",
      "print(b[:6], 'all the things.')\n",
      "\n",
      "# Tuples are also things\n",
      "t = ()    # Empty tuple\n",
      "t1 = (s,) # 'Singleton'"
     ],
     "language": "python",
     "metadata": {},
     "outputs": [
      {
       "output_type": "stream",
       "stream": "stdout",
       "text": [
        "hello python\n",
        "atsinohtyp\n",
        "b'python' all the things.\n"
       ]
      }
     ],
     "prompt_number": 17
    },
    {
     "cell_type": "markdown",
     "metadata": {},
     "source": [
      "And some mutable sequences:"
     ]
    },
    {
     "cell_type": "code",
     "collapsed": false,
     "input": [
      "# Lists\n",
      "pythons = list(s)\n",
      "print(pythons)\n",
      "\n",
      "# Spell 'pythons'\n",
      "del pythons[-4]\n",
      "del pythons[-2:]\n",
      "print(pythons)\n",
      "\n",
      "# Byte Arrays\n",
      "ba_pythons = bytearray(s.encode())\n",
      "print(ba_pythons)\n",
      "\n",
      "# Arrays are basically typed lists, with typing enforced \n",
      "# by ctypes. \n",
      "import array\n",
      "arr_pythons = array.array('u', s)\n",
      "try:\n",
      "    arr_pythons.append(4)\n",
      "except TypeError:\n",
      "    print(\"Can't be putting no integers on a Unicode array\")"
     ],
     "language": "python",
     "metadata": {},
     "outputs": [
      {
       "output_type": "stream",
       "stream": "stdout",
       "text": [
        "['p', 'y', 't', 'h', 'o', 'n', 'i', 's', 't', 'a']\n",
        "['p', 'y', 't', 'h', 'o', 'n', 's']\n",
        "bytearray(b'pythonista')\n",
        "Can't be putting no integers on a Unicode array\n"
       ]
      }
     ],
     "prompt_number": 34
    },
    {
     "cell_type": "markdown",
     "metadata": {},
     "source": [
      "#### Sets"
     ]
    },
    {
     "cell_type": "markdown",
     "metadata": {},
     "source": [
      "> unordered, finite sets of unique, immutable objects\n",
      "\n",
      "- *Can't* be indexed.\n",
      "- **Can** be iterated over\n",
      "- Uniqueness enforced through equality (1 excludes 1.0 in Python)"
     ]
    },
    {
     "cell_type": "code",
     "collapsed": false,
     "input": [
      "_set = set([1, 1.0, 'a', '1', 'guido'])\n",
      "print(_set)\n",
      "\n",
      "_set2 = set([2.0, 'a', 'van rossum'])\n",
      "_set |= _set2\n",
      "print(_set)"
     ],
     "language": "python",
     "metadata": {},
     "outputs": [
      {
       "output_type": "stream",
       "stream": "stdout",
       "text": [
        "{1, 'guido', 'a', '1'}\n",
        "{1, 2.0, 'a', 'van rossum', 'guido', '1'}\n"
       ]
      }
     ],
     "prompt_number": 55
    },
    {
     "cell_type": "markdown",
     "metadata": {},
     "source": [
      "#### Callables"
     ]
    },
    {
     "cell_type": "markdown",
     "metadata": {},
     "source": [
      "> These are the types to which the function call operation"
     ]
    },
    {
     "cell_type": "code",
     "collapsed": false,
     "input": [
      "def f(arg1, named_arg='named_arg'):\n",
      "    \"\"\"Function doctstring.\"\"\"\n",
      "    \n",
      "    def helper_f(helper_arg1):\n",
      "        print('Helper function namespace:', \n",
      "              arg1, named_arg, helper_arg1)\n",
      "        \n",
      "    print('My args are: ', arg1, named_arg)\n",
      "    return helper_f"
     ],
     "language": "python",
     "metadata": {},
     "outputs": [],
     "prompt_number": 59
    },
    {
     "cell_type": "code",
     "collapsed": false,
     "input": [
      "f.purpose = 'To educate and inform'\n",
      "attrs = [\n",
      "    '__doc__',\n",
      "    '__name__',\n",
      "    '__qualname__',\n",
      "    '__module__',\n",
      "    '__defaults__',\n",
      "    '__code__',\n",
      "    # Globals is quite large; the entirety of this notebook\n",
      "    # '__globals__',\n",
      "    '__dict__',\n",
      "    '__closure__',\n",
      "    '__annotations__',\n",
      "    '__kwdefaults__'\n",
      "]"
     ],
     "language": "python",
     "metadata": {},
     "outputs": [],
     "prompt_number": 70
    },
    {
     "cell_type": "code",
     "collapsed": false,
     "input": [
      "def print_attrs(f, attrs):\n",
      "    from pprint import pprint\n",
      "    for spec_attr in attrs:\n",
      "        print(spec_attr, '=>', getattr(f, spec_attr))"
     ],
     "language": "python",
     "metadata": {},
     "outputs": []
    },
    {
     "cell_type": "code",
     "collapsed": false,
     "input": [
      "print_attrs(f, attrs)"
     ],
     "language": "python",
     "metadata": {},
     "outputs": [
      {
       "output_type": "stream",
       "stream": "stdout",
       "text": [
        "__doc__ => Function doctstring.\n",
        "__name__ => f\n",
        "__qualname__ => f\n",
        "__module__ => __main__\n",
        "__defaults__ => ('named_arg',)\n",
        "__code__ => <code object f at 0x7fa6501418a0, file \"<ipython-input-59-3d04717bd477>\", line 1>\n",
        "__dict__ => {'purpose': 'To educate and inform'}\n",
        "__closure__ => None\n",
        "__annotations__ => {}\n",
        "__kwdefaults__ => None\n"
       ]
      }
     ],
     "prompt_number": 73
    },
    {
     "cell_type": "code",
     "collapsed": false,
     "input": [
      "print_attrs(f('the first argument', named_arg='a named argument'), attrs)"
     ],
     "language": "python",
     "metadata": {},
     "outputs": [
      {
       "output_type": "stream",
       "stream": "stdout",
       "text": [
        "My args are:  the first argument a named argument\n",
        "__doc__ => None\n",
        "__name__ => helper_f\n",
        "__qualname__ => f.<locals>.helper_f\n",
        "__module__ => __main__\n",
        "__defaults__ => None\n",
        "__code__ => <code object helper_f at 0x7fa653f4cdb0, file \"<ipython-input-59-3d04717bd477>\", line 4>\n",
        "__dict__ => {}\n",
        "__closure__ => (<cell at 0x7fa6507d3e58: str object at 0x7fa6500d9d20>, <cell at 0x7fa6507d3cd8: str object at 0x7fa6500d9c00>)\n",
        "__annotations__ => {}\n",
        "__kwdefaults__ => None\n"
       ]
      }
     ],
     "prompt_number": 75
    },
    {
     "cell_type": "markdown",
     "metadata": {},
     "source": [
      "#### Instance methods"
     ]
    },
    {
     "cell_type": "markdown",
     "metadata": {},
     "source": [
      "> An instance method object combines a class, a class instance and any callable object\n",
      "\n",
      "In Python, a method is not another name for a function. It is a wrapped *callable*, with an associated class *object* and class *instance*.\n",
      "\n",
      "Ever seen a *bound* method? It's *bound* to that instance, giving it access. Classmethod's (in Python 3) behave the same way, but they're *bound* to the class object instead.\n",
      "\n",
      "If you're new to Python, and you find the difference between the class *object* and *instance* confusing, we will look at this in more detail under __Classes__."
     ]
    },
    {
     "cell_type": "code",
     "collapsed": false,
     "input": [
      "read_only_attrs = [\n",
      "    '__self__',\n",
      "    '__func__',\n",
      "    '__doc__',\n",
      "    '__name__',\n",
      "    '__module__'\n",
      "]"
     ],
     "language": "python",
     "metadata": {},
     "outputs": [],
     "prompt_number": 1
    },
    {
     "cell_type": "markdown",
     "metadata": {},
     "source": [
      "Bookmark: \n",
      "> When an instance method object is called"
     ]
    },
    {
     "cell_type": "markdown",
     "metadata": {},
     "source": [
      "### 3.3.2 Customizing Attribute Access"
     ]
    },
    {
     "cell_type": "markdown",
     "metadata": {},
     "source": [
      "* `__getattr__`: is run for undefined attributes\u2014that is, attributes not stored on an instance or inherited from one of its classes. \n",
      "\n",
      "* `__getattribute__`: is run for every attribute, so when using it you must be cautious to avoid recursive loops by passing attribute accesses to a superclass."
     ]
    },
    {
     "cell_type": "markdown",
     "metadata": {},
     "source": [
      "> these two methods are well suited to general delegation-based coding patterns\u2014they can be used to implement wrapper objects that manage all attribute accesses for an embedded object.> "
     ]
    }
   ],
   "metadata": {}
  }
 ]
}