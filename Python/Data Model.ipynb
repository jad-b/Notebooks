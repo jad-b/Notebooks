{
 "metadata": {
  "name": "",
  "signature": "sha256:0d980581cd38a34601be13d801aa42c20bcc11de9c7a8e69203519321ac02aaf"
 },
 "nbformat": 3,
 "nbformat_minor": 0,
 "worksheets": [
  {
   "cells": [
    {
     "cell_type": "markdown",
     "metadata": {},
     "source": [
      "Python objects have three key aspects:\n",
      "1. ID\n",
      "2. Type\n",
      "3. Value"
     ]
    },
    {
     "cell_type": "markdown",
     "metadata": {},
     "source": [
      "### ID"
     ]
    },
    {
     "cell_type": "markdown",
     "metadata": {},
     "source": [
      "The **ID** of an object is unique. In CPython, this is it's memory address."
     ]
    },
    {
     "cell_type": "code",
     "collapsed": false,
     "input": [
      "obj = object()\n",
      "print(id(obj))"
     ],
     "language": "python",
     "metadata": {},
     "outputs": [
      {
       "output_type": "stream",
       "stream": "stdout",
       "text": [
        "140562439034208\n"
       ]
      }
     ],
     "prompt_number": 2
    },
    {
     "cell_type": "markdown",
     "metadata": {},
     "source": [
      "### Type"
     ]
    },
    {
     "cell_type": "markdown",
     "metadata": {},
     "source": [
      "The **Type** is unchangeable. It sets which and how operations on the object work, as well as the range of values.\n",
      "Think **Polymorphism**."
     ]
    },
    {
     "cell_type": "code",
     "collapsed": false,
     "input": [
      "def typeof(thing):\n",
      "    print('The type of {} is {}'.format(str(thing), type(thing)))\n",
      "\n",
      "typeof(obj)\n",
      "typeof([])\n",
      "typeof(3)"
     ],
     "language": "python",
     "metadata": {},
     "outputs": [
      {
       "output_type": "stream",
       "stream": "stdout",
       "text": [
        "The type of <object object at 0x7fd73e3f5560> is <type 'object'>\n",
        "The type of [] is <type 'list'>\n",
        "The type of 3 is <type 'int'>\n"
       ]
      }
     ],
     "prompt_number": 5
    },
    {
     "cell_type": "markdown",
     "metadata": {},
     "source": [
      "Note that an object's type is an object itself:"
     ]
    },
    {
     "cell_type": "code",
     "collapsed": false,
     "input": [
      "typeof(type(obj))"
     ],
     "language": "python",
     "metadata": {},
     "outputs": [
      {
       "output_type": "stream",
       "stream": "stdout",
       "text": [
        "The type of <type 'object'> is <type 'type'>\n"
       ]
      }
     ],
     "prompt_number": 7
    },
    {
     "cell_type": "markdown",
     "metadata": {},
     "source": [
      "### Value"
     ]
    },
    {
     "cell_type": "markdown",
     "metadata": {},
     "source": [
      "An object's **value** can be thought to be its *state*. Object's can be mutable or immutable.\n",
      "\n",
      "Objects which are collections of references to other objects are called *containers*."
     ]
    },
    {
     "cell_type": "code",
     "collapsed": false,
     "input": [
      "mutable = [1, 2]\n",
      "mutable[0] = 0    # No problem\n",
      "\n",
      "immutable = (1, 2)\n",
      "try:\n",
      "    immutable[0] = 0\n",
      "except:\n",
      "    print(\"Can't change an immutable value\")\n"
     ],
     "language": "python",
     "metadata": {},
     "outputs": [
      {
       "output_type": "stream",
       "stream": "stdout",
       "text": [
        "Can't change an immutable value\n"
       ]
      }
     ],
     "prompt_number": 13
    },
    {
     "cell_type": "markdown",
     "metadata": {},
     "source": [
      "Note that *immutable* is not *unchangeable*; an tuple with whose *value* contains a mutable object maintains an *immutable* range of references to objects whose own values may change."
     ]
    },
    {
     "cell_type": "code",
     "collapsed": false,
     "input": [
      "immutable = (0, [1, 2])\n",
      "print('IDs:', map(id, immutable))\n",
      "try:\n",
      "    immutable[1][1] = 'b'\n",
      "    print('IDs:', map(id, immutable))\n",
      "except:\n",
      "    print(\"This isn't how Python works\")"
     ],
     "language": "python",
     "metadata": {},
     "outputs": [
      {
       "output_type": "stream",
       "stream": "stdout",
       "text": [
        "('IDs:', [24042688, 41319456])\n",
        "('IDs:', [24042688, 41319456])\n"
       ]
      }
     ],
     "prompt_number": 33
    },
    {
     "cell_type": "markdown",
     "metadata": {},
     "source": [
      "To be exact: In Python, a *collection* is immutable on its collection's (i.e., value's) *identities*. "
     ]
    },
    {
     "cell_type": "markdown",
     "metadata": {},
     "source": [
      "__Final words on immutability__"
     ]
    },
    {
     "cell_type": "markdown",
     "metadata": {},
     "source": [
      "Immutable objects are allowed to be reused.\n",
      "\n",
      "By that, I mean the reference to a pre-existing object can be used by multiple variables."
     ]
    },
    {
     "cell_type": "code",
     "collapsed": false,
     "input": [
      "# The Immutables\n",
      "a = 1\n",
      "b = 1\n",
      "assert a == b\n",
      "assert id(a) == id(b)\n",
      "\n",
      "# The Mutables\n",
      "a = [1]\n",
      "b = [1]\n",
      "assert a == b\n",
      "assert id(a) != id(b)"
     ],
     "language": "python",
     "metadata": {},
     "outputs": [],
     "prompt_number": 32
    },
    {
     "cell_type": "markdown",
     "metadata": {},
     "source": [
      "## A Quick Word on Garbage Collection"
     ]
    },
    {
     "cell_type": "markdown",
     "metadata": {},
     "source": [
      "An object is garbage collected when it has zero external references.\n",
      "\n",
      "Debugging facilities may keep things alive an artificially long time, as may objects wrapped in a try...except block."
     ]
    }
   ],
   "metadata": {}
  }
 ]
}