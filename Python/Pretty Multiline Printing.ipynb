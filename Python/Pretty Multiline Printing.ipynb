{
 "metadata": {
  "name": "",
  "signature": "sha256:9bb75aa6c0650eb1da9bad92881270763b4554f3e72c9f510ebe4c5e680c18bc"
 },
 "nbformat": 3,
 "nbformat_minor": 0,
 "worksheets": [
  {
   "cells": [
    {
     "cell_type": "code",
     "collapsed": false,
     "input": [
      "from textwrap import dedent"
     ],
     "language": "python",
     "metadata": {},
     "outputs": [],
     "prompt_number": 10
    },
    {
     "cell_type": "code",
     "collapsed": false,
     "input": [
      "class ThingHolder(object):\n",
      "    foo = 'foo'\n",
      "    bar = 'bar'\n",
      "    baz = 'baz'\n",
      "    \n",
      "    def __init__(self):\n",
      "        self.do = 'do'\n",
      "        self.re = 're'\n",
      "        self.mi = 'mi'\n",
      "    \n",
      "    def __repr__(self):\n",
      "        title = str(self.__class__).split('.')[-1][:-2]\n",
      "        # Format header\n",
      "        header = \"\"\"\n",
      "            {title}\n",
      "            {hbreak}\n",
      "            \"\"\".format(title=title, hbreak='=' * len(title))\n",
      "        header = dedent(header)\n",
      "        \n",
      "        # Format attributes\n",
      "        attrs = '\\n'.join(('{} = {}'.format(key, val) for key, val in self.__dict__.items()))\n",
      "        attrs = dedent(attrs)\n",
      "\n",
      "        return (header + attrs).strip()\n",
      "        \n",
      "    __str__ = __repr__\n",
      "    \n",
      "    \n",
      "th = ThingHolder()\n",
      "\n",
      "print(th)"
     ],
     "language": "python",
     "metadata": {},
     "outputs": [
      {
       "output_type": "stream",
       "stream": "stdout",
       "text": [
        "ThingHolder\n",
        "===========\n"
       ]
      }
     ],
     "prompt_number": 41
    },
    {
     "cell_type": "code",
     "collapsed": false,
     "input": [
      "class ChildHolder(ThingHolder):\n",
      "    \n",
      "    def __init__(self):\n",
      "        super(ChildHolder, self).__init__()\n",
      "        self.fus = 'fus'\n",
      "        self.roh = 'roh'\n",
      "        self.dah = 'dah'\n",
      "        \n",
      "print (ChildHolder())"
     ],
     "language": "python",
     "metadata": {},
     "outputs": [
      {
       "output_type": "stream",
       "stream": "stdout",
       "text": [
        "ChildHolder\n",
        "===========\n",
        "roh = roh\n",
        "do = do\n",
        "fus = fus\n",
        "mi = mi\n",
        "dah = dah\n",
        "re = re\n"
       ]
      }
     ],
     "prompt_number": 38
    }
   ],
   "metadata": {}
  }
 ]
}